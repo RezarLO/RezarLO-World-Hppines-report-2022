{
 "cells": [
  {
   "cell_type": "markdown",
   "id": "53e04ee5",
   "metadata": {},
   "source": [
    "### WORLD HAPPINESS  REPORT 2021 VIA PLOTLY EXPRESS"
   ]
  },
  {
   "cell_type": "markdown",
   "id": "571eb96e",
   "metadata": {},
   "source": [
    "#### NTRODUCTION\n",
    "\n",
    "In this project, I will analyze World happiness report using Plotly Express .\n",
    "having multiple factors to work with which may or may not correlate with world happiness.\n",
    "The data comes from World Happiness Report for 2021, which is a landmark survey of the state of global happiness."
   ]
  },
  {
   "cell_type": "code",
   "execution_count": 2,
   "id": "fdc9dea9-977d-47ec-a607-c4302a010733",
   "metadata": {},
   "outputs": [],
   "source": [
    "## GETTING NEEDED LIBRARIES\n",
    "import pandas as pd\n",
    "import plotly.express as px\n",
    "import plotly.subplots as sp"
   ]
  },
  {
   "cell_type": "code",
   "execution_count": 6,
   "id": "b7a17288",
   "metadata": {
    "collapsed": true
   },
   "outputs": [
    {
     "ename": "URLError",
     "evalue": "<urlopen error [Errno 111] Connection refused>",
     "output_type": "error",
     "traceback": [
      "\u001b[0;31m---------------------------------------------------------------------------\u001b[0m",
      "\u001b[0;31mConnectionRefusedError\u001b[0m                    Traceback (most recent call last)",
      "File \u001b[0;32m/usr/lib/python3.8/urllib/request.py:1354\u001b[0m, in \u001b[0;36mAbstractHTTPHandler.do_open\u001b[0;34m(self, http_class, req, **http_conn_args)\u001b[0m\n\u001b[1;32m   1353\u001b[0m \u001b[38;5;28;01mtry\u001b[39;00m:\n\u001b[0;32m-> 1354\u001b[0m     \u001b[43mh\u001b[49m\u001b[38;5;241;43m.\u001b[39;49m\u001b[43mrequest\u001b[49m\u001b[43m(\u001b[49m\u001b[43mreq\u001b[49m\u001b[38;5;241;43m.\u001b[39;49m\u001b[43mget_method\u001b[49m\u001b[43m(\u001b[49m\u001b[43m)\u001b[49m\u001b[43m,\u001b[49m\u001b[43m \u001b[49m\u001b[43mreq\u001b[49m\u001b[38;5;241;43m.\u001b[39;49m\u001b[43mselector\u001b[49m\u001b[43m,\u001b[49m\u001b[43m \u001b[49m\u001b[43mreq\u001b[49m\u001b[38;5;241;43m.\u001b[39;49m\u001b[43mdata\u001b[49m\u001b[43m,\u001b[49m\u001b[43m \u001b[49m\u001b[43mheaders\u001b[49m\u001b[43m,\u001b[49m\n\u001b[1;32m   1355\u001b[0m \u001b[43m              \u001b[49m\u001b[43mencode_chunked\u001b[49m\u001b[38;5;241;43m=\u001b[39;49m\u001b[43mreq\u001b[49m\u001b[38;5;241;43m.\u001b[39;49m\u001b[43mhas_header\u001b[49m\u001b[43m(\u001b[49m\u001b[38;5;124;43m'\u001b[39;49m\u001b[38;5;124;43mTransfer-encoding\u001b[39;49m\u001b[38;5;124;43m'\u001b[39;49m\u001b[43m)\u001b[49m\u001b[43m)\u001b[49m\n\u001b[1;32m   1356\u001b[0m \u001b[38;5;28;01mexcept\u001b[39;00m \u001b[38;5;167;01mOSError\u001b[39;00m \u001b[38;5;28;01mas\u001b[39;00m err: \u001b[38;5;66;03m# timeout error\u001b[39;00m\n",
      "File \u001b[0;32m/usr/lib/python3.8/http/client.py:1256\u001b[0m, in \u001b[0;36mHTTPConnection.request\u001b[0;34m(self, method, url, body, headers, encode_chunked)\u001b[0m\n\u001b[1;32m   1255\u001b[0m \u001b[38;5;124;03m\"\"\"Send a complete request to the server.\"\"\"\u001b[39;00m\n\u001b[0;32m-> 1256\u001b[0m \u001b[38;5;28;43mself\u001b[39;49m\u001b[38;5;241;43m.\u001b[39;49m\u001b[43m_send_request\u001b[49m\u001b[43m(\u001b[49m\u001b[43mmethod\u001b[49m\u001b[43m,\u001b[49m\u001b[43m \u001b[49m\u001b[43murl\u001b[49m\u001b[43m,\u001b[49m\u001b[43m \u001b[49m\u001b[43mbody\u001b[49m\u001b[43m,\u001b[49m\u001b[43m \u001b[49m\u001b[43mheaders\u001b[49m\u001b[43m,\u001b[49m\u001b[43m \u001b[49m\u001b[43mencode_chunked\u001b[49m\u001b[43m)\u001b[49m\n",
      "File \u001b[0;32m/usr/lib/python3.8/http/client.py:1302\u001b[0m, in \u001b[0;36mHTTPConnection._send_request\u001b[0;34m(self, method, url, body, headers, encode_chunked)\u001b[0m\n\u001b[1;32m   1301\u001b[0m     body \u001b[38;5;241m=\u001b[39m _encode(body, \u001b[38;5;124m'\u001b[39m\u001b[38;5;124mbody\u001b[39m\u001b[38;5;124m'\u001b[39m)\n\u001b[0;32m-> 1302\u001b[0m \u001b[38;5;28;43mself\u001b[39;49m\u001b[38;5;241;43m.\u001b[39;49m\u001b[43mendheaders\u001b[49m\u001b[43m(\u001b[49m\u001b[43mbody\u001b[49m\u001b[43m,\u001b[49m\u001b[43m \u001b[49m\u001b[43mencode_chunked\u001b[49m\u001b[38;5;241;43m=\u001b[39;49m\u001b[43mencode_chunked\u001b[49m\u001b[43m)\u001b[49m\n",
      "File \u001b[0;32m/usr/lib/python3.8/http/client.py:1251\u001b[0m, in \u001b[0;36mHTTPConnection.endheaders\u001b[0;34m(self, message_body, encode_chunked)\u001b[0m\n\u001b[1;32m   1250\u001b[0m     \u001b[38;5;28;01mraise\u001b[39;00m CannotSendHeader()\n\u001b[0;32m-> 1251\u001b[0m \u001b[38;5;28;43mself\u001b[39;49m\u001b[38;5;241;43m.\u001b[39;49m\u001b[43m_send_output\u001b[49m\u001b[43m(\u001b[49m\u001b[43mmessage_body\u001b[49m\u001b[43m,\u001b[49m\u001b[43m \u001b[49m\u001b[43mencode_chunked\u001b[49m\u001b[38;5;241;43m=\u001b[39;49m\u001b[43mencode_chunked\u001b[49m\u001b[43m)\u001b[49m\n",
      "File \u001b[0;32m/usr/lib/python3.8/http/client.py:1011\u001b[0m, in \u001b[0;36mHTTPConnection._send_output\u001b[0;34m(self, message_body, encode_chunked)\u001b[0m\n\u001b[1;32m   1010\u001b[0m \u001b[38;5;28;01mdel\u001b[39;00m \u001b[38;5;28mself\u001b[39m\u001b[38;5;241m.\u001b[39m_buffer[:]\n\u001b[0;32m-> 1011\u001b[0m \u001b[38;5;28;43mself\u001b[39;49m\u001b[38;5;241;43m.\u001b[39;49m\u001b[43msend\u001b[49m\u001b[43m(\u001b[49m\u001b[43mmsg\u001b[49m\u001b[43m)\u001b[49m\n\u001b[1;32m   1013\u001b[0m \u001b[38;5;28;01mif\u001b[39;00m message_body \u001b[38;5;129;01mis\u001b[39;00m \u001b[38;5;129;01mnot\u001b[39;00m \u001b[38;5;28;01mNone\u001b[39;00m:\n\u001b[1;32m   1014\u001b[0m \n\u001b[1;32m   1015\u001b[0m     \u001b[38;5;66;03m# create a consistent interface to message_body\u001b[39;00m\n",
      "File \u001b[0;32m/usr/lib/python3.8/http/client.py:951\u001b[0m, in \u001b[0;36mHTTPConnection.send\u001b[0;34m(self, data)\u001b[0m\n\u001b[1;32m    950\u001b[0m \u001b[38;5;28;01mif\u001b[39;00m \u001b[38;5;28mself\u001b[39m\u001b[38;5;241m.\u001b[39mauto_open:\n\u001b[0;32m--> 951\u001b[0m     \u001b[38;5;28;43mself\u001b[39;49m\u001b[38;5;241;43m.\u001b[39;49m\u001b[43mconnect\u001b[49m\u001b[43m(\u001b[49m\u001b[43m)\u001b[49m\n\u001b[1;32m    952\u001b[0m \u001b[38;5;28;01melse\u001b[39;00m:\n",
      "File \u001b[0;32m/usr/lib/python3.8/http/client.py:1418\u001b[0m, in \u001b[0;36mHTTPSConnection.connect\u001b[0;34m(self)\u001b[0m\n\u001b[1;32m   1416\u001b[0m \u001b[38;5;124m\"\u001b[39m\u001b[38;5;124mConnect to a host on a given (SSL) port.\u001b[39m\u001b[38;5;124m\"\u001b[39m\n\u001b[0;32m-> 1418\u001b[0m \u001b[38;5;28;43msuper\u001b[39;49m\u001b[43m(\u001b[49m\u001b[43m)\u001b[49m\u001b[38;5;241;43m.\u001b[39;49m\u001b[43mconnect\u001b[49m\u001b[43m(\u001b[49m\u001b[43m)\u001b[49m\n\u001b[1;32m   1420\u001b[0m \u001b[38;5;28;01mif\u001b[39;00m \u001b[38;5;28mself\u001b[39m\u001b[38;5;241m.\u001b[39m_tunnel_host:\n",
      "File \u001b[0;32m/usr/lib/python3.8/http/client.py:922\u001b[0m, in \u001b[0;36mHTTPConnection.connect\u001b[0;34m(self)\u001b[0m\n\u001b[1;32m    921\u001b[0m \u001b[38;5;124;03m\"\"\"Connect to the host and port specified in __init__.\"\"\"\u001b[39;00m\n\u001b[0;32m--> 922\u001b[0m \u001b[38;5;28mself\u001b[39m\u001b[38;5;241m.\u001b[39msock \u001b[38;5;241m=\u001b[39m \u001b[38;5;28;43mself\u001b[39;49m\u001b[38;5;241;43m.\u001b[39;49m\u001b[43m_create_connection\u001b[49m\u001b[43m(\u001b[49m\n\u001b[1;32m    923\u001b[0m \u001b[43m    \u001b[49m\u001b[43m(\u001b[49m\u001b[38;5;28;43mself\u001b[39;49m\u001b[38;5;241;43m.\u001b[39;49m\u001b[43mhost\u001b[49m\u001b[43m,\u001b[49m\u001b[38;5;28;43mself\u001b[39;49m\u001b[38;5;241;43m.\u001b[39;49m\u001b[43mport\u001b[49m\u001b[43m)\u001b[49m\u001b[43m,\u001b[49m\u001b[43m \u001b[49m\u001b[38;5;28;43mself\u001b[39;49m\u001b[38;5;241;43m.\u001b[39;49m\u001b[43mtimeout\u001b[49m\u001b[43m,\u001b[49m\u001b[43m \u001b[49m\u001b[38;5;28;43mself\u001b[39;49m\u001b[38;5;241;43m.\u001b[39;49m\u001b[43msource_address\u001b[49m\u001b[43m)\u001b[49m\n\u001b[1;32m    924\u001b[0m \u001b[38;5;28mself\u001b[39m\u001b[38;5;241m.\u001b[39msock\u001b[38;5;241m.\u001b[39msetsockopt(socket\u001b[38;5;241m.\u001b[39mIPPROTO_TCP, socket\u001b[38;5;241m.\u001b[39mTCP_NODELAY, \u001b[38;5;241m1\u001b[39m)\n",
      "File \u001b[0;32m/usr/lib/python3.8/socket.py:808\u001b[0m, in \u001b[0;36mcreate_connection\u001b[0;34m(address, timeout, source_address)\u001b[0m\n\u001b[1;32m    807\u001b[0m \u001b[38;5;28;01mtry\u001b[39;00m:\n\u001b[0;32m--> 808\u001b[0m     \u001b[38;5;28;01mraise\u001b[39;00m err\n\u001b[1;32m    809\u001b[0m \u001b[38;5;28;01mfinally\u001b[39;00m:\n\u001b[1;32m    810\u001b[0m     \u001b[38;5;66;03m# Break explicitly a reference cycle\u001b[39;00m\n",
      "File \u001b[0;32m/usr/lib/python3.8/socket.py:796\u001b[0m, in \u001b[0;36mcreate_connection\u001b[0;34m(address, timeout, source_address)\u001b[0m\n\u001b[1;32m    795\u001b[0m     sock\u001b[38;5;241m.\u001b[39mbind(source_address)\n\u001b[0;32m--> 796\u001b[0m \u001b[43msock\u001b[49m\u001b[38;5;241;43m.\u001b[39;49m\u001b[43mconnect\u001b[49m\u001b[43m(\u001b[49m\u001b[43msa\u001b[49m\u001b[43m)\u001b[49m\n\u001b[1;32m    797\u001b[0m \u001b[38;5;66;03m# Break explicitly a reference cycle\u001b[39;00m\n",
      "\u001b[0;31mConnectionRefusedError\u001b[0m: [Errno 111] Connection refused",
      "\nDuring handling of the above exception, another exception occurred:\n",
      "\u001b[0;31mURLError\u001b[0m                                  Traceback (most recent call last)",
      "Input \u001b[0;32mIn [6]\u001b[0m, in \u001b[0;36m<cell line: 4>\u001b[0;34m()\u001b[0m\n\u001b[1;32m      1\u001b[0m \u001b[38;5;66;03m## IMPORTING NEEDED DATA SET AND SPECIFING INDEX\u001b[39;00m\n\u001b[1;32m      2\u001b[0m \u001b[38;5;66;03m#df = pd.read_csv(\"/home/rayzar/DATA_ANALYST/PYTHON/python/MY WORK/WORLD_HAPP2022.csv\",index_col=0)\u001b[39;00m\n\u001b[1;32m      3\u001b[0m url \u001b[38;5;241m=\u001b[39m \u001b[38;5;124m'\u001b[39m\u001b[38;5;124mhttps://raw.githubusercontent.com/RezarLO/RezarLO-World-Hppines-report-2022/main/WORLD_HAPP2022.csv\u001b[39m\u001b[38;5;124m'\u001b[39m\n\u001b[0;32m----> 4\u001b[0m df \u001b[38;5;241m=\u001b[39m \u001b[43mpd\u001b[49m\u001b[38;5;241;43m.\u001b[39;49m\u001b[43mread_csv\u001b[49m\u001b[43m(\u001b[49m\u001b[43murl\u001b[49m\u001b[43m,\u001b[49m\u001b[43mindex_col\u001b[49m\u001b[38;5;241;43m=\u001b[39;49m\u001b[38;5;241;43m0\u001b[39;49m\u001b[43m)\u001b[49m\n",
      "File \u001b[0;32m~/.local/lib/python3.8/site-packages/pandas/util/_decorators.py:311\u001b[0m, in \u001b[0;36mdeprecate_nonkeyword_arguments.<locals>.decorate.<locals>.wrapper\u001b[0;34m(*args, **kwargs)\u001b[0m\n\u001b[1;32m    305\u001b[0m \u001b[38;5;28;01mif\u001b[39;00m \u001b[38;5;28mlen\u001b[39m(args) \u001b[38;5;241m>\u001b[39m num_allow_args:\n\u001b[1;32m    306\u001b[0m     warnings\u001b[38;5;241m.\u001b[39mwarn(\n\u001b[1;32m    307\u001b[0m         msg\u001b[38;5;241m.\u001b[39mformat(arguments\u001b[38;5;241m=\u001b[39marguments),\n\u001b[1;32m    308\u001b[0m         \u001b[38;5;167;01mFutureWarning\u001b[39;00m,\n\u001b[1;32m    309\u001b[0m         stacklevel\u001b[38;5;241m=\u001b[39mstacklevel,\n\u001b[1;32m    310\u001b[0m     )\n\u001b[0;32m--> 311\u001b[0m \u001b[38;5;28;01mreturn\u001b[39;00m \u001b[43mfunc\u001b[49m\u001b[43m(\u001b[49m\u001b[38;5;241;43m*\u001b[39;49m\u001b[43margs\u001b[49m\u001b[43m,\u001b[49m\u001b[43m \u001b[49m\u001b[38;5;241;43m*\u001b[39;49m\u001b[38;5;241;43m*\u001b[39;49m\u001b[43mkwargs\u001b[49m\u001b[43m)\u001b[49m\n",
      "File \u001b[0;32m~/.local/lib/python3.8/site-packages/pandas/io/parsers/readers.py:680\u001b[0m, in \u001b[0;36mread_csv\u001b[0;34m(filepath_or_buffer, sep, delimiter, header, names, index_col, usecols, squeeze, prefix, mangle_dupe_cols, dtype, engine, converters, true_values, false_values, skipinitialspace, skiprows, skipfooter, nrows, na_values, keep_default_na, na_filter, verbose, skip_blank_lines, parse_dates, infer_datetime_format, keep_date_col, date_parser, dayfirst, cache_dates, iterator, chunksize, compression, thousands, decimal, lineterminator, quotechar, quoting, doublequote, escapechar, comment, encoding, encoding_errors, dialect, error_bad_lines, warn_bad_lines, on_bad_lines, delim_whitespace, low_memory, memory_map, float_precision, storage_options)\u001b[0m\n\u001b[1;32m    665\u001b[0m kwds_defaults \u001b[38;5;241m=\u001b[39m _refine_defaults_read(\n\u001b[1;32m    666\u001b[0m     dialect,\n\u001b[1;32m    667\u001b[0m     delimiter,\n\u001b[0;32m   (...)\u001b[0m\n\u001b[1;32m    676\u001b[0m     defaults\u001b[38;5;241m=\u001b[39m{\u001b[38;5;124m\"\u001b[39m\u001b[38;5;124mdelimiter\u001b[39m\u001b[38;5;124m\"\u001b[39m: \u001b[38;5;124m\"\u001b[39m\u001b[38;5;124m,\u001b[39m\u001b[38;5;124m\"\u001b[39m},\n\u001b[1;32m    677\u001b[0m )\n\u001b[1;32m    678\u001b[0m kwds\u001b[38;5;241m.\u001b[39mupdate(kwds_defaults)\n\u001b[0;32m--> 680\u001b[0m \u001b[38;5;28;01mreturn\u001b[39;00m \u001b[43m_read\u001b[49m\u001b[43m(\u001b[49m\u001b[43mfilepath_or_buffer\u001b[49m\u001b[43m,\u001b[49m\u001b[43m \u001b[49m\u001b[43mkwds\u001b[49m\u001b[43m)\u001b[49m\n",
      "File \u001b[0;32m~/.local/lib/python3.8/site-packages/pandas/io/parsers/readers.py:575\u001b[0m, in \u001b[0;36m_read\u001b[0;34m(filepath_or_buffer, kwds)\u001b[0m\n\u001b[1;32m    572\u001b[0m _validate_names(kwds\u001b[38;5;241m.\u001b[39mget(\u001b[38;5;124m\"\u001b[39m\u001b[38;5;124mnames\u001b[39m\u001b[38;5;124m\"\u001b[39m, \u001b[38;5;28;01mNone\u001b[39;00m))\n\u001b[1;32m    574\u001b[0m \u001b[38;5;66;03m# Create the parser.\u001b[39;00m\n\u001b[0;32m--> 575\u001b[0m parser \u001b[38;5;241m=\u001b[39m \u001b[43mTextFileReader\u001b[49m\u001b[43m(\u001b[49m\u001b[43mfilepath_or_buffer\u001b[49m\u001b[43m,\u001b[49m\u001b[43m \u001b[49m\u001b[38;5;241;43m*\u001b[39;49m\u001b[38;5;241;43m*\u001b[39;49m\u001b[43mkwds\u001b[49m\u001b[43m)\u001b[49m\n\u001b[1;32m    577\u001b[0m \u001b[38;5;28;01mif\u001b[39;00m chunksize \u001b[38;5;129;01mor\u001b[39;00m iterator:\n\u001b[1;32m    578\u001b[0m     \u001b[38;5;28;01mreturn\u001b[39;00m parser\n",
      "File \u001b[0;32m~/.local/lib/python3.8/site-packages/pandas/io/parsers/readers.py:933\u001b[0m, in \u001b[0;36mTextFileReader.__init__\u001b[0;34m(self, f, engine, **kwds)\u001b[0m\n\u001b[1;32m    930\u001b[0m     \u001b[38;5;28mself\u001b[39m\u001b[38;5;241m.\u001b[39moptions[\u001b[38;5;124m\"\u001b[39m\u001b[38;5;124mhas_index_names\u001b[39m\u001b[38;5;124m\"\u001b[39m] \u001b[38;5;241m=\u001b[39m kwds[\u001b[38;5;124m\"\u001b[39m\u001b[38;5;124mhas_index_names\u001b[39m\u001b[38;5;124m\"\u001b[39m]\n\u001b[1;32m    932\u001b[0m \u001b[38;5;28mself\u001b[39m\u001b[38;5;241m.\u001b[39mhandles: IOHandles \u001b[38;5;241m|\u001b[39m \u001b[38;5;28;01mNone\u001b[39;00m \u001b[38;5;241m=\u001b[39m \u001b[38;5;28;01mNone\u001b[39;00m\n\u001b[0;32m--> 933\u001b[0m \u001b[38;5;28mself\u001b[39m\u001b[38;5;241m.\u001b[39m_engine \u001b[38;5;241m=\u001b[39m \u001b[38;5;28;43mself\u001b[39;49m\u001b[38;5;241;43m.\u001b[39;49m\u001b[43m_make_engine\u001b[49m\u001b[43m(\u001b[49m\u001b[43mf\u001b[49m\u001b[43m,\u001b[49m\u001b[43m \u001b[49m\u001b[38;5;28;43mself\u001b[39;49m\u001b[38;5;241;43m.\u001b[39;49m\u001b[43mengine\u001b[49m\u001b[43m)\u001b[49m\n",
      "File \u001b[0;32m~/.local/lib/python3.8/site-packages/pandas/io/parsers/readers.py:1217\u001b[0m, in \u001b[0;36mTextFileReader._make_engine\u001b[0;34m(self, f, engine)\u001b[0m\n\u001b[1;32m   1213\u001b[0m     mode \u001b[38;5;241m=\u001b[39m \u001b[38;5;124m\"\u001b[39m\u001b[38;5;124mrb\u001b[39m\u001b[38;5;124m\"\u001b[39m\n\u001b[1;32m   1214\u001b[0m \u001b[38;5;66;03m# error: No overload variant of \"get_handle\" matches argument types\u001b[39;00m\n\u001b[1;32m   1215\u001b[0m \u001b[38;5;66;03m# \"Union[str, PathLike[str], ReadCsvBuffer[bytes], ReadCsvBuffer[str]]\"\u001b[39;00m\n\u001b[1;32m   1216\u001b[0m \u001b[38;5;66;03m# , \"str\", \"bool\", \"Any\", \"Any\", \"Any\", \"Any\", \"Any\"\u001b[39;00m\n\u001b[0;32m-> 1217\u001b[0m \u001b[38;5;28mself\u001b[39m\u001b[38;5;241m.\u001b[39mhandles \u001b[38;5;241m=\u001b[39m \u001b[43mget_handle\u001b[49m\u001b[43m(\u001b[49m\u001b[43m  \u001b[49m\u001b[38;5;66;43;03m# type: ignore[call-overload]\u001b[39;49;00m\n\u001b[1;32m   1218\u001b[0m \u001b[43m    \u001b[49m\u001b[43mf\u001b[49m\u001b[43m,\u001b[49m\n\u001b[1;32m   1219\u001b[0m \u001b[43m    \u001b[49m\u001b[43mmode\u001b[49m\u001b[43m,\u001b[49m\n\u001b[1;32m   1220\u001b[0m \u001b[43m    \u001b[49m\u001b[43mencoding\u001b[49m\u001b[38;5;241;43m=\u001b[39;49m\u001b[38;5;28;43mself\u001b[39;49m\u001b[38;5;241;43m.\u001b[39;49m\u001b[43moptions\u001b[49m\u001b[38;5;241;43m.\u001b[39;49m\u001b[43mget\u001b[49m\u001b[43m(\u001b[49m\u001b[38;5;124;43m\"\u001b[39;49m\u001b[38;5;124;43mencoding\u001b[39;49m\u001b[38;5;124;43m\"\u001b[39;49m\u001b[43m,\u001b[49m\u001b[43m \u001b[49m\u001b[38;5;28;43;01mNone\u001b[39;49;00m\u001b[43m)\u001b[49m\u001b[43m,\u001b[49m\n\u001b[1;32m   1221\u001b[0m \u001b[43m    \u001b[49m\u001b[43mcompression\u001b[49m\u001b[38;5;241;43m=\u001b[39;49m\u001b[38;5;28;43mself\u001b[39;49m\u001b[38;5;241;43m.\u001b[39;49m\u001b[43moptions\u001b[49m\u001b[38;5;241;43m.\u001b[39;49m\u001b[43mget\u001b[49m\u001b[43m(\u001b[49m\u001b[38;5;124;43m\"\u001b[39;49m\u001b[38;5;124;43mcompression\u001b[39;49m\u001b[38;5;124;43m\"\u001b[39;49m\u001b[43m,\u001b[49m\u001b[43m \u001b[49m\u001b[38;5;28;43;01mNone\u001b[39;49;00m\u001b[43m)\u001b[49m\u001b[43m,\u001b[49m\n\u001b[1;32m   1222\u001b[0m \u001b[43m    \u001b[49m\u001b[43mmemory_map\u001b[49m\u001b[38;5;241;43m=\u001b[39;49m\u001b[38;5;28;43mself\u001b[39;49m\u001b[38;5;241;43m.\u001b[39;49m\u001b[43moptions\u001b[49m\u001b[38;5;241;43m.\u001b[39;49m\u001b[43mget\u001b[49m\u001b[43m(\u001b[49m\u001b[38;5;124;43m\"\u001b[39;49m\u001b[38;5;124;43mmemory_map\u001b[39;49m\u001b[38;5;124;43m\"\u001b[39;49m\u001b[43m,\u001b[49m\u001b[43m \u001b[49m\u001b[38;5;28;43;01mFalse\u001b[39;49;00m\u001b[43m)\u001b[49m\u001b[43m,\u001b[49m\n\u001b[1;32m   1223\u001b[0m \u001b[43m    \u001b[49m\u001b[43mis_text\u001b[49m\u001b[38;5;241;43m=\u001b[39;49m\u001b[43mis_text\u001b[49m\u001b[43m,\u001b[49m\n\u001b[1;32m   1224\u001b[0m \u001b[43m    \u001b[49m\u001b[43merrors\u001b[49m\u001b[38;5;241;43m=\u001b[39;49m\u001b[38;5;28;43mself\u001b[39;49m\u001b[38;5;241;43m.\u001b[39;49m\u001b[43moptions\u001b[49m\u001b[38;5;241;43m.\u001b[39;49m\u001b[43mget\u001b[49m\u001b[43m(\u001b[49m\u001b[38;5;124;43m\"\u001b[39;49m\u001b[38;5;124;43mencoding_errors\u001b[39;49m\u001b[38;5;124;43m\"\u001b[39;49m\u001b[43m,\u001b[49m\u001b[43m \u001b[49m\u001b[38;5;124;43m\"\u001b[39;49m\u001b[38;5;124;43mstrict\u001b[39;49m\u001b[38;5;124;43m\"\u001b[39;49m\u001b[43m)\u001b[49m\u001b[43m,\u001b[49m\n\u001b[1;32m   1225\u001b[0m \u001b[43m    \u001b[49m\u001b[43mstorage_options\u001b[49m\u001b[38;5;241;43m=\u001b[39;49m\u001b[38;5;28;43mself\u001b[39;49m\u001b[38;5;241;43m.\u001b[39;49m\u001b[43moptions\u001b[49m\u001b[38;5;241;43m.\u001b[39;49m\u001b[43mget\u001b[49m\u001b[43m(\u001b[49m\u001b[38;5;124;43m\"\u001b[39;49m\u001b[38;5;124;43mstorage_options\u001b[39;49m\u001b[38;5;124;43m\"\u001b[39;49m\u001b[43m,\u001b[49m\u001b[43m \u001b[49m\u001b[38;5;28;43;01mNone\u001b[39;49;00m\u001b[43m)\u001b[49m\u001b[43m,\u001b[49m\n\u001b[1;32m   1226\u001b[0m \u001b[43m\u001b[49m\u001b[43m)\u001b[49m\n\u001b[1;32m   1227\u001b[0m \u001b[38;5;28;01massert\u001b[39;00m \u001b[38;5;28mself\u001b[39m\u001b[38;5;241m.\u001b[39mhandles \u001b[38;5;129;01mis\u001b[39;00m \u001b[38;5;129;01mnot\u001b[39;00m \u001b[38;5;28;01mNone\u001b[39;00m\n\u001b[1;32m   1228\u001b[0m f \u001b[38;5;241m=\u001b[39m \u001b[38;5;28mself\u001b[39m\u001b[38;5;241m.\u001b[39mhandles\u001b[38;5;241m.\u001b[39mhandle\n",
      "File \u001b[0;32m~/.local/lib/python3.8/site-packages/pandas/io/common.py:670\u001b[0m, in \u001b[0;36mget_handle\u001b[0;34m(path_or_buf, mode, encoding, compression, memory_map, is_text, errors, storage_options)\u001b[0m\n\u001b[1;32m    667\u001b[0m     codecs\u001b[38;5;241m.\u001b[39mlookup_error(errors)\n\u001b[1;32m    669\u001b[0m \u001b[38;5;66;03m# open URLs\u001b[39;00m\n\u001b[0;32m--> 670\u001b[0m ioargs \u001b[38;5;241m=\u001b[39m \u001b[43m_get_filepath_or_buffer\u001b[49m\u001b[43m(\u001b[49m\n\u001b[1;32m    671\u001b[0m \u001b[43m    \u001b[49m\u001b[43mpath_or_buf\u001b[49m\u001b[43m,\u001b[49m\n\u001b[1;32m    672\u001b[0m \u001b[43m    \u001b[49m\u001b[43mencoding\u001b[49m\u001b[38;5;241;43m=\u001b[39;49m\u001b[43mencoding\u001b[49m\u001b[43m,\u001b[49m\n\u001b[1;32m    673\u001b[0m \u001b[43m    \u001b[49m\u001b[43mcompression\u001b[49m\u001b[38;5;241;43m=\u001b[39;49m\u001b[43mcompression\u001b[49m\u001b[43m,\u001b[49m\n\u001b[1;32m    674\u001b[0m \u001b[43m    \u001b[49m\u001b[43mmode\u001b[49m\u001b[38;5;241;43m=\u001b[39;49m\u001b[43mmode\u001b[49m\u001b[43m,\u001b[49m\n\u001b[1;32m    675\u001b[0m \u001b[43m    \u001b[49m\u001b[43mstorage_options\u001b[49m\u001b[38;5;241;43m=\u001b[39;49m\u001b[43mstorage_options\u001b[49m\u001b[43m,\u001b[49m\n\u001b[1;32m    676\u001b[0m \u001b[43m\u001b[49m\u001b[43m)\u001b[49m\n\u001b[1;32m    678\u001b[0m handle \u001b[38;5;241m=\u001b[39m ioargs\u001b[38;5;241m.\u001b[39mfilepath_or_buffer\n\u001b[1;32m    679\u001b[0m handles: \u001b[38;5;28mlist\u001b[39m[BaseBuffer]\n",
      "File \u001b[0;32m~/.local/lib/python3.8/site-packages/pandas/io/common.py:339\u001b[0m, in \u001b[0;36m_get_filepath_or_buffer\u001b[0;34m(filepath_or_buffer, encoding, compression, mode, storage_options)\u001b[0m\n\u001b[1;32m    337\u001b[0m \u001b[38;5;66;03m# assuming storage_options is to be interpreted as headers\u001b[39;00m\n\u001b[1;32m    338\u001b[0m req_info \u001b[38;5;241m=\u001b[39m urllib\u001b[38;5;241m.\u001b[39mrequest\u001b[38;5;241m.\u001b[39mRequest(filepath_or_buffer, headers\u001b[38;5;241m=\u001b[39mstorage_options)\n\u001b[0;32m--> 339\u001b[0m \u001b[38;5;28;01mwith\u001b[39;00m \u001b[43murlopen\u001b[49m\u001b[43m(\u001b[49m\u001b[43mreq_info\u001b[49m\u001b[43m)\u001b[49m \u001b[38;5;28;01mas\u001b[39;00m req:\n\u001b[1;32m    340\u001b[0m     content_encoding \u001b[38;5;241m=\u001b[39m req\u001b[38;5;241m.\u001b[39mheaders\u001b[38;5;241m.\u001b[39mget(\u001b[38;5;124m\"\u001b[39m\u001b[38;5;124mContent-Encoding\u001b[39m\u001b[38;5;124m\"\u001b[39m, \u001b[38;5;28;01mNone\u001b[39;00m)\n\u001b[1;32m    341\u001b[0m     \u001b[38;5;28;01mif\u001b[39;00m content_encoding \u001b[38;5;241m==\u001b[39m \u001b[38;5;124m\"\u001b[39m\u001b[38;5;124mgzip\u001b[39m\u001b[38;5;124m\"\u001b[39m:\n\u001b[1;32m    342\u001b[0m         \u001b[38;5;66;03m# Override compression based on Content-Encoding header\u001b[39;00m\n",
      "File \u001b[0;32m~/.local/lib/python3.8/site-packages/pandas/io/common.py:239\u001b[0m, in \u001b[0;36murlopen\u001b[0;34m(*args, **kwargs)\u001b[0m\n\u001b[1;32m    233\u001b[0m \u001b[38;5;124;03m\"\"\"\u001b[39;00m\n\u001b[1;32m    234\u001b[0m \u001b[38;5;124;03mLazy-import wrapper for stdlib urlopen, as that imports a big chunk of\u001b[39;00m\n\u001b[1;32m    235\u001b[0m \u001b[38;5;124;03mthe stdlib.\u001b[39;00m\n\u001b[1;32m    236\u001b[0m \u001b[38;5;124;03m\"\"\"\u001b[39;00m\n\u001b[1;32m    237\u001b[0m \u001b[38;5;28;01mimport\u001b[39;00m \u001b[38;5;21;01murllib\u001b[39;00m\u001b[38;5;21;01m.\u001b[39;00m\u001b[38;5;21;01mrequest\u001b[39;00m\n\u001b[0;32m--> 239\u001b[0m \u001b[38;5;28;01mreturn\u001b[39;00m \u001b[43murllib\u001b[49m\u001b[38;5;241;43m.\u001b[39;49m\u001b[43mrequest\u001b[49m\u001b[38;5;241;43m.\u001b[39;49m\u001b[43murlopen\u001b[49m\u001b[43m(\u001b[49m\u001b[38;5;241;43m*\u001b[39;49m\u001b[43margs\u001b[49m\u001b[43m,\u001b[49m\u001b[43m \u001b[49m\u001b[38;5;241;43m*\u001b[39;49m\u001b[38;5;241;43m*\u001b[39;49m\u001b[43mkwargs\u001b[49m\u001b[43m)\u001b[49m\n",
      "File \u001b[0;32m/usr/lib/python3.8/urllib/request.py:222\u001b[0m, in \u001b[0;36murlopen\u001b[0;34m(url, data, timeout, cafile, capath, cadefault, context)\u001b[0m\n\u001b[1;32m    220\u001b[0m \u001b[38;5;28;01melse\u001b[39;00m:\n\u001b[1;32m    221\u001b[0m     opener \u001b[38;5;241m=\u001b[39m _opener\n\u001b[0;32m--> 222\u001b[0m \u001b[38;5;28;01mreturn\u001b[39;00m \u001b[43mopener\u001b[49m\u001b[38;5;241;43m.\u001b[39;49m\u001b[43mopen\u001b[49m\u001b[43m(\u001b[49m\u001b[43murl\u001b[49m\u001b[43m,\u001b[49m\u001b[43m \u001b[49m\u001b[43mdata\u001b[49m\u001b[43m,\u001b[49m\u001b[43m \u001b[49m\u001b[43mtimeout\u001b[49m\u001b[43m)\u001b[49m\n",
      "File \u001b[0;32m/usr/lib/python3.8/urllib/request.py:525\u001b[0m, in \u001b[0;36mOpenerDirector.open\u001b[0;34m(self, fullurl, data, timeout)\u001b[0m\n\u001b[1;32m    522\u001b[0m     req \u001b[38;5;241m=\u001b[39m meth(req)\n\u001b[1;32m    524\u001b[0m sys\u001b[38;5;241m.\u001b[39maudit(\u001b[38;5;124m'\u001b[39m\u001b[38;5;124murllib.Request\u001b[39m\u001b[38;5;124m'\u001b[39m, req\u001b[38;5;241m.\u001b[39mfull_url, req\u001b[38;5;241m.\u001b[39mdata, req\u001b[38;5;241m.\u001b[39mheaders, req\u001b[38;5;241m.\u001b[39mget_method())\n\u001b[0;32m--> 525\u001b[0m response \u001b[38;5;241m=\u001b[39m \u001b[38;5;28;43mself\u001b[39;49m\u001b[38;5;241;43m.\u001b[39;49m\u001b[43m_open\u001b[49m\u001b[43m(\u001b[49m\u001b[43mreq\u001b[49m\u001b[43m,\u001b[49m\u001b[43m \u001b[49m\u001b[43mdata\u001b[49m\u001b[43m)\u001b[49m\n\u001b[1;32m    527\u001b[0m \u001b[38;5;66;03m# post-process response\u001b[39;00m\n\u001b[1;32m    528\u001b[0m meth_name \u001b[38;5;241m=\u001b[39m protocol\u001b[38;5;241m+\u001b[39m\u001b[38;5;124m\"\u001b[39m\u001b[38;5;124m_response\u001b[39m\u001b[38;5;124m\"\u001b[39m\n",
      "File \u001b[0;32m/usr/lib/python3.8/urllib/request.py:542\u001b[0m, in \u001b[0;36mOpenerDirector._open\u001b[0;34m(self, req, data)\u001b[0m\n\u001b[1;32m    539\u001b[0m     \u001b[38;5;28;01mreturn\u001b[39;00m result\n\u001b[1;32m    541\u001b[0m protocol \u001b[38;5;241m=\u001b[39m req\u001b[38;5;241m.\u001b[39mtype\n\u001b[0;32m--> 542\u001b[0m result \u001b[38;5;241m=\u001b[39m \u001b[38;5;28;43mself\u001b[39;49m\u001b[38;5;241;43m.\u001b[39;49m\u001b[43m_call_chain\u001b[49m\u001b[43m(\u001b[49m\u001b[38;5;28;43mself\u001b[39;49m\u001b[38;5;241;43m.\u001b[39;49m\u001b[43mhandle_open\u001b[49m\u001b[43m,\u001b[49m\u001b[43m \u001b[49m\u001b[43mprotocol\u001b[49m\u001b[43m,\u001b[49m\u001b[43m \u001b[49m\u001b[43mprotocol\u001b[49m\u001b[43m \u001b[49m\u001b[38;5;241;43m+\u001b[39;49m\n\u001b[1;32m    543\u001b[0m \u001b[43m                          \u001b[49m\u001b[38;5;124;43m'\u001b[39;49m\u001b[38;5;124;43m_open\u001b[39;49m\u001b[38;5;124;43m'\u001b[39;49m\u001b[43m,\u001b[49m\u001b[43m \u001b[49m\u001b[43mreq\u001b[49m\u001b[43m)\u001b[49m\n\u001b[1;32m    544\u001b[0m \u001b[38;5;28;01mif\u001b[39;00m result:\n\u001b[1;32m    545\u001b[0m     \u001b[38;5;28;01mreturn\u001b[39;00m result\n",
      "File \u001b[0;32m/usr/lib/python3.8/urllib/request.py:502\u001b[0m, in \u001b[0;36mOpenerDirector._call_chain\u001b[0;34m(self, chain, kind, meth_name, *args)\u001b[0m\n\u001b[1;32m    500\u001b[0m \u001b[38;5;28;01mfor\u001b[39;00m handler \u001b[38;5;129;01min\u001b[39;00m handlers:\n\u001b[1;32m    501\u001b[0m     func \u001b[38;5;241m=\u001b[39m \u001b[38;5;28mgetattr\u001b[39m(handler, meth_name)\n\u001b[0;32m--> 502\u001b[0m     result \u001b[38;5;241m=\u001b[39m \u001b[43mfunc\u001b[49m\u001b[43m(\u001b[49m\u001b[38;5;241;43m*\u001b[39;49m\u001b[43margs\u001b[49m\u001b[43m)\u001b[49m\n\u001b[1;32m    503\u001b[0m     \u001b[38;5;28;01mif\u001b[39;00m result \u001b[38;5;129;01mis\u001b[39;00m \u001b[38;5;129;01mnot\u001b[39;00m \u001b[38;5;28;01mNone\u001b[39;00m:\n\u001b[1;32m    504\u001b[0m         \u001b[38;5;28;01mreturn\u001b[39;00m result\n",
      "File \u001b[0;32m/usr/lib/python3.8/urllib/request.py:1397\u001b[0m, in \u001b[0;36mHTTPSHandler.https_open\u001b[0;34m(self, req)\u001b[0m\n\u001b[1;32m   1396\u001b[0m \u001b[38;5;28;01mdef\u001b[39;00m \u001b[38;5;21mhttps_open\u001b[39m(\u001b[38;5;28mself\u001b[39m, req):\n\u001b[0;32m-> 1397\u001b[0m     \u001b[38;5;28;01mreturn\u001b[39;00m \u001b[38;5;28;43mself\u001b[39;49m\u001b[38;5;241;43m.\u001b[39;49m\u001b[43mdo_open\u001b[49m\u001b[43m(\u001b[49m\u001b[43mhttp\u001b[49m\u001b[38;5;241;43m.\u001b[39;49m\u001b[43mclient\u001b[49m\u001b[38;5;241;43m.\u001b[39;49m\u001b[43mHTTPSConnection\u001b[49m\u001b[43m,\u001b[49m\u001b[43m \u001b[49m\u001b[43mreq\u001b[49m\u001b[43m,\u001b[49m\n\u001b[1;32m   1398\u001b[0m \u001b[43m        \u001b[49m\u001b[43mcontext\u001b[49m\u001b[38;5;241;43m=\u001b[39;49m\u001b[38;5;28;43mself\u001b[39;49m\u001b[38;5;241;43m.\u001b[39;49m\u001b[43m_context\u001b[49m\u001b[43m,\u001b[49m\u001b[43m \u001b[49m\u001b[43mcheck_hostname\u001b[49m\u001b[38;5;241;43m=\u001b[39;49m\u001b[38;5;28;43mself\u001b[39;49m\u001b[38;5;241;43m.\u001b[39;49m\u001b[43m_check_hostname\u001b[49m\u001b[43m)\u001b[49m\n",
      "File \u001b[0;32m/usr/lib/python3.8/urllib/request.py:1357\u001b[0m, in \u001b[0;36mAbstractHTTPHandler.do_open\u001b[0;34m(self, http_class, req, **http_conn_args)\u001b[0m\n\u001b[1;32m   1354\u001b[0m         h\u001b[38;5;241m.\u001b[39mrequest(req\u001b[38;5;241m.\u001b[39mget_method(), req\u001b[38;5;241m.\u001b[39mselector, req\u001b[38;5;241m.\u001b[39mdata, headers,\n\u001b[1;32m   1355\u001b[0m                   encode_chunked\u001b[38;5;241m=\u001b[39mreq\u001b[38;5;241m.\u001b[39mhas_header(\u001b[38;5;124m'\u001b[39m\u001b[38;5;124mTransfer-encoding\u001b[39m\u001b[38;5;124m'\u001b[39m))\n\u001b[1;32m   1356\u001b[0m     \u001b[38;5;28;01mexcept\u001b[39;00m \u001b[38;5;167;01mOSError\u001b[39;00m \u001b[38;5;28;01mas\u001b[39;00m err: \u001b[38;5;66;03m# timeout error\u001b[39;00m\n\u001b[0;32m-> 1357\u001b[0m         \u001b[38;5;28;01mraise\u001b[39;00m URLError(err)\n\u001b[1;32m   1358\u001b[0m     r \u001b[38;5;241m=\u001b[39m h\u001b[38;5;241m.\u001b[39mgetresponse()\n\u001b[1;32m   1359\u001b[0m \u001b[38;5;28;01mexcept\u001b[39;00m:\n",
      "\u001b[0;31mURLError\u001b[0m: <urlopen error [Errno 111] Connection refused>"
     ]
    }
   ],
   "source": [
    "## IMPORTING NEEDED DATA SET AND SPECIFING INDEX\n",
    "#df = pd.read_csv(\"/home/rayzar/DATA_ANALYST/PYTHON/python/MY WORK/WORLD_HAPP2022.csv\",index_col=0)\n",
    "url = 'https://raw.githubusercontent.com/RezarLO/RezarLO-World-Hppines-report-2022/main/WORLD_HAPP2022.csv'\n",
    "df = pd.read_csv(url,index_col=0)"
   ]
  },
  {
   "cell_type": "code",
   "execution_count": 5,
   "id": "97cbf1e9-b3cb-4dbf-a5c4-77d98d13a987",
   "metadata": {
    "collapsed": true
   },
   "outputs": [
    {
     "ename": "NameError",
     "evalue": "name 'df' is not defined",
     "output_type": "error",
     "traceback": [
      "\u001b[0;31m---------------------------------------------------------------------------\u001b[0m",
      "\u001b[0;31mNameError\u001b[0m                                 Traceback (most recent call last)",
      "Input \u001b[0;32mIn [5]\u001b[0m, in \u001b[0;36m<cell line: 2>\u001b[0;34m()\u001b[0m\n\u001b[1;32m      1\u001b[0m \u001b[38;5;66;03m## GETTING THE FIRST LOOK ON THE DATA SET\u001b[39;00m\n\u001b[0;32m----> 2\u001b[0m \u001b[43mdf\u001b[49m\u001b[38;5;241m.\u001b[39mhead()\n",
      "\u001b[0;31mNameError\u001b[0m: name 'df' is not defined"
     ]
    }
   ],
   "source": [
    "## GETTING THE FIRST LOOK ON THE DATA SET\n",
    "df.head()"
   ]
  },
  {
   "cell_type": "markdown",
   "id": "6db79e26",
   "metadata": {},
   "source": [
    "## DDL CHANGES TO DATA FRAME"
   ]
  },
  {
   "cell_type": "markdown",
   "id": "da2a98bd",
   "metadata": {},
   "source": [
    "* we change the names of the colomnes to a more readable view"
   ]
  },
  {
   "cell_type": "code",
   "execution_count": 39,
   "id": "28c34f25-8c33-4b36-9597-a876d2e9c02a",
   "metadata": {},
   "outputs": [
    {
     "data": {
      "text/plain": [
       "Index(['Country', 'Happiness score', 'Whisker-high', 'Whisker-low',\n",
       "       'Dystopia (1.83) + residual', 'Explained by: GDP per capita',\n",
       "       'Explained by: Social support', 'Explained by: Healthy life expectancy',\n",
       "       'Explained by: Freedom to make life choices',\n",
       "       'Explained by: Generosity', 'Explained by: Perceptions of corruption'],\n",
       "      dtype='object')"
      ]
     },
     "execution_count": 39,
     "metadata": {},
     "output_type": "execute_result"
    }
   ],
   "source": [
    "df.columns"
   ]
  },
  {
   "cell_type": "code",
   "execution_count": 40,
   "id": "482244d6",
   "metadata": {},
   "outputs": [],
   "source": [
    "### CHECK THIS FOR INDEX ADDING\n",
    "#countries.set_index(\"Country name\", inplace=True)"
   ]
  },
  {
   "cell_type": "code",
   "execution_count": 41,
   "id": "61b704f8",
   "metadata": {},
   "outputs": [
    {
     "data": {
      "text/html": [
       "<div>\n",
       "<style scoped>\n",
       "    .dataframe tbody tr th:only-of-type {\n",
       "        vertical-align: middle;\n",
       "    }\n",
       "\n",
       "    .dataframe tbody tr th {\n",
       "        vertical-align: top;\n",
       "    }\n",
       "\n",
       "    .dataframe thead th {\n",
       "        text-align: right;\n",
       "    }\n",
       "</style>\n",
       "<table border=\"1\" class=\"dataframe\">\n",
       "  <thead>\n",
       "    <tr style=\"text-align: right;\">\n",
       "      <th></th>\n",
       "      <th>Country</th>\n",
       "      <th>Happiness score</th>\n",
       "      <th>Whisker-high</th>\n",
       "      <th>Whisker-low</th>\n",
       "      <th>Dystopia residual</th>\n",
       "      <th>GDP per capita</th>\n",
       "      <th>Social support</th>\n",
       "      <th>Healthy life expectancy</th>\n",
       "      <th>Freedom</th>\n",
       "      <th>Generosity</th>\n",
       "      <th>corruption</th>\n",
       "    </tr>\n",
       "    <tr>\n",
       "      <th>RANK</th>\n",
       "      <th></th>\n",
       "      <th></th>\n",
       "      <th></th>\n",
       "      <th></th>\n",
       "      <th></th>\n",
       "      <th></th>\n",
       "      <th></th>\n",
       "      <th></th>\n",
       "      <th></th>\n",
       "      <th></th>\n",
       "      <th></th>\n",
       "    </tr>\n",
       "  </thead>\n",
       "  <tbody>\n",
       "    <tr>\n",
       "      <th>1</th>\n",
       "      <td>Finland</td>\n",
       "      <td>7,821</td>\n",
       "      <td>7,886</td>\n",
       "      <td>7,756</td>\n",
       "      <td>2,518</td>\n",
       "      <td>1,892</td>\n",
       "      <td>1,258</td>\n",
       "      <td>0,775</td>\n",
       "      <td>0,736</td>\n",
       "      <td>0,109</td>\n",
       "      <td>0,534</td>\n",
       "    </tr>\n",
       "    <tr>\n",
       "      <th>2</th>\n",
       "      <td>Denmark</td>\n",
       "      <td>7,636</td>\n",
       "      <td>7,710</td>\n",
       "      <td>7,563</td>\n",
       "      <td>2,226</td>\n",
       "      <td>1,953</td>\n",
       "      <td>1,243</td>\n",
       "      <td>0,777</td>\n",
       "      <td>0,719</td>\n",
       "      <td>0,188</td>\n",
       "      <td>0,532</td>\n",
       "    </tr>\n",
       "    <tr>\n",
       "      <th>3</th>\n",
       "      <td>Iceland</td>\n",
       "      <td>7,557</td>\n",
       "      <td>7,651</td>\n",
       "      <td>7,464</td>\n",
       "      <td>2,320</td>\n",
       "      <td>1,936</td>\n",
       "      <td>1,320</td>\n",
       "      <td>0,803</td>\n",
       "      <td>0,718</td>\n",
       "      <td>0,270</td>\n",
       "      <td>0,191</td>\n",
       "    </tr>\n",
       "    <tr>\n",
       "      <th>4</th>\n",
       "      <td>Switzerland</td>\n",
       "      <td>7,512</td>\n",
       "      <td>7,586</td>\n",
       "      <td>7,437</td>\n",
       "      <td>2,153</td>\n",
       "      <td>2,026</td>\n",
       "      <td>1,226</td>\n",
       "      <td>0,822</td>\n",
       "      <td>0,677</td>\n",
       "      <td>0,147</td>\n",
       "      <td>0,461</td>\n",
       "    </tr>\n",
       "    <tr>\n",
       "      <th>5</th>\n",
       "      <td>Netherlands</td>\n",
       "      <td>7,415</td>\n",
       "      <td>7,471</td>\n",
       "      <td>7,359</td>\n",
       "      <td>2,137</td>\n",
       "      <td>1,945</td>\n",
       "      <td>1,206</td>\n",
       "      <td>0,787</td>\n",
       "      <td>0,651</td>\n",
       "      <td>0,271</td>\n",
       "      <td>0,419</td>\n",
       "    </tr>\n",
       "  </tbody>\n",
       "</table>\n",
       "</div>"
      ],
      "text/plain": [
       "          Country Happiness score Whisker-high Whisker-low Dystopia residual  \\\n",
       "RANK                                                                           \n",
       "1         Finland           7,821        7,886       7,756             2,518   \n",
       "2         Denmark           7,636        7,710       7,563             2,226   \n",
       "3         Iceland           7,557        7,651       7,464             2,320   \n",
       "4     Switzerland           7,512        7,586       7,437             2,153   \n",
       "5     Netherlands           7,415        7,471       7,359             2,137   \n",
       "\n",
       "     GDP per capita Social support Healthy life expectancy Freedom Generosity  \\\n",
       "RANK                                                                            \n",
       "1             1,892          1,258                   0,775   0,736      0,109   \n",
       "2             1,953          1,243                   0,777   0,719      0,188   \n",
       "3             1,936          1,320                   0,803   0,718      0,270   \n",
       "4             2,026          1,226                   0,822   0,677      0,147   \n",
       "5             1,945          1,206                   0,787   0,651      0,271   \n",
       "\n",
       "     corruption  \n",
       "RANK             \n",
       "1         0,534  \n",
       "2         0,532  \n",
       "3         0,191  \n",
       "4         0,461  \n",
       "5         0,419  "
      ]
     },
     "execution_count": 41,
     "metadata": {},
     "output_type": "execute_result"
    }
   ],
   "source": [
    "mapper = {\"Dystopia (1.83) + residual\":\"Dystopia residual\",\"Explained by: GDP per capita\":\"GDP per capita\",\n",
    "         \"Explained by: Social support\":\"Social support\",\"Explained by: Healthy life expectancy\":\"Healthy life expectancy\",\n",
    "         \"Explained by: Freedom to make life choices\":\"Freedom\",\"Explained by: Generosity\":\"Generosity\",\n",
    "         \"Explained by: Perceptions of corruption\":\"corruption\"}\n",
    "\n",
    "df.rename(columns=mapper, inplace=True)\n",
    "df.head()"
   ]
  },
  {
   "cell_type": "markdown",
   "id": "ccd0695d",
   "metadata": {},
   "source": [
    "### COLUMNS DESCRIPTIONS"
   ]
  },
  {
   "cell_type": "markdown",
   "id": "80e440bb",
   "metadata": {},
   "source": [
    "1.Country\n",
    "\n",
    "Name of the country\n",
    "\n",
    "2.Happiness Rank\n",
    "\n",
    "Rank of the country based on the Happiness Score.\n",
    "\n",
    "3.Happiness Score\n",
    "\n",
    "A metric measured in 2016 by asking the sampled people the question: \"How would you rate your happiness on a scale of 0 to 10 where 10 is the happiest\"\n",
    "\n",
    "4.Whisker High\n",
    "\n",
    "Lower Confidence Interval of the Happiness Score\n",
    "\n",
    "5.Whisker Low\n",
    "\n",
    "Upper Confidence Interval of the Happiness Score\n",
    "\n",
    "6.Economy (GDP per Capita)\n",
    "\n",
    "The extent to which GDP contributes to the calculation of the Happiness Score.\n",
    "\n",
    "7.Family\n",
    "\n",
    "The extent to which Family contributes to the calculation of the Happiness Score\n",
    "\n",
    "8.Health (Life Expectancy)\n",
    "\n",
    "The extent to which Life expectancy contributed to the calculation of the Happiness Score\n",
    "\n",
    "9.Freedom\n",
    "\n",
    "The extent to which Freedom contributed to the calculation of the Happiness Score\n",
    "\n",
    "10.Trust (Government Corruption)\n",
    "\n",
    "The extent to which Perception of Corruption contributes to Happiness Score\n",
    "\n",
    "11.Generosity\n",
    "\n",
    "The extent to which Generosity contributed to the calculation of the Happiness Score\n",
    "\n",
    "12.Dystopia Residual\n",
    "\n",
    "The extent to which Dystopia Residual contributed to the calculation of the Happiness Score."
   ]
  },
  {
   "cell_type": "markdown",
   "id": "664de544",
   "metadata": {},
   "source": [
    "### DML DATA FRAME CLEANING"
   ]
  },
  {
   "cell_type": "code",
   "execution_count": 42,
   "id": "bf0160fd-b26f-406b-97f5-18979365bf20",
   "metadata": {},
   "outputs": [
    {
     "data": {
      "text/html": [
       "<div>\n",
       "<style scoped>\n",
       "    .dataframe tbody tr th:only-of-type {\n",
       "        vertical-align: middle;\n",
       "    }\n",
       "\n",
       "    .dataframe tbody tr th {\n",
       "        vertical-align: top;\n",
       "    }\n",
       "\n",
       "    .dataframe thead th {\n",
       "        text-align: right;\n",
       "    }\n",
       "</style>\n",
       "<table border=\"1\" class=\"dataframe\">\n",
       "  <thead>\n",
       "    <tr style=\"text-align: right;\">\n",
       "      <th></th>\n",
       "      <th>Country</th>\n",
       "      <th>Happiness score</th>\n",
       "      <th>Whisker-high</th>\n",
       "      <th>Whisker-low</th>\n",
       "      <th>Dystopia residual</th>\n",
       "      <th>GDP per capita</th>\n",
       "      <th>Social support</th>\n",
       "      <th>Healthy life expectancy</th>\n",
       "      <th>Freedom</th>\n",
       "      <th>Generosity</th>\n",
       "      <th>corruption</th>\n",
       "    </tr>\n",
       "  </thead>\n",
       "  <tbody>\n",
       "    <tr>\n",
       "      <th>count</th>\n",
       "      <td>147</td>\n",
       "      <td>146</td>\n",
       "      <td>146</td>\n",
       "      <td>146</td>\n",
       "      <td>146</td>\n",
       "      <td>146</td>\n",
       "      <td>146</td>\n",
       "      <td>146</td>\n",
       "      <td>146</td>\n",
       "      <td>146</td>\n",
       "      <td>146</td>\n",
       "    </tr>\n",
       "    <tr>\n",
       "      <th>unique</th>\n",
       "      <td>147</td>\n",
       "      <td>141</td>\n",
       "      <td>144</td>\n",
       "      <td>141</td>\n",
       "      <td>138</td>\n",
       "      <td>141</td>\n",
       "      <td>133</td>\n",
       "      <td>134</td>\n",
       "      <td>128</td>\n",
       "      <td>116</td>\n",
       "      <td>116</td>\n",
       "    </tr>\n",
       "    <tr>\n",
       "      <th>top</th>\n",
       "      <td>Finland</td>\n",
       "      <td>4,516</td>\n",
       "      <td>6,535</td>\n",
       "      <td>5,659</td>\n",
       "      <td>1,895</td>\n",
       "      <td>1,815</td>\n",
       "      <td>0,865</td>\n",
       "      <td>0,803</td>\n",
       "      <td>0,448</td>\n",
       "      <td>0,089</td>\n",
       "      <td>0,077</td>\n",
       "    </tr>\n",
       "    <tr>\n",
       "      <th>freq</th>\n",
       "      <td>1</td>\n",
       "      <td>2</td>\n",
       "      <td>2</td>\n",
       "      <td>2</td>\n",
       "      <td>2</td>\n",
       "      <td>3</td>\n",
       "      <td>3</td>\n",
       "      <td>2</td>\n",
       "      <td>3</td>\n",
       "      <td>4</td>\n",
       "      <td>4</td>\n",
       "    </tr>\n",
       "  </tbody>\n",
       "</table>\n",
       "</div>"
      ],
      "text/plain": [
       "        Country Happiness score Whisker-high Whisker-low Dystopia residual  \\\n",
       "count       147             146          146         146               146   \n",
       "unique      147             141          144         141               138   \n",
       "top     Finland           4,516        6,535       5,659             1,895   \n",
       "freq          1               2            2           2                 2   \n",
       "\n",
       "       GDP per capita Social support Healthy life expectancy Freedom  \\\n",
       "count             146            146                     146     146   \n",
       "unique            141            133                     134     128   \n",
       "top             1,815          0,865                   0,803   0,448   \n",
       "freq                3              3                       2       3   \n",
       "\n",
       "       Generosity corruption  \n",
       "count         146        146  \n",
       "unique        116        116  \n",
       "top         0,089      0,077  \n",
       "freq            4          4  "
      ]
     },
     "execution_count": 42,
     "metadata": {},
     "output_type": "execute_result"
    }
   ],
   "source": [
    "df.describe(include= \"all\")"
   ]
  },
  {
   "cell_type": "code",
   "execution_count": 43,
   "id": "2931f10c",
   "metadata": {},
   "outputs": [
    {
     "data": {
      "text/plain": [
       "Country                    0\n",
       "Happiness score            1\n",
       "Whisker-high               1\n",
       "Whisker-low                1\n",
       "Dystopia residual          1\n",
       "GDP per capita             1\n",
       "Social support             1\n",
       "Healthy life expectancy    1\n",
       "Freedom                    1\n",
       "Generosity                 1\n",
       "corruption                 1\n",
       "dtype: int64"
      ]
     },
     "execution_count": 43,
     "metadata": {},
     "output_type": "execute_result"
    }
   ],
   "source": [
    "# Let's calculate the number of null values\n",
    "df.isnull().sum()"
   ]
  },
  {
   "cell_type": "markdown",
   "id": "307cc949",
   "metadata": {},
   "source": [
    "#### From above we can see there is at least 1 cell in each column with a NaN value"
   ]
  },
  {
   "cell_type": "code",
   "execution_count": 7,
   "id": "7fe2434e",
   "metadata": {},
   "outputs": [
    {
     "data": {
      "text/html": [
       "<div>\n",
       "<style scoped>\n",
       "    .dataframe tbody tr th:only-of-type {\n",
       "        vertical-align: middle;\n",
       "    }\n",
       "\n",
       "    .dataframe tbody tr th {\n",
       "        vertical-align: top;\n",
       "    }\n",
       "\n",
       "    .dataframe thead th {\n",
       "        text-align: right;\n",
       "    }\n",
       "</style>\n",
       "<table border=\"1\" class=\"dataframe\">\n",
       "  <thead>\n",
       "    <tr style=\"text-align: right;\">\n",
       "      <th></th>\n",
       "      <th>Country</th>\n",
       "      <th>Happiness score</th>\n",
       "      <th>Whisker-high</th>\n",
       "      <th>Whisker-low</th>\n",
       "      <th>Dystopia residual</th>\n",
       "      <th>GDP per capita</th>\n",
       "      <th>Social support</th>\n",
       "      <th>Healthy life expectancy</th>\n",
       "      <th>Freedom</th>\n",
       "      <th>Generosity</th>\n",
       "      <th>corruption</th>\n",
       "    </tr>\n",
       "    <tr>\n",
       "      <th>RANK</th>\n",
       "      <th></th>\n",
       "      <th></th>\n",
       "      <th></th>\n",
       "      <th></th>\n",
       "      <th></th>\n",
       "      <th></th>\n",
       "      <th></th>\n",
       "      <th></th>\n",
       "      <th></th>\n",
       "      <th></th>\n",
       "      <th></th>\n",
       "    </tr>\n",
       "  </thead>\n",
       "  <tbody>\n",
       "    <tr>\n",
       "      <th>147</th>\n",
       "      <td>xx</td>\n",
       "      <td>NaN</td>\n",
       "      <td>NaN</td>\n",
       "      <td>NaN</td>\n",
       "      <td>NaN</td>\n",
       "      <td>NaN</td>\n",
       "      <td>NaN</td>\n",
       "      <td>NaN</td>\n",
       "      <td>NaN</td>\n",
       "      <td>NaN</td>\n",
       "      <td>NaN</td>\n",
       "    </tr>\n",
       "  </tbody>\n",
       "</table>\n",
       "</div>"
      ],
      "text/plain": [
       "     Country Happiness score Whisker-high Whisker-low Dystopia residual  \\\n",
       "RANK                                                                      \n",
       "147       xx             NaN          NaN         NaN               NaN   \n",
       "\n",
       "     GDP per capita Social support Healthy life expectancy Freedom Generosity  \\\n",
       "RANK                                                                            \n",
       "147             NaN            NaN                     NaN     NaN        NaN   \n",
       "\n",
       "     corruption  \n",
       "RANK             \n",
       "147         NaN  "
      ]
     },
     "execution_count": 7,
     "metadata": {},
     "output_type": "execute_result"
    }
   ],
   "source": [
    "cond1= df[\"Happiness score\"].isna()\n",
    "df[cond1]"
   ]
  },
  {
   "cell_type": "markdown",
   "id": "6538f1ea",
   "metadata": {},
   "source": [
    "#### we conclude that there is no need for the note row and its needs to be removed"
   ]
  },
  {
   "cell_type": "code",
   "execution_count": 8,
   "id": "ad5ace8e",
   "metadata": {},
   "outputs": [
    {
     "name": "stdout",
     "output_type": "stream",
     "text": [
      "<class 'pandas.core.frame.DataFrame'>\n",
      "Int64Index: 146 entries, 1 to 146\n",
      "Data columns (total 11 columns):\n",
      " #   Column                   Non-Null Count  Dtype \n",
      "---  ------                   --------------  ----- \n",
      " 0   Country                  146 non-null    object\n",
      " 1   Happiness score          146 non-null    object\n",
      " 2   Whisker-high             146 non-null    object\n",
      " 3   Whisker-low              146 non-null    object\n",
      " 4   Dystopia residual        146 non-null    object\n",
      " 5   GDP per capita           146 non-null    object\n",
      " 6   Social support           146 non-null    object\n",
      " 7   Healthy life expectancy  146 non-null    object\n",
      " 8   Freedom                  146 non-null    object\n",
      " 9   Generosity               146 non-null    object\n",
      " 10  corruption               146 non-null    object\n",
      "dtypes: object(11)\n",
      "memory usage: 13.7+ KB\n"
     ]
    }
   ],
   "source": [
    "df.dropna(inplace= True)\n",
    "df.info()"
   ]
  },
  {
   "cell_type": "markdown",
   "id": "62555720",
   "metadata": {},
   "source": [
    "#### NOW AFTER THERE IS NO NAN VALUES  WE CHECK COLUMNS FORMATES AS ALOT UNDER OBJECT TYPE"
   ]
  },
  {
   "cell_type": "markdown",
   "id": "03b692db",
   "metadata": {},
   "source": [
    "#### we have 2 types here : columns with ',' for  formating and ones for decimal purposes to fix"
   ]
  },
  {
   "cell_type": "code",
   "execution_count": 9,
   "id": "9366b5d1",
   "metadata": {},
   "outputs": [
    {
     "data": {
      "text/plain": [
       "Index(['Country', 'Happiness score', 'Whisker-high', 'Whisker-low',\n",
       "       'Dystopia residual', 'GDP per capita', 'Social support',\n",
       "       'Healthy life expectancy', 'Freedom', 'Generosity', 'corruption'],\n",
       "      dtype='object')"
      ]
     },
     "execution_count": 9,
     "metadata": {},
     "output_type": "execute_result"
    }
   ],
   "source": [
    "df.columns"
   ]
  },
  {
   "cell_type": "code",
   "execution_count": 10,
   "id": "9bd713df",
   "metadata": {},
   "outputs": [],
   "source": [
    "columns=[\"Happiness score\", \"Whisker-high\", \"Whisker-low\",\n",
    "       'Dystopia residual', 'GDP per capita', 'Social support']\n",
    "for i in df[columns]:\n",
    "    df[i]=df[i].str.replace(',','').astype(int)"
   ]
  },
  {
   "cell_type": "code",
   "execution_count": 11,
   "id": "61664d91",
   "metadata": {},
   "outputs": [
    {
     "data": {
      "text/html": [
       "<div>\n",
       "<style scoped>\n",
       "    .dataframe tbody tr th:only-of-type {\n",
       "        vertical-align: middle;\n",
       "    }\n",
       "\n",
       "    .dataframe tbody tr th {\n",
       "        vertical-align: top;\n",
       "    }\n",
       "\n",
       "    .dataframe thead th {\n",
       "        text-align: right;\n",
       "    }\n",
       "</style>\n",
       "<table border=\"1\" class=\"dataframe\">\n",
       "  <thead>\n",
       "    <tr style=\"text-align: right;\">\n",
       "      <th></th>\n",
       "      <th>Country</th>\n",
       "      <th>Happiness score</th>\n",
       "      <th>Whisker-high</th>\n",
       "      <th>Whisker-low</th>\n",
       "      <th>Dystopia residual</th>\n",
       "      <th>GDP per capita</th>\n",
       "      <th>Social support</th>\n",
       "      <th>Healthy life expectancy</th>\n",
       "      <th>Freedom</th>\n",
       "      <th>Generosity</th>\n",
       "      <th>corruption</th>\n",
       "    </tr>\n",
       "    <tr>\n",
       "      <th>RANK</th>\n",
       "      <th></th>\n",
       "      <th></th>\n",
       "      <th></th>\n",
       "      <th></th>\n",
       "      <th></th>\n",
       "      <th></th>\n",
       "      <th></th>\n",
       "      <th></th>\n",
       "      <th></th>\n",
       "      <th></th>\n",
       "      <th></th>\n",
       "    </tr>\n",
       "  </thead>\n",
       "  <tbody>\n",
       "    <tr>\n",
       "      <th>1</th>\n",
       "      <td>Finland</td>\n",
       "      <td>7821</td>\n",
       "      <td>7886</td>\n",
       "      <td>7756</td>\n",
       "      <td>2518</td>\n",
       "      <td>1892</td>\n",
       "      <td>1258</td>\n",
       "      <td>0,775</td>\n",
       "      <td>0,736</td>\n",
       "      <td>0,109</td>\n",
       "      <td>0,534</td>\n",
       "    </tr>\n",
       "    <tr>\n",
       "      <th>2</th>\n",
       "      <td>Denmark</td>\n",
       "      <td>7636</td>\n",
       "      <td>7710</td>\n",
       "      <td>7563</td>\n",
       "      <td>2226</td>\n",
       "      <td>1953</td>\n",
       "      <td>1243</td>\n",
       "      <td>0,777</td>\n",
       "      <td>0,719</td>\n",
       "      <td>0,188</td>\n",
       "      <td>0,532</td>\n",
       "    </tr>\n",
       "    <tr>\n",
       "      <th>3</th>\n",
       "      <td>Iceland</td>\n",
       "      <td>7557</td>\n",
       "      <td>7651</td>\n",
       "      <td>7464</td>\n",
       "      <td>2320</td>\n",
       "      <td>1936</td>\n",
       "      <td>1320</td>\n",
       "      <td>0,803</td>\n",
       "      <td>0,718</td>\n",
       "      <td>0,270</td>\n",
       "      <td>0,191</td>\n",
       "    </tr>\n",
       "    <tr>\n",
       "      <th>4</th>\n",
       "      <td>Switzerland</td>\n",
       "      <td>7512</td>\n",
       "      <td>7586</td>\n",
       "      <td>7437</td>\n",
       "      <td>2153</td>\n",
       "      <td>2026</td>\n",
       "      <td>1226</td>\n",
       "      <td>0,822</td>\n",
       "      <td>0,677</td>\n",
       "      <td>0,147</td>\n",
       "      <td>0,461</td>\n",
       "    </tr>\n",
       "    <tr>\n",
       "      <th>5</th>\n",
       "      <td>Netherlands</td>\n",
       "      <td>7415</td>\n",
       "      <td>7471</td>\n",
       "      <td>7359</td>\n",
       "      <td>2137</td>\n",
       "      <td>1945</td>\n",
       "      <td>1206</td>\n",
       "      <td>0,787</td>\n",
       "      <td>0,651</td>\n",
       "      <td>0,271</td>\n",
       "      <td>0,419</td>\n",
       "    </tr>\n",
       "  </tbody>\n",
       "</table>\n",
       "</div>"
      ],
      "text/plain": [
       "          Country  Happiness score  Whisker-high  Whisker-low  \\\n",
       "RANK                                                            \n",
       "1         Finland             7821          7886         7756   \n",
       "2         Denmark             7636          7710         7563   \n",
       "3         Iceland             7557          7651         7464   \n",
       "4     Switzerland             7512          7586         7437   \n",
       "5     Netherlands             7415          7471         7359   \n",
       "\n",
       "      Dystopia residual  GDP per capita  Social support  \\\n",
       "RANK                                                      \n",
       "1                  2518            1892            1258   \n",
       "2                  2226            1953            1243   \n",
       "3                  2320            1936            1320   \n",
       "4                  2153            2026            1226   \n",
       "5                  2137            1945            1206   \n",
       "\n",
       "     Healthy life expectancy Freedom Generosity corruption  \n",
       "RANK                                                        \n",
       "1                      0,775   0,736      0,109      0,534  \n",
       "2                      0,777   0,719      0,188      0,532  \n",
       "3                      0,803   0,718      0,270      0,191  \n",
       "4                      0,822   0,677      0,147      0,461  \n",
       "5                      0,787   0,651      0,271      0,419  "
      ]
     },
     "execution_count": 11,
     "metadata": {},
     "output_type": "execute_result"
    }
   ],
   "source": [
    "## below is the Fixed columns for formatin purposes\n",
    "df.head()"
   ]
  },
  {
   "cell_type": "code",
   "execution_count": 12,
   "id": "f41c921d",
   "metadata": {},
   "outputs": [],
   "source": [
    "columns=['Healthy life expectancy', 'Freedom', 'Generosity', 'corruption']\n",
    "for i in df[columns]:\n",
    "    df[i]=df[i].str.replace(',','.').astype(float)"
   ]
  },
  {
   "cell_type": "code",
   "execution_count": 13,
   "id": "263e941d-3bfc-4364-8baa-e6848d0a3580",
   "metadata": {
    "scrolled": true
   },
   "outputs": [
    {
     "data": {
      "text/html": [
       "<div>\n",
       "<style scoped>\n",
       "    .dataframe tbody tr th:only-of-type {\n",
       "        vertical-align: middle;\n",
       "    }\n",
       "\n",
       "    .dataframe tbody tr th {\n",
       "        vertical-align: top;\n",
       "    }\n",
       "\n",
       "    .dataframe thead th {\n",
       "        text-align: right;\n",
       "    }\n",
       "</style>\n",
       "<table border=\"1\" class=\"dataframe\">\n",
       "  <thead>\n",
       "    <tr style=\"text-align: right;\">\n",
       "      <th></th>\n",
       "      <th>Country</th>\n",
       "      <th>Happiness score</th>\n",
       "      <th>Whisker-high</th>\n",
       "      <th>Whisker-low</th>\n",
       "      <th>Dystopia residual</th>\n",
       "      <th>GDP per capita</th>\n",
       "      <th>Social support</th>\n",
       "      <th>Healthy life expectancy</th>\n",
       "      <th>Freedom</th>\n",
       "      <th>Generosity</th>\n",
       "      <th>corruption</th>\n",
       "    </tr>\n",
       "    <tr>\n",
       "      <th>RANK</th>\n",
       "      <th></th>\n",
       "      <th></th>\n",
       "      <th></th>\n",
       "      <th></th>\n",
       "      <th></th>\n",
       "      <th></th>\n",
       "      <th></th>\n",
       "      <th></th>\n",
       "      <th></th>\n",
       "      <th></th>\n",
       "      <th></th>\n",
       "    </tr>\n",
       "  </thead>\n",
       "  <tbody>\n",
       "    <tr>\n",
       "      <th>1</th>\n",
       "      <td>Finland</td>\n",
       "      <td>7821</td>\n",
       "      <td>7886</td>\n",
       "      <td>7756</td>\n",
       "      <td>2518</td>\n",
       "      <td>1892</td>\n",
       "      <td>1258</td>\n",
       "      <td>0.775</td>\n",
       "      <td>0.736</td>\n",
       "      <td>0.109</td>\n",
       "      <td>0.534</td>\n",
       "    </tr>\n",
       "    <tr>\n",
       "      <th>2</th>\n",
       "      <td>Denmark</td>\n",
       "      <td>7636</td>\n",
       "      <td>7710</td>\n",
       "      <td>7563</td>\n",
       "      <td>2226</td>\n",
       "      <td>1953</td>\n",
       "      <td>1243</td>\n",
       "      <td>0.777</td>\n",
       "      <td>0.719</td>\n",
       "      <td>0.188</td>\n",
       "      <td>0.532</td>\n",
       "    </tr>\n",
       "    <tr>\n",
       "      <th>3</th>\n",
       "      <td>Iceland</td>\n",
       "      <td>7557</td>\n",
       "      <td>7651</td>\n",
       "      <td>7464</td>\n",
       "      <td>2320</td>\n",
       "      <td>1936</td>\n",
       "      <td>1320</td>\n",
       "      <td>0.803</td>\n",
       "      <td>0.718</td>\n",
       "      <td>0.270</td>\n",
       "      <td>0.191</td>\n",
       "    </tr>\n",
       "    <tr>\n",
       "      <th>4</th>\n",
       "      <td>Switzerland</td>\n",
       "      <td>7512</td>\n",
       "      <td>7586</td>\n",
       "      <td>7437</td>\n",
       "      <td>2153</td>\n",
       "      <td>2026</td>\n",
       "      <td>1226</td>\n",
       "      <td>0.822</td>\n",
       "      <td>0.677</td>\n",
       "      <td>0.147</td>\n",
       "      <td>0.461</td>\n",
       "    </tr>\n",
       "    <tr>\n",
       "      <th>5</th>\n",
       "      <td>Netherlands</td>\n",
       "      <td>7415</td>\n",
       "      <td>7471</td>\n",
       "      <td>7359</td>\n",
       "      <td>2137</td>\n",
       "      <td>1945</td>\n",
       "      <td>1206</td>\n",
       "      <td>0.787</td>\n",
       "      <td>0.651</td>\n",
       "      <td>0.271</td>\n",
       "      <td>0.419</td>\n",
       "    </tr>\n",
       "  </tbody>\n",
       "</table>\n",
       "</div>"
      ],
      "text/plain": [
       "          Country  Happiness score  Whisker-high  Whisker-low  \\\n",
       "RANK                                                            \n",
       "1         Finland             7821          7886         7756   \n",
       "2         Denmark             7636          7710         7563   \n",
       "3         Iceland             7557          7651         7464   \n",
       "4     Switzerland             7512          7586         7437   \n",
       "5     Netherlands             7415          7471         7359   \n",
       "\n",
       "      Dystopia residual  GDP per capita  Social support  \\\n",
       "RANK                                                      \n",
       "1                  2518            1892            1258   \n",
       "2                  2226            1953            1243   \n",
       "3                  2320            1936            1320   \n",
       "4                  2153            2026            1226   \n",
       "5                  2137            1945            1206   \n",
       "\n",
       "      Healthy life expectancy  Freedom  Generosity  corruption  \n",
       "RANK                                                            \n",
       "1                       0.775    0.736       0.109       0.534  \n",
       "2                       0.777    0.719       0.188       0.532  \n",
       "3                       0.803    0.718       0.270       0.191  \n",
       "4                       0.822    0.677       0.147       0.461  \n",
       "5                       0.787    0.651       0.271       0.419  "
      ]
     },
     "execution_count": 13,
     "metadata": {},
     "output_type": "execute_result"
    }
   ],
   "source": [
    "## below is the Fixed columns for decimal purposes\n",
    "df.head()"
   ]
  },
  {
   "cell_type": "code",
   "execution_count": 14,
   "id": "25589f08",
   "metadata": {},
   "outputs": [
    {
     "name": "stdout",
     "output_type": "stream",
     "text": [
      "<class 'pandas.core.frame.DataFrame'>\n",
      "Int64Index: 146 entries, 1 to 146\n",
      "Data columns (total 11 columns):\n",
      " #   Column                   Non-Null Count  Dtype  \n",
      "---  ------                   --------------  -----  \n",
      " 0   Country                  146 non-null    object \n",
      " 1   Happiness score          146 non-null    int64  \n",
      " 2   Whisker-high             146 non-null    int64  \n",
      " 3   Whisker-low              146 non-null    int64  \n",
      " 4   Dystopia residual        146 non-null    int64  \n",
      " 5   GDP per capita           146 non-null    int64  \n",
      " 6   Social support           146 non-null    int64  \n",
      " 7   Healthy life expectancy  146 non-null    float64\n",
      " 8   Freedom                  146 non-null    float64\n",
      " 9   Generosity               146 non-null    float64\n",
      " 10  corruption               146 non-null    float64\n",
      "dtypes: float64(4), int64(6), object(1)\n",
      "memory usage: 13.7+ KB\n"
     ]
    },
    {
     "data": {
      "text/plain": [
       "Index(['Country', 'Happiness score', 'Whisker-high', 'Whisker-low',\n",
       "       'Dystopia residual', 'GDP per capita', 'Social support',\n",
       "       'Healthy life expectancy', 'Freedom', 'Generosity', 'corruption'],\n",
       "      dtype='object')"
      ]
     },
     "execution_count": 14,
     "metadata": {},
     "output_type": "execute_result"
    }
   ],
   "source": [
    "# We see our data is clean as much we need \n",
    "df.info()\n",
    "df.columns"
   ]
  },
  {
   "cell_type": "markdown",
   "id": "6be92fc9",
   "metadata": {},
   "source": [
    "### ANALYZING"
   ]
  },
  {
   "cell_type": "code",
   "execution_count": 19,
   "id": "9eb6c008",
   "metadata": {},
   "outputs": [
    {
     "data": {
      "application/vnd.plotly.v1+json": {
       "config": {
        "plotlyServerURL": "https://plot.ly"
       },
       "data": [
        {
         "hovertemplate": "Whisker-high=%{x}<br>RANK=%{y}<extra></extra>",
         "legendgroup": "",
         "marker": {
          "color": "#636efa",
          "symbol": "circle"
         },
         "mode": "markers",
         "name": "",
         "orientation": "h",
         "showlegend": false,
         "type": "scatter",
         "x": [
          7886,
          7710,
          7651,
          7586,
          7471,
          7501,
          7454,
          7440,
          7426,
          7279,
          7237,
          7244,
          7121,
          7122,
          7107,
          7065,
          7018,
          7029,
          6890,
          6758,
          6779,
          6718,
          6683,
          6660,
          6637,
          6596,
          6569,
          6575,
          6560,
          6562,
          6570,
          6571,
          6535,
          6535,
          6475,
          6415,
          6464,
          6384,
          6460,
          6330,
          6320,
          6255,
          6294,
          6262,
          6312,
          6238,
          6229,
          6205,
          6250,
          6235,
          6187,
          6184,
          6178,
          6119,
          6189,
          6122,
          6090,
          6043,
          6021,
          6007,
          5994,
          5948,
          6023,
          5916,
          5950,
          5903,
          5877,
          5845,
          5873,
          5845,
          5709,
          5650,
          5689,
          5679,
          5681,
          5653,
          5570,
          5578,
          5609,
          5525,
          5501,
          5519,
          5468,
          5502,
          5485,
          5543,
          5341,
          5384,
          5303,
          5321,
          5315,
          5265,
          5409,
          5262,
          5263,
          5215,
          5428,
          5190,
          5235,
          5181,
          5273,
          5188,
          5171,
          5247,
          5079,
          5091,
          5099,
          5051,
          5028,
          4995,
          4999,
          4845,
          4814,
          4765,
          4754,
          4849,
          4747,
          4651,
          4683,
          4629,
          4634,
          4665,
          4611,
          4593,
          4607,
          4511,
          4487,
          4530,
          4377,
          4503,
          4365,
          4384,
          4356,
          4276,
          4272,
          3828,
          3902,
          3941,
          3847,
          3732,
          3748,
          3667,
          3462,
          3110,
          3049,
          2469
         ],
         "xaxis": "x",
         "y": [
          1,
          2,
          3,
          4,
          5,
          6,
          7,
          8,
          9,
          10,
          11,
          12,
          13,
          14,
          15,
          16,
          17,
          18,
          19,
          20,
          21,
          22,
          23,
          24,
          25,
          26,
          27,
          28,
          29,
          30,
          31,
          32,
          33,
          34,
          35,
          36,
          37,
          38,
          39,
          40,
          41,
          42,
          43,
          44,
          45,
          46,
          47,
          48,
          49,
          50,
          51,
          52,
          53,
          54,
          55,
          56,
          57,
          58,
          59,
          60,
          61,
          62,
          63,
          64,
          65,
          66,
          67,
          68,
          69,
          70,
          71,
          72,
          73,
          74,
          75,
          76,
          77,
          78,
          79,
          80,
          81,
          82,
          83,
          84,
          85,
          86,
          87,
          88,
          89,
          90,
          91,
          92,
          93,
          94,
          95,
          96,
          97,
          98,
          99,
          100,
          101,
          102,
          103,
          104,
          105,
          106,
          107,
          108,
          109,
          110,
          111,
          112,
          113,
          114,
          115,
          116,
          117,
          118,
          119,
          120,
          121,
          122,
          123,
          124,
          125,
          126,
          127,
          128,
          129,
          130,
          131,
          132,
          133,
          134,
          135,
          136,
          137,
          138,
          139,
          140,
          141,
          142,
          143,
          144,
          145,
          146
         ],
         "yaxis": "y"
        },
        {
         "hovertemplate": "Whisker-low=%{x}<br>RANK=%{y}<extra></extra>",
         "legendgroup": "",
         "marker": {
          "color": "#636efa",
          "symbol": "circle"
         },
         "mode": "markers",
         "name": "",
         "orientation": "h",
         "showlegend": false,
         "type": "scatter",
         "x": [
          7756,
          7563,
          7464,
          7437,
          7359,
          7307,
          7315,
          7290,
          7301,
          7120,
          7089,
          7081,
          6961,
          6947,
          6943,
          6888,
          6867,
          6811,
          6720,
          6615,
          6514,
          6542,
          6481,
          6492,
          6409,
          6429,
          6392,
          6379,
          6392,
          6386,
          6363,
          6339,
          6359,
          6356,
          6306,
          6266,
          6154,
          6202,
          6064,
          6138,
          6122,
          6106,
          6062,
          6082,
          6017,
          6017,
          6022,
          6040,
          5990,
          5977,
          5985,
          5958,
          5948,
          5959,
          5855,
          5911,
          5844,
          5853,
          5849,
          5800,
          5788,
          5766,
          5676,
          5741,
          5693,
          5659,
          5659,
          5676,
          5601,
          5578,
          5491,
          5520,
          5467,
          5439,
          5413,
          5414,
          5400,
          5371,
          5325,
          5392,
          5348,
          5278,
          5287,
          5251,
          5257,
          5118,
          5139,
          5085,
          5095,
          5076,
          5073,
          5082,
          4918,
          5049,
          5018,
          5030,
          4815,
          4978,
          4915,
          4938,
          4823,
          4907,
          4921,
          4760,
          4867,
          4826,
          4783,
          4800,
          4753,
          4780,
          4745,
          4644,
          4527,
          4516,
          4492,
          4368,
          4459,
          4453,
          4403,
          4403,
          4397,
          4300,
          4347,
          4326,
          4185,
          4277,
          4237,
          4148,
          4198,
          3999,
          4118,
          4010,
          3950,
          4029,
          3953,
          3726,
          3618,
          3560,
          3558,
          3416,
          3276,
          3275,
          3074,
          2880,
          2862,
          2339
         ],
         "xaxis": "x2",
         "y": [
          1,
          2,
          3,
          4,
          5,
          6,
          7,
          8,
          9,
          10,
          11,
          12,
          13,
          14,
          15,
          16,
          17,
          18,
          19,
          20,
          21,
          22,
          23,
          24,
          25,
          26,
          27,
          28,
          29,
          30,
          31,
          32,
          33,
          34,
          35,
          36,
          37,
          38,
          39,
          40,
          41,
          42,
          43,
          44,
          45,
          46,
          47,
          48,
          49,
          50,
          51,
          52,
          53,
          54,
          55,
          56,
          57,
          58,
          59,
          60,
          61,
          62,
          63,
          64,
          65,
          66,
          67,
          68,
          69,
          70,
          71,
          72,
          73,
          74,
          75,
          76,
          77,
          78,
          79,
          80,
          81,
          82,
          83,
          84,
          85,
          86,
          87,
          88,
          89,
          90,
          91,
          92,
          93,
          94,
          95,
          96,
          97,
          98,
          99,
          100,
          101,
          102,
          103,
          104,
          105,
          106,
          107,
          108,
          109,
          110,
          111,
          112,
          113,
          114,
          115,
          116,
          117,
          118,
          119,
          120,
          121,
          122,
          123,
          124,
          125,
          126,
          127,
          128,
          129,
          130,
          131,
          132,
          133,
          134,
          135,
          136,
          137,
          138,
          139,
          140,
          141,
          142,
          143,
          144,
          145,
          146
         ],
         "yaxis": "y2"
        },
        {
         "hovertemplate": "Dystopia residual=%{x}<br>RANK=%{y}<extra></extra>",
         "legendgroup": "",
         "marker": {
          "color": "#636efa",
          "symbol": "circle"
         },
         "mode": "markers",
         "name": "",
         "orientation": "h",
         "showlegend": false,
         "type": "scatter",
         "x": [
          2518,
          2226,
          2320,
          2153,
          2137,
          2042,
          2003,
          1925,
          2634,
          1954,
          2148,
          2011,
          1743,
          2142,
          1924,
          2214,
          1967,
          2263,
          2283,
          1895,
          2092,
          1885,
          2346,
          1809,
          2075,
          2002,
          932,
          2446,
          1893,
          1974,
          2222,
          2631,
          1631,
          2153,
          2094,
          1442,
          2086,
          2361,
          2746,
          1860,
          2044,
          1923,
          2031,
          2040,
          2418,
          2239,
          1884,
          1693,
          2514,
          1621,
          1812,
          1969,
          1913,
          1487,
          2611,
          1691,
          1891,
          2119,
          1656,
          2283,
          1600,
          2142,
          2164,
          2087,
          1811,
          1971,
          1869,
          1999,
          1751,
          1471,
          2107,
          1516,
          1555,
          1890,
          1619,
          1866,
          1735,
          1160,
          1078,
          1494,
          642,
          1654,
          1895,
          2224,
          1235,
          1544,
          1300,
          2652,
          1461,
          1718,
          1742,
          1098,
          2531,
          1967,
          1709,
          1744,
          2844,
          1331,
          2658,
          2405,
          2641,
          2469,
          2419,
          2667,
          1583,
          1892,
          1894,
          2790,
          2538,
          1427,
          1972,
          1059,
          2313,
          1410,
          2458,
          2304,
          1842,
          1784,
          1661,
          1540,
          1940,
          1368,
          2373,
          1414,
          1688,
          877,
          595,
          2148,
          856,
          2419,
          1375,
          1561,
          1207,
          695,
          2061,
          795,
          1135,
          1661,
          735,
          1556,
          1312,
          187,
          536,
          548,
          216,
          1263
         ],
         "xaxis": "x3",
         "y": [
          1,
          2,
          3,
          4,
          5,
          6,
          7,
          8,
          9,
          10,
          11,
          12,
          13,
          14,
          15,
          16,
          17,
          18,
          19,
          20,
          21,
          22,
          23,
          24,
          25,
          26,
          27,
          28,
          29,
          30,
          31,
          32,
          33,
          34,
          35,
          36,
          37,
          38,
          39,
          40,
          41,
          42,
          43,
          44,
          45,
          46,
          47,
          48,
          49,
          50,
          51,
          52,
          53,
          54,
          55,
          56,
          57,
          58,
          59,
          60,
          61,
          62,
          63,
          64,
          65,
          66,
          67,
          68,
          69,
          70,
          71,
          72,
          73,
          74,
          75,
          76,
          77,
          78,
          79,
          80,
          81,
          82,
          83,
          84,
          85,
          86,
          87,
          88,
          89,
          90,
          91,
          92,
          93,
          94,
          95,
          96,
          97,
          98,
          99,
          100,
          101,
          102,
          103,
          104,
          105,
          106,
          107,
          108,
          109,
          110,
          111,
          112,
          113,
          114,
          115,
          116,
          117,
          118,
          119,
          120,
          121,
          122,
          123,
          124,
          125,
          126,
          127,
          128,
          129,
          130,
          131,
          132,
          133,
          134,
          135,
          136,
          137,
          138,
          139,
          140,
          141,
          142,
          143,
          144,
          145,
          146
         ],
         "yaxis": "y3"
        },
        {
         "hovertemplate": "GDP per capita=%{x}<br>RANK=%{y}<extra></extra>",
         "legendgroup": "",
         "marker": {
          "color": "#636efa",
          "symbol": "circle"
         },
         "mode": "markers",
         "name": "",
         "orientation": "h",
         "showlegend": false,
         "type": "scatter",
         "x": [
          1892,
          1953,
          1936,
          2026,
          1945,
          2209,
          1920,
          1997,
          1826,
          1852,
          1931,
          1900,
          2129,
          1924,
          1886,
          1982,
          1867,
          1815,
          1907,
          1863,
          1854,
          1810,
          1584,
          1998,
          1870,
          1897,
          2149,
          1719,
          1808,
          1615,
          1834,
          1362,
          1838,
          1804,
          1736,
          1793,
          1715,
          1462,
          1274,
          1668,
          1815,
          1732,
          1550,
          1651,
          1105,
          1552,
          1705,
          1758,
          1265,
          1904,
          1748,
          1591,
          1219,
          1835,
          1111,
          1760,
          1592,
          1703,
          1851,
          1268,
          1535,
          1417,
          1296,
          1069,
          1562,
          1452,
          1468,
          1393,
          1538,
          1689,
          1256,
          1508,
          1409,
          1397,
          1573,
          1352,
          1252,
          1484,
          1815,
          1685,
          1957,
          1434,
          966,
          984,
          1625,
          1476,
          1382,
          1094,
          1505,
          1439,
          1425,
          1458,
          785,
          1060,
          1239,
          1363,
          636,
          1411,
          950,
          1208,
          578,
          968,
          933,
          570,
          1467,
          1459,
          1289,
          0,
          848,
          1410,
          1112,
          1707,
          779,
          1019,
          932,
          899,
          777,
          1079,
          1032,
          1350,
          1049,
          1148,
          792,
          1292,
          1274,
          1038,
          1415,
          670,
          1388,
          662,
          788,
          691,
          1100,
          1324,
          771,
          1167,
          930,
          648,
          848,
          686,
          839,
          1503,
          785,
          947,
          1392,
          758
         ],
         "xaxis": "x4",
         "y": [
          1,
          2,
          3,
          4,
          5,
          6,
          7,
          8,
          9,
          10,
          11,
          12,
          13,
          14,
          15,
          16,
          17,
          18,
          19,
          20,
          21,
          22,
          23,
          24,
          25,
          26,
          27,
          28,
          29,
          30,
          31,
          32,
          33,
          34,
          35,
          36,
          37,
          38,
          39,
          40,
          41,
          42,
          43,
          44,
          45,
          46,
          47,
          48,
          49,
          50,
          51,
          52,
          53,
          54,
          55,
          56,
          57,
          58,
          59,
          60,
          61,
          62,
          63,
          64,
          65,
          66,
          67,
          68,
          69,
          70,
          71,
          72,
          73,
          74,
          75,
          76,
          77,
          78,
          79,
          80,
          81,
          82,
          83,
          84,
          85,
          86,
          87,
          88,
          89,
          90,
          91,
          92,
          93,
          94,
          95,
          96,
          97,
          98,
          99,
          100,
          101,
          102,
          103,
          104,
          105,
          106,
          107,
          108,
          109,
          110,
          111,
          112,
          113,
          114,
          115,
          116,
          117,
          118,
          119,
          120,
          121,
          122,
          123,
          124,
          125,
          126,
          127,
          128,
          129,
          130,
          131,
          132,
          133,
          134,
          135,
          136,
          137,
          138,
          139,
          140,
          141,
          142,
          143,
          144,
          145,
          146
         ],
         "yaxis": "y4"
        },
        {
         "hovertemplate": "Social support=%{x}<br>RANK=%{y}<extra></extra>",
         "legendgroup": "",
         "marker": {
          "color": "#636efa",
          "symbol": "circle"
         },
         "mode": "markers",
         "name": "",
         "orientation": "h",
         "showlegend": false,
         "type": "scatter",
         "x": [
          1258,
          1243,
          1320,
          1226,
          1206,
          1155,
          1204,
          1239,
          1221,
          1235,
          1165,
          1203,
          1166,
          1088,
          1188,
          1182,
          1143,
          1260,
          1106,
          1219,
          1029,
          1249,
          1054,
          980,
          1092,
          1095,
          1127,
          1006,
          1211,
          1180,
          1052,
          949,
          1169,
          1204,
          1232,
          1232,
          1107,
          1044,
          831,
          1220,
          909,
          1221,
          1086,
          1080,
          1029,
          886,
          1183,
          1174,
          768,
          983,
          1233,
          1116,
          1092,
          1089,
          885,
          1078,
          1102,
          980,
          886,
          912,
          1096,
          1008,
          1045,
          1109,
          1157,
          929,
          1068,
          1197,
          1003,
          938,
          880,
          958,
          1130,
          865,
          1023,
          879,
          932,
          1319,
          888,
          1095,
          954,
          820,
          1005,
          784,
          1163,
          943,
          883,
          442,
          863,
          646,
          1088,
          1093,
          621,
          614,
          654,
          970,
          670,
          1081,
          405,
          268,
          660,
          672,
          530,
          560,
          612,
          738,
          682,
          968,
          566,
          741,
          595,
          865,
          565,
          732,
          64,
          476,
          875,
          732,
          605,
          596,
          413,
          957,
          483,
          877,
          786,
          829,
          934,
          645,
          732,
          506,
          809,
          1043,
          865,
          724,
          322,
          376,
          577,
          279,
          597,
          416,
          848,
          815,
          133,
          690,
          498,
          0
         ],
         "xaxis": "x5",
         "y": [
          1,
          2,
          3,
          4,
          5,
          6,
          7,
          8,
          9,
          10,
          11,
          12,
          13,
          14,
          15,
          16,
          17,
          18,
          19,
          20,
          21,
          22,
          23,
          24,
          25,
          26,
          27,
          28,
          29,
          30,
          31,
          32,
          33,
          34,
          35,
          36,
          37,
          38,
          39,
          40,
          41,
          42,
          43,
          44,
          45,
          46,
          47,
          48,
          49,
          50,
          51,
          52,
          53,
          54,
          55,
          56,
          57,
          58,
          59,
          60,
          61,
          62,
          63,
          64,
          65,
          66,
          67,
          68,
          69,
          70,
          71,
          72,
          73,
          74,
          75,
          76,
          77,
          78,
          79,
          80,
          81,
          82,
          83,
          84,
          85,
          86,
          87,
          88,
          89,
          90,
          91,
          92,
          93,
          94,
          95,
          96,
          97,
          98,
          99,
          100,
          101,
          102,
          103,
          104,
          105,
          106,
          107,
          108,
          109,
          110,
          111,
          112,
          113,
          114,
          115,
          116,
          117,
          118,
          119,
          120,
          121,
          122,
          123,
          124,
          125,
          126,
          127,
          128,
          129,
          130,
          131,
          132,
          133,
          134,
          135,
          136,
          137,
          138,
          139,
          140,
          141,
          142,
          143,
          144,
          145,
          146
         ],
         "yaxis": "y5"
        },
        {
         "hovertemplate": "Healthy life expectancy=%{x}<br>RANK=%{y}<extra></extra>",
         "legendgroup": "",
         "marker": {
          "color": "#636efa",
          "symbol": "circle"
         },
         "mode": "markers",
         "name": "",
         "orientation": "h",
         "showlegend": false,
         "type": "scatter",
         "x": [
          0.775,
          0.777,
          0.803,
          0.822,
          0.787,
          0.79,
          0.803,
          0.786,
          0.818,
          0.752,
          0.774,
          0.772,
          0.779,
          0.776,
          0.783,
          0.628,
          0.75,
          0.715,
          0.764,
          0.808,
          0.625,
          0.769,
          0.744,
          0.633,
          0.577,
          0.733,
          0.851,
          0.655,
          0.808,
          0.672,
          0.801,
          0.569,
          0.789,
          0.659,
          0.707,
          0.728,
          0.709,
          0.615,
          0.522,
          0.611,
          0.819,
          0.637,
          0.658,
          0.748,
          0.617,
          0.623,
          0.709,
          0.712,
          0.607,
          0.747,
          0.668,
          0.568,
          0.6,
          0.866,
          0.555,
          0.777,
          0.662,
          0.774,
          0.841,
          0.514,
          0.697,
          0.597,
          0.646,
          0.638,
          0.629,
          0.72,
          0.665,
          0.467,
          0.577,
          0.62,
          0.555,
          0.705,
          0.624,
          0.735,
          0.659,
          0.708,
          0.611,
          0.516,
          0.819,
          0.586,
          0.942,
          0.668,
          0.518,
          0.499,
          0.64,
          0.606,
          0.539,
          0.322,
          0.637,
          0.719,
          0.361,
          0.56,
          0.369,
          0.581,
          0.479,
          0.643,
          0.309,
          0.583,
          0.355,
          0.565,
          0.191,
          0.317,
          0.447,
          0.326,
          0.595,
          0.396,
          0.554,
          0.578,
          0.275,
          0.642,
          0.409,
          0.702,
          0.32,
          0.505,
          0.335,
          0.424,
          0.418,
          0.3,
          0.401,
          0.656,
          0.374,
          0.521,
          0.311,
          0.354,
          0.197,
          0.491,
          0.66,
          0.378,
          0.548,
          0.225,
          0.457,
          0.384,
          0.45,
          0.675,
          0.36,
          0.471,
          0.306,
          0.388,
          0.425,
          0.273,
          0,
          0.28,
          0.462,
          0.27,
          0.631,
          0.289
         ],
         "xaxis": "x6",
         "y": [
          1,
          2,
          3,
          4,
          5,
          6,
          7,
          8,
          9,
          10,
          11,
          12,
          13,
          14,
          15,
          16,
          17,
          18,
          19,
          20,
          21,
          22,
          23,
          24,
          25,
          26,
          27,
          28,
          29,
          30,
          31,
          32,
          33,
          34,
          35,
          36,
          37,
          38,
          39,
          40,
          41,
          42,
          43,
          44,
          45,
          46,
          47,
          48,
          49,
          50,
          51,
          52,
          53,
          54,
          55,
          56,
          57,
          58,
          59,
          60,
          61,
          62,
          63,
          64,
          65,
          66,
          67,
          68,
          69,
          70,
          71,
          72,
          73,
          74,
          75,
          76,
          77,
          78,
          79,
          80,
          81,
          82,
          83,
          84,
          85,
          86,
          87,
          88,
          89,
          90,
          91,
          92,
          93,
          94,
          95,
          96,
          97,
          98,
          99,
          100,
          101,
          102,
          103,
          104,
          105,
          106,
          107,
          108,
          109,
          110,
          111,
          112,
          113,
          114,
          115,
          116,
          117,
          118,
          119,
          120,
          121,
          122,
          123,
          124,
          125,
          126,
          127,
          128,
          129,
          130,
          131,
          132,
          133,
          134,
          135,
          136,
          137,
          138,
          139,
          140,
          141,
          142,
          143,
          144,
          145,
          146
         ],
         "yaxis": "y6"
        },
        {
         "hovertemplate": "Freedom=%{x}<br>RANK=%{y}<extra></extra>",
         "legendgroup": "",
         "marker": {
          "color": "#636efa",
          "symbol": "circle"
         },
         "mode": "markers",
         "name": "",
         "orientation": "h",
         "showlegend": false,
         "type": "scatter",
         "x": [
          0.736,
          0.719,
          0.718,
          0.677,
          0.651,
          0.7,
          0.724,
          0.728,
          0.568,
          0.68,
          0.623,
          0.676,
          0.627,
          0.585,
          0.659,
          0.574,
          0.597,
          0.66,
          0.492,
          0.567,
          0.693,
          0.685,
          0.661,
          0.702,
          0.651,
          0.542,
          0.672,
          0.605,
          0.505,
          0.665,
          0.412,
          0.599,
          0.679,
          0.496,
          0.479,
          0.689,
          0.592,
          0.546,
          0.662,
          0.584,
          0.448,
          0.502,
          0.546,
          0.46,
          0.617,
          0.621,
          0.535,
          0.523,
          0.666,
          0.617,
          0.485,
          0.589,
          0.716,
          0.537,
          0.582,
          0.655,
          0.555,
          0.249,
          0.414,
          0.678,
          0.617,
          0.561,
          0.567,
          0.693,
          0.342,
          0.545,
          0.448,
          0.398,
          0.606,
          0.654,
          0.627,
          0.656,
          0.629,
          0.545,
          0.46,
          0.565,
          0.707,
          0.649,
          0.523,
          0.401,
          0.4,
          0.558,
          0.572,
          0.519,
          0.563,
          0.477,
          0.62,
          0.451,
          0.488,
          0.511,
          0.442,
          0.601,
          0.367,
          0.622,
          0.679,
          0.146,
          0.405,
          0.473,
          0.431,
          0.492,
          0.593,
          0.397,
          0.494,
          0.571,
          0.508,
          0.343,
          0.328,
          0.283,
          0.334,
          0.281,
          0.5,
          0.209,
          0.382,
          0.74,
          0.479,
          0.185,
          0.402,
          0.444,
          0.44,
          0.316,
          0.448,
          0.336,
          0.35,
          0.384,
          0.259,
          0.513,
          0.529,
          0.202,
          0.469,
          0.18,
          0.472,
          0.33,
          0.304,
          0.476,
          0.292,
          0.647,
          0.525,
          0.477,
          0.578,
          0.387,
          0.419,
          0.571,
          0.621,
          0.329,
          0.103,
          0
         ],
         "xaxis": "x7",
         "y": [
          1,
          2,
          3,
          4,
          5,
          6,
          7,
          8,
          9,
          10,
          11,
          12,
          13,
          14,
          15,
          16,
          17,
          18,
          19,
          20,
          21,
          22,
          23,
          24,
          25,
          26,
          27,
          28,
          29,
          30,
          31,
          32,
          33,
          34,
          35,
          36,
          37,
          38,
          39,
          40,
          41,
          42,
          43,
          44,
          45,
          46,
          47,
          48,
          49,
          50,
          51,
          52,
          53,
          54,
          55,
          56,
          57,
          58,
          59,
          60,
          61,
          62,
          63,
          64,
          65,
          66,
          67,
          68,
          69,
          70,
          71,
          72,
          73,
          74,
          75,
          76,
          77,
          78,
          79,
          80,
          81,
          82,
          83,
          84,
          85,
          86,
          87,
          88,
          89,
          90,
          91,
          92,
          93,
          94,
          95,
          96,
          97,
          98,
          99,
          100,
          101,
          102,
          103,
          104,
          105,
          106,
          107,
          108,
          109,
          110,
          111,
          112,
          113,
          114,
          115,
          116,
          117,
          118,
          119,
          120,
          121,
          122,
          123,
          124,
          125,
          126,
          127,
          128,
          129,
          130,
          131,
          132,
          133,
          134,
          135,
          136,
          137,
          138,
          139,
          140,
          141,
          142,
          143,
          144,
          145,
          146
         ],
         "yaxis": "y7"
        },
        {
         "hovertemplate": "Generosity=%{x}<br>RANK=%{y}<extra></extra>",
         "legendgroup": "",
         "marker": {
          "color": "#636efa",
          "symbol": "circle"
         },
         "mode": "markers",
         "name": "",
         "orientation": "h",
         "showlegend": false,
         "type": "scatter",
         "x": [
          0.109,
          0.188,
          0.27,
          0.147,
          0.271,
          0.12,
          0.218,
          0.217,
          0.155,
          0.245,
          0.193,
          0.258,
          0.19,
          0.163,
          0.217,
          0.22,
          0.289,
          0.158,
          0.049,
          0.07,
          0.199,
          0.118,
          0.089,
          0.204,
          0.078,
          0.075,
          0.163,
          0.039,
          0.101,
          0.103,
          0.085,
          0.309,
          0.174,
          0.053,
          0.118,
          0.123,
          0.049,
          0.131,
          0.112,
          0.134,
          0.123,
          0.075,
          0.219,
          0.124,
          0.168,
          0.092,
          0.109,
          0.124,
          0.089,
          0.087,
          0.078,
          0.131,
          0.283,
          0.007,
          0.202,
          0.016,
          0.081,
          0.015,
          0.111,
          0.107,
          0.321,
          0.102,
          0.08,
          0.208,
          0.04,
          0.087,
          0.244,
          0.247,
          0.084,
          0.213,
          0.112,
          0.099,
          0.171,
          0.09,
          0.135,
          0.08,
          0.143,
          0.314,
          0.13,
          0.117,
          0.147,
          0.054,
          0.118,
          0.237,
          0.123,
          0.106,
          0.468,
          0.149,
          0.215,
          0.138,
          0.089,
          0.023,
          0.388,
          0.125,
          0.197,
          0.106,
          0.178,
          0.188,
          0.13,
          0.02,
          0.185,
          0.152,
          0.143,
          0.165,
          0,
          0.032,
          0.147,
          0.225,
          0.214,
          0.241,
          0.23,
          0.087,
          0.186,
          0.166,
          0.127,
          0.195,
          0.222,
          0.175,
          0.322,
          0.029,
          0.181,
          0.073,
          0.128,
          0.067,
          0.038,
          0.452,
          0.15,
          0.143,
          0.041,
          0.182,
          0.205,
          0.09,
          0.088,
          0.058,
          0.174,
          0.198,
          0.203,
          0.14,
          0.248,
          0.202,
          0.076,
          0.012,
          0.187,
          0.106,
          0.082,
          0.089
         ],
         "xaxis": "x8",
         "y": [
          1,
          2,
          3,
          4,
          5,
          6,
          7,
          8,
          9,
          10,
          11,
          12,
          13,
          14,
          15,
          16,
          17,
          18,
          19,
          20,
          21,
          22,
          23,
          24,
          25,
          26,
          27,
          28,
          29,
          30,
          31,
          32,
          33,
          34,
          35,
          36,
          37,
          38,
          39,
          40,
          41,
          42,
          43,
          44,
          45,
          46,
          47,
          48,
          49,
          50,
          51,
          52,
          53,
          54,
          55,
          56,
          57,
          58,
          59,
          60,
          61,
          62,
          63,
          64,
          65,
          66,
          67,
          68,
          69,
          70,
          71,
          72,
          73,
          74,
          75,
          76,
          77,
          78,
          79,
          80,
          81,
          82,
          83,
          84,
          85,
          86,
          87,
          88,
          89,
          90,
          91,
          92,
          93,
          94,
          95,
          96,
          97,
          98,
          99,
          100,
          101,
          102,
          103,
          104,
          105,
          106,
          107,
          108,
          109,
          110,
          111,
          112,
          113,
          114,
          115,
          116,
          117,
          118,
          119,
          120,
          121,
          122,
          123,
          124,
          125,
          126,
          127,
          128,
          129,
          130,
          131,
          132,
          133,
          134,
          135,
          136,
          137,
          138,
          139,
          140,
          141,
          142,
          143,
          144,
          145,
          146
         ],
         "yaxis": "y8"
        },
        {
         "hovertemplate": "corruption=%{x}<br>RANK=%{y}<extra></extra>",
         "legendgroup": "",
         "marker": {
          "color": "#636efa",
          "symbol": "circle"
         },
         "mode": "markers",
         "name": "",
         "orientation": "h",
         "showlegend": false,
         "type": "scatter",
         "x": [
          0.534,
          0.532,
          0.191,
          0.461,
          0.419,
          0.388,
          0.512,
          0.474,
          0.143,
          0.483,
          0.329,
          0.341,
          0.408,
          0.358,
          0.368,
          0.177,
          0.329,
          0.048,
          0.204,
          0.266,
          0.155,
          0.115,
          0.102,
          0.25,
          0.18,
          0.168,
          0.587,
          0.006,
          0.149,
          0.265,
          0.059,
          0.035,
          0.166,
          0.077,
          0.025,
          0.333,
          0.051,
          0.134,
          0.115,
          0.157,
          0.062,
          0.09,
          0.088,
          0.069,
          0.212,
          0.115,
          0,
          0.14,
          0.212,
          0.147,
          0.064,
          0.107,
          0.24,
          0.218,
          0.076,
          0.039,
          0.085,
          0.108,
          0.176,
          0.142,
          0.026,
          0.028,
          0.053,
          0.025,
          0.282,
          0.077,
          0.006,
          0.059,
          0.179,
          0.126,
          0.064,
          0.142,
          0.059,
          0.037,
          0.077,
          0.083,
          0.105,
          0.032,
          0.213,
          0.08,
          0.383,
          0.21,
          0.304,
          0.13,
          0.021,
          0.179,
          0.047,
          0.124,
          0.031,
          0.028,
          0.046,
          0.341,
          0.103,
          0.187,
          0.184,
          0.15,
          0.08,
          0.017,
          0.146,
          0.102,
          0.2,
          0.074,
          0.081,
          0.145,
          0.208,
          0.099,
          0.046,
          0.082,
          0.116,
          0.146,
          0.056,
          0.115,
          0.126,
          0.068,
          0.23,
          0.125,
          0.066,
          0.038,
          0.082,
          0.029,
          0.112,
          0.079,
          0.042,
          0.071,
          0.154,
          0.194,
          0.079,
          0.154,
          0.254,
          0.077,
          0.136,
          0.098,
          0.138,
          0.2,
          0.132,
          0.123,
          0.083,
          0.157,
          0.27,
          0.055,
          0.018,
          0.102,
          0.544,
          0.105,
          0.034,
          0.005
         ],
         "xaxis": "x9",
         "y": [
          1,
          2,
          3,
          4,
          5,
          6,
          7,
          8,
          9,
          10,
          11,
          12,
          13,
          14,
          15,
          16,
          17,
          18,
          19,
          20,
          21,
          22,
          23,
          24,
          25,
          26,
          27,
          28,
          29,
          30,
          31,
          32,
          33,
          34,
          35,
          36,
          37,
          38,
          39,
          40,
          41,
          42,
          43,
          44,
          45,
          46,
          47,
          48,
          49,
          50,
          51,
          52,
          53,
          54,
          55,
          56,
          57,
          58,
          59,
          60,
          61,
          62,
          63,
          64,
          65,
          66,
          67,
          68,
          69,
          70,
          71,
          72,
          73,
          74,
          75,
          76,
          77,
          78,
          79,
          80,
          81,
          82,
          83,
          84,
          85,
          86,
          87,
          88,
          89,
          90,
          91,
          92,
          93,
          94,
          95,
          96,
          97,
          98,
          99,
          100,
          101,
          102,
          103,
          104,
          105,
          106,
          107,
          108,
          109,
          110,
          111,
          112,
          113,
          114,
          115,
          116,
          117,
          118,
          119,
          120,
          121,
          122,
          123,
          124,
          125,
          126,
          127,
          128,
          129,
          130,
          131,
          132,
          133,
          134,
          135,
          136,
          137,
          138,
          139,
          140,
          141,
          142,
          143,
          144,
          145,
          146
         ],
         "yaxis": "y9"
        }
       ],
       "layout": {
        "annotations": [
         {
          "font": {
           "size": 16
          },
          "showarrow": false,
          "text": "Whisker-high",
          "x": 0.14444444444444446,
          "xanchor": "center",
          "xref": "paper",
          "y": 1,
          "yanchor": "bottom",
          "yref": "paper"
         },
         {
          "font": {
           "size": 16
          },
          "showarrow": false,
          "text": "Whisker-low",
          "x": 0.5,
          "xanchor": "center",
          "xref": "paper",
          "y": 1,
          "yanchor": "bottom",
          "yref": "paper"
         },
         {
          "font": {
           "size": 16
          },
          "showarrow": false,
          "text": "Dystopia residual",
          "x": 0.8555555555555556,
          "xanchor": "center",
          "xref": "paper",
          "y": 1,
          "yanchor": "bottom",
          "yref": "paper"
         },
         {
          "font": {
           "size": 16
          },
          "showarrow": false,
          "text": "GDP per capita",
          "x": 0.14444444444444446,
          "xanchor": "center",
          "xref": "paper",
          "y": 0.6111111111111112,
          "yanchor": "bottom",
          "yref": "paper"
         },
         {
          "font": {
           "size": 16
          },
          "showarrow": false,
          "text": "Social support",
          "x": 0.5,
          "xanchor": "center",
          "xref": "paper",
          "y": 0.6111111111111112,
          "yanchor": "bottom",
          "yref": "paper"
         },
         {
          "font": {
           "size": 16
          },
          "showarrow": false,
          "text": "Healthy life expectancy",
          "x": 0.8555555555555556,
          "xanchor": "center",
          "xref": "paper",
          "y": 0.6111111111111112,
          "yanchor": "bottom",
          "yref": "paper"
         },
         {
          "font": {
           "size": 16
          },
          "showarrow": false,
          "text": "Freedom",
          "x": 0.14444444444444446,
          "xanchor": "center",
          "xref": "paper",
          "y": 0.22222222222222224,
          "yanchor": "bottom",
          "yref": "paper"
         },
         {
          "font": {
           "size": 16
          },
          "showarrow": false,
          "text": "Generosity",
          "x": 0.5,
          "xanchor": "center",
          "xref": "paper",
          "y": 0.22222222222222224,
          "yanchor": "bottom",
          "yref": "paper"
         },
         {
          "font": {
           "size": 16
          },
          "showarrow": false,
          "text": "corruption",
          "x": 0.8555555555555556,
          "xanchor": "center",
          "xref": "paper",
          "y": 0.22222222222222224,
          "yanchor": "bottom",
          "yref": "paper"
         }
        ],
        "height": 650,
        "template": {
         "data": {
          "bar": [
           {
            "error_x": {
             "color": "#2a3f5f"
            },
            "error_y": {
             "color": "#2a3f5f"
            },
            "marker": {
             "line": {
              "color": "#E5ECF6",
              "width": 0.5
             },
             "pattern": {
              "fillmode": "overlay",
              "size": 10,
              "solidity": 0.2
             }
            },
            "type": "bar"
           }
          ],
          "barpolar": [
           {
            "marker": {
             "line": {
              "color": "#E5ECF6",
              "width": 0.5
             },
             "pattern": {
              "fillmode": "overlay",
              "size": 10,
              "solidity": 0.2
             }
            },
            "type": "barpolar"
           }
          ],
          "carpet": [
           {
            "aaxis": {
             "endlinecolor": "#2a3f5f",
             "gridcolor": "white",
             "linecolor": "white",
             "minorgridcolor": "white",
             "startlinecolor": "#2a3f5f"
            },
            "baxis": {
             "endlinecolor": "#2a3f5f",
             "gridcolor": "white",
             "linecolor": "white",
             "minorgridcolor": "white",
             "startlinecolor": "#2a3f5f"
            },
            "type": "carpet"
           }
          ],
          "choropleth": [
           {
            "colorbar": {
             "outlinewidth": 0,
             "ticks": ""
            },
            "type": "choropleth"
           }
          ],
          "contour": [
           {
            "colorbar": {
             "outlinewidth": 0,
             "ticks": ""
            },
            "colorscale": [
             [
              0,
              "#0d0887"
             ],
             [
              0.1111111111111111,
              "#46039f"
             ],
             [
              0.2222222222222222,
              "#7201a8"
             ],
             [
              0.3333333333333333,
              "#9c179e"
             ],
             [
              0.4444444444444444,
              "#bd3786"
             ],
             [
              0.5555555555555556,
              "#d8576b"
             ],
             [
              0.6666666666666666,
              "#ed7953"
             ],
             [
              0.7777777777777778,
              "#fb9f3a"
             ],
             [
              0.8888888888888888,
              "#fdca26"
             ],
             [
              1,
              "#f0f921"
             ]
            ],
            "type": "contour"
           }
          ],
          "contourcarpet": [
           {
            "colorbar": {
             "outlinewidth": 0,
             "ticks": ""
            },
            "type": "contourcarpet"
           }
          ],
          "heatmap": [
           {
            "colorbar": {
             "outlinewidth": 0,
             "ticks": ""
            },
            "colorscale": [
             [
              0,
              "#0d0887"
             ],
             [
              0.1111111111111111,
              "#46039f"
             ],
             [
              0.2222222222222222,
              "#7201a8"
             ],
             [
              0.3333333333333333,
              "#9c179e"
             ],
             [
              0.4444444444444444,
              "#bd3786"
             ],
             [
              0.5555555555555556,
              "#d8576b"
             ],
             [
              0.6666666666666666,
              "#ed7953"
             ],
             [
              0.7777777777777778,
              "#fb9f3a"
             ],
             [
              0.8888888888888888,
              "#fdca26"
             ],
             [
              1,
              "#f0f921"
             ]
            ],
            "type": "heatmap"
           }
          ],
          "heatmapgl": [
           {
            "colorbar": {
             "outlinewidth": 0,
             "ticks": ""
            },
            "colorscale": [
             [
              0,
              "#0d0887"
             ],
             [
              0.1111111111111111,
              "#46039f"
             ],
             [
              0.2222222222222222,
              "#7201a8"
             ],
             [
              0.3333333333333333,
              "#9c179e"
             ],
             [
              0.4444444444444444,
              "#bd3786"
             ],
             [
              0.5555555555555556,
              "#d8576b"
             ],
             [
              0.6666666666666666,
              "#ed7953"
             ],
             [
              0.7777777777777778,
              "#fb9f3a"
             ],
             [
              0.8888888888888888,
              "#fdca26"
             ],
             [
              1,
              "#f0f921"
             ]
            ],
            "type": "heatmapgl"
           }
          ],
          "histogram": [
           {
            "marker": {
             "pattern": {
              "fillmode": "overlay",
              "size": 10,
              "solidity": 0.2
             }
            },
            "type": "histogram"
           }
          ],
          "histogram2d": [
           {
            "colorbar": {
             "outlinewidth": 0,
             "ticks": ""
            },
            "colorscale": [
             [
              0,
              "#0d0887"
             ],
             [
              0.1111111111111111,
              "#46039f"
             ],
             [
              0.2222222222222222,
              "#7201a8"
             ],
             [
              0.3333333333333333,
              "#9c179e"
             ],
             [
              0.4444444444444444,
              "#bd3786"
             ],
             [
              0.5555555555555556,
              "#d8576b"
             ],
             [
              0.6666666666666666,
              "#ed7953"
             ],
             [
              0.7777777777777778,
              "#fb9f3a"
             ],
             [
              0.8888888888888888,
              "#fdca26"
             ],
             [
              1,
              "#f0f921"
             ]
            ],
            "type": "histogram2d"
           }
          ],
          "histogram2dcontour": [
           {
            "colorbar": {
             "outlinewidth": 0,
             "ticks": ""
            },
            "colorscale": [
             [
              0,
              "#0d0887"
             ],
             [
              0.1111111111111111,
              "#46039f"
             ],
             [
              0.2222222222222222,
              "#7201a8"
             ],
             [
              0.3333333333333333,
              "#9c179e"
             ],
             [
              0.4444444444444444,
              "#bd3786"
             ],
             [
              0.5555555555555556,
              "#d8576b"
             ],
             [
              0.6666666666666666,
              "#ed7953"
             ],
             [
              0.7777777777777778,
              "#fb9f3a"
             ],
             [
              0.8888888888888888,
              "#fdca26"
             ],
             [
              1,
              "#f0f921"
             ]
            ],
            "type": "histogram2dcontour"
           }
          ],
          "mesh3d": [
           {
            "colorbar": {
             "outlinewidth": 0,
             "ticks": ""
            },
            "type": "mesh3d"
           }
          ],
          "parcoords": [
           {
            "line": {
             "colorbar": {
              "outlinewidth": 0,
              "ticks": ""
             }
            },
            "type": "parcoords"
           }
          ],
          "pie": [
           {
            "automargin": true,
            "type": "pie"
           }
          ],
          "scatter": [
           {
            "fillpattern": {
             "fillmode": "overlay",
             "size": 10,
             "solidity": 0.2
            },
            "type": "scatter"
           }
          ],
          "scatter3d": [
           {
            "line": {
             "colorbar": {
              "outlinewidth": 0,
              "ticks": ""
             }
            },
            "marker": {
             "colorbar": {
              "outlinewidth": 0,
              "ticks": ""
             }
            },
            "type": "scatter3d"
           }
          ],
          "scattercarpet": [
           {
            "marker": {
             "colorbar": {
              "outlinewidth": 0,
              "ticks": ""
             }
            },
            "type": "scattercarpet"
           }
          ],
          "scattergeo": [
           {
            "marker": {
             "colorbar": {
              "outlinewidth": 0,
              "ticks": ""
             }
            },
            "type": "scattergeo"
           }
          ],
          "scattergl": [
           {
            "marker": {
             "colorbar": {
              "outlinewidth": 0,
              "ticks": ""
             }
            },
            "type": "scattergl"
           }
          ],
          "scattermapbox": [
           {
            "marker": {
             "colorbar": {
              "outlinewidth": 0,
              "ticks": ""
             }
            },
            "type": "scattermapbox"
           }
          ],
          "scatterpolar": [
           {
            "marker": {
             "colorbar": {
              "outlinewidth": 0,
              "ticks": ""
             }
            },
            "type": "scatterpolar"
           }
          ],
          "scatterpolargl": [
           {
            "marker": {
             "colorbar": {
              "outlinewidth": 0,
              "ticks": ""
             }
            },
            "type": "scatterpolargl"
           }
          ],
          "scatterternary": [
           {
            "marker": {
             "colorbar": {
              "outlinewidth": 0,
              "ticks": ""
             }
            },
            "type": "scatterternary"
           }
          ],
          "surface": [
           {
            "colorbar": {
             "outlinewidth": 0,
             "ticks": ""
            },
            "colorscale": [
             [
              0,
              "#0d0887"
             ],
             [
              0.1111111111111111,
              "#46039f"
             ],
             [
              0.2222222222222222,
              "#7201a8"
             ],
             [
              0.3333333333333333,
              "#9c179e"
             ],
             [
              0.4444444444444444,
              "#bd3786"
             ],
             [
              0.5555555555555556,
              "#d8576b"
             ],
             [
              0.6666666666666666,
              "#ed7953"
             ],
             [
              0.7777777777777778,
              "#fb9f3a"
             ],
             [
              0.8888888888888888,
              "#fdca26"
             ],
             [
              1,
              "#f0f921"
             ]
            ],
            "type": "surface"
           }
          ],
          "table": [
           {
            "cells": {
             "fill": {
              "color": "#EBF0F8"
             },
             "line": {
              "color": "white"
             }
            },
            "header": {
             "fill": {
              "color": "#C8D4E3"
             },
             "line": {
              "color": "white"
             }
            },
            "type": "table"
           }
          ]
         },
         "layout": {
          "annotationdefaults": {
           "arrowcolor": "#2a3f5f",
           "arrowhead": 0,
           "arrowwidth": 1
          },
          "autotypenumbers": "strict",
          "coloraxis": {
           "colorbar": {
            "outlinewidth": 0,
            "ticks": ""
           }
          },
          "colorscale": {
           "diverging": [
            [
             0,
             "#8e0152"
            ],
            [
             0.1,
             "#c51b7d"
            ],
            [
             0.2,
             "#de77ae"
            ],
            [
             0.3,
             "#f1b6da"
            ],
            [
             0.4,
             "#fde0ef"
            ],
            [
             0.5,
             "#f7f7f7"
            ],
            [
             0.6,
             "#e6f5d0"
            ],
            [
             0.7,
             "#b8e186"
            ],
            [
             0.8,
             "#7fbc41"
            ],
            [
             0.9,
             "#4d9221"
            ],
            [
             1,
             "#276419"
            ]
           ],
           "sequential": [
            [
             0,
             "#0d0887"
            ],
            [
             0.1111111111111111,
             "#46039f"
            ],
            [
             0.2222222222222222,
             "#7201a8"
            ],
            [
             0.3333333333333333,
             "#9c179e"
            ],
            [
             0.4444444444444444,
             "#bd3786"
            ],
            [
             0.5555555555555556,
             "#d8576b"
            ],
            [
             0.6666666666666666,
             "#ed7953"
            ],
            [
             0.7777777777777778,
             "#fb9f3a"
            ],
            [
             0.8888888888888888,
             "#fdca26"
            ],
            [
             1,
             "#f0f921"
            ]
           ],
           "sequentialminus": [
            [
             0,
             "#0d0887"
            ],
            [
             0.1111111111111111,
             "#46039f"
            ],
            [
             0.2222222222222222,
             "#7201a8"
            ],
            [
             0.3333333333333333,
             "#9c179e"
            ],
            [
             0.4444444444444444,
             "#bd3786"
            ],
            [
             0.5555555555555556,
             "#d8576b"
            ],
            [
             0.6666666666666666,
             "#ed7953"
            ],
            [
             0.7777777777777778,
             "#fb9f3a"
            ],
            [
             0.8888888888888888,
             "#fdca26"
            ],
            [
             1,
             "#f0f921"
            ]
           ]
          },
          "colorway": [
           "#636efa",
           "#EF553B",
           "#00cc96",
           "#ab63fa",
           "#FFA15A",
           "#19d3f3",
           "#FF6692",
           "#B6E880",
           "#FF97FF",
           "#FECB52"
          ],
          "font": {
           "color": "#2a3f5f"
          },
          "geo": {
           "bgcolor": "white",
           "lakecolor": "white",
           "landcolor": "#E5ECF6",
           "showlakes": true,
           "showland": true,
           "subunitcolor": "white"
          },
          "hoverlabel": {
           "align": "left"
          },
          "hovermode": "closest",
          "mapbox": {
           "style": "light"
          },
          "paper_bgcolor": "white",
          "plot_bgcolor": "#E5ECF6",
          "polar": {
           "angularaxis": {
            "gridcolor": "white",
            "linecolor": "white",
            "ticks": ""
           },
           "bgcolor": "#E5ECF6",
           "radialaxis": {
            "gridcolor": "white",
            "linecolor": "white",
            "ticks": ""
           }
          },
          "scene": {
           "xaxis": {
            "backgroundcolor": "#E5ECF6",
            "gridcolor": "white",
            "gridwidth": 2,
            "linecolor": "white",
            "showbackground": true,
            "ticks": "",
            "zerolinecolor": "white"
           },
           "yaxis": {
            "backgroundcolor": "#E5ECF6",
            "gridcolor": "white",
            "gridwidth": 2,
            "linecolor": "white",
            "showbackground": true,
            "ticks": "",
            "zerolinecolor": "white"
           },
           "zaxis": {
            "backgroundcolor": "#E5ECF6",
            "gridcolor": "white",
            "gridwidth": 2,
            "linecolor": "white",
            "showbackground": true,
            "ticks": "",
            "zerolinecolor": "white"
           }
          },
          "shapedefaults": {
           "line": {
            "color": "#2a3f5f"
           }
          },
          "ternary": {
           "aaxis": {
            "gridcolor": "white",
            "linecolor": "white",
            "ticks": ""
           },
           "baxis": {
            "gridcolor": "white",
            "linecolor": "white",
            "ticks": ""
           },
           "bgcolor": "#E5ECF6",
           "caxis": {
            "gridcolor": "white",
            "linecolor": "white",
            "ticks": ""
           }
          },
          "title": {
           "x": 0.05
          },
          "xaxis": {
           "automargin": true,
           "gridcolor": "white",
           "linecolor": "white",
           "ticks": "",
           "title": {
            "standoff": 15
           },
           "zerolinecolor": "white",
           "zerolinewidth": 2
          },
          "yaxis": {
           "automargin": true,
           "gridcolor": "white",
           "linecolor": "white",
           "ticks": "",
           "title": {
            "standoff": 15
           },
           "zerolinecolor": "white",
           "zerolinewidth": 2
          }
         }
        },
        "title": {
         "text": "ALL DATA"
        },
        "width": 950,
        "xaxis": {
         "anchor": "y",
         "domain": [
          0,
          0.2888888888888889
         ]
        },
        "xaxis2": {
         "anchor": "y2",
         "domain": [
          0.35555555555555557,
          0.6444444444444445
         ]
        },
        "xaxis3": {
         "anchor": "y3",
         "domain": [
          0.7111111111111111,
          1
         ]
        },
        "xaxis4": {
         "anchor": "y4",
         "domain": [
          0,
          0.2888888888888889
         ]
        },
        "xaxis5": {
         "anchor": "y5",
         "domain": [
          0.35555555555555557,
          0.6444444444444445
         ]
        },
        "xaxis6": {
         "anchor": "y6",
         "domain": [
          0.7111111111111111,
          1
         ]
        },
        "xaxis7": {
         "anchor": "y7",
         "domain": [
          0,
          0.2888888888888889
         ]
        },
        "xaxis8": {
         "anchor": "y8",
         "domain": [
          0.35555555555555557,
          0.6444444444444445
         ]
        },
        "xaxis9": {
         "anchor": "y9",
         "domain": [
          0.7111111111111111,
          1
         ]
        },
        "yaxis": {
         "anchor": "x",
         "domain": [
          0.7777777777777778,
          1
         ]
        },
        "yaxis2": {
         "anchor": "x2",
         "domain": [
          0.7777777777777778,
          1
         ]
        },
        "yaxis3": {
         "anchor": "x3",
         "domain": [
          0.7777777777777778,
          1
         ]
        },
        "yaxis4": {
         "anchor": "x4",
         "domain": [
          0.3888888888888889,
          0.6111111111111112
         ]
        },
        "yaxis5": {
         "anchor": "x5",
         "domain": [
          0.3888888888888889,
          0.6111111111111112
         ]
        },
        "yaxis6": {
         "anchor": "x6",
         "domain": [
          0.3888888888888889,
          0.6111111111111112
         ]
        },
        "yaxis7": {
         "anchor": "x7",
         "domain": [
          0,
          0.22222222222222224
         ]
        },
        "yaxis8": {
         "anchor": "x8",
         "domain": [
          0,
          0.22222222222222224
         ]
        },
        "yaxis9": {
         "anchor": "x9",
         "domain": [
          0,
          0.22222222222222224
         ]
        }
       }
      },
      "text/html": [
       "<div>                            <div id=\"6d09b539-e8f4-4ab9-bfdc-e0ab04f44d31\" class=\"plotly-graph-div\" style=\"height:650px; width:950px;\"></div>            <script type=\"text/javascript\">                require([\"plotly\"], function(Plotly) {                    window.PLOTLYENV=window.PLOTLYENV || {};                                    if (document.getElementById(\"6d09b539-e8f4-4ab9-bfdc-e0ab04f44d31\")) {                    Plotly.newPlot(                        \"6d09b539-e8f4-4ab9-bfdc-e0ab04f44d31\",                        [{\"hovertemplate\":\"Whisker-high=%{x}<br>RANK=%{y}<extra></extra>\",\"legendgroup\":\"\",\"marker\":{\"color\":\"#636efa\",\"symbol\":\"circle\"},\"mode\":\"markers\",\"name\":\"\",\"orientation\":\"h\",\"showlegend\":false,\"x\":[7886,7710,7651,7586,7471,7501,7454,7440,7426,7279,7237,7244,7121,7122,7107,7065,7018,7029,6890,6758,6779,6718,6683,6660,6637,6596,6569,6575,6560,6562,6570,6571,6535,6535,6475,6415,6464,6384,6460,6330,6320,6255,6294,6262,6312,6238,6229,6205,6250,6235,6187,6184,6178,6119,6189,6122,6090,6043,6021,6007,5994,5948,6023,5916,5950,5903,5877,5845,5873,5845,5709,5650,5689,5679,5681,5653,5570,5578,5609,5525,5501,5519,5468,5502,5485,5543,5341,5384,5303,5321,5315,5265,5409,5262,5263,5215,5428,5190,5235,5181,5273,5188,5171,5247,5079,5091,5099,5051,5028,4995,4999,4845,4814,4765,4754,4849,4747,4651,4683,4629,4634,4665,4611,4593,4607,4511,4487,4530,4377,4503,4365,4384,4356,4276,4272,3828,3902,3941,3847,3732,3748,3667,3462,3110,3049,2469],\"xaxis\":\"x\",\"y\":[1,2,3,4,5,6,7,8,9,10,11,12,13,14,15,16,17,18,19,20,21,22,23,24,25,26,27,28,29,30,31,32,33,34,35,36,37,38,39,40,41,42,43,44,45,46,47,48,49,50,51,52,53,54,55,56,57,58,59,60,61,62,63,64,65,66,67,68,69,70,71,72,73,74,75,76,77,78,79,80,81,82,83,84,85,86,87,88,89,90,91,92,93,94,95,96,97,98,99,100,101,102,103,104,105,106,107,108,109,110,111,112,113,114,115,116,117,118,119,120,121,122,123,124,125,126,127,128,129,130,131,132,133,134,135,136,137,138,139,140,141,142,143,144,145,146],\"yaxis\":\"y\",\"type\":\"scatter\"},{\"hovertemplate\":\"Whisker-low=%{x}<br>RANK=%{y}<extra></extra>\",\"legendgroup\":\"\",\"marker\":{\"color\":\"#636efa\",\"symbol\":\"circle\"},\"mode\":\"markers\",\"name\":\"\",\"orientation\":\"h\",\"showlegend\":false,\"x\":[7756,7563,7464,7437,7359,7307,7315,7290,7301,7120,7089,7081,6961,6947,6943,6888,6867,6811,6720,6615,6514,6542,6481,6492,6409,6429,6392,6379,6392,6386,6363,6339,6359,6356,6306,6266,6154,6202,6064,6138,6122,6106,6062,6082,6017,6017,6022,6040,5990,5977,5985,5958,5948,5959,5855,5911,5844,5853,5849,5800,5788,5766,5676,5741,5693,5659,5659,5676,5601,5578,5491,5520,5467,5439,5413,5414,5400,5371,5325,5392,5348,5278,5287,5251,5257,5118,5139,5085,5095,5076,5073,5082,4918,5049,5018,5030,4815,4978,4915,4938,4823,4907,4921,4760,4867,4826,4783,4800,4753,4780,4745,4644,4527,4516,4492,4368,4459,4453,4403,4403,4397,4300,4347,4326,4185,4277,4237,4148,4198,3999,4118,4010,3950,4029,3953,3726,3618,3560,3558,3416,3276,3275,3074,2880,2862,2339],\"xaxis\":\"x2\",\"y\":[1,2,3,4,5,6,7,8,9,10,11,12,13,14,15,16,17,18,19,20,21,22,23,24,25,26,27,28,29,30,31,32,33,34,35,36,37,38,39,40,41,42,43,44,45,46,47,48,49,50,51,52,53,54,55,56,57,58,59,60,61,62,63,64,65,66,67,68,69,70,71,72,73,74,75,76,77,78,79,80,81,82,83,84,85,86,87,88,89,90,91,92,93,94,95,96,97,98,99,100,101,102,103,104,105,106,107,108,109,110,111,112,113,114,115,116,117,118,119,120,121,122,123,124,125,126,127,128,129,130,131,132,133,134,135,136,137,138,139,140,141,142,143,144,145,146],\"yaxis\":\"y2\",\"type\":\"scatter\"},{\"hovertemplate\":\"Dystopia residual=%{x}<br>RANK=%{y}<extra></extra>\",\"legendgroup\":\"\",\"marker\":{\"color\":\"#636efa\",\"symbol\":\"circle\"},\"mode\":\"markers\",\"name\":\"\",\"orientation\":\"h\",\"showlegend\":false,\"x\":[2518,2226,2320,2153,2137,2042,2003,1925,2634,1954,2148,2011,1743,2142,1924,2214,1967,2263,2283,1895,2092,1885,2346,1809,2075,2002,932,2446,1893,1974,2222,2631,1631,2153,2094,1442,2086,2361,2746,1860,2044,1923,2031,2040,2418,2239,1884,1693,2514,1621,1812,1969,1913,1487,2611,1691,1891,2119,1656,2283,1600,2142,2164,2087,1811,1971,1869,1999,1751,1471,2107,1516,1555,1890,1619,1866,1735,1160,1078,1494,642,1654,1895,2224,1235,1544,1300,2652,1461,1718,1742,1098,2531,1967,1709,1744,2844,1331,2658,2405,2641,2469,2419,2667,1583,1892,1894,2790,2538,1427,1972,1059,2313,1410,2458,2304,1842,1784,1661,1540,1940,1368,2373,1414,1688,877,595,2148,856,2419,1375,1561,1207,695,2061,795,1135,1661,735,1556,1312,187,536,548,216,1263],\"xaxis\":\"x3\",\"y\":[1,2,3,4,5,6,7,8,9,10,11,12,13,14,15,16,17,18,19,20,21,22,23,24,25,26,27,28,29,30,31,32,33,34,35,36,37,38,39,40,41,42,43,44,45,46,47,48,49,50,51,52,53,54,55,56,57,58,59,60,61,62,63,64,65,66,67,68,69,70,71,72,73,74,75,76,77,78,79,80,81,82,83,84,85,86,87,88,89,90,91,92,93,94,95,96,97,98,99,100,101,102,103,104,105,106,107,108,109,110,111,112,113,114,115,116,117,118,119,120,121,122,123,124,125,126,127,128,129,130,131,132,133,134,135,136,137,138,139,140,141,142,143,144,145,146],\"yaxis\":\"y3\",\"type\":\"scatter\"},{\"hovertemplate\":\"GDP per capita=%{x}<br>RANK=%{y}<extra></extra>\",\"legendgroup\":\"\",\"marker\":{\"color\":\"#636efa\",\"symbol\":\"circle\"},\"mode\":\"markers\",\"name\":\"\",\"orientation\":\"h\",\"showlegend\":false,\"x\":[1892,1953,1936,2026,1945,2209,1920,1997,1826,1852,1931,1900,2129,1924,1886,1982,1867,1815,1907,1863,1854,1810,1584,1998,1870,1897,2149,1719,1808,1615,1834,1362,1838,1804,1736,1793,1715,1462,1274,1668,1815,1732,1550,1651,1105,1552,1705,1758,1265,1904,1748,1591,1219,1835,1111,1760,1592,1703,1851,1268,1535,1417,1296,1069,1562,1452,1468,1393,1538,1689,1256,1508,1409,1397,1573,1352,1252,1484,1815,1685,1957,1434,966,984,1625,1476,1382,1094,1505,1439,1425,1458,785,1060,1239,1363,636,1411,950,1208,578,968,933,570,1467,1459,1289,0,848,1410,1112,1707,779,1019,932,899,777,1079,1032,1350,1049,1148,792,1292,1274,1038,1415,670,1388,662,788,691,1100,1324,771,1167,930,648,848,686,839,1503,785,947,1392,758],\"xaxis\":\"x4\",\"y\":[1,2,3,4,5,6,7,8,9,10,11,12,13,14,15,16,17,18,19,20,21,22,23,24,25,26,27,28,29,30,31,32,33,34,35,36,37,38,39,40,41,42,43,44,45,46,47,48,49,50,51,52,53,54,55,56,57,58,59,60,61,62,63,64,65,66,67,68,69,70,71,72,73,74,75,76,77,78,79,80,81,82,83,84,85,86,87,88,89,90,91,92,93,94,95,96,97,98,99,100,101,102,103,104,105,106,107,108,109,110,111,112,113,114,115,116,117,118,119,120,121,122,123,124,125,126,127,128,129,130,131,132,133,134,135,136,137,138,139,140,141,142,143,144,145,146],\"yaxis\":\"y4\",\"type\":\"scatter\"},{\"hovertemplate\":\"Social support=%{x}<br>RANK=%{y}<extra></extra>\",\"legendgroup\":\"\",\"marker\":{\"color\":\"#636efa\",\"symbol\":\"circle\"},\"mode\":\"markers\",\"name\":\"\",\"orientation\":\"h\",\"showlegend\":false,\"x\":[1258,1243,1320,1226,1206,1155,1204,1239,1221,1235,1165,1203,1166,1088,1188,1182,1143,1260,1106,1219,1029,1249,1054,980,1092,1095,1127,1006,1211,1180,1052,949,1169,1204,1232,1232,1107,1044,831,1220,909,1221,1086,1080,1029,886,1183,1174,768,983,1233,1116,1092,1089,885,1078,1102,980,886,912,1096,1008,1045,1109,1157,929,1068,1197,1003,938,880,958,1130,865,1023,879,932,1319,888,1095,954,820,1005,784,1163,943,883,442,863,646,1088,1093,621,614,654,970,670,1081,405,268,660,672,530,560,612,738,682,968,566,741,595,865,565,732,64,476,875,732,605,596,413,957,483,877,786,829,934,645,732,506,809,1043,865,724,322,376,577,279,597,416,848,815,133,690,498,0],\"xaxis\":\"x5\",\"y\":[1,2,3,4,5,6,7,8,9,10,11,12,13,14,15,16,17,18,19,20,21,22,23,24,25,26,27,28,29,30,31,32,33,34,35,36,37,38,39,40,41,42,43,44,45,46,47,48,49,50,51,52,53,54,55,56,57,58,59,60,61,62,63,64,65,66,67,68,69,70,71,72,73,74,75,76,77,78,79,80,81,82,83,84,85,86,87,88,89,90,91,92,93,94,95,96,97,98,99,100,101,102,103,104,105,106,107,108,109,110,111,112,113,114,115,116,117,118,119,120,121,122,123,124,125,126,127,128,129,130,131,132,133,134,135,136,137,138,139,140,141,142,143,144,145,146],\"yaxis\":\"y5\",\"type\":\"scatter\"},{\"hovertemplate\":\"Healthy life expectancy=%{x}<br>RANK=%{y}<extra></extra>\",\"legendgroup\":\"\",\"marker\":{\"color\":\"#636efa\",\"symbol\":\"circle\"},\"mode\":\"markers\",\"name\":\"\",\"orientation\":\"h\",\"showlegend\":false,\"x\":[0.775,0.777,0.803,0.822,0.787,0.79,0.803,0.786,0.818,0.752,0.774,0.772,0.779,0.776,0.783,0.628,0.75,0.715,0.764,0.808,0.625,0.769,0.744,0.633,0.577,0.733,0.851,0.655,0.808,0.672,0.801,0.569,0.789,0.659,0.707,0.728,0.709,0.615,0.522,0.611,0.819,0.637,0.658,0.748,0.617,0.623,0.709,0.712,0.607,0.747,0.668,0.568,0.6,0.866,0.555,0.777,0.662,0.774,0.841,0.514,0.697,0.597,0.646,0.638,0.629,0.72,0.665,0.467,0.577,0.62,0.555,0.705,0.624,0.735,0.659,0.708,0.611,0.516,0.819,0.586,0.942,0.668,0.518,0.499,0.64,0.606,0.539,0.322,0.637,0.719,0.361,0.56,0.369,0.581,0.479,0.643,0.309,0.583,0.355,0.565,0.191,0.317,0.447,0.326,0.595,0.396,0.554,0.578,0.275,0.642,0.409,0.702,0.32,0.505,0.335,0.424,0.418,0.3,0.401,0.656,0.374,0.521,0.311,0.354,0.197,0.491,0.66,0.378,0.548,0.225,0.457,0.384,0.45,0.675,0.36,0.471,0.306,0.388,0.425,0.273,0.0,0.28,0.462,0.27,0.631,0.289],\"xaxis\":\"x6\",\"y\":[1,2,3,4,5,6,7,8,9,10,11,12,13,14,15,16,17,18,19,20,21,22,23,24,25,26,27,28,29,30,31,32,33,34,35,36,37,38,39,40,41,42,43,44,45,46,47,48,49,50,51,52,53,54,55,56,57,58,59,60,61,62,63,64,65,66,67,68,69,70,71,72,73,74,75,76,77,78,79,80,81,82,83,84,85,86,87,88,89,90,91,92,93,94,95,96,97,98,99,100,101,102,103,104,105,106,107,108,109,110,111,112,113,114,115,116,117,118,119,120,121,122,123,124,125,126,127,128,129,130,131,132,133,134,135,136,137,138,139,140,141,142,143,144,145,146],\"yaxis\":\"y6\",\"type\":\"scatter\"},{\"hovertemplate\":\"Freedom=%{x}<br>RANK=%{y}<extra></extra>\",\"legendgroup\":\"\",\"marker\":{\"color\":\"#636efa\",\"symbol\":\"circle\"},\"mode\":\"markers\",\"name\":\"\",\"orientation\":\"h\",\"showlegend\":false,\"x\":[0.736,0.719,0.718,0.677,0.651,0.7,0.724,0.728,0.568,0.68,0.623,0.676,0.627,0.585,0.659,0.574,0.597,0.66,0.492,0.567,0.693,0.685,0.661,0.702,0.651,0.542,0.672,0.605,0.505,0.665,0.412,0.599,0.679,0.496,0.479,0.689,0.592,0.546,0.662,0.584,0.448,0.502,0.546,0.46,0.617,0.621,0.535,0.523,0.666,0.617,0.485,0.589,0.716,0.537,0.582,0.655,0.555,0.249,0.414,0.678,0.617,0.561,0.567,0.693,0.342,0.545,0.448,0.398,0.606,0.654,0.627,0.656,0.629,0.545,0.46,0.565,0.707,0.649,0.523,0.401,0.4,0.558,0.572,0.519,0.563,0.477,0.62,0.451,0.488,0.511,0.442,0.601,0.367,0.622,0.679,0.146,0.405,0.473,0.431,0.492,0.593,0.397,0.494,0.571,0.508,0.343,0.328,0.283,0.334,0.281,0.5,0.209,0.382,0.74,0.479,0.185,0.402,0.444,0.44,0.316,0.448,0.336,0.35,0.384,0.259,0.513,0.529,0.202,0.469,0.18,0.472,0.33,0.304,0.476,0.292,0.647,0.525,0.477,0.578,0.387,0.419,0.571,0.621,0.329,0.103,0.0],\"xaxis\":\"x7\",\"y\":[1,2,3,4,5,6,7,8,9,10,11,12,13,14,15,16,17,18,19,20,21,22,23,24,25,26,27,28,29,30,31,32,33,34,35,36,37,38,39,40,41,42,43,44,45,46,47,48,49,50,51,52,53,54,55,56,57,58,59,60,61,62,63,64,65,66,67,68,69,70,71,72,73,74,75,76,77,78,79,80,81,82,83,84,85,86,87,88,89,90,91,92,93,94,95,96,97,98,99,100,101,102,103,104,105,106,107,108,109,110,111,112,113,114,115,116,117,118,119,120,121,122,123,124,125,126,127,128,129,130,131,132,133,134,135,136,137,138,139,140,141,142,143,144,145,146],\"yaxis\":\"y7\",\"type\":\"scatter\"},{\"hovertemplate\":\"Generosity=%{x}<br>RANK=%{y}<extra></extra>\",\"legendgroup\":\"\",\"marker\":{\"color\":\"#636efa\",\"symbol\":\"circle\"},\"mode\":\"markers\",\"name\":\"\",\"orientation\":\"h\",\"showlegend\":false,\"x\":[0.109,0.188,0.27,0.147,0.271,0.12,0.218,0.217,0.155,0.245,0.193,0.258,0.19,0.163,0.217,0.22,0.289,0.158,0.049,0.07,0.199,0.118,0.089,0.204,0.078,0.075,0.163,0.039,0.101,0.103,0.085,0.309,0.174,0.053,0.118,0.123,0.049,0.131,0.112,0.134,0.123,0.075,0.219,0.124,0.168,0.092,0.109,0.124,0.089,0.087,0.078,0.131,0.283,0.007,0.202,0.016,0.081,0.015,0.111,0.107,0.321,0.102,0.08,0.208,0.04,0.087,0.244,0.247,0.084,0.213,0.112,0.099,0.171,0.09,0.135,0.08,0.143,0.314,0.13,0.117,0.147,0.054,0.118,0.237,0.123,0.106,0.468,0.149,0.215,0.138,0.089,0.023,0.388,0.125,0.197,0.106,0.178,0.188,0.13,0.02,0.185,0.152,0.143,0.165,0.0,0.032,0.147,0.225,0.214,0.241,0.23,0.087,0.186,0.166,0.127,0.195,0.222,0.175,0.322,0.029,0.181,0.073,0.128,0.067,0.038,0.452,0.15,0.143,0.041,0.182,0.205,0.09,0.088,0.058,0.174,0.198,0.203,0.14,0.248,0.202,0.076,0.012,0.187,0.106,0.082,0.089],\"xaxis\":\"x8\",\"y\":[1,2,3,4,5,6,7,8,9,10,11,12,13,14,15,16,17,18,19,20,21,22,23,24,25,26,27,28,29,30,31,32,33,34,35,36,37,38,39,40,41,42,43,44,45,46,47,48,49,50,51,52,53,54,55,56,57,58,59,60,61,62,63,64,65,66,67,68,69,70,71,72,73,74,75,76,77,78,79,80,81,82,83,84,85,86,87,88,89,90,91,92,93,94,95,96,97,98,99,100,101,102,103,104,105,106,107,108,109,110,111,112,113,114,115,116,117,118,119,120,121,122,123,124,125,126,127,128,129,130,131,132,133,134,135,136,137,138,139,140,141,142,143,144,145,146],\"yaxis\":\"y8\",\"type\":\"scatter\"},{\"hovertemplate\":\"corruption=%{x}<br>RANK=%{y}<extra></extra>\",\"legendgroup\":\"\",\"marker\":{\"color\":\"#636efa\",\"symbol\":\"circle\"},\"mode\":\"markers\",\"name\":\"\",\"orientation\":\"h\",\"showlegend\":false,\"x\":[0.534,0.532,0.191,0.461,0.419,0.388,0.512,0.474,0.143,0.483,0.329,0.341,0.408,0.358,0.368,0.177,0.329,0.048,0.204,0.266,0.155,0.115,0.102,0.25,0.18,0.168,0.587,0.006,0.149,0.265,0.059,0.035,0.166,0.077,0.025,0.333,0.051,0.134,0.115,0.157,0.062,0.09,0.088,0.069,0.212,0.115,0.0,0.14,0.212,0.147,0.064,0.107,0.24,0.218,0.076,0.039,0.085,0.108,0.176,0.142,0.026,0.028,0.053,0.025,0.282,0.077,0.006,0.059,0.179,0.126,0.064,0.142,0.059,0.037,0.077,0.083,0.105,0.032,0.213,0.08,0.383,0.21,0.304,0.13,0.021,0.179,0.047,0.124,0.031,0.028,0.046,0.341,0.103,0.187,0.184,0.15,0.08,0.017,0.146,0.102,0.2,0.074,0.081,0.145,0.208,0.099,0.046,0.082,0.116,0.146,0.056,0.115,0.126,0.068,0.23,0.125,0.066,0.038,0.082,0.029,0.112,0.079,0.042,0.071,0.154,0.194,0.079,0.154,0.254,0.077,0.136,0.098,0.138,0.2,0.132,0.123,0.083,0.157,0.27,0.055,0.018,0.102,0.544,0.105,0.034,0.005],\"xaxis\":\"x9\",\"y\":[1,2,3,4,5,6,7,8,9,10,11,12,13,14,15,16,17,18,19,20,21,22,23,24,25,26,27,28,29,30,31,32,33,34,35,36,37,38,39,40,41,42,43,44,45,46,47,48,49,50,51,52,53,54,55,56,57,58,59,60,61,62,63,64,65,66,67,68,69,70,71,72,73,74,75,76,77,78,79,80,81,82,83,84,85,86,87,88,89,90,91,92,93,94,95,96,97,98,99,100,101,102,103,104,105,106,107,108,109,110,111,112,113,114,115,116,117,118,119,120,121,122,123,124,125,126,127,128,129,130,131,132,133,134,135,136,137,138,139,140,141,142,143,144,145,146],\"yaxis\":\"y9\",\"type\":\"scatter\"}],                        {\"template\":{\"data\":{\"histogram2dcontour\":[{\"type\":\"histogram2dcontour\",\"colorbar\":{\"outlinewidth\":0,\"ticks\":\"\"},\"colorscale\":[[0.0,\"#0d0887\"],[0.1111111111111111,\"#46039f\"],[0.2222222222222222,\"#7201a8\"],[0.3333333333333333,\"#9c179e\"],[0.4444444444444444,\"#bd3786\"],[0.5555555555555556,\"#d8576b\"],[0.6666666666666666,\"#ed7953\"],[0.7777777777777778,\"#fb9f3a\"],[0.8888888888888888,\"#fdca26\"],[1.0,\"#f0f921\"]]}],\"choropleth\":[{\"type\":\"choropleth\",\"colorbar\":{\"outlinewidth\":0,\"ticks\":\"\"}}],\"histogram2d\":[{\"type\":\"histogram2d\",\"colorbar\":{\"outlinewidth\":0,\"ticks\":\"\"},\"colorscale\":[[0.0,\"#0d0887\"],[0.1111111111111111,\"#46039f\"],[0.2222222222222222,\"#7201a8\"],[0.3333333333333333,\"#9c179e\"],[0.4444444444444444,\"#bd3786\"],[0.5555555555555556,\"#d8576b\"],[0.6666666666666666,\"#ed7953\"],[0.7777777777777778,\"#fb9f3a\"],[0.8888888888888888,\"#fdca26\"],[1.0,\"#f0f921\"]]}],\"heatmap\":[{\"type\":\"heatmap\",\"colorbar\":{\"outlinewidth\":0,\"ticks\":\"\"},\"colorscale\":[[0.0,\"#0d0887\"],[0.1111111111111111,\"#46039f\"],[0.2222222222222222,\"#7201a8\"],[0.3333333333333333,\"#9c179e\"],[0.4444444444444444,\"#bd3786\"],[0.5555555555555556,\"#d8576b\"],[0.6666666666666666,\"#ed7953\"],[0.7777777777777778,\"#fb9f3a\"],[0.8888888888888888,\"#fdca26\"],[1.0,\"#f0f921\"]]}],\"heatmapgl\":[{\"type\":\"heatmapgl\",\"colorbar\":{\"outlinewidth\":0,\"ticks\":\"\"},\"colorscale\":[[0.0,\"#0d0887\"],[0.1111111111111111,\"#46039f\"],[0.2222222222222222,\"#7201a8\"],[0.3333333333333333,\"#9c179e\"],[0.4444444444444444,\"#bd3786\"],[0.5555555555555556,\"#d8576b\"],[0.6666666666666666,\"#ed7953\"],[0.7777777777777778,\"#fb9f3a\"],[0.8888888888888888,\"#fdca26\"],[1.0,\"#f0f921\"]]}],\"contourcarpet\":[{\"type\":\"contourcarpet\",\"colorbar\":{\"outlinewidth\":0,\"ticks\":\"\"}}],\"contour\":[{\"type\":\"contour\",\"colorbar\":{\"outlinewidth\":0,\"ticks\":\"\"},\"colorscale\":[[0.0,\"#0d0887\"],[0.1111111111111111,\"#46039f\"],[0.2222222222222222,\"#7201a8\"],[0.3333333333333333,\"#9c179e\"],[0.4444444444444444,\"#bd3786\"],[0.5555555555555556,\"#d8576b\"],[0.6666666666666666,\"#ed7953\"],[0.7777777777777778,\"#fb9f3a\"],[0.8888888888888888,\"#fdca26\"],[1.0,\"#f0f921\"]]}],\"surface\":[{\"type\":\"surface\",\"colorbar\":{\"outlinewidth\":0,\"ticks\":\"\"},\"colorscale\":[[0.0,\"#0d0887\"],[0.1111111111111111,\"#46039f\"],[0.2222222222222222,\"#7201a8\"],[0.3333333333333333,\"#9c179e\"],[0.4444444444444444,\"#bd3786\"],[0.5555555555555556,\"#d8576b\"],[0.6666666666666666,\"#ed7953\"],[0.7777777777777778,\"#fb9f3a\"],[0.8888888888888888,\"#fdca26\"],[1.0,\"#f0f921\"]]}],\"mesh3d\":[{\"type\":\"mesh3d\",\"colorbar\":{\"outlinewidth\":0,\"ticks\":\"\"}}],\"scatter\":[{\"fillpattern\":{\"fillmode\":\"overlay\",\"size\":10,\"solidity\":0.2},\"type\":\"scatter\"}],\"parcoords\":[{\"type\":\"parcoords\",\"line\":{\"colorbar\":{\"outlinewidth\":0,\"ticks\":\"\"}}}],\"scatterpolargl\":[{\"type\":\"scatterpolargl\",\"marker\":{\"colorbar\":{\"outlinewidth\":0,\"ticks\":\"\"}}}],\"bar\":[{\"error_x\":{\"color\":\"#2a3f5f\"},\"error_y\":{\"color\":\"#2a3f5f\"},\"marker\":{\"line\":{\"color\":\"#E5ECF6\",\"width\":0.5},\"pattern\":{\"fillmode\":\"overlay\",\"size\":10,\"solidity\":0.2}},\"type\":\"bar\"}],\"scattergeo\":[{\"type\":\"scattergeo\",\"marker\":{\"colorbar\":{\"outlinewidth\":0,\"ticks\":\"\"}}}],\"scatterpolar\":[{\"type\":\"scatterpolar\",\"marker\":{\"colorbar\":{\"outlinewidth\":0,\"ticks\":\"\"}}}],\"histogram\":[{\"marker\":{\"pattern\":{\"fillmode\":\"overlay\",\"size\":10,\"solidity\":0.2}},\"type\":\"histogram\"}],\"scattergl\":[{\"type\":\"scattergl\",\"marker\":{\"colorbar\":{\"outlinewidth\":0,\"ticks\":\"\"}}}],\"scatter3d\":[{\"type\":\"scatter3d\",\"line\":{\"colorbar\":{\"outlinewidth\":0,\"ticks\":\"\"}},\"marker\":{\"colorbar\":{\"outlinewidth\":0,\"ticks\":\"\"}}}],\"scattermapbox\":[{\"type\":\"scattermapbox\",\"marker\":{\"colorbar\":{\"outlinewidth\":0,\"ticks\":\"\"}}}],\"scatterternary\":[{\"type\":\"scatterternary\",\"marker\":{\"colorbar\":{\"outlinewidth\":0,\"ticks\":\"\"}}}],\"scattercarpet\":[{\"type\":\"scattercarpet\",\"marker\":{\"colorbar\":{\"outlinewidth\":0,\"ticks\":\"\"}}}],\"carpet\":[{\"aaxis\":{\"endlinecolor\":\"#2a3f5f\",\"gridcolor\":\"white\",\"linecolor\":\"white\",\"minorgridcolor\":\"white\",\"startlinecolor\":\"#2a3f5f\"},\"baxis\":{\"endlinecolor\":\"#2a3f5f\",\"gridcolor\":\"white\",\"linecolor\":\"white\",\"minorgridcolor\":\"white\",\"startlinecolor\":\"#2a3f5f\"},\"type\":\"carpet\"}],\"table\":[{\"cells\":{\"fill\":{\"color\":\"#EBF0F8\"},\"line\":{\"color\":\"white\"}},\"header\":{\"fill\":{\"color\":\"#C8D4E3\"},\"line\":{\"color\":\"white\"}},\"type\":\"table\"}],\"barpolar\":[{\"marker\":{\"line\":{\"color\":\"#E5ECF6\",\"width\":0.5},\"pattern\":{\"fillmode\":\"overlay\",\"size\":10,\"solidity\":0.2}},\"type\":\"barpolar\"}],\"pie\":[{\"automargin\":true,\"type\":\"pie\"}]},\"layout\":{\"autotypenumbers\":\"strict\",\"colorway\":[\"#636efa\",\"#EF553B\",\"#00cc96\",\"#ab63fa\",\"#FFA15A\",\"#19d3f3\",\"#FF6692\",\"#B6E880\",\"#FF97FF\",\"#FECB52\"],\"font\":{\"color\":\"#2a3f5f\"},\"hovermode\":\"closest\",\"hoverlabel\":{\"align\":\"left\"},\"paper_bgcolor\":\"white\",\"plot_bgcolor\":\"#E5ECF6\",\"polar\":{\"bgcolor\":\"#E5ECF6\",\"angularaxis\":{\"gridcolor\":\"white\",\"linecolor\":\"white\",\"ticks\":\"\"},\"radialaxis\":{\"gridcolor\":\"white\",\"linecolor\":\"white\",\"ticks\":\"\"}},\"ternary\":{\"bgcolor\":\"#E5ECF6\",\"aaxis\":{\"gridcolor\":\"white\",\"linecolor\":\"white\",\"ticks\":\"\"},\"baxis\":{\"gridcolor\":\"white\",\"linecolor\":\"white\",\"ticks\":\"\"},\"caxis\":{\"gridcolor\":\"white\",\"linecolor\":\"white\",\"ticks\":\"\"}},\"coloraxis\":{\"colorbar\":{\"outlinewidth\":0,\"ticks\":\"\"}},\"colorscale\":{\"sequential\":[[0.0,\"#0d0887\"],[0.1111111111111111,\"#46039f\"],[0.2222222222222222,\"#7201a8\"],[0.3333333333333333,\"#9c179e\"],[0.4444444444444444,\"#bd3786\"],[0.5555555555555556,\"#d8576b\"],[0.6666666666666666,\"#ed7953\"],[0.7777777777777778,\"#fb9f3a\"],[0.8888888888888888,\"#fdca26\"],[1.0,\"#f0f921\"]],\"sequentialminus\":[[0.0,\"#0d0887\"],[0.1111111111111111,\"#46039f\"],[0.2222222222222222,\"#7201a8\"],[0.3333333333333333,\"#9c179e\"],[0.4444444444444444,\"#bd3786\"],[0.5555555555555556,\"#d8576b\"],[0.6666666666666666,\"#ed7953\"],[0.7777777777777778,\"#fb9f3a\"],[0.8888888888888888,\"#fdca26\"],[1.0,\"#f0f921\"]],\"diverging\":[[0,\"#8e0152\"],[0.1,\"#c51b7d\"],[0.2,\"#de77ae\"],[0.3,\"#f1b6da\"],[0.4,\"#fde0ef\"],[0.5,\"#f7f7f7\"],[0.6,\"#e6f5d0\"],[0.7,\"#b8e186\"],[0.8,\"#7fbc41\"],[0.9,\"#4d9221\"],[1,\"#276419\"]]},\"xaxis\":{\"gridcolor\":\"white\",\"linecolor\":\"white\",\"ticks\":\"\",\"title\":{\"standoff\":15},\"zerolinecolor\":\"white\",\"automargin\":true,\"zerolinewidth\":2},\"yaxis\":{\"gridcolor\":\"white\",\"linecolor\":\"white\",\"ticks\":\"\",\"title\":{\"standoff\":15},\"zerolinecolor\":\"white\",\"automargin\":true,\"zerolinewidth\":2},\"scene\":{\"xaxis\":{\"backgroundcolor\":\"#E5ECF6\",\"gridcolor\":\"white\",\"linecolor\":\"white\",\"showbackground\":true,\"ticks\":\"\",\"zerolinecolor\":\"white\",\"gridwidth\":2},\"yaxis\":{\"backgroundcolor\":\"#E5ECF6\",\"gridcolor\":\"white\",\"linecolor\":\"white\",\"showbackground\":true,\"ticks\":\"\",\"zerolinecolor\":\"white\",\"gridwidth\":2},\"zaxis\":{\"backgroundcolor\":\"#E5ECF6\",\"gridcolor\":\"white\",\"linecolor\":\"white\",\"showbackground\":true,\"ticks\":\"\",\"zerolinecolor\":\"white\",\"gridwidth\":2}},\"shapedefaults\":{\"line\":{\"color\":\"#2a3f5f\"}},\"annotationdefaults\":{\"arrowcolor\":\"#2a3f5f\",\"arrowhead\":0,\"arrowwidth\":1},\"geo\":{\"bgcolor\":\"white\",\"landcolor\":\"#E5ECF6\",\"subunitcolor\":\"white\",\"showland\":true,\"showlakes\":true,\"lakecolor\":\"white\"},\"title\":{\"x\":0.05},\"mapbox\":{\"style\":\"light\"}}},\"xaxis\":{\"anchor\":\"y\",\"domain\":[0.0,0.2888888888888889]},\"yaxis\":{\"anchor\":\"x\",\"domain\":[0.7777777777777778,1.0]},\"xaxis2\":{\"anchor\":\"y2\",\"domain\":[0.35555555555555557,0.6444444444444445]},\"yaxis2\":{\"anchor\":\"x2\",\"domain\":[0.7777777777777778,1.0]},\"xaxis3\":{\"anchor\":\"y3\",\"domain\":[0.7111111111111111,1.0]},\"yaxis3\":{\"anchor\":\"x3\",\"domain\":[0.7777777777777778,1.0]},\"xaxis4\":{\"anchor\":\"y4\",\"domain\":[0.0,0.2888888888888889]},\"yaxis4\":{\"anchor\":\"x4\",\"domain\":[0.3888888888888889,0.6111111111111112]},\"xaxis5\":{\"anchor\":\"y5\",\"domain\":[0.35555555555555557,0.6444444444444445]},\"yaxis5\":{\"anchor\":\"x5\",\"domain\":[0.3888888888888889,0.6111111111111112]},\"xaxis6\":{\"anchor\":\"y6\",\"domain\":[0.7111111111111111,1.0]},\"yaxis6\":{\"anchor\":\"x6\",\"domain\":[0.3888888888888889,0.6111111111111112]},\"xaxis7\":{\"anchor\":\"y7\",\"domain\":[0.0,0.2888888888888889]},\"yaxis7\":{\"anchor\":\"x7\",\"domain\":[0.0,0.22222222222222224]},\"xaxis8\":{\"anchor\":\"y8\",\"domain\":[0.35555555555555557,0.6444444444444445]},\"yaxis8\":{\"anchor\":\"x8\",\"domain\":[0.0,0.22222222222222224]},\"xaxis9\":{\"anchor\":\"y9\",\"domain\":[0.7111111111111111,1.0]},\"yaxis9\":{\"anchor\":\"x9\",\"domain\":[0.0,0.22222222222222224]},\"annotations\":[{\"font\":{\"size\":16},\"showarrow\":false,\"text\":\"Whisker-high\",\"x\":0.14444444444444446,\"xanchor\":\"center\",\"xref\":\"paper\",\"y\":1.0,\"yanchor\":\"bottom\",\"yref\":\"paper\"},{\"font\":{\"size\":16},\"showarrow\":false,\"text\":\"Whisker-low\",\"x\":0.5,\"xanchor\":\"center\",\"xref\":\"paper\",\"y\":1.0,\"yanchor\":\"bottom\",\"yref\":\"paper\"},{\"font\":{\"size\":16},\"showarrow\":false,\"text\":\"Dystopia residual\",\"x\":0.8555555555555556,\"xanchor\":\"center\",\"xref\":\"paper\",\"y\":1.0,\"yanchor\":\"bottom\",\"yref\":\"paper\"},{\"font\":{\"size\":16},\"showarrow\":false,\"text\":\"GDP per capita\",\"x\":0.14444444444444446,\"xanchor\":\"center\",\"xref\":\"paper\",\"y\":0.6111111111111112,\"yanchor\":\"bottom\",\"yref\":\"paper\"},{\"font\":{\"size\":16},\"showarrow\":false,\"text\":\"Social support\",\"x\":0.5,\"xanchor\":\"center\",\"xref\":\"paper\",\"y\":0.6111111111111112,\"yanchor\":\"bottom\",\"yref\":\"paper\"},{\"font\":{\"size\":16},\"showarrow\":false,\"text\":\"Healthy life expectancy\",\"x\":0.8555555555555556,\"xanchor\":\"center\",\"xref\":\"paper\",\"y\":0.6111111111111112,\"yanchor\":\"bottom\",\"yref\":\"paper\"},{\"font\":{\"size\":16},\"showarrow\":false,\"text\":\"Freedom\",\"x\":0.14444444444444446,\"xanchor\":\"center\",\"xref\":\"paper\",\"y\":0.22222222222222224,\"yanchor\":\"bottom\",\"yref\":\"paper\"},{\"font\":{\"size\":16},\"showarrow\":false,\"text\":\"Generosity\",\"x\":0.5,\"xanchor\":\"center\",\"xref\":\"paper\",\"y\":0.22222222222222224,\"yanchor\":\"bottom\",\"yref\":\"paper\"},{\"font\":{\"size\":16},\"showarrow\":false,\"text\":\"corruption\",\"x\":0.8555555555555556,\"xanchor\":\"center\",\"xref\":\"paper\",\"y\":0.22222222222222224,\"yanchor\":\"bottom\",\"yref\":\"paper\"}],\"width\":950,\"height\":650,\"title\":{\"text\":\"ALL DATA\"}},                        {\"responsive\": true}                    ).then(function(){\n",
       "                            \n",
       "var gd = document.getElementById('6d09b539-e8f4-4ab9-bfdc-e0ab04f44d31');\n",
       "var x = new MutationObserver(function (mutations, observer) {{\n",
       "        var display = window.getComputedStyle(gd).display;\n",
       "        if (!display || display === 'none') {{\n",
       "            console.log([gd, 'removed!']);\n",
       "            Plotly.purge(gd);\n",
       "            observer.disconnect();\n",
       "        }}\n",
       "}});\n",
       "\n",
       "// Listen for the removal of the full notebook cells\n",
       "var notebookContainer = gd.closest('#notebook-container');\n",
       "if (notebookContainer) {{\n",
       "    x.observe(notebookContainer, {childList: true});\n",
       "}}\n",
       "\n",
       "// Listen for the clearing of the current output cell\n",
       "var outputEl = gd.closest('.output');\n",
       "if (outputEl) {{\n",
       "    x.observe(outputEl, {childList: true});\n",
       "}}\n",
       "\n",
       "                        })                };                });            </script>        </div>"
      ]
     },
     "metadata": {},
     "output_type": "display_data"
    }
   ],
   "source": [
    "# Creating a sub plot for all the factors we have \n",
    "figure1 = px.scatter(df, x=df[\"Whisker-high\"])\n",
    "figure2 = px.scatter(df, x=df[\"Whisker-low\"])\n",
    "figure3 = px.scatter(df, x=df[\"Dystopia residual\"])\n",
    "figure4 = px.scatter(df, x=df[\"GDP per capita\"])\n",
    "figure5 = px.scatter(df, x=df[\"Social support\"])\n",
    "figure6 = px.scatter(df, x=df[\"Healthy life expectancy\"])\n",
    "figure7 = px.scatter(df, x=df[\"Freedom\"])\n",
    "figure8 = px.scatter(df, x=df[\"Generosity\"])\n",
    "figure9 = px.scatter(df, x=df[\"corruption\"])\n",
    "\n",
    "# For as many traces that exist per Express figure, get the traces from each plot and store them in an array.\n",
    "# This is essentially breaking down the Express fig into it's traces\n",
    "figure1_traces = []\n",
    "figure2_traces = []\n",
    "figure3_traces = []\n",
    "figure4_traces = []\n",
    "figure5_traces = []\n",
    "figure6_traces = []\n",
    "figure7_traces = []\n",
    "figure8_traces = []\n",
    "figure9_traces = []\n",
    "\n",
    "for trace in range(len(figure1[\"data\"])):\n",
    "    figure1_traces.append(figure1[\"data\"][trace])\n",
    "for trace in range(len(figure2[\"data\"])):\n",
    "    figure2_traces.append(figure2[\"data\"][trace])\n",
    "for trace in range(len(figure3[\"data\"])):\n",
    "    figure3_traces.append(figure3[\"data\"][trace])\n",
    "for trace in range(len(figure4[\"data\"])):\n",
    "    figure4_traces.append(figure4[\"data\"][trace])\n",
    "for trace in range(len(figure5[\"data\"])):\n",
    "    figure5_traces.append(figure5[\"data\"][trace])\n",
    "for trace in range(len(figure6[\"data\"])):\n",
    "    figure6_traces.append(figure6[\"data\"][trace])\n",
    "for trace in range(len(figure7[\"data\"])):\n",
    "    figure7_traces.append(figure7[\"data\"][trace])\n",
    "for trace in range(len(figure8[\"data\"])):\n",
    "    figure8_traces.append(figure8[\"data\"][trace])\n",
    "for trace in range(len(figure9[\"data\"])):\n",
    "    figure9_traces.append(figure9[\"data\"][trace])\n",
    "\n",
    "#Create a 1x2 subplot\n",
    "this_figure = sp.make_subplots(rows=3, cols=3,subplot_titles=('Whisker-high', 'Whisker-low',\n",
    "       'Dystopia residual', 'GDP per capita', 'Social support',\n",
    "       'Healthy life expectancy', 'Freedom', 'Generosity', 'corruption')) \n",
    "\n",
    "# Get the Express fig broken down as traces and add the traces to the proper plot within in the subplot\n",
    "for traces in figure1_traces:\n",
    "    this_figure.append_trace(traces, row=1, col=1)\n",
    "for traces in figure2_traces:\n",
    "    this_figure.append_trace(traces, row=1, col=2)\n",
    "for traces in figure3_traces:\n",
    "    this_figure.append_trace(traces, row=1, col=3)\n",
    "for traces in figure4_traces:\n",
    "    this_figure.append_trace(traces, row=2, col=1)\n",
    "for traces in figure5_traces:\n",
    "    this_figure.append_trace(traces, row=2, col=2)\n",
    "for traces in figure6_traces:\n",
    "    this_figure.append_trace(traces, row=2, col=3)\n",
    "for traces in figure7_traces:\n",
    "    this_figure.append_trace(traces, row=3, col=1)\n",
    "for traces in figure8_traces:\n",
    "    this_figure.append_trace(traces, row=3, col=2)\n",
    "for traces in figure9_traces:\n",
    "    this_figure.append_trace(traces, row=3, col=3)\n",
    "\n",
    "#the subplot as shown in the above image\n",
    "#final_graph = dcc.Graph(figure=this_figure)\n",
    "this_figure.update_layout(width=950,height=650,title='ALL DATA')\n",
    "\n",
    "this_figure.show()"
   ]
  },
  {
   "cell_type": "code",
   "execution_count": 17,
   "id": "ec7ebcc9",
   "metadata": {},
   "outputs": [
    {
     "data": {
      "application/vnd.plotly.v1+json": {
       "config": {
        "plotlyServerURL": "https://plot.ly"
       },
       "data": [
        {
         "coloraxis": "coloraxis",
         "hovertemplate": "x: %{x}<br>y: %{y}<br>color: %{z}<extra></extra>",
         "name": "0",
         "type": "heatmap",
         "x": [
          "Happiness score",
          "Whisker-high",
          "Whisker-low",
          "Dystopia residual",
          "GDP per capita",
          "Social support",
          "Healthy life expectancy",
          "Freedom",
          "Generosity",
          "corruption"
         ],
         "xaxis": "x",
         "y": [
          "Happiness score",
          "Whisker-high",
          "Whisker-low",
          "Dystopia residual",
          "GDP per capita",
          "Social support",
          "Healthy life expectancy",
          "Freedom",
          "Generosity",
          "corruption"
         ],
         "yaxis": "y",
         "z": [
          [
           1,
           0.9993332269167163,
           0.9993827059422854,
           0.49899047099449917,
           0.7636771320095693,
           0.7778885651897647,
           0.7402604630566865,
           0.6248217680915438,
           0.06378454924698185,
           0.4162160370025439
          ],
          [
           0.9993332269167163,
           1,
           0.9974338337201744,
           0.5140987885218834,
           0.7521042692526054,
           0.7733745825400594,
           0.7276111845014543,
           0.6229336307076396,
           0.06572772684403562,
           0.4137177539338032
          ],
          [
           0.9993827059422854,
           0.9974338337201744,
           1,
           0.4837615318850376,
           0.7738442097127712,
           0.7813019010003238,
           0.7515297354129294,
           0.6259255890829872,
           0.061820273526453584,
           0.41816197228580476
          ],
          [
           0.49899047099449917,
           0.5140987885218834,
           0.4837615318850376,
           1,
           -0.07342324905295947,
           0.08360579238622495,
           -0.006885606799840598,
           0.11769453851383689,
           0.06691541557151667,
           -0.051075146696127255
          ],
          [
           0.7636771320095693,
           0.7521042692526054,
           0.7738442097127712,
           -0.07342324905295947,
           1,
           0.722421002497435,
           0.8153860139557864,
           0.4585914721976776,
           -0.16447236608835775,
           0.3775891352999376
          ],
          [
           0.7778885651897647,
           0.7733745825400594,
           0.7813019010003238,
           0.08360579238622495,
           0.722421002497435,
           1,
           0.6667602076700665,
           0.48046649627947113,
           -0.0023390606199512284,
           0.22335217523473652
          ],
          [
           0.7402604630566865,
           0.7276111845014543,
           0.7515297354129294,
           -0.006885606799840598,
           0.8153860139557864,
           0.6667602076700665,
           1,
           0.4331657121491454,
           -0.09813338866133202,
           0.3626263505839337
          ],
          [
           0.6248217680915438,
           0.6229336307076396,
           0.6259255890829872,
           0.11769453851383689,
           0.4585914721976776,
           0.48046649627947113,
           0.4331657121491454,
           1,
           0.17680040637098868,
           0.4024741661370507
          ],
          [
           0.06378454924698185,
           0.06572772684403562,
           0.061820273526453584,
           0.06691541557151667,
           -0.16447236608835775,
           -0.0023390606199512284,
           -0.09813338866133202,
           0.17680040637098868,
           1,
           0.09610733966385149
          ],
          [
           0.4162160370025439,
           0.4137177539338032,
           0.41816197228580476,
           -0.051075146696127255,
           0.3775891352999376,
           0.22335217523473652,
           0.3626263505839337,
           0.4024741661370507,
           0.09610733966385149,
           1
          ]
         ]
        }
       ],
       "layout": {
        "coloraxis": {
         "colorscale": [
          [
           0,
           "#0d0887"
          ],
          [
           0.1111111111111111,
           "#46039f"
          ],
          [
           0.2222222222222222,
           "#7201a8"
          ],
          [
           0.3333333333333333,
           "#9c179e"
          ],
          [
           0.4444444444444444,
           "#bd3786"
          ],
          [
           0.5555555555555556,
           "#d8576b"
          ],
          [
           0.6666666666666666,
           "#ed7953"
          ],
          [
           0.7777777777777778,
           "#fb9f3a"
          ],
          [
           0.8888888888888888,
           "#fdca26"
          ],
          [
           1,
           "#f0f921"
          ]
         ]
        },
        "margin": {
         "t": 60
        },
        "template": {
         "data": {
          "bar": [
           {
            "error_x": {
             "color": "#2a3f5f"
            },
            "error_y": {
             "color": "#2a3f5f"
            },
            "marker": {
             "line": {
              "color": "#E5ECF6",
              "width": 0.5
             },
             "pattern": {
              "fillmode": "overlay",
              "size": 10,
              "solidity": 0.2
             }
            },
            "type": "bar"
           }
          ],
          "barpolar": [
           {
            "marker": {
             "line": {
              "color": "#E5ECF6",
              "width": 0.5
             },
             "pattern": {
              "fillmode": "overlay",
              "size": 10,
              "solidity": 0.2
             }
            },
            "type": "barpolar"
           }
          ],
          "carpet": [
           {
            "aaxis": {
             "endlinecolor": "#2a3f5f",
             "gridcolor": "white",
             "linecolor": "white",
             "minorgridcolor": "white",
             "startlinecolor": "#2a3f5f"
            },
            "baxis": {
             "endlinecolor": "#2a3f5f",
             "gridcolor": "white",
             "linecolor": "white",
             "minorgridcolor": "white",
             "startlinecolor": "#2a3f5f"
            },
            "type": "carpet"
           }
          ],
          "choropleth": [
           {
            "colorbar": {
             "outlinewidth": 0,
             "ticks": ""
            },
            "type": "choropleth"
           }
          ],
          "contour": [
           {
            "colorbar": {
             "outlinewidth": 0,
             "ticks": ""
            },
            "colorscale": [
             [
              0,
              "#0d0887"
             ],
             [
              0.1111111111111111,
              "#46039f"
             ],
             [
              0.2222222222222222,
              "#7201a8"
             ],
             [
              0.3333333333333333,
              "#9c179e"
             ],
             [
              0.4444444444444444,
              "#bd3786"
             ],
             [
              0.5555555555555556,
              "#d8576b"
             ],
             [
              0.6666666666666666,
              "#ed7953"
             ],
             [
              0.7777777777777778,
              "#fb9f3a"
             ],
             [
              0.8888888888888888,
              "#fdca26"
             ],
             [
              1,
              "#f0f921"
             ]
            ],
            "type": "contour"
           }
          ],
          "contourcarpet": [
           {
            "colorbar": {
             "outlinewidth": 0,
             "ticks": ""
            },
            "type": "contourcarpet"
           }
          ],
          "heatmap": [
           {
            "colorbar": {
             "outlinewidth": 0,
             "ticks": ""
            },
            "colorscale": [
             [
              0,
              "#0d0887"
             ],
             [
              0.1111111111111111,
              "#46039f"
             ],
             [
              0.2222222222222222,
              "#7201a8"
             ],
             [
              0.3333333333333333,
              "#9c179e"
             ],
             [
              0.4444444444444444,
              "#bd3786"
             ],
             [
              0.5555555555555556,
              "#d8576b"
             ],
             [
              0.6666666666666666,
              "#ed7953"
             ],
             [
              0.7777777777777778,
              "#fb9f3a"
             ],
             [
              0.8888888888888888,
              "#fdca26"
             ],
             [
              1,
              "#f0f921"
             ]
            ],
            "type": "heatmap"
           }
          ],
          "heatmapgl": [
           {
            "colorbar": {
             "outlinewidth": 0,
             "ticks": ""
            },
            "colorscale": [
             [
              0,
              "#0d0887"
             ],
             [
              0.1111111111111111,
              "#46039f"
             ],
             [
              0.2222222222222222,
              "#7201a8"
             ],
             [
              0.3333333333333333,
              "#9c179e"
             ],
             [
              0.4444444444444444,
              "#bd3786"
             ],
             [
              0.5555555555555556,
              "#d8576b"
             ],
             [
              0.6666666666666666,
              "#ed7953"
             ],
             [
              0.7777777777777778,
              "#fb9f3a"
             ],
             [
              0.8888888888888888,
              "#fdca26"
             ],
             [
              1,
              "#f0f921"
             ]
            ],
            "type": "heatmapgl"
           }
          ],
          "histogram": [
           {
            "marker": {
             "pattern": {
              "fillmode": "overlay",
              "size": 10,
              "solidity": 0.2
             }
            },
            "type": "histogram"
           }
          ],
          "histogram2d": [
           {
            "colorbar": {
             "outlinewidth": 0,
             "ticks": ""
            },
            "colorscale": [
             [
              0,
              "#0d0887"
             ],
             [
              0.1111111111111111,
              "#46039f"
             ],
             [
              0.2222222222222222,
              "#7201a8"
             ],
             [
              0.3333333333333333,
              "#9c179e"
             ],
             [
              0.4444444444444444,
              "#bd3786"
             ],
             [
              0.5555555555555556,
              "#d8576b"
             ],
             [
              0.6666666666666666,
              "#ed7953"
             ],
             [
              0.7777777777777778,
              "#fb9f3a"
             ],
             [
              0.8888888888888888,
              "#fdca26"
             ],
             [
              1,
              "#f0f921"
             ]
            ],
            "type": "histogram2d"
           }
          ],
          "histogram2dcontour": [
           {
            "colorbar": {
             "outlinewidth": 0,
             "ticks": ""
            },
            "colorscale": [
             [
              0,
              "#0d0887"
             ],
             [
              0.1111111111111111,
              "#46039f"
             ],
             [
              0.2222222222222222,
              "#7201a8"
             ],
             [
              0.3333333333333333,
              "#9c179e"
             ],
             [
              0.4444444444444444,
              "#bd3786"
             ],
             [
              0.5555555555555556,
              "#d8576b"
             ],
             [
              0.6666666666666666,
              "#ed7953"
             ],
             [
              0.7777777777777778,
              "#fb9f3a"
             ],
             [
              0.8888888888888888,
              "#fdca26"
             ],
             [
              1,
              "#f0f921"
             ]
            ],
            "type": "histogram2dcontour"
           }
          ],
          "mesh3d": [
           {
            "colorbar": {
             "outlinewidth": 0,
             "ticks": ""
            },
            "type": "mesh3d"
           }
          ],
          "parcoords": [
           {
            "line": {
             "colorbar": {
              "outlinewidth": 0,
              "ticks": ""
             }
            },
            "type": "parcoords"
           }
          ],
          "pie": [
           {
            "automargin": true,
            "type": "pie"
           }
          ],
          "scatter": [
           {
            "fillpattern": {
             "fillmode": "overlay",
             "size": 10,
             "solidity": 0.2
            },
            "type": "scatter"
           }
          ],
          "scatter3d": [
           {
            "line": {
             "colorbar": {
              "outlinewidth": 0,
              "ticks": ""
             }
            },
            "marker": {
             "colorbar": {
              "outlinewidth": 0,
              "ticks": ""
             }
            },
            "type": "scatter3d"
           }
          ],
          "scattercarpet": [
           {
            "marker": {
             "colorbar": {
              "outlinewidth": 0,
              "ticks": ""
             }
            },
            "type": "scattercarpet"
           }
          ],
          "scattergeo": [
           {
            "marker": {
             "colorbar": {
              "outlinewidth": 0,
              "ticks": ""
             }
            },
            "type": "scattergeo"
           }
          ],
          "scattergl": [
           {
            "marker": {
             "colorbar": {
              "outlinewidth": 0,
              "ticks": ""
             }
            },
            "type": "scattergl"
           }
          ],
          "scattermapbox": [
           {
            "marker": {
             "colorbar": {
              "outlinewidth": 0,
              "ticks": ""
             }
            },
            "type": "scattermapbox"
           }
          ],
          "scatterpolar": [
           {
            "marker": {
             "colorbar": {
              "outlinewidth": 0,
              "ticks": ""
             }
            },
            "type": "scatterpolar"
           }
          ],
          "scatterpolargl": [
           {
            "marker": {
             "colorbar": {
              "outlinewidth": 0,
              "ticks": ""
             }
            },
            "type": "scatterpolargl"
           }
          ],
          "scatterternary": [
           {
            "marker": {
             "colorbar": {
              "outlinewidth": 0,
              "ticks": ""
             }
            },
            "type": "scatterternary"
           }
          ],
          "surface": [
           {
            "colorbar": {
             "outlinewidth": 0,
             "ticks": ""
            },
            "colorscale": [
             [
              0,
              "#0d0887"
             ],
             [
              0.1111111111111111,
              "#46039f"
             ],
             [
              0.2222222222222222,
              "#7201a8"
             ],
             [
              0.3333333333333333,
              "#9c179e"
             ],
             [
              0.4444444444444444,
              "#bd3786"
             ],
             [
              0.5555555555555556,
              "#d8576b"
             ],
             [
              0.6666666666666666,
              "#ed7953"
             ],
             [
              0.7777777777777778,
              "#fb9f3a"
             ],
             [
              0.8888888888888888,
              "#fdca26"
             ],
             [
              1,
              "#f0f921"
             ]
            ],
            "type": "surface"
           }
          ],
          "table": [
           {
            "cells": {
             "fill": {
              "color": "#EBF0F8"
             },
             "line": {
              "color": "white"
             }
            },
            "header": {
             "fill": {
              "color": "#C8D4E3"
             },
             "line": {
              "color": "white"
             }
            },
            "type": "table"
           }
          ]
         },
         "layout": {
          "annotationdefaults": {
           "arrowcolor": "#2a3f5f",
           "arrowhead": 0,
           "arrowwidth": 1
          },
          "autotypenumbers": "strict",
          "coloraxis": {
           "colorbar": {
            "outlinewidth": 0,
            "ticks": ""
           }
          },
          "colorscale": {
           "diverging": [
            [
             0,
             "#8e0152"
            ],
            [
             0.1,
             "#c51b7d"
            ],
            [
             0.2,
             "#de77ae"
            ],
            [
             0.3,
             "#f1b6da"
            ],
            [
             0.4,
             "#fde0ef"
            ],
            [
             0.5,
             "#f7f7f7"
            ],
            [
             0.6,
             "#e6f5d0"
            ],
            [
             0.7,
             "#b8e186"
            ],
            [
             0.8,
             "#7fbc41"
            ],
            [
             0.9,
             "#4d9221"
            ],
            [
             1,
             "#276419"
            ]
           ],
           "sequential": [
            [
             0,
             "#0d0887"
            ],
            [
             0.1111111111111111,
             "#46039f"
            ],
            [
             0.2222222222222222,
             "#7201a8"
            ],
            [
             0.3333333333333333,
             "#9c179e"
            ],
            [
             0.4444444444444444,
             "#bd3786"
            ],
            [
             0.5555555555555556,
             "#d8576b"
            ],
            [
             0.6666666666666666,
             "#ed7953"
            ],
            [
             0.7777777777777778,
             "#fb9f3a"
            ],
            [
             0.8888888888888888,
             "#fdca26"
            ],
            [
             1,
             "#f0f921"
            ]
           ],
           "sequentialminus": [
            [
             0,
             "#0d0887"
            ],
            [
             0.1111111111111111,
             "#46039f"
            ],
            [
             0.2222222222222222,
             "#7201a8"
            ],
            [
             0.3333333333333333,
             "#9c179e"
            ],
            [
             0.4444444444444444,
             "#bd3786"
            ],
            [
             0.5555555555555556,
             "#d8576b"
            ],
            [
             0.6666666666666666,
             "#ed7953"
            ],
            [
             0.7777777777777778,
             "#fb9f3a"
            ],
            [
             0.8888888888888888,
             "#fdca26"
            ],
            [
             1,
             "#f0f921"
            ]
           ]
          },
          "colorway": [
           "#636efa",
           "#EF553B",
           "#00cc96",
           "#ab63fa",
           "#FFA15A",
           "#19d3f3",
           "#FF6692",
           "#B6E880",
           "#FF97FF",
           "#FECB52"
          ],
          "font": {
           "color": "#2a3f5f"
          },
          "geo": {
           "bgcolor": "white",
           "lakecolor": "white",
           "landcolor": "#E5ECF6",
           "showlakes": true,
           "showland": true,
           "subunitcolor": "white"
          },
          "hoverlabel": {
           "align": "left"
          },
          "hovermode": "closest",
          "mapbox": {
           "style": "light"
          },
          "paper_bgcolor": "white",
          "plot_bgcolor": "#E5ECF6",
          "polar": {
           "angularaxis": {
            "gridcolor": "white",
            "linecolor": "white",
            "ticks": ""
           },
           "bgcolor": "#E5ECF6",
           "radialaxis": {
            "gridcolor": "white",
            "linecolor": "white",
            "ticks": ""
           }
          },
          "scene": {
           "xaxis": {
            "backgroundcolor": "#E5ECF6",
            "gridcolor": "white",
            "gridwidth": 2,
            "linecolor": "white",
            "showbackground": true,
            "ticks": "",
            "zerolinecolor": "white"
           },
           "yaxis": {
            "backgroundcolor": "#E5ECF6",
            "gridcolor": "white",
            "gridwidth": 2,
            "linecolor": "white",
            "showbackground": true,
            "ticks": "",
            "zerolinecolor": "white"
           },
           "zaxis": {
            "backgroundcolor": "#E5ECF6",
            "gridcolor": "white",
            "gridwidth": 2,
            "linecolor": "white",
            "showbackground": true,
            "ticks": "",
            "zerolinecolor": "white"
           }
          },
          "shapedefaults": {
           "line": {
            "color": "#2a3f5f"
           }
          },
          "ternary": {
           "aaxis": {
            "gridcolor": "white",
            "linecolor": "white",
            "ticks": ""
           },
           "baxis": {
            "gridcolor": "white",
            "linecolor": "white",
            "ticks": ""
           },
           "bgcolor": "#E5ECF6",
           "caxis": {
            "gridcolor": "white",
            "linecolor": "white",
            "ticks": ""
           }
          },
          "title": {
           "x": 0.05
          },
          "xaxis": {
           "automargin": true,
           "gridcolor": "white",
           "linecolor": "white",
           "ticks": "",
           "title": {
            "standoff": 15
           },
           "zerolinecolor": "white",
           "zerolinewidth": 2
          },
          "yaxis": {
           "automargin": true,
           "gridcolor": "white",
           "linecolor": "white",
           "ticks": "",
           "title": {
            "standoff": 15
           },
           "zerolinecolor": "white",
           "zerolinewidth": 2
          }
         }
        },
        "xaxis": {
         "anchor": "y",
         "constrain": "domain",
         "domain": [
          0,
          1
         ],
         "scaleanchor": "y"
        },
        "yaxis": {
         "anchor": "x",
         "autorange": "reversed",
         "constrain": "domain",
         "domain": [
          0,
          1
         ]
        }
       }
      },
      "text/html": [
       "<div>                            <div id=\"00f78dde-aed6-44d2-8edf-c2cba7c9410e\" class=\"plotly-graph-div\" style=\"height:525px; width:100%;\"></div>            <script type=\"text/javascript\">                require([\"plotly\"], function(Plotly) {                    window.PLOTLYENV=window.PLOTLYENV || {};                                    if (document.getElementById(\"00f78dde-aed6-44d2-8edf-c2cba7c9410e\")) {                    Plotly.newPlot(                        \"00f78dde-aed6-44d2-8edf-c2cba7c9410e\",                        [{\"coloraxis\":\"coloraxis\",\"name\":\"0\",\"x\":[\"Happiness score\",\"Whisker-high\",\"Whisker-low\",\"Dystopia residual\",\"GDP per capita\",\"Social support\",\"Healthy life expectancy\",\"Freedom\",\"Generosity\",\"corruption\"],\"y\":[\"Happiness score\",\"Whisker-high\",\"Whisker-low\",\"Dystopia residual\",\"GDP per capita\",\"Social support\",\"Healthy life expectancy\",\"Freedom\",\"Generosity\",\"corruption\"],\"z\":[[1.0,0.9993332269167163,0.9993827059422854,0.49899047099449917,0.7636771320095693,0.7778885651897647,0.7402604630566865,0.6248217680915438,0.06378454924698185,0.4162160370025439],[0.9993332269167163,1.0,0.9974338337201744,0.5140987885218834,0.7521042692526054,0.7733745825400594,0.7276111845014543,0.6229336307076396,0.06572772684403562,0.4137177539338032],[0.9993827059422854,0.9974338337201744,1.0,0.4837615318850376,0.7738442097127712,0.7813019010003238,0.7515297354129294,0.6259255890829872,0.061820273526453584,0.41816197228580476],[0.49899047099449917,0.5140987885218834,0.4837615318850376,1.0,-0.07342324905295947,0.08360579238622495,-0.006885606799840598,0.11769453851383689,0.06691541557151667,-0.051075146696127255],[0.7636771320095693,0.7521042692526054,0.7738442097127712,-0.07342324905295947,1.0,0.722421002497435,0.8153860139557864,0.4585914721976776,-0.16447236608835775,0.3775891352999376],[0.7778885651897647,0.7733745825400594,0.7813019010003238,0.08360579238622495,0.722421002497435,1.0,0.6667602076700665,0.48046649627947113,-0.0023390606199512284,0.22335217523473652],[0.7402604630566865,0.7276111845014543,0.7515297354129294,-0.006885606799840598,0.8153860139557864,0.6667602076700665,1.0,0.4331657121491454,-0.09813338866133202,0.3626263505839337],[0.6248217680915438,0.6229336307076396,0.6259255890829872,0.11769453851383689,0.4585914721976776,0.48046649627947113,0.4331657121491454,1.0,0.17680040637098868,0.4024741661370507],[0.06378454924698185,0.06572772684403562,0.061820273526453584,0.06691541557151667,-0.16447236608835775,-0.0023390606199512284,-0.09813338866133202,0.17680040637098868,1.0,0.09610733966385149],[0.4162160370025439,0.4137177539338032,0.41816197228580476,-0.051075146696127255,0.3775891352999376,0.22335217523473652,0.3626263505839337,0.4024741661370507,0.09610733966385149,1.0]],\"type\":\"heatmap\",\"xaxis\":\"x\",\"yaxis\":\"y\",\"hovertemplate\":\"x: %{x}<br>y: %{y}<br>color: %{z}<extra></extra>\"}],                        {\"template\":{\"data\":{\"histogram2dcontour\":[{\"type\":\"histogram2dcontour\",\"colorbar\":{\"outlinewidth\":0,\"ticks\":\"\"},\"colorscale\":[[0.0,\"#0d0887\"],[0.1111111111111111,\"#46039f\"],[0.2222222222222222,\"#7201a8\"],[0.3333333333333333,\"#9c179e\"],[0.4444444444444444,\"#bd3786\"],[0.5555555555555556,\"#d8576b\"],[0.6666666666666666,\"#ed7953\"],[0.7777777777777778,\"#fb9f3a\"],[0.8888888888888888,\"#fdca26\"],[1.0,\"#f0f921\"]]}],\"choropleth\":[{\"type\":\"choropleth\",\"colorbar\":{\"outlinewidth\":0,\"ticks\":\"\"}}],\"histogram2d\":[{\"type\":\"histogram2d\",\"colorbar\":{\"outlinewidth\":0,\"ticks\":\"\"},\"colorscale\":[[0.0,\"#0d0887\"],[0.1111111111111111,\"#46039f\"],[0.2222222222222222,\"#7201a8\"],[0.3333333333333333,\"#9c179e\"],[0.4444444444444444,\"#bd3786\"],[0.5555555555555556,\"#d8576b\"],[0.6666666666666666,\"#ed7953\"],[0.7777777777777778,\"#fb9f3a\"],[0.8888888888888888,\"#fdca26\"],[1.0,\"#f0f921\"]]}],\"heatmap\":[{\"type\":\"heatmap\",\"colorbar\":{\"outlinewidth\":0,\"ticks\":\"\"},\"colorscale\":[[0.0,\"#0d0887\"],[0.1111111111111111,\"#46039f\"],[0.2222222222222222,\"#7201a8\"],[0.3333333333333333,\"#9c179e\"],[0.4444444444444444,\"#bd3786\"],[0.5555555555555556,\"#d8576b\"],[0.6666666666666666,\"#ed7953\"],[0.7777777777777778,\"#fb9f3a\"],[0.8888888888888888,\"#fdca26\"],[1.0,\"#f0f921\"]]}],\"heatmapgl\":[{\"type\":\"heatmapgl\",\"colorbar\":{\"outlinewidth\":0,\"ticks\":\"\"},\"colorscale\":[[0.0,\"#0d0887\"],[0.1111111111111111,\"#46039f\"],[0.2222222222222222,\"#7201a8\"],[0.3333333333333333,\"#9c179e\"],[0.4444444444444444,\"#bd3786\"],[0.5555555555555556,\"#d8576b\"],[0.6666666666666666,\"#ed7953\"],[0.7777777777777778,\"#fb9f3a\"],[0.8888888888888888,\"#fdca26\"],[1.0,\"#f0f921\"]]}],\"contourcarpet\":[{\"type\":\"contourcarpet\",\"colorbar\":{\"outlinewidth\":0,\"ticks\":\"\"}}],\"contour\":[{\"type\":\"contour\",\"colorbar\":{\"outlinewidth\":0,\"ticks\":\"\"},\"colorscale\":[[0.0,\"#0d0887\"],[0.1111111111111111,\"#46039f\"],[0.2222222222222222,\"#7201a8\"],[0.3333333333333333,\"#9c179e\"],[0.4444444444444444,\"#bd3786\"],[0.5555555555555556,\"#d8576b\"],[0.6666666666666666,\"#ed7953\"],[0.7777777777777778,\"#fb9f3a\"],[0.8888888888888888,\"#fdca26\"],[1.0,\"#f0f921\"]]}],\"surface\":[{\"type\":\"surface\",\"colorbar\":{\"outlinewidth\":0,\"ticks\":\"\"},\"colorscale\":[[0.0,\"#0d0887\"],[0.1111111111111111,\"#46039f\"],[0.2222222222222222,\"#7201a8\"],[0.3333333333333333,\"#9c179e\"],[0.4444444444444444,\"#bd3786\"],[0.5555555555555556,\"#d8576b\"],[0.6666666666666666,\"#ed7953\"],[0.7777777777777778,\"#fb9f3a\"],[0.8888888888888888,\"#fdca26\"],[1.0,\"#f0f921\"]]}],\"mesh3d\":[{\"type\":\"mesh3d\",\"colorbar\":{\"outlinewidth\":0,\"ticks\":\"\"}}],\"scatter\":[{\"fillpattern\":{\"fillmode\":\"overlay\",\"size\":10,\"solidity\":0.2},\"type\":\"scatter\"}],\"parcoords\":[{\"type\":\"parcoords\",\"line\":{\"colorbar\":{\"outlinewidth\":0,\"ticks\":\"\"}}}],\"scatterpolargl\":[{\"type\":\"scatterpolargl\",\"marker\":{\"colorbar\":{\"outlinewidth\":0,\"ticks\":\"\"}}}],\"bar\":[{\"error_x\":{\"color\":\"#2a3f5f\"},\"error_y\":{\"color\":\"#2a3f5f\"},\"marker\":{\"line\":{\"color\":\"#E5ECF6\",\"width\":0.5},\"pattern\":{\"fillmode\":\"overlay\",\"size\":10,\"solidity\":0.2}},\"type\":\"bar\"}],\"scattergeo\":[{\"type\":\"scattergeo\",\"marker\":{\"colorbar\":{\"outlinewidth\":0,\"ticks\":\"\"}}}],\"scatterpolar\":[{\"type\":\"scatterpolar\",\"marker\":{\"colorbar\":{\"outlinewidth\":0,\"ticks\":\"\"}}}],\"histogram\":[{\"marker\":{\"pattern\":{\"fillmode\":\"overlay\",\"size\":10,\"solidity\":0.2}},\"type\":\"histogram\"}],\"scattergl\":[{\"type\":\"scattergl\",\"marker\":{\"colorbar\":{\"outlinewidth\":0,\"ticks\":\"\"}}}],\"scatter3d\":[{\"type\":\"scatter3d\",\"line\":{\"colorbar\":{\"outlinewidth\":0,\"ticks\":\"\"}},\"marker\":{\"colorbar\":{\"outlinewidth\":0,\"ticks\":\"\"}}}],\"scattermapbox\":[{\"type\":\"scattermapbox\",\"marker\":{\"colorbar\":{\"outlinewidth\":0,\"ticks\":\"\"}}}],\"scatterternary\":[{\"type\":\"scatterternary\",\"marker\":{\"colorbar\":{\"outlinewidth\":0,\"ticks\":\"\"}}}],\"scattercarpet\":[{\"type\":\"scattercarpet\",\"marker\":{\"colorbar\":{\"outlinewidth\":0,\"ticks\":\"\"}}}],\"carpet\":[{\"aaxis\":{\"endlinecolor\":\"#2a3f5f\",\"gridcolor\":\"white\",\"linecolor\":\"white\",\"minorgridcolor\":\"white\",\"startlinecolor\":\"#2a3f5f\"},\"baxis\":{\"endlinecolor\":\"#2a3f5f\",\"gridcolor\":\"white\",\"linecolor\":\"white\",\"minorgridcolor\":\"white\",\"startlinecolor\":\"#2a3f5f\"},\"type\":\"carpet\"}],\"table\":[{\"cells\":{\"fill\":{\"color\":\"#EBF0F8\"},\"line\":{\"color\":\"white\"}},\"header\":{\"fill\":{\"color\":\"#C8D4E3\"},\"line\":{\"color\":\"white\"}},\"type\":\"table\"}],\"barpolar\":[{\"marker\":{\"line\":{\"color\":\"#E5ECF6\",\"width\":0.5},\"pattern\":{\"fillmode\":\"overlay\",\"size\":10,\"solidity\":0.2}},\"type\":\"barpolar\"}],\"pie\":[{\"automargin\":true,\"type\":\"pie\"}]},\"layout\":{\"autotypenumbers\":\"strict\",\"colorway\":[\"#636efa\",\"#EF553B\",\"#00cc96\",\"#ab63fa\",\"#FFA15A\",\"#19d3f3\",\"#FF6692\",\"#B6E880\",\"#FF97FF\",\"#FECB52\"],\"font\":{\"color\":\"#2a3f5f\"},\"hovermode\":\"closest\",\"hoverlabel\":{\"align\":\"left\"},\"paper_bgcolor\":\"white\",\"plot_bgcolor\":\"#E5ECF6\",\"polar\":{\"bgcolor\":\"#E5ECF6\",\"angularaxis\":{\"gridcolor\":\"white\",\"linecolor\":\"white\",\"ticks\":\"\"},\"radialaxis\":{\"gridcolor\":\"white\",\"linecolor\":\"white\",\"ticks\":\"\"}},\"ternary\":{\"bgcolor\":\"#E5ECF6\",\"aaxis\":{\"gridcolor\":\"white\",\"linecolor\":\"white\",\"ticks\":\"\"},\"baxis\":{\"gridcolor\":\"white\",\"linecolor\":\"white\",\"ticks\":\"\"},\"caxis\":{\"gridcolor\":\"white\",\"linecolor\":\"white\",\"ticks\":\"\"}},\"coloraxis\":{\"colorbar\":{\"outlinewidth\":0,\"ticks\":\"\"}},\"colorscale\":{\"sequential\":[[0.0,\"#0d0887\"],[0.1111111111111111,\"#46039f\"],[0.2222222222222222,\"#7201a8\"],[0.3333333333333333,\"#9c179e\"],[0.4444444444444444,\"#bd3786\"],[0.5555555555555556,\"#d8576b\"],[0.6666666666666666,\"#ed7953\"],[0.7777777777777778,\"#fb9f3a\"],[0.8888888888888888,\"#fdca26\"],[1.0,\"#f0f921\"]],\"sequentialminus\":[[0.0,\"#0d0887\"],[0.1111111111111111,\"#46039f\"],[0.2222222222222222,\"#7201a8\"],[0.3333333333333333,\"#9c179e\"],[0.4444444444444444,\"#bd3786\"],[0.5555555555555556,\"#d8576b\"],[0.6666666666666666,\"#ed7953\"],[0.7777777777777778,\"#fb9f3a\"],[0.8888888888888888,\"#fdca26\"],[1.0,\"#f0f921\"]],\"diverging\":[[0,\"#8e0152\"],[0.1,\"#c51b7d\"],[0.2,\"#de77ae\"],[0.3,\"#f1b6da\"],[0.4,\"#fde0ef\"],[0.5,\"#f7f7f7\"],[0.6,\"#e6f5d0\"],[0.7,\"#b8e186\"],[0.8,\"#7fbc41\"],[0.9,\"#4d9221\"],[1,\"#276419\"]]},\"xaxis\":{\"gridcolor\":\"white\",\"linecolor\":\"white\",\"ticks\":\"\",\"title\":{\"standoff\":15},\"zerolinecolor\":\"white\",\"automargin\":true,\"zerolinewidth\":2},\"yaxis\":{\"gridcolor\":\"white\",\"linecolor\":\"white\",\"ticks\":\"\",\"title\":{\"standoff\":15},\"zerolinecolor\":\"white\",\"automargin\":true,\"zerolinewidth\":2},\"scene\":{\"xaxis\":{\"backgroundcolor\":\"#E5ECF6\",\"gridcolor\":\"white\",\"linecolor\":\"white\",\"showbackground\":true,\"ticks\":\"\",\"zerolinecolor\":\"white\",\"gridwidth\":2},\"yaxis\":{\"backgroundcolor\":\"#E5ECF6\",\"gridcolor\":\"white\",\"linecolor\":\"white\",\"showbackground\":true,\"ticks\":\"\",\"zerolinecolor\":\"white\",\"gridwidth\":2},\"zaxis\":{\"backgroundcolor\":\"#E5ECF6\",\"gridcolor\":\"white\",\"linecolor\":\"white\",\"showbackground\":true,\"ticks\":\"\",\"zerolinecolor\":\"white\",\"gridwidth\":2}},\"shapedefaults\":{\"line\":{\"color\":\"#2a3f5f\"}},\"annotationdefaults\":{\"arrowcolor\":\"#2a3f5f\",\"arrowhead\":0,\"arrowwidth\":1},\"geo\":{\"bgcolor\":\"white\",\"landcolor\":\"#E5ECF6\",\"subunitcolor\":\"white\",\"showland\":true,\"showlakes\":true,\"lakecolor\":\"white\"},\"title\":{\"x\":0.05},\"mapbox\":{\"style\":\"light\"}}},\"xaxis\":{\"anchor\":\"y\",\"domain\":[0.0,1.0],\"scaleanchor\":\"y\",\"constrain\":\"domain\"},\"yaxis\":{\"anchor\":\"x\",\"domain\":[0.0,1.0],\"autorange\":\"reversed\",\"constrain\":\"domain\"},\"coloraxis\":{\"colorscale\":[[0.0,\"#0d0887\"],[0.1111111111111111,\"#46039f\"],[0.2222222222222222,\"#7201a8\"],[0.3333333333333333,\"#9c179e\"],[0.4444444444444444,\"#bd3786\"],[0.5555555555555556,\"#d8576b\"],[0.6666666666666666,\"#ed7953\"],[0.7777777777777778,\"#fb9f3a\"],[0.8888888888888888,\"#fdca26\"],[1.0,\"#f0f921\"]]},\"margin\":{\"t\":60}},                        {\"responsive\": true}                    ).then(function(){\n",
       "                            \n",
       "var gd = document.getElementById('00f78dde-aed6-44d2-8edf-c2cba7c9410e');\n",
       "var x = new MutationObserver(function (mutations, observer) {{\n",
       "        var display = window.getComputedStyle(gd).display;\n",
       "        if (!display || display === 'none') {{\n",
       "            console.log([gd, 'removed!']);\n",
       "            Plotly.purge(gd);\n",
       "            observer.disconnect();\n",
       "        }}\n",
       "}});\n",
       "\n",
       "// Listen for the removal of the full notebook cells\n",
       "var notebookContainer = gd.closest('#notebook-container');\n",
       "if (notebookContainer) {{\n",
       "    x.observe(notebookContainer, {childList: true});\n",
       "}}\n",
       "\n",
       "// Listen for the clearing of the current output cell\n",
       "var outputEl = gd.closest('.output');\n",
       "if (outputEl) {{\n",
       "    x.observe(outputEl, {childList: true});\n",
       "}}\n",
       "\n",
       "                        })                };                });            </script>        </div>"
      ]
     },
     "metadata": {},
     "output_type": "display_data"
    }
   ],
   "source": [
    "## Creating Corelation Matrix\n",
    "## will give us a better view for the possibility for any corelation \n",
    "df_corr = df.corr()\n",
    "\n",
    "fig = px.imshow(df_corr)\n",
    "fig.show()"
   ]
  },
  {
   "cell_type": "markdown",
   "id": "1248738e",
   "metadata": {},
   "source": [
    "#### as of above heat map we can study the corelation between the features this data set hold\n",
    "as any thing  >= 0.7 is a good relation \n",
    "between 0.5-0.7 is moderate relation\n",
    "less than 0.5 is weak to none "
   ]
  },
  {
   "cell_type": "code",
   "execution_count": 30,
   "id": "8042528e",
   "metadata": {},
   "outputs": [
    {
     "data": {
      "application/vnd.plotly.v1+json": {
       "config": {
        "plotlyServerURL": "https://plot.ly"
       },
       "data": [
        {
         "hovertemplate": "Happiness score=%{x}<br>GDP per capita=%{y}<extra></extra>",
         "legendgroup": "",
         "marker": {
          "color": "#636efa",
          "symbol": "circle"
         },
         "mode": "markers",
         "name": "",
         "orientation": "v",
         "showlegend": false,
         "type": "scatter",
         "x": [
          7821,
          7636,
          7557,
          7512,
          7415,
          7404,
          7384,
          7365,
          7364,
          7200,
          7163,
          7162,
          7041,
          7034,
          7025,
          6977,
          6943,
          6920,
          6805,
          6687,
          6647,
          6630,
          6582,
          6576,
          6523,
          6512,
          6480,
          6477,
          6476,
          6474,
          6467,
          6455,
          6447,
          6446,
          6391,
          6341,
          6309,
          6293,
          6262,
          6234,
          6221,
          6180,
          6178,
          6172,
          6165,
          6128,
          6125,
          6123,
          6120,
          6106,
          6086,
          6071,
          6063,
          6039,
          6022,
          6016,
          5967,
          5948,
          5935,
          5904,
          5891,
          5857,
          5850,
          5828,
          5821,
          5781,
          5768,
          5761,
          5737,
          5711,
          5600,
          5585,
          5578,
          5559,
          5547,
          5533,
          5485,
          5474,
          5467,
          5459,
          5425,
          5399,
          5377,
          5377,
          5371,
          5330,
          5240,
          5235,
          5199,
          5199,
          5194,
          5173,
          5164,
          5155,
          5140,
          5122,
          5122,
          5084,
          5075,
          5060,
          5048,
          5048,
          5046,
          5003,
          4973,
          4958,
          4941,
          4925,
          4891,
          4888,
          4872,
          4744,
          4670,
          4640,
          4623,
          4609,
          4603,
          4552,
          4543,
          4516,
          4516,
          4483,
          4479,
          4459,
          4396,
          4394,
          4362,
          4339,
          4288,
          4251,
          4241,
          4197,
          4153,
          4152,
          4112,
          3777,
          3760,
          3750,
          3702,
          3574,
          3512,
          3471,
          3268,
          2995,
          2955,
          2404
         ],
         "xaxis": "x",
         "y": [
          1892,
          1953,
          1936,
          2026,
          1945,
          2209,
          1920,
          1997,
          1826,
          1852,
          1931,
          1900,
          2129,
          1924,
          1886,
          1982,
          1867,
          1815,
          1907,
          1863,
          1854,
          1810,
          1584,
          1998,
          1870,
          1897,
          2149,
          1719,
          1808,
          1615,
          1834,
          1362,
          1838,
          1804,
          1736,
          1793,
          1715,
          1462,
          1274,
          1668,
          1815,
          1732,
          1550,
          1651,
          1105,
          1552,
          1705,
          1758,
          1265,
          1904,
          1748,
          1591,
          1219,
          1835,
          1111,
          1760,
          1592,
          1703,
          1851,
          1268,
          1535,
          1417,
          1296,
          1069,
          1562,
          1452,
          1468,
          1393,
          1538,
          1689,
          1256,
          1508,
          1409,
          1397,
          1573,
          1352,
          1252,
          1484,
          1815,
          1685,
          1957,
          1434,
          966,
          984,
          1625,
          1476,
          1382,
          1094,
          1505,
          1439,
          1425,
          1458,
          785,
          1060,
          1239,
          1363,
          636,
          1411,
          950,
          1208,
          578,
          968,
          933,
          570,
          1467,
          1459,
          1289,
          0,
          848,
          1410,
          1112,
          1707,
          779,
          1019,
          932,
          899,
          777,
          1079,
          1032,
          1350,
          1049,
          1148,
          792,
          1292,
          1274,
          1038,
          1415,
          670,
          1388,
          662,
          788,
          691,
          1100,
          1324,
          771,
          1167,
          930,
          648,
          848,
          686,
          839,
          1503,
          785,
          947,
          1392,
          758
         ],
         "yaxis": "y"
        },
        {
         "hovertemplate": "<b>OLS trendline</b><br>GDP per capita = 0.296284 * Happiness score + -234.992<br>R<sup>2</sup>=0.583203<br><br>Happiness score=%{x}<br>GDP per capita=%{y} <b>(trend)</b><extra></extra>",
         "legendgroup": "",
         "marker": {
          "color": "#636efa",
          "symbol": "circle"
         },
         "mode": "lines",
         "name": "",
         "showlegend": false,
         "type": "scatter",
         "x": [
          2404,
          2955,
          2995,
          3268,
          3471,
          3512,
          3574,
          3702,
          3750,
          3760,
          3777,
          4112,
          4152,
          4153,
          4197,
          4241,
          4251,
          4288,
          4339,
          4362,
          4394,
          4396,
          4459,
          4479,
          4483,
          4516,
          4516,
          4543,
          4552,
          4603,
          4609,
          4623,
          4640,
          4670,
          4744,
          4872,
          4888,
          4891,
          4925,
          4941,
          4958,
          4973,
          5003,
          5046,
          5048,
          5048,
          5060,
          5075,
          5084,
          5122,
          5122,
          5140,
          5155,
          5164,
          5173,
          5194,
          5199,
          5199,
          5235,
          5240,
          5330,
          5371,
          5377,
          5377,
          5399,
          5425,
          5459,
          5467,
          5474,
          5485,
          5533,
          5547,
          5559,
          5578,
          5585,
          5600,
          5711,
          5737,
          5761,
          5768,
          5781,
          5821,
          5828,
          5850,
          5857,
          5891,
          5904,
          5935,
          5948,
          5967,
          6016,
          6022,
          6039,
          6063,
          6071,
          6086,
          6106,
          6120,
          6123,
          6125,
          6128,
          6165,
          6172,
          6178,
          6180,
          6221,
          6234,
          6262,
          6293,
          6309,
          6341,
          6391,
          6446,
          6447,
          6455,
          6467,
          6474,
          6476,
          6477,
          6480,
          6512,
          6523,
          6576,
          6582,
          6630,
          6647,
          6687,
          6805,
          6920,
          6943,
          6977,
          7025,
          7034,
          7041,
          7162,
          7163,
          7200,
          7364,
          7365,
          7384,
          7404,
          7415,
          7512,
          7557,
          7636,
          7821
         ],
         "xaxis": "x",
         "y": [
          477.27526338863834,
          640.5279505555048,
          652.3793253044606,
          733.2649579660841,
          793.410684817035,
          805.5583439347147,
          823.9279747955961,
          861.8523739922548,
          876.0740236910017,
          879.0368673782407,
          884.0737016465469,
          983.3289651690518,
          995.1803399180078,
          995.4766242867315,
          1008.5131365105831,
          1021.5496487344344,
          1024.5124924216734,
          1035.4750140644576,
          1050.585516869376,
          1057.4000573500257,
          1066.8811571491904,
          1067.4737258866382,
          1086.1396411162436,
          1092.0653284907216,
          1093.2504659656172,
          1103.0278501335058,
          1103.0278501335058,
          1111.027528089051,
          1113.694087407566,
          1128.8045902124845,
          1130.582296424828,
          1134.7302775869625,
          1139.7671118552687,
          1148.6556429169857,
          1170.5806862025538,
          1208.5050853992125,
          1213.245635298795,
          1214.1344884049665,
          1224.2081569415789,
          1228.9487068411613,
          1233.9855411094675,
          1238.429806640326,
          1247.3183377020428,
          1260.0585655571704,
          1260.651134294618,
          1260.651134294618,
          1264.206546719305,
          1268.6508122501632,
          1271.3173715686783,
          1282.5761775801864,
          1282.5761775801864,
          1287.9092962172165,
          1292.353561748075,
          1295.02012106659,
          1297.686680385105,
          1303.9086521283068,
          1305.3900739719263,
          1305.3900739719263,
          1316.0563112459865,
          1317.537733089606,
          1344.2033262747566,
          1356.3509853924363,
          1358.1286916047798,
          1358.1286916047798,
          1364.6469477167054,
          1372.3503413035266,
          1382.4240098401392,
          1384.7942847899303,
          1386.8682753709977,
          1390.1274034269604,
          1404.3490531257075,
          1408.4970342878419,
          1412.0524467125288,
          1417.6818497182828,
          1419.75584029935,
          1424.2001058302085,
          1457.0876707585608,
          1464.7910643453822,
          1471.9018891947555,
          1473.975879775823,
          1477.8275765692335,
          1489.6789513181893,
          1491.7529418992567,
          1498.2711980111824,
          1500.3451885922495,
          1510.418857128862,
          1514.2705539222727,
          1523.4553693527134,
          1527.307066146124,
          1532.936469151878,
          1547.454403219349,
          1549.2321094316924,
          1554.2689436999985,
          1561.379768549372,
          1563.7500434991632,
          1568.1943090300217,
          1574.1199964044995,
          1578.267977566634,
          1579.1568306728059,
          1579.7493994102535,
          1580.6382525164254,
          1591.6007741592093,
          1593.6747647402767,
          1595.4524709526202,
          1596.0450396900678,
          1608.1926988077475,
          1612.0443956011582,
          1620.3403579254273,
          1629.525173355868,
          1634.2657232554504,
          1643.746823054615,
          1658.5610414908099,
          1674.856681770624,
          1675.1529661393479,
          1677.5232410891392,
          1681.0786535138259,
          1683.152644094893,
          1683.745212832341,
          1684.0414972010649,
          1684.9303503072365,
          1694.4114501064012,
          1697.670578162364,
          1713.3736497047305,
          1715.151355917074,
          1729.3730056158208,
          1734.409839884127,
          1746.2612146330828,
          1781.2227701425024,
          1815.2954725457505,
          1822.1100130264,
          1832.1836815630124,
          1846.4053312617596,
          1849.0718905802748,
          1851.1458811613418,
          1886.996289776933,
          1887.2925741456572,
          1898.2550957884412,
          1946.84573225916,
          1947.1420166278842,
          1952.771419633638,
          1958.697107008116,
          1961.9562350640788,
          1990.6958188302967,
          2004.0286154228718,
          2027.4350805520596,
          2082.2476887659805
         ],
         "yaxis": "y"
        }
       ],
       "layout": {
        "legend": {
         "tracegroupgap": 0
        },
        "template": {
         "data": {
          "bar": [
           {
            "error_x": {
             "color": "#2a3f5f"
            },
            "error_y": {
             "color": "#2a3f5f"
            },
            "marker": {
             "line": {
              "color": "#E5ECF6",
              "width": 0.5
             },
             "pattern": {
              "fillmode": "overlay",
              "size": 10,
              "solidity": 0.2
             }
            },
            "type": "bar"
           }
          ],
          "barpolar": [
           {
            "marker": {
             "line": {
              "color": "#E5ECF6",
              "width": 0.5
             },
             "pattern": {
              "fillmode": "overlay",
              "size": 10,
              "solidity": 0.2
             }
            },
            "type": "barpolar"
           }
          ],
          "carpet": [
           {
            "aaxis": {
             "endlinecolor": "#2a3f5f",
             "gridcolor": "white",
             "linecolor": "white",
             "minorgridcolor": "white",
             "startlinecolor": "#2a3f5f"
            },
            "baxis": {
             "endlinecolor": "#2a3f5f",
             "gridcolor": "white",
             "linecolor": "white",
             "minorgridcolor": "white",
             "startlinecolor": "#2a3f5f"
            },
            "type": "carpet"
           }
          ],
          "choropleth": [
           {
            "colorbar": {
             "outlinewidth": 0,
             "ticks": ""
            },
            "type": "choropleth"
           }
          ],
          "contour": [
           {
            "colorbar": {
             "outlinewidth": 0,
             "ticks": ""
            },
            "colorscale": [
             [
              0,
              "#0d0887"
             ],
             [
              0.1111111111111111,
              "#46039f"
             ],
             [
              0.2222222222222222,
              "#7201a8"
             ],
             [
              0.3333333333333333,
              "#9c179e"
             ],
             [
              0.4444444444444444,
              "#bd3786"
             ],
             [
              0.5555555555555556,
              "#d8576b"
             ],
             [
              0.6666666666666666,
              "#ed7953"
             ],
             [
              0.7777777777777778,
              "#fb9f3a"
             ],
             [
              0.8888888888888888,
              "#fdca26"
             ],
             [
              1,
              "#f0f921"
             ]
            ],
            "type": "contour"
           }
          ],
          "contourcarpet": [
           {
            "colorbar": {
             "outlinewidth": 0,
             "ticks": ""
            },
            "type": "contourcarpet"
           }
          ],
          "heatmap": [
           {
            "colorbar": {
             "outlinewidth": 0,
             "ticks": ""
            },
            "colorscale": [
             [
              0,
              "#0d0887"
             ],
             [
              0.1111111111111111,
              "#46039f"
             ],
             [
              0.2222222222222222,
              "#7201a8"
             ],
             [
              0.3333333333333333,
              "#9c179e"
             ],
             [
              0.4444444444444444,
              "#bd3786"
             ],
             [
              0.5555555555555556,
              "#d8576b"
             ],
             [
              0.6666666666666666,
              "#ed7953"
             ],
             [
              0.7777777777777778,
              "#fb9f3a"
             ],
             [
              0.8888888888888888,
              "#fdca26"
             ],
             [
              1,
              "#f0f921"
             ]
            ],
            "type": "heatmap"
           }
          ],
          "heatmapgl": [
           {
            "colorbar": {
             "outlinewidth": 0,
             "ticks": ""
            },
            "colorscale": [
             [
              0,
              "#0d0887"
             ],
             [
              0.1111111111111111,
              "#46039f"
             ],
             [
              0.2222222222222222,
              "#7201a8"
             ],
             [
              0.3333333333333333,
              "#9c179e"
             ],
             [
              0.4444444444444444,
              "#bd3786"
             ],
             [
              0.5555555555555556,
              "#d8576b"
             ],
             [
              0.6666666666666666,
              "#ed7953"
             ],
             [
              0.7777777777777778,
              "#fb9f3a"
             ],
             [
              0.8888888888888888,
              "#fdca26"
             ],
             [
              1,
              "#f0f921"
             ]
            ],
            "type": "heatmapgl"
           }
          ],
          "histogram": [
           {
            "marker": {
             "pattern": {
              "fillmode": "overlay",
              "size": 10,
              "solidity": 0.2
             }
            },
            "type": "histogram"
           }
          ],
          "histogram2d": [
           {
            "colorbar": {
             "outlinewidth": 0,
             "ticks": ""
            },
            "colorscale": [
             [
              0,
              "#0d0887"
             ],
             [
              0.1111111111111111,
              "#46039f"
             ],
             [
              0.2222222222222222,
              "#7201a8"
             ],
             [
              0.3333333333333333,
              "#9c179e"
             ],
             [
              0.4444444444444444,
              "#bd3786"
             ],
             [
              0.5555555555555556,
              "#d8576b"
             ],
             [
              0.6666666666666666,
              "#ed7953"
             ],
             [
              0.7777777777777778,
              "#fb9f3a"
             ],
             [
              0.8888888888888888,
              "#fdca26"
             ],
             [
              1,
              "#f0f921"
             ]
            ],
            "type": "histogram2d"
           }
          ],
          "histogram2dcontour": [
           {
            "colorbar": {
             "outlinewidth": 0,
             "ticks": ""
            },
            "colorscale": [
             [
              0,
              "#0d0887"
             ],
             [
              0.1111111111111111,
              "#46039f"
             ],
             [
              0.2222222222222222,
              "#7201a8"
             ],
             [
              0.3333333333333333,
              "#9c179e"
             ],
             [
              0.4444444444444444,
              "#bd3786"
             ],
             [
              0.5555555555555556,
              "#d8576b"
             ],
             [
              0.6666666666666666,
              "#ed7953"
             ],
             [
              0.7777777777777778,
              "#fb9f3a"
             ],
             [
              0.8888888888888888,
              "#fdca26"
             ],
             [
              1,
              "#f0f921"
             ]
            ],
            "type": "histogram2dcontour"
           }
          ],
          "mesh3d": [
           {
            "colorbar": {
             "outlinewidth": 0,
             "ticks": ""
            },
            "type": "mesh3d"
           }
          ],
          "parcoords": [
           {
            "line": {
             "colorbar": {
              "outlinewidth": 0,
              "ticks": ""
             }
            },
            "type": "parcoords"
           }
          ],
          "pie": [
           {
            "automargin": true,
            "type": "pie"
           }
          ],
          "scatter": [
           {
            "fillpattern": {
             "fillmode": "overlay",
             "size": 10,
             "solidity": 0.2
            },
            "type": "scatter"
           }
          ],
          "scatter3d": [
           {
            "line": {
             "colorbar": {
              "outlinewidth": 0,
              "ticks": ""
             }
            },
            "marker": {
             "colorbar": {
              "outlinewidth": 0,
              "ticks": ""
             }
            },
            "type": "scatter3d"
           }
          ],
          "scattercarpet": [
           {
            "marker": {
             "colorbar": {
              "outlinewidth": 0,
              "ticks": ""
             }
            },
            "type": "scattercarpet"
           }
          ],
          "scattergeo": [
           {
            "marker": {
             "colorbar": {
              "outlinewidth": 0,
              "ticks": ""
             }
            },
            "type": "scattergeo"
           }
          ],
          "scattergl": [
           {
            "marker": {
             "colorbar": {
              "outlinewidth": 0,
              "ticks": ""
             }
            },
            "type": "scattergl"
           }
          ],
          "scattermapbox": [
           {
            "marker": {
             "colorbar": {
              "outlinewidth": 0,
              "ticks": ""
             }
            },
            "type": "scattermapbox"
           }
          ],
          "scatterpolar": [
           {
            "marker": {
             "colorbar": {
              "outlinewidth": 0,
              "ticks": ""
             }
            },
            "type": "scatterpolar"
           }
          ],
          "scatterpolargl": [
           {
            "marker": {
             "colorbar": {
              "outlinewidth": 0,
              "ticks": ""
             }
            },
            "type": "scatterpolargl"
           }
          ],
          "scatterternary": [
           {
            "marker": {
             "colorbar": {
              "outlinewidth": 0,
              "ticks": ""
             }
            },
            "type": "scatterternary"
           }
          ],
          "surface": [
           {
            "colorbar": {
             "outlinewidth": 0,
             "ticks": ""
            },
            "colorscale": [
             [
              0,
              "#0d0887"
             ],
             [
              0.1111111111111111,
              "#46039f"
             ],
             [
              0.2222222222222222,
              "#7201a8"
             ],
             [
              0.3333333333333333,
              "#9c179e"
             ],
             [
              0.4444444444444444,
              "#bd3786"
             ],
             [
              0.5555555555555556,
              "#d8576b"
             ],
             [
              0.6666666666666666,
              "#ed7953"
             ],
             [
              0.7777777777777778,
              "#fb9f3a"
             ],
             [
              0.8888888888888888,
              "#fdca26"
             ],
             [
              1,
              "#f0f921"
             ]
            ],
            "type": "surface"
           }
          ],
          "table": [
           {
            "cells": {
             "fill": {
              "color": "#EBF0F8"
             },
             "line": {
              "color": "white"
             }
            },
            "header": {
             "fill": {
              "color": "#C8D4E3"
             },
             "line": {
              "color": "white"
             }
            },
            "type": "table"
           }
          ]
         },
         "layout": {
          "annotationdefaults": {
           "arrowcolor": "#2a3f5f",
           "arrowhead": 0,
           "arrowwidth": 1
          },
          "autotypenumbers": "strict",
          "coloraxis": {
           "colorbar": {
            "outlinewidth": 0,
            "ticks": ""
           }
          },
          "colorscale": {
           "diverging": [
            [
             0,
             "#8e0152"
            ],
            [
             0.1,
             "#c51b7d"
            ],
            [
             0.2,
             "#de77ae"
            ],
            [
             0.3,
             "#f1b6da"
            ],
            [
             0.4,
             "#fde0ef"
            ],
            [
             0.5,
             "#f7f7f7"
            ],
            [
             0.6,
             "#e6f5d0"
            ],
            [
             0.7,
             "#b8e186"
            ],
            [
             0.8,
             "#7fbc41"
            ],
            [
             0.9,
             "#4d9221"
            ],
            [
             1,
             "#276419"
            ]
           ],
           "sequential": [
            [
             0,
             "#0d0887"
            ],
            [
             0.1111111111111111,
             "#46039f"
            ],
            [
             0.2222222222222222,
             "#7201a8"
            ],
            [
             0.3333333333333333,
             "#9c179e"
            ],
            [
             0.4444444444444444,
             "#bd3786"
            ],
            [
             0.5555555555555556,
             "#d8576b"
            ],
            [
             0.6666666666666666,
             "#ed7953"
            ],
            [
             0.7777777777777778,
             "#fb9f3a"
            ],
            [
             0.8888888888888888,
             "#fdca26"
            ],
            [
             1,
             "#f0f921"
            ]
           ],
           "sequentialminus": [
            [
             0,
             "#0d0887"
            ],
            [
             0.1111111111111111,
             "#46039f"
            ],
            [
             0.2222222222222222,
             "#7201a8"
            ],
            [
             0.3333333333333333,
             "#9c179e"
            ],
            [
             0.4444444444444444,
             "#bd3786"
            ],
            [
             0.5555555555555556,
             "#d8576b"
            ],
            [
             0.6666666666666666,
             "#ed7953"
            ],
            [
             0.7777777777777778,
             "#fb9f3a"
            ],
            [
             0.8888888888888888,
             "#fdca26"
            ],
            [
             1,
             "#f0f921"
            ]
           ]
          },
          "colorway": [
           "#636efa",
           "#EF553B",
           "#00cc96",
           "#ab63fa",
           "#FFA15A",
           "#19d3f3",
           "#FF6692",
           "#B6E880",
           "#FF97FF",
           "#FECB52"
          ],
          "font": {
           "color": "#2a3f5f"
          },
          "geo": {
           "bgcolor": "white",
           "lakecolor": "white",
           "landcolor": "#E5ECF6",
           "showlakes": true,
           "showland": true,
           "subunitcolor": "white"
          },
          "hoverlabel": {
           "align": "left"
          },
          "hovermode": "closest",
          "mapbox": {
           "style": "light"
          },
          "paper_bgcolor": "white",
          "plot_bgcolor": "#E5ECF6",
          "polar": {
           "angularaxis": {
            "gridcolor": "white",
            "linecolor": "white",
            "ticks": ""
           },
           "bgcolor": "#E5ECF6",
           "radialaxis": {
            "gridcolor": "white",
            "linecolor": "white",
            "ticks": ""
           }
          },
          "scene": {
           "xaxis": {
            "backgroundcolor": "#E5ECF6",
            "gridcolor": "white",
            "gridwidth": 2,
            "linecolor": "white",
            "showbackground": true,
            "ticks": "",
            "zerolinecolor": "white"
           },
           "yaxis": {
            "backgroundcolor": "#E5ECF6",
            "gridcolor": "white",
            "gridwidth": 2,
            "linecolor": "white",
            "showbackground": true,
            "ticks": "",
            "zerolinecolor": "white"
           },
           "zaxis": {
            "backgroundcolor": "#E5ECF6",
            "gridcolor": "white",
            "gridwidth": 2,
            "linecolor": "white",
            "showbackground": true,
            "ticks": "",
            "zerolinecolor": "white"
           }
          },
          "shapedefaults": {
           "line": {
            "color": "#2a3f5f"
           }
          },
          "ternary": {
           "aaxis": {
            "gridcolor": "white",
            "linecolor": "white",
            "ticks": ""
           },
           "baxis": {
            "gridcolor": "white",
            "linecolor": "white",
            "ticks": ""
           },
           "bgcolor": "#E5ECF6",
           "caxis": {
            "gridcolor": "white",
            "linecolor": "white",
            "ticks": ""
           }
          },
          "title": {
           "x": 0.05
          },
          "xaxis": {
           "automargin": true,
           "gridcolor": "white",
           "linecolor": "white",
           "ticks": "",
           "title": {
            "standoff": 15
           },
           "zerolinecolor": "white",
           "zerolinewidth": 2
          },
          "yaxis": {
           "automargin": true,
           "gridcolor": "white",
           "linecolor": "white",
           "ticks": "",
           "title": {
            "standoff": 15
           },
           "zerolinecolor": "white",
           "zerolinewidth": 2
          }
         }
        },
        "title": {
         "text": "Corelation between Happiness and GDP with a falvor of freedom"
        },
        "xaxis": {
         "anchor": "y",
         "domain": [
          0,
          1
         ],
         "title": {
          "text": "Happiness score"
         }
        },
        "yaxis": {
         "anchor": "x",
         "domain": [
          0,
          1
         ],
         "title": {
          "text": "GDP per capita"
         }
        }
       }
      },
      "text/html": [
       "<div>                            <div id=\"ea91aeba-8d38-495a-b6e8-1acf14574cb5\" class=\"plotly-graph-div\" style=\"height:525px; width:100%;\"></div>            <script type=\"text/javascript\">                require([\"plotly\"], function(Plotly) {                    window.PLOTLYENV=window.PLOTLYENV || {};                                    if (document.getElementById(\"ea91aeba-8d38-495a-b6e8-1acf14574cb5\")) {                    Plotly.newPlot(                        \"ea91aeba-8d38-495a-b6e8-1acf14574cb5\",                        [{\"hovertemplate\":\"Happiness score=%{x}<br>GDP per capita=%{y}<extra></extra>\",\"legendgroup\":\"\",\"marker\":{\"color\":\"#636efa\",\"symbol\":\"circle\"},\"mode\":\"markers\",\"name\":\"\",\"orientation\":\"v\",\"showlegend\":false,\"x\":[7821,7636,7557,7512,7415,7404,7384,7365,7364,7200,7163,7162,7041,7034,7025,6977,6943,6920,6805,6687,6647,6630,6582,6576,6523,6512,6480,6477,6476,6474,6467,6455,6447,6446,6391,6341,6309,6293,6262,6234,6221,6180,6178,6172,6165,6128,6125,6123,6120,6106,6086,6071,6063,6039,6022,6016,5967,5948,5935,5904,5891,5857,5850,5828,5821,5781,5768,5761,5737,5711,5600,5585,5578,5559,5547,5533,5485,5474,5467,5459,5425,5399,5377,5377,5371,5330,5240,5235,5199,5199,5194,5173,5164,5155,5140,5122,5122,5084,5075,5060,5048,5048,5046,5003,4973,4958,4941,4925,4891,4888,4872,4744,4670,4640,4623,4609,4603,4552,4543,4516,4516,4483,4479,4459,4396,4394,4362,4339,4288,4251,4241,4197,4153,4152,4112,3777,3760,3750,3702,3574,3512,3471,3268,2995,2955,2404],\"xaxis\":\"x\",\"y\":[1892,1953,1936,2026,1945,2209,1920,1997,1826,1852,1931,1900,2129,1924,1886,1982,1867,1815,1907,1863,1854,1810,1584,1998,1870,1897,2149,1719,1808,1615,1834,1362,1838,1804,1736,1793,1715,1462,1274,1668,1815,1732,1550,1651,1105,1552,1705,1758,1265,1904,1748,1591,1219,1835,1111,1760,1592,1703,1851,1268,1535,1417,1296,1069,1562,1452,1468,1393,1538,1689,1256,1508,1409,1397,1573,1352,1252,1484,1815,1685,1957,1434,966,984,1625,1476,1382,1094,1505,1439,1425,1458,785,1060,1239,1363,636,1411,950,1208,578,968,933,570,1467,1459,1289,0,848,1410,1112,1707,779,1019,932,899,777,1079,1032,1350,1049,1148,792,1292,1274,1038,1415,670,1388,662,788,691,1100,1324,771,1167,930,648,848,686,839,1503,785,947,1392,758],\"yaxis\":\"y\",\"type\":\"scatter\"},{\"hovertemplate\":\"<b>OLS trendline</b><br>GDP per capita = 0.296284 * Happiness score + -234.992<br>R<sup>2</sup>=0.583203<br><br>Happiness score=%{x}<br>GDP per capita=%{y} <b>(trend)</b><extra></extra>\",\"legendgroup\":\"\",\"marker\":{\"color\":\"#636efa\",\"symbol\":\"circle\"},\"mode\":\"lines\",\"name\":\"\",\"showlegend\":false,\"x\":[2404,2955,2995,3268,3471,3512,3574,3702,3750,3760,3777,4112,4152,4153,4197,4241,4251,4288,4339,4362,4394,4396,4459,4479,4483,4516,4516,4543,4552,4603,4609,4623,4640,4670,4744,4872,4888,4891,4925,4941,4958,4973,5003,5046,5048,5048,5060,5075,5084,5122,5122,5140,5155,5164,5173,5194,5199,5199,5235,5240,5330,5371,5377,5377,5399,5425,5459,5467,5474,5485,5533,5547,5559,5578,5585,5600,5711,5737,5761,5768,5781,5821,5828,5850,5857,5891,5904,5935,5948,5967,6016,6022,6039,6063,6071,6086,6106,6120,6123,6125,6128,6165,6172,6178,6180,6221,6234,6262,6293,6309,6341,6391,6446,6447,6455,6467,6474,6476,6477,6480,6512,6523,6576,6582,6630,6647,6687,6805,6920,6943,6977,7025,7034,7041,7162,7163,7200,7364,7365,7384,7404,7415,7512,7557,7636,7821],\"xaxis\":\"x\",\"y\":[477.27526338863834,640.5279505555048,652.3793253044606,733.2649579660841,793.410684817035,805.5583439347147,823.9279747955961,861.8523739922548,876.0740236910017,879.0368673782407,884.0737016465469,983.3289651690518,995.1803399180078,995.4766242867315,1008.5131365105831,1021.5496487344344,1024.5124924216734,1035.4750140644576,1050.585516869376,1057.4000573500257,1066.8811571491904,1067.4737258866382,1086.1396411162436,1092.0653284907216,1093.2504659656172,1103.0278501335058,1103.0278501335058,1111.027528089051,1113.694087407566,1128.8045902124845,1130.582296424828,1134.7302775869625,1139.7671118552687,1148.6556429169857,1170.5806862025538,1208.5050853992125,1213.245635298795,1214.1344884049665,1224.2081569415789,1228.9487068411613,1233.9855411094675,1238.429806640326,1247.3183377020428,1260.0585655571704,1260.651134294618,1260.651134294618,1264.206546719305,1268.6508122501632,1271.3173715686783,1282.5761775801864,1282.5761775801864,1287.9092962172165,1292.353561748075,1295.02012106659,1297.686680385105,1303.9086521283068,1305.3900739719263,1305.3900739719263,1316.0563112459865,1317.537733089606,1344.2033262747566,1356.3509853924363,1358.1286916047798,1358.1286916047798,1364.6469477167054,1372.3503413035266,1382.4240098401392,1384.7942847899303,1386.8682753709977,1390.1274034269604,1404.3490531257075,1408.4970342878419,1412.0524467125288,1417.6818497182828,1419.75584029935,1424.2001058302085,1457.0876707585608,1464.7910643453822,1471.9018891947555,1473.975879775823,1477.8275765692335,1489.6789513181893,1491.7529418992567,1498.2711980111824,1500.3451885922495,1510.418857128862,1514.2705539222727,1523.4553693527134,1527.307066146124,1532.936469151878,1547.454403219349,1549.2321094316924,1554.2689436999985,1561.379768549372,1563.7500434991632,1568.1943090300217,1574.1199964044995,1578.267977566634,1579.1568306728059,1579.7493994102535,1580.6382525164254,1591.6007741592093,1593.6747647402767,1595.4524709526202,1596.0450396900678,1608.1926988077475,1612.0443956011582,1620.3403579254273,1629.525173355868,1634.2657232554504,1643.746823054615,1658.5610414908099,1674.856681770624,1675.1529661393479,1677.5232410891392,1681.0786535138259,1683.152644094893,1683.745212832341,1684.0414972010649,1684.9303503072365,1694.4114501064012,1697.670578162364,1713.3736497047305,1715.151355917074,1729.3730056158208,1734.409839884127,1746.2612146330828,1781.2227701425024,1815.2954725457505,1822.1100130264,1832.1836815630124,1846.4053312617596,1849.0718905802748,1851.1458811613418,1886.996289776933,1887.2925741456572,1898.2550957884412,1946.84573225916,1947.1420166278842,1952.771419633638,1958.697107008116,1961.9562350640788,1990.6958188302967,2004.0286154228718,2027.4350805520596,2082.2476887659805],\"yaxis\":\"y\",\"type\":\"scatter\"}],                        {\"template\":{\"data\":{\"histogram2dcontour\":[{\"type\":\"histogram2dcontour\",\"colorbar\":{\"outlinewidth\":0,\"ticks\":\"\"},\"colorscale\":[[0.0,\"#0d0887\"],[0.1111111111111111,\"#46039f\"],[0.2222222222222222,\"#7201a8\"],[0.3333333333333333,\"#9c179e\"],[0.4444444444444444,\"#bd3786\"],[0.5555555555555556,\"#d8576b\"],[0.6666666666666666,\"#ed7953\"],[0.7777777777777778,\"#fb9f3a\"],[0.8888888888888888,\"#fdca26\"],[1.0,\"#f0f921\"]]}],\"choropleth\":[{\"type\":\"choropleth\",\"colorbar\":{\"outlinewidth\":0,\"ticks\":\"\"}}],\"histogram2d\":[{\"type\":\"histogram2d\",\"colorbar\":{\"outlinewidth\":0,\"ticks\":\"\"},\"colorscale\":[[0.0,\"#0d0887\"],[0.1111111111111111,\"#46039f\"],[0.2222222222222222,\"#7201a8\"],[0.3333333333333333,\"#9c179e\"],[0.4444444444444444,\"#bd3786\"],[0.5555555555555556,\"#d8576b\"],[0.6666666666666666,\"#ed7953\"],[0.7777777777777778,\"#fb9f3a\"],[0.8888888888888888,\"#fdca26\"],[1.0,\"#f0f921\"]]}],\"heatmap\":[{\"type\":\"heatmap\",\"colorbar\":{\"outlinewidth\":0,\"ticks\":\"\"},\"colorscale\":[[0.0,\"#0d0887\"],[0.1111111111111111,\"#46039f\"],[0.2222222222222222,\"#7201a8\"],[0.3333333333333333,\"#9c179e\"],[0.4444444444444444,\"#bd3786\"],[0.5555555555555556,\"#d8576b\"],[0.6666666666666666,\"#ed7953\"],[0.7777777777777778,\"#fb9f3a\"],[0.8888888888888888,\"#fdca26\"],[1.0,\"#f0f921\"]]}],\"heatmapgl\":[{\"type\":\"heatmapgl\",\"colorbar\":{\"outlinewidth\":0,\"ticks\":\"\"},\"colorscale\":[[0.0,\"#0d0887\"],[0.1111111111111111,\"#46039f\"],[0.2222222222222222,\"#7201a8\"],[0.3333333333333333,\"#9c179e\"],[0.4444444444444444,\"#bd3786\"],[0.5555555555555556,\"#d8576b\"],[0.6666666666666666,\"#ed7953\"],[0.7777777777777778,\"#fb9f3a\"],[0.8888888888888888,\"#fdca26\"],[1.0,\"#f0f921\"]]}],\"contourcarpet\":[{\"type\":\"contourcarpet\",\"colorbar\":{\"outlinewidth\":0,\"ticks\":\"\"}}],\"contour\":[{\"type\":\"contour\",\"colorbar\":{\"outlinewidth\":0,\"ticks\":\"\"},\"colorscale\":[[0.0,\"#0d0887\"],[0.1111111111111111,\"#46039f\"],[0.2222222222222222,\"#7201a8\"],[0.3333333333333333,\"#9c179e\"],[0.4444444444444444,\"#bd3786\"],[0.5555555555555556,\"#d8576b\"],[0.6666666666666666,\"#ed7953\"],[0.7777777777777778,\"#fb9f3a\"],[0.8888888888888888,\"#fdca26\"],[1.0,\"#f0f921\"]]}],\"surface\":[{\"type\":\"surface\",\"colorbar\":{\"outlinewidth\":0,\"ticks\":\"\"},\"colorscale\":[[0.0,\"#0d0887\"],[0.1111111111111111,\"#46039f\"],[0.2222222222222222,\"#7201a8\"],[0.3333333333333333,\"#9c179e\"],[0.4444444444444444,\"#bd3786\"],[0.5555555555555556,\"#d8576b\"],[0.6666666666666666,\"#ed7953\"],[0.7777777777777778,\"#fb9f3a\"],[0.8888888888888888,\"#fdca26\"],[1.0,\"#f0f921\"]]}],\"mesh3d\":[{\"type\":\"mesh3d\",\"colorbar\":{\"outlinewidth\":0,\"ticks\":\"\"}}],\"scatter\":[{\"fillpattern\":{\"fillmode\":\"overlay\",\"size\":10,\"solidity\":0.2},\"type\":\"scatter\"}],\"parcoords\":[{\"type\":\"parcoords\",\"line\":{\"colorbar\":{\"outlinewidth\":0,\"ticks\":\"\"}}}],\"scatterpolargl\":[{\"type\":\"scatterpolargl\",\"marker\":{\"colorbar\":{\"outlinewidth\":0,\"ticks\":\"\"}}}],\"bar\":[{\"error_x\":{\"color\":\"#2a3f5f\"},\"error_y\":{\"color\":\"#2a3f5f\"},\"marker\":{\"line\":{\"color\":\"#E5ECF6\",\"width\":0.5},\"pattern\":{\"fillmode\":\"overlay\",\"size\":10,\"solidity\":0.2}},\"type\":\"bar\"}],\"scattergeo\":[{\"type\":\"scattergeo\",\"marker\":{\"colorbar\":{\"outlinewidth\":0,\"ticks\":\"\"}}}],\"scatterpolar\":[{\"type\":\"scatterpolar\",\"marker\":{\"colorbar\":{\"outlinewidth\":0,\"ticks\":\"\"}}}],\"histogram\":[{\"marker\":{\"pattern\":{\"fillmode\":\"overlay\",\"size\":10,\"solidity\":0.2}},\"type\":\"histogram\"}],\"scattergl\":[{\"type\":\"scattergl\",\"marker\":{\"colorbar\":{\"outlinewidth\":0,\"ticks\":\"\"}}}],\"scatter3d\":[{\"type\":\"scatter3d\",\"line\":{\"colorbar\":{\"outlinewidth\":0,\"ticks\":\"\"}},\"marker\":{\"colorbar\":{\"outlinewidth\":0,\"ticks\":\"\"}}}],\"scattermapbox\":[{\"type\":\"scattermapbox\",\"marker\":{\"colorbar\":{\"outlinewidth\":0,\"ticks\":\"\"}}}],\"scatterternary\":[{\"type\":\"scatterternary\",\"marker\":{\"colorbar\":{\"outlinewidth\":0,\"ticks\":\"\"}}}],\"scattercarpet\":[{\"type\":\"scattercarpet\",\"marker\":{\"colorbar\":{\"outlinewidth\":0,\"ticks\":\"\"}}}],\"carpet\":[{\"aaxis\":{\"endlinecolor\":\"#2a3f5f\",\"gridcolor\":\"white\",\"linecolor\":\"white\",\"minorgridcolor\":\"white\",\"startlinecolor\":\"#2a3f5f\"},\"baxis\":{\"endlinecolor\":\"#2a3f5f\",\"gridcolor\":\"white\",\"linecolor\":\"white\",\"minorgridcolor\":\"white\",\"startlinecolor\":\"#2a3f5f\"},\"type\":\"carpet\"}],\"table\":[{\"cells\":{\"fill\":{\"color\":\"#EBF0F8\"},\"line\":{\"color\":\"white\"}},\"header\":{\"fill\":{\"color\":\"#C8D4E3\"},\"line\":{\"color\":\"white\"}},\"type\":\"table\"}],\"barpolar\":[{\"marker\":{\"line\":{\"color\":\"#E5ECF6\",\"width\":0.5},\"pattern\":{\"fillmode\":\"overlay\",\"size\":10,\"solidity\":0.2}},\"type\":\"barpolar\"}],\"pie\":[{\"automargin\":true,\"type\":\"pie\"}]},\"layout\":{\"autotypenumbers\":\"strict\",\"colorway\":[\"#636efa\",\"#EF553B\",\"#00cc96\",\"#ab63fa\",\"#FFA15A\",\"#19d3f3\",\"#FF6692\",\"#B6E880\",\"#FF97FF\",\"#FECB52\"],\"font\":{\"color\":\"#2a3f5f\"},\"hovermode\":\"closest\",\"hoverlabel\":{\"align\":\"left\"},\"paper_bgcolor\":\"white\",\"plot_bgcolor\":\"#E5ECF6\",\"polar\":{\"bgcolor\":\"#E5ECF6\",\"angularaxis\":{\"gridcolor\":\"white\",\"linecolor\":\"white\",\"ticks\":\"\"},\"radialaxis\":{\"gridcolor\":\"white\",\"linecolor\":\"white\",\"ticks\":\"\"}},\"ternary\":{\"bgcolor\":\"#E5ECF6\",\"aaxis\":{\"gridcolor\":\"white\",\"linecolor\":\"white\",\"ticks\":\"\"},\"baxis\":{\"gridcolor\":\"white\",\"linecolor\":\"white\",\"ticks\":\"\"},\"caxis\":{\"gridcolor\":\"white\",\"linecolor\":\"white\",\"ticks\":\"\"}},\"coloraxis\":{\"colorbar\":{\"outlinewidth\":0,\"ticks\":\"\"}},\"colorscale\":{\"sequential\":[[0.0,\"#0d0887\"],[0.1111111111111111,\"#46039f\"],[0.2222222222222222,\"#7201a8\"],[0.3333333333333333,\"#9c179e\"],[0.4444444444444444,\"#bd3786\"],[0.5555555555555556,\"#d8576b\"],[0.6666666666666666,\"#ed7953\"],[0.7777777777777778,\"#fb9f3a\"],[0.8888888888888888,\"#fdca26\"],[1.0,\"#f0f921\"]],\"sequentialminus\":[[0.0,\"#0d0887\"],[0.1111111111111111,\"#46039f\"],[0.2222222222222222,\"#7201a8\"],[0.3333333333333333,\"#9c179e\"],[0.4444444444444444,\"#bd3786\"],[0.5555555555555556,\"#d8576b\"],[0.6666666666666666,\"#ed7953\"],[0.7777777777777778,\"#fb9f3a\"],[0.8888888888888888,\"#fdca26\"],[1.0,\"#f0f921\"]],\"diverging\":[[0,\"#8e0152\"],[0.1,\"#c51b7d\"],[0.2,\"#de77ae\"],[0.3,\"#f1b6da\"],[0.4,\"#fde0ef\"],[0.5,\"#f7f7f7\"],[0.6,\"#e6f5d0\"],[0.7,\"#b8e186\"],[0.8,\"#7fbc41\"],[0.9,\"#4d9221\"],[1,\"#276419\"]]},\"xaxis\":{\"gridcolor\":\"white\",\"linecolor\":\"white\",\"ticks\":\"\",\"title\":{\"standoff\":15},\"zerolinecolor\":\"white\",\"automargin\":true,\"zerolinewidth\":2},\"yaxis\":{\"gridcolor\":\"white\",\"linecolor\":\"white\",\"ticks\":\"\",\"title\":{\"standoff\":15},\"zerolinecolor\":\"white\",\"automargin\":true,\"zerolinewidth\":2},\"scene\":{\"xaxis\":{\"backgroundcolor\":\"#E5ECF6\",\"gridcolor\":\"white\",\"linecolor\":\"white\",\"showbackground\":true,\"ticks\":\"\",\"zerolinecolor\":\"white\",\"gridwidth\":2},\"yaxis\":{\"backgroundcolor\":\"#E5ECF6\",\"gridcolor\":\"white\",\"linecolor\":\"white\",\"showbackground\":true,\"ticks\":\"\",\"zerolinecolor\":\"white\",\"gridwidth\":2},\"zaxis\":{\"backgroundcolor\":\"#E5ECF6\",\"gridcolor\":\"white\",\"linecolor\":\"white\",\"showbackground\":true,\"ticks\":\"\",\"zerolinecolor\":\"white\",\"gridwidth\":2}},\"shapedefaults\":{\"line\":{\"color\":\"#2a3f5f\"}},\"annotationdefaults\":{\"arrowcolor\":\"#2a3f5f\",\"arrowhead\":0,\"arrowwidth\":1},\"geo\":{\"bgcolor\":\"white\",\"landcolor\":\"#E5ECF6\",\"subunitcolor\":\"white\",\"showland\":true,\"showlakes\":true,\"lakecolor\":\"white\"},\"title\":{\"x\":0.05},\"mapbox\":{\"style\":\"light\"}}},\"xaxis\":{\"anchor\":\"y\",\"domain\":[0.0,1.0],\"title\":{\"text\":\"Happiness score\"}},\"yaxis\":{\"anchor\":\"x\",\"domain\":[0.0,1.0],\"title\":{\"text\":\"GDP per capita\"}},\"legend\":{\"tracegroupgap\":0},\"title\":{\"text\":\"Corelation between Happiness and GDP with a falvor of freedom\"}},                        {\"responsive\": true}                    ).then(function(){\n",
       "                            \n",
       "var gd = document.getElementById('ea91aeba-8d38-495a-b6e8-1acf14574cb5');\n",
       "var x = new MutationObserver(function (mutations, observer) {{\n",
       "        var display = window.getComputedStyle(gd).display;\n",
       "        if (!display || display === 'none') {{\n",
       "            console.log([gd, 'removed!']);\n",
       "            Plotly.purge(gd);\n",
       "            observer.disconnect();\n",
       "        }}\n",
       "}});\n",
       "\n",
       "// Listen for the removal of the full notebook cells\n",
       "var notebookContainer = gd.closest('#notebook-container');\n",
       "if (notebookContainer) {{\n",
       "    x.observe(notebookContainer, {childList: true});\n",
       "}}\n",
       "\n",
       "// Listen for the clearing of the current output cell\n",
       "var outputEl = gd.closest('.output');\n",
       "if (outputEl) {{\n",
       "    x.observe(outputEl, {childList: true});\n",
       "}}\n",
       "\n",
       "                        })                };                });            </script>        </div>"
      ]
     },
     "metadata": {},
     "output_type": "display_data"
    }
   ],
   "source": [
    "#df.head()\n",
    "fig = px.scatter(df, x=df[\"Happiness score\"], y=df[\"GDP per capita\"],trendline=\"ols\"\n",
    "                 ,title='Corelation between Happiness and GDP with a falvor of freedom')\n",
    "fig.show()"
   ]
  },
  {
   "cell_type": "code",
   "execution_count": 29,
   "id": "bb7e9f4e",
   "metadata": {},
   "outputs": [
    {
     "data": {
      "application/vnd.plotly.v1+json": {
       "config": {
        "plotlyServerURL": "https://plot.ly"
       },
       "data": [
        {
         "hovertemplate": "Happiness score=%{x}<br>Healthy life expectancy=%{y}<extra></extra>",
         "legendgroup": "",
         "marker": {
          "color": "#636efa",
          "symbol": "circle"
         },
         "mode": "markers",
         "name": "",
         "orientation": "v",
         "showlegend": false,
         "type": "scatter",
         "x": [
          7821,
          7636,
          7557,
          7512,
          7415,
          7404,
          7384,
          7365,
          7364,
          7200,
          7163,
          7162,
          7041,
          7034,
          7025,
          6977,
          6943,
          6920,
          6805,
          6687,
          6647,
          6630,
          6582,
          6576,
          6523,
          6512,
          6480,
          6477,
          6476,
          6474,
          6467,
          6455,
          6447,
          6446,
          6391,
          6341,
          6309,
          6293,
          6262,
          6234,
          6221,
          6180,
          6178,
          6172,
          6165,
          6128,
          6125,
          6123,
          6120,
          6106,
          6086,
          6071,
          6063,
          6039,
          6022,
          6016,
          5967,
          5948,
          5935,
          5904,
          5891,
          5857,
          5850,
          5828,
          5821,
          5781,
          5768,
          5761,
          5737,
          5711,
          5600,
          5585,
          5578,
          5559,
          5547,
          5533,
          5485,
          5474,
          5467,
          5459,
          5425,
          5399,
          5377,
          5377,
          5371,
          5330,
          5240,
          5235,
          5199,
          5199,
          5194,
          5173,
          5164,
          5155,
          5140,
          5122,
          5122,
          5084,
          5075,
          5060,
          5048,
          5048,
          5046,
          5003,
          4973,
          4958,
          4941,
          4925,
          4891,
          4888,
          4872,
          4744,
          4670,
          4640,
          4623,
          4609,
          4603,
          4552,
          4543,
          4516,
          4516,
          4483,
          4479,
          4459,
          4396,
          4394,
          4362,
          4339,
          4288,
          4251,
          4241,
          4197,
          4153,
          4152,
          4112,
          3777,
          3760,
          3750,
          3702,
          3574,
          3512,
          3471,
          3268,
          2995,
          2955,
          2404
         ],
         "xaxis": "x",
         "y": [
          0.775,
          0.777,
          0.803,
          0.822,
          0.787,
          0.79,
          0.803,
          0.786,
          0.818,
          0.752,
          0.774,
          0.772,
          0.779,
          0.776,
          0.783,
          0.628,
          0.75,
          0.715,
          0.764,
          0.808,
          0.625,
          0.769,
          0.744,
          0.633,
          0.577,
          0.733,
          0.851,
          0.655,
          0.808,
          0.672,
          0.801,
          0.569,
          0.789,
          0.659,
          0.707,
          0.728,
          0.709,
          0.615,
          0.522,
          0.611,
          0.819,
          0.637,
          0.658,
          0.748,
          0.617,
          0.623,
          0.709,
          0.712,
          0.607,
          0.747,
          0.668,
          0.568,
          0.6,
          0.866,
          0.555,
          0.777,
          0.662,
          0.774,
          0.841,
          0.514,
          0.697,
          0.597,
          0.646,
          0.638,
          0.629,
          0.72,
          0.665,
          0.467,
          0.577,
          0.62,
          0.555,
          0.705,
          0.624,
          0.735,
          0.659,
          0.708,
          0.611,
          0.516,
          0.819,
          0.586,
          0.942,
          0.668,
          0.518,
          0.499,
          0.64,
          0.606,
          0.539,
          0.322,
          0.637,
          0.719,
          0.361,
          0.56,
          0.369,
          0.581,
          0.479,
          0.643,
          0.309,
          0.583,
          0.355,
          0.565,
          0.191,
          0.317,
          0.447,
          0.326,
          0.595,
          0.396,
          0.554,
          0.578,
          0.275,
          0.642,
          0.409,
          0.702,
          0.32,
          0.505,
          0.335,
          0.424,
          0.418,
          0.3,
          0.401,
          0.656,
          0.374,
          0.521,
          0.311,
          0.354,
          0.197,
          0.491,
          0.66,
          0.378,
          0.548,
          0.225,
          0.457,
          0.384,
          0.45,
          0.675,
          0.36,
          0.471,
          0.306,
          0.388,
          0.425,
          0.273,
          0,
          0.28,
          0.462,
          0.27,
          0.631,
          0.289
         ],
         "yaxis": "y"
        },
        {
         "hovertemplate": "<b>OLS trendline</b><br>Healthy life expectancy = 0.000120105 * Happiness score + -0.0808388<br>R<sup>2</sup>=0.547986<br><br>Happiness score=%{x}<br>Healthy life expectancy=%{y} <b>(trend)</b><extra></extra>",
         "legendgroup": "",
         "marker": {
          "color": "#636efa",
          "symbol": "circle"
         },
         "mode": "lines",
         "name": "",
         "showlegend": false,
         "type": "scatter",
         "x": [
          2404,
          2955,
          2995,
          3268,
          3471,
          3512,
          3574,
          3702,
          3750,
          3760,
          3777,
          4112,
          4152,
          4153,
          4197,
          4241,
          4251,
          4288,
          4339,
          4362,
          4394,
          4396,
          4459,
          4479,
          4483,
          4516,
          4516,
          4543,
          4552,
          4603,
          4609,
          4623,
          4640,
          4670,
          4744,
          4872,
          4888,
          4891,
          4925,
          4941,
          4958,
          4973,
          5003,
          5046,
          5048,
          5048,
          5060,
          5075,
          5084,
          5122,
          5122,
          5140,
          5155,
          5164,
          5173,
          5194,
          5199,
          5199,
          5235,
          5240,
          5330,
          5371,
          5377,
          5377,
          5399,
          5425,
          5459,
          5467,
          5474,
          5485,
          5533,
          5547,
          5559,
          5578,
          5585,
          5600,
          5711,
          5737,
          5761,
          5768,
          5781,
          5821,
          5828,
          5850,
          5857,
          5891,
          5904,
          5935,
          5948,
          5967,
          6016,
          6022,
          6039,
          6063,
          6071,
          6086,
          6106,
          6120,
          6123,
          6125,
          6128,
          6165,
          6172,
          6178,
          6180,
          6221,
          6234,
          6262,
          6293,
          6309,
          6341,
          6391,
          6446,
          6447,
          6455,
          6467,
          6474,
          6476,
          6477,
          6480,
          6512,
          6523,
          6576,
          6582,
          6630,
          6647,
          6687,
          6805,
          6920,
          6943,
          6977,
          7025,
          7034,
          7041,
          7162,
          7163,
          7200,
          7364,
          7365,
          7384,
          7404,
          7415,
          7512,
          7557,
          7636,
          7821
         ],
         "xaxis": "x",
         "y": [
          0.2078926963995328,
          0.2740703397118366,
          0.2788745243443087,
          0.31166308446093105,
          0.33604432147072716,
          0.3409686107190111,
          0.3484150968993429,
          0.3637884877232538,
          0.3695535092822203,
          0.3707545554403383,
          0.372796333909139,
          0.4130313802060932,
          0.4178355648385653,
          0.4179556694543771,
          0.42324027255009644,
          0.42852487564581576,
          0.4297259218039339,
          0.4341697925889706,
          0.4402951279953725,
          0.44305753415904403,
          0.44690088186502175,
          0.44714109109664535,
          0.454707681892789,
          0.457109774209025,
          0.4575901926722722,
          0.4615536449940617,
          0.4615536449940617,
          0.4647964696209804,
          0.4658774111632866,
          0.47200274656968866,
          0.47272337426455946,
          0.4744048388859248,
          0.4764466173547254,
          0.4800497558290795,
          0.48893749739915293,
          0.5043108882230638,
          0.5062325620760526,
          0.506592875923488,
          0.5106764328610893,
          0.5125981067140782,
          0.5146398851828788,
          0.516441454420056,
          0.5200445928944101,
          0.5252090913743176,
          0.5254493006059412,
          0.5254493006059412,
          0.5268905559956828,
          0.5286921252328599,
          0.5297730667751661,
          0.5343370421760146,
          0.5343370421760146,
          0.5364989252606271,
          0.5383004944978041,
          0.5393814360401105,
          0.5404623775824167,
          0.5429845745144645,
          0.5435850975935236,
          0.5435850975935236,
          0.5479088637627485,
          0.5485093868418075,
          0.5593188022648697,
          0.5642430915131538,
          0.5649637192080246,
          0.5649637192080246,
          0.5676060207558842,
          0.5707287407669911,
          0.5748122977045924,
          0.5757731346310869,
          0.5766138669417695,
          0.5779350177156993,
          0.5837000392746658,
          0.5853815038960312,
          0.5868227592857728,
          0.5891047469861971,
          0.5899454792968797,
          0.5917470485340567,
          0.605078660889167,
          0.6082013809002738,
          0.6110838916797571,
          0.6119246239904397,
          0.6134859839959932,
          0.6182901686284653,
          0.6191309009391479,
          0.6217732024870076,
          0.6226139347976902,
          0.6266974917352915,
          0.628258851740845,
          0.6319820948310109,
          0.6335434548365644,
          0.6358254425369886,
          0.641710568711767,
          0.6424311964066378,
          0.6444729748754384,
          0.6473554856549217,
          0.6483163225814161,
          0.6501178918185933,
          0.6525199841348293,
          0.6542014487561946,
          0.65456176260363,
          0.6548019718352536,
          0.655162285682689,
          0.6596061564677257,
          0.6604468887784083,
          0.6611675164732792,
          0.6614077257049028,
          0.6663320149531867,
          0.6678933749587401,
          0.6712563042014706,
          0.6749795472916366,
          0.6769012211446254,
          0.6807445688506031,
          0.6867497996411933,
          0.6933555535108424,
          0.6934756581266542,
          0.6944364950531488,
          0.6958777504428904,
          0.696718482753573,
          0.6969586919851966,
          0.6970787966010084,
          0.6974391104484438,
          0.7012824581544215,
          0.7026036089283514,
          0.7089691535663769,
          0.7096897812612477,
          0.7154548028202143,
          0.717496581289015,
          0.7223007659214872,
          0.7364731105872799,
          0.7502851414056373,
          0.7530475475693088,
          0.7571311045069101,
          0.7628961260658768,
          0.763977067608183,
          0.7648177999188656,
          0.7793504584320938,
          0.7794705630479056,
          0.7839144338329423,
          0.8036115908260781,
          0.8037316954418899,
          0.8060136831423141,
          0.8084157754585503,
          0.8097369262324801,
          0.821387073966225,
          0.8267917816777561,
          0.8362800463268887,
          0.8584994002520723
         ],
         "yaxis": "y"
        }
       ],
       "layout": {
        "legend": {
         "tracegroupgap": 0
        },
        "template": {
         "data": {
          "bar": [
           {
            "error_x": {
             "color": "#2a3f5f"
            },
            "error_y": {
             "color": "#2a3f5f"
            },
            "marker": {
             "line": {
              "color": "#E5ECF6",
              "width": 0.5
             },
             "pattern": {
              "fillmode": "overlay",
              "size": 10,
              "solidity": 0.2
             }
            },
            "type": "bar"
           }
          ],
          "barpolar": [
           {
            "marker": {
             "line": {
              "color": "#E5ECF6",
              "width": 0.5
             },
             "pattern": {
              "fillmode": "overlay",
              "size": 10,
              "solidity": 0.2
             }
            },
            "type": "barpolar"
           }
          ],
          "carpet": [
           {
            "aaxis": {
             "endlinecolor": "#2a3f5f",
             "gridcolor": "white",
             "linecolor": "white",
             "minorgridcolor": "white",
             "startlinecolor": "#2a3f5f"
            },
            "baxis": {
             "endlinecolor": "#2a3f5f",
             "gridcolor": "white",
             "linecolor": "white",
             "minorgridcolor": "white",
             "startlinecolor": "#2a3f5f"
            },
            "type": "carpet"
           }
          ],
          "choropleth": [
           {
            "colorbar": {
             "outlinewidth": 0,
             "ticks": ""
            },
            "type": "choropleth"
           }
          ],
          "contour": [
           {
            "colorbar": {
             "outlinewidth": 0,
             "ticks": ""
            },
            "colorscale": [
             [
              0,
              "#0d0887"
             ],
             [
              0.1111111111111111,
              "#46039f"
             ],
             [
              0.2222222222222222,
              "#7201a8"
             ],
             [
              0.3333333333333333,
              "#9c179e"
             ],
             [
              0.4444444444444444,
              "#bd3786"
             ],
             [
              0.5555555555555556,
              "#d8576b"
             ],
             [
              0.6666666666666666,
              "#ed7953"
             ],
             [
              0.7777777777777778,
              "#fb9f3a"
             ],
             [
              0.8888888888888888,
              "#fdca26"
             ],
             [
              1,
              "#f0f921"
             ]
            ],
            "type": "contour"
           }
          ],
          "contourcarpet": [
           {
            "colorbar": {
             "outlinewidth": 0,
             "ticks": ""
            },
            "type": "contourcarpet"
           }
          ],
          "heatmap": [
           {
            "colorbar": {
             "outlinewidth": 0,
             "ticks": ""
            },
            "colorscale": [
             [
              0,
              "#0d0887"
             ],
             [
              0.1111111111111111,
              "#46039f"
             ],
             [
              0.2222222222222222,
              "#7201a8"
             ],
             [
              0.3333333333333333,
              "#9c179e"
             ],
             [
              0.4444444444444444,
              "#bd3786"
             ],
             [
              0.5555555555555556,
              "#d8576b"
             ],
             [
              0.6666666666666666,
              "#ed7953"
             ],
             [
              0.7777777777777778,
              "#fb9f3a"
             ],
             [
              0.8888888888888888,
              "#fdca26"
             ],
             [
              1,
              "#f0f921"
             ]
            ],
            "type": "heatmap"
           }
          ],
          "heatmapgl": [
           {
            "colorbar": {
             "outlinewidth": 0,
             "ticks": ""
            },
            "colorscale": [
             [
              0,
              "#0d0887"
             ],
             [
              0.1111111111111111,
              "#46039f"
             ],
             [
              0.2222222222222222,
              "#7201a8"
             ],
             [
              0.3333333333333333,
              "#9c179e"
             ],
             [
              0.4444444444444444,
              "#bd3786"
             ],
             [
              0.5555555555555556,
              "#d8576b"
             ],
             [
              0.6666666666666666,
              "#ed7953"
             ],
             [
              0.7777777777777778,
              "#fb9f3a"
             ],
             [
              0.8888888888888888,
              "#fdca26"
             ],
             [
              1,
              "#f0f921"
             ]
            ],
            "type": "heatmapgl"
           }
          ],
          "histogram": [
           {
            "marker": {
             "pattern": {
              "fillmode": "overlay",
              "size": 10,
              "solidity": 0.2
             }
            },
            "type": "histogram"
           }
          ],
          "histogram2d": [
           {
            "colorbar": {
             "outlinewidth": 0,
             "ticks": ""
            },
            "colorscale": [
             [
              0,
              "#0d0887"
             ],
             [
              0.1111111111111111,
              "#46039f"
             ],
             [
              0.2222222222222222,
              "#7201a8"
             ],
             [
              0.3333333333333333,
              "#9c179e"
             ],
             [
              0.4444444444444444,
              "#bd3786"
             ],
             [
              0.5555555555555556,
              "#d8576b"
             ],
             [
              0.6666666666666666,
              "#ed7953"
             ],
             [
              0.7777777777777778,
              "#fb9f3a"
             ],
             [
              0.8888888888888888,
              "#fdca26"
             ],
             [
              1,
              "#f0f921"
             ]
            ],
            "type": "histogram2d"
           }
          ],
          "histogram2dcontour": [
           {
            "colorbar": {
             "outlinewidth": 0,
             "ticks": ""
            },
            "colorscale": [
             [
              0,
              "#0d0887"
             ],
             [
              0.1111111111111111,
              "#46039f"
             ],
             [
              0.2222222222222222,
              "#7201a8"
             ],
             [
              0.3333333333333333,
              "#9c179e"
             ],
             [
              0.4444444444444444,
              "#bd3786"
             ],
             [
              0.5555555555555556,
              "#d8576b"
             ],
             [
              0.6666666666666666,
              "#ed7953"
             ],
             [
              0.7777777777777778,
              "#fb9f3a"
             ],
             [
              0.8888888888888888,
              "#fdca26"
             ],
             [
              1,
              "#f0f921"
             ]
            ],
            "type": "histogram2dcontour"
           }
          ],
          "mesh3d": [
           {
            "colorbar": {
             "outlinewidth": 0,
             "ticks": ""
            },
            "type": "mesh3d"
           }
          ],
          "parcoords": [
           {
            "line": {
             "colorbar": {
              "outlinewidth": 0,
              "ticks": ""
             }
            },
            "type": "parcoords"
           }
          ],
          "pie": [
           {
            "automargin": true,
            "type": "pie"
           }
          ],
          "scatter": [
           {
            "fillpattern": {
             "fillmode": "overlay",
             "size": 10,
             "solidity": 0.2
            },
            "type": "scatter"
           }
          ],
          "scatter3d": [
           {
            "line": {
             "colorbar": {
              "outlinewidth": 0,
              "ticks": ""
             }
            },
            "marker": {
             "colorbar": {
              "outlinewidth": 0,
              "ticks": ""
             }
            },
            "type": "scatter3d"
           }
          ],
          "scattercarpet": [
           {
            "marker": {
             "colorbar": {
              "outlinewidth": 0,
              "ticks": ""
             }
            },
            "type": "scattercarpet"
           }
          ],
          "scattergeo": [
           {
            "marker": {
             "colorbar": {
              "outlinewidth": 0,
              "ticks": ""
             }
            },
            "type": "scattergeo"
           }
          ],
          "scattergl": [
           {
            "marker": {
             "colorbar": {
              "outlinewidth": 0,
              "ticks": ""
             }
            },
            "type": "scattergl"
           }
          ],
          "scattermapbox": [
           {
            "marker": {
             "colorbar": {
              "outlinewidth": 0,
              "ticks": ""
             }
            },
            "type": "scattermapbox"
           }
          ],
          "scatterpolar": [
           {
            "marker": {
             "colorbar": {
              "outlinewidth": 0,
              "ticks": ""
             }
            },
            "type": "scatterpolar"
           }
          ],
          "scatterpolargl": [
           {
            "marker": {
             "colorbar": {
              "outlinewidth": 0,
              "ticks": ""
             }
            },
            "type": "scatterpolargl"
           }
          ],
          "scatterternary": [
           {
            "marker": {
             "colorbar": {
              "outlinewidth": 0,
              "ticks": ""
             }
            },
            "type": "scatterternary"
           }
          ],
          "surface": [
           {
            "colorbar": {
             "outlinewidth": 0,
             "ticks": ""
            },
            "colorscale": [
             [
              0,
              "#0d0887"
             ],
             [
              0.1111111111111111,
              "#46039f"
             ],
             [
              0.2222222222222222,
              "#7201a8"
             ],
             [
              0.3333333333333333,
              "#9c179e"
             ],
             [
              0.4444444444444444,
              "#bd3786"
             ],
             [
              0.5555555555555556,
              "#d8576b"
             ],
             [
              0.6666666666666666,
              "#ed7953"
             ],
             [
              0.7777777777777778,
              "#fb9f3a"
             ],
             [
              0.8888888888888888,
              "#fdca26"
             ],
             [
              1,
              "#f0f921"
             ]
            ],
            "type": "surface"
           }
          ],
          "table": [
           {
            "cells": {
             "fill": {
              "color": "#EBF0F8"
             },
             "line": {
              "color": "white"
             }
            },
            "header": {
             "fill": {
              "color": "#C8D4E3"
             },
             "line": {
              "color": "white"
             }
            },
            "type": "table"
           }
          ]
         },
         "layout": {
          "annotationdefaults": {
           "arrowcolor": "#2a3f5f",
           "arrowhead": 0,
           "arrowwidth": 1
          },
          "autotypenumbers": "strict",
          "coloraxis": {
           "colorbar": {
            "outlinewidth": 0,
            "ticks": ""
           }
          },
          "colorscale": {
           "diverging": [
            [
             0,
             "#8e0152"
            ],
            [
             0.1,
             "#c51b7d"
            ],
            [
             0.2,
             "#de77ae"
            ],
            [
             0.3,
             "#f1b6da"
            ],
            [
             0.4,
             "#fde0ef"
            ],
            [
             0.5,
             "#f7f7f7"
            ],
            [
             0.6,
             "#e6f5d0"
            ],
            [
             0.7,
             "#b8e186"
            ],
            [
             0.8,
             "#7fbc41"
            ],
            [
             0.9,
             "#4d9221"
            ],
            [
             1,
             "#276419"
            ]
           ],
           "sequential": [
            [
             0,
             "#0d0887"
            ],
            [
             0.1111111111111111,
             "#46039f"
            ],
            [
             0.2222222222222222,
             "#7201a8"
            ],
            [
             0.3333333333333333,
             "#9c179e"
            ],
            [
             0.4444444444444444,
             "#bd3786"
            ],
            [
             0.5555555555555556,
             "#d8576b"
            ],
            [
             0.6666666666666666,
             "#ed7953"
            ],
            [
             0.7777777777777778,
             "#fb9f3a"
            ],
            [
             0.8888888888888888,
             "#fdca26"
            ],
            [
             1,
             "#f0f921"
            ]
           ],
           "sequentialminus": [
            [
             0,
             "#0d0887"
            ],
            [
             0.1111111111111111,
             "#46039f"
            ],
            [
             0.2222222222222222,
             "#7201a8"
            ],
            [
             0.3333333333333333,
             "#9c179e"
            ],
            [
             0.4444444444444444,
             "#bd3786"
            ],
            [
             0.5555555555555556,
             "#d8576b"
            ],
            [
             0.6666666666666666,
             "#ed7953"
            ],
            [
             0.7777777777777778,
             "#fb9f3a"
            ],
            [
             0.8888888888888888,
             "#fdca26"
            ],
            [
             1,
             "#f0f921"
            ]
           ]
          },
          "colorway": [
           "#636efa",
           "#EF553B",
           "#00cc96",
           "#ab63fa",
           "#FFA15A",
           "#19d3f3",
           "#FF6692",
           "#B6E880",
           "#FF97FF",
           "#FECB52"
          ],
          "font": {
           "color": "#2a3f5f"
          },
          "geo": {
           "bgcolor": "white",
           "lakecolor": "white",
           "landcolor": "#E5ECF6",
           "showlakes": true,
           "showland": true,
           "subunitcolor": "white"
          },
          "hoverlabel": {
           "align": "left"
          },
          "hovermode": "closest",
          "mapbox": {
           "style": "light"
          },
          "paper_bgcolor": "white",
          "plot_bgcolor": "#E5ECF6",
          "polar": {
           "angularaxis": {
            "gridcolor": "white",
            "linecolor": "white",
            "ticks": ""
           },
           "bgcolor": "#E5ECF6",
           "radialaxis": {
            "gridcolor": "white",
            "linecolor": "white",
            "ticks": ""
           }
          },
          "scene": {
           "xaxis": {
            "backgroundcolor": "#E5ECF6",
            "gridcolor": "white",
            "gridwidth": 2,
            "linecolor": "white",
            "showbackground": true,
            "ticks": "",
            "zerolinecolor": "white"
           },
           "yaxis": {
            "backgroundcolor": "#E5ECF6",
            "gridcolor": "white",
            "gridwidth": 2,
            "linecolor": "white",
            "showbackground": true,
            "ticks": "",
            "zerolinecolor": "white"
           },
           "zaxis": {
            "backgroundcolor": "#E5ECF6",
            "gridcolor": "white",
            "gridwidth": 2,
            "linecolor": "white",
            "showbackground": true,
            "ticks": "",
            "zerolinecolor": "white"
           }
          },
          "shapedefaults": {
           "line": {
            "color": "#2a3f5f"
           }
          },
          "ternary": {
           "aaxis": {
            "gridcolor": "white",
            "linecolor": "white",
            "ticks": ""
           },
           "baxis": {
            "gridcolor": "white",
            "linecolor": "white",
            "ticks": ""
           },
           "bgcolor": "#E5ECF6",
           "caxis": {
            "gridcolor": "white",
            "linecolor": "white",
            "ticks": ""
           }
          },
          "title": {
           "x": 0.05
          },
          "xaxis": {
           "automargin": true,
           "gridcolor": "white",
           "linecolor": "white",
           "ticks": "",
           "title": {
            "standoff": 15
           },
           "zerolinecolor": "white",
           "zerolinewidth": 2
          },
          "yaxis": {
           "automargin": true,
           "gridcolor": "white",
           "linecolor": "white",
           "ticks": "",
           "title": {
            "standoff": 15
           },
           "zerolinecolor": "white",
           "zerolinewidth": 2
          }
         }
        },
        "title": {
         "text": "Corelation between Generosity and Healthy life expectancy "
        },
        "xaxis": {
         "anchor": "y",
         "domain": [
          0,
          1
         ],
         "title": {
          "text": "Happiness score"
         }
        },
        "yaxis": {
         "anchor": "x",
         "domain": [
          0,
          1
         ],
         "title": {
          "text": "Healthy life expectancy"
         }
        }
       }
      },
      "text/html": [
       "<div>                            <div id=\"36ff21f1-ea57-4eab-80ed-0752272fd138\" class=\"plotly-graph-div\" style=\"height:525px; width:100%;\"></div>            <script type=\"text/javascript\">                require([\"plotly\"], function(Plotly) {                    window.PLOTLYENV=window.PLOTLYENV || {};                                    if (document.getElementById(\"36ff21f1-ea57-4eab-80ed-0752272fd138\")) {                    Plotly.newPlot(                        \"36ff21f1-ea57-4eab-80ed-0752272fd138\",                        [{\"hovertemplate\":\"Happiness score=%{x}<br>Healthy life expectancy=%{y}<extra></extra>\",\"legendgroup\":\"\",\"marker\":{\"color\":\"#636efa\",\"symbol\":\"circle\"},\"mode\":\"markers\",\"name\":\"\",\"orientation\":\"v\",\"showlegend\":false,\"x\":[7821,7636,7557,7512,7415,7404,7384,7365,7364,7200,7163,7162,7041,7034,7025,6977,6943,6920,6805,6687,6647,6630,6582,6576,6523,6512,6480,6477,6476,6474,6467,6455,6447,6446,6391,6341,6309,6293,6262,6234,6221,6180,6178,6172,6165,6128,6125,6123,6120,6106,6086,6071,6063,6039,6022,6016,5967,5948,5935,5904,5891,5857,5850,5828,5821,5781,5768,5761,5737,5711,5600,5585,5578,5559,5547,5533,5485,5474,5467,5459,5425,5399,5377,5377,5371,5330,5240,5235,5199,5199,5194,5173,5164,5155,5140,5122,5122,5084,5075,5060,5048,5048,5046,5003,4973,4958,4941,4925,4891,4888,4872,4744,4670,4640,4623,4609,4603,4552,4543,4516,4516,4483,4479,4459,4396,4394,4362,4339,4288,4251,4241,4197,4153,4152,4112,3777,3760,3750,3702,3574,3512,3471,3268,2995,2955,2404],\"xaxis\":\"x\",\"y\":[0.775,0.777,0.803,0.822,0.787,0.79,0.803,0.786,0.818,0.752,0.774,0.772,0.779,0.776,0.783,0.628,0.75,0.715,0.764,0.808,0.625,0.769,0.744,0.633,0.577,0.733,0.851,0.655,0.808,0.672,0.801,0.569,0.789,0.659,0.707,0.728,0.709,0.615,0.522,0.611,0.819,0.637,0.658,0.748,0.617,0.623,0.709,0.712,0.607,0.747,0.668,0.568,0.6,0.866,0.555,0.777,0.662,0.774,0.841,0.514,0.697,0.597,0.646,0.638,0.629,0.72,0.665,0.467,0.577,0.62,0.555,0.705,0.624,0.735,0.659,0.708,0.611,0.516,0.819,0.586,0.942,0.668,0.518,0.499,0.64,0.606,0.539,0.322,0.637,0.719,0.361,0.56,0.369,0.581,0.479,0.643,0.309,0.583,0.355,0.565,0.191,0.317,0.447,0.326,0.595,0.396,0.554,0.578,0.275,0.642,0.409,0.702,0.32,0.505,0.335,0.424,0.418,0.3,0.401,0.656,0.374,0.521,0.311,0.354,0.197,0.491,0.66,0.378,0.548,0.225,0.457,0.384,0.45,0.675,0.36,0.471,0.306,0.388,0.425,0.273,0.0,0.28,0.462,0.27,0.631,0.289],\"yaxis\":\"y\",\"type\":\"scatter\"},{\"hovertemplate\":\"<b>OLS trendline</b><br>Healthy life expectancy = 0.000120105 * Happiness score + -0.0808388<br>R<sup>2</sup>=0.547986<br><br>Happiness score=%{x}<br>Healthy life expectancy=%{y} <b>(trend)</b><extra></extra>\",\"legendgroup\":\"\",\"marker\":{\"color\":\"#636efa\",\"symbol\":\"circle\"},\"mode\":\"lines\",\"name\":\"\",\"showlegend\":false,\"x\":[2404,2955,2995,3268,3471,3512,3574,3702,3750,3760,3777,4112,4152,4153,4197,4241,4251,4288,4339,4362,4394,4396,4459,4479,4483,4516,4516,4543,4552,4603,4609,4623,4640,4670,4744,4872,4888,4891,4925,4941,4958,4973,5003,5046,5048,5048,5060,5075,5084,5122,5122,5140,5155,5164,5173,5194,5199,5199,5235,5240,5330,5371,5377,5377,5399,5425,5459,5467,5474,5485,5533,5547,5559,5578,5585,5600,5711,5737,5761,5768,5781,5821,5828,5850,5857,5891,5904,5935,5948,5967,6016,6022,6039,6063,6071,6086,6106,6120,6123,6125,6128,6165,6172,6178,6180,6221,6234,6262,6293,6309,6341,6391,6446,6447,6455,6467,6474,6476,6477,6480,6512,6523,6576,6582,6630,6647,6687,6805,6920,6943,6977,7025,7034,7041,7162,7163,7200,7364,7365,7384,7404,7415,7512,7557,7636,7821],\"xaxis\":\"x\",\"y\":[0.2078926963995328,0.2740703397118366,0.2788745243443087,0.31166308446093105,0.33604432147072716,0.3409686107190111,0.3484150968993429,0.3637884877232538,0.3695535092822203,0.3707545554403383,0.372796333909139,0.4130313802060932,0.4178355648385653,0.4179556694543771,0.42324027255009644,0.42852487564581576,0.4297259218039339,0.4341697925889706,0.4402951279953725,0.44305753415904403,0.44690088186502175,0.44714109109664535,0.454707681892789,0.457109774209025,0.4575901926722722,0.4615536449940617,0.4615536449940617,0.4647964696209804,0.4658774111632866,0.47200274656968866,0.47272337426455946,0.4744048388859248,0.4764466173547254,0.4800497558290795,0.48893749739915293,0.5043108882230638,0.5062325620760526,0.506592875923488,0.5106764328610893,0.5125981067140782,0.5146398851828788,0.516441454420056,0.5200445928944101,0.5252090913743176,0.5254493006059412,0.5254493006059412,0.5268905559956828,0.5286921252328599,0.5297730667751661,0.5343370421760146,0.5343370421760146,0.5364989252606271,0.5383004944978041,0.5393814360401105,0.5404623775824167,0.5429845745144645,0.5435850975935236,0.5435850975935236,0.5479088637627485,0.5485093868418075,0.5593188022648697,0.5642430915131538,0.5649637192080246,0.5649637192080246,0.5676060207558842,0.5707287407669911,0.5748122977045924,0.5757731346310869,0.5766138669417695,0.5779350177156993,0.5837000392746658,0.5853815038960312,0.5868227592857728,0.5891047469861971,0.5899454792968797,0.5917470485340567,0.605078660889167,0.6082013809002738,0.6110838916797571,0.6119246239904397,0.6134859839959932,0.6182901686284653,0.6191309009391479,0.6217732024870076,0.6226139347976902,0.6266974917352915,0.628258851740845,0.6319820948310109,0.6335434548365644,0.6358254425369886,0.641710568711767,0.6424311964066378,0.6444729748754384,0.6473554856549217,0.6483163225814161,0.6501178918185933,0.6525199841348293,0.6542014487561946,0.65456176260363,0.6548019718352536,0.655162285682689,0.6596061564677257,0.6604468887784083,0.6611675164732792,0.6614077257049028,0.6663320149531867,0.6678933749587401,0.6712563042014706,0.6749795472916366,0.6769012211446254,0.6807445688506031,0.6867497996411933,0.6933555535108424,0.6934756581266542,0.6944364950531488,0.6958777504428904,0.696718482753573,0.6969586919851966,0.6970787966010084,0.6974391104484438,0.7012824581544215,0.7026036089283514,0.7089691535663769,0.7096897812612477,0.7154548028202143,0.717496581289015,0.7223007659214872,0.7364731105872799,0.7502851414056373,0.7530475475693088,0.7571311045069101,0.7628961260658768,0.763977067608183,0.7648177999188656,0.7793504584320938,0.7794705630479056,0.7839144338329423,0.8036115908260781,0.8037316954418899,0.8060136831423141,0.8084157754585503,0.8097369262324801,0.821387073966225,0.8267917816777561,0.8362800463268887,0.8584994002520723],\"yaxis\":\"y\",\"type\":\"scatter\"}],                        {\"template\":{\"data\":{\"histogram2dcontour\":[{\"type\":\"histogram2dcontour\",\"colorbar\":{\"outlinewidth\":0,\"ticks\":\"\"},\"colorscale\":[[0.0,\"#0d0887\"],[0.1111111111111111,\"#46039f\"],[0.2222222222222222,\"#7201a8\"],[0.3333333333333333,\"#9c179e\"],[0.4444444444444444,\"#bd3786\"],[0.5555555555555556,\"#d8576b\"],[0.6666666666666666,\"#ed7953\"],[0.7777777777777778,\"#fb9f3a\"],[0.8888888888888888,\"#fdca26\"],[1.0,\"#f0f921\"]]}],\"choropleth\":[{\"type\":\"choropleth\",\"colorbar\":{\"outlinewidth\":0,\"ticks\":\"\"}}],\"histogram2d\":[{\"type\":\"histogram2d\",\"colorbar\":{\"outlinewidth\":0,\"ticks\":\"\"},\"colorscale\":[[0.0,\"#0d0887\"],[0.1111111111111111,\"#46039f\"],[0.2222222222222222,\"#7201a8\"],[0.3333333333333333,\"#9c179e\"],[0.4444444444444444,\"#bd3786\"],[0.5555555555555556,\"#d8576b\"],[0.6666666666666666,\"#ed7953\"],[0.7777777777777778,\"#fb9f3a\"],[0.8888888888888888,\"#fdca26\"],[1.0,\"#f0f921\"]]}],\"heatmap\":[{\"type\":\"heatmap\",\"colorbar\":{\"outlinewidth\":0,\"ticks\":\"\"},\"colorscale\":[[0.0,\"#0d0887\"],[0.1111111111111111,\"#46039f\"],[0.2222222222222222,\"#7201a8\"],[0.3333333333333333,\"#9c179e\"],[0.4444444444444444,\"#bd3786\"],[0.5555555555555556,\"#d8576b\"],[0.6666666666666666,\"#ed7953\"],[0.7777777777777778,\"#fb9f3a\"],[0.8888888888888888,\"#fdca26\"],[1.0,\"#f0f921\"]]}],\"heatmapgl\":[{\"type\":\"heatmapgl\",\"colorbar\":{\"outlinewidth\":0,\"ticks\":\"\"},\"colorscale\":[[0.0,\"#0d0887\"],[0.1111111111111111,\"#46039f\"],[0.2222222222222222,\"#7201a8\"],[0.3333333333333333,\"#9c179e\"],[0.4444444444444444,\"#bd3786\"],[0.5555555555555556,\"#d8576b\"],[0.6666666666666666,\"#ed7953\"],[0.7777777777777778,\"#fb9f3a\"],[0.8888888888888888,\"#fdca26\"],[1.0,\"#f0f921\"]]}],\"contourcarpet\":[{\"type\":\"contourcarpet\",\"colorbar\":{\"outlinewidth\":0,\"ticks\":\"\"}}],\"contour\":[{\"type\":\"contour\",\"colorbar\":{\"outlinewidth\":0,\"ticks\":\"\"},\"colorscale\":[[0.0,\"#0d0887\"],[0.1111111111111111,\"#46039f\"],[0.2222222222222222,\"#7201a8\"],[0.3333333333333333,\"#9c179e\"],[0.4444444444444444,\"#bd3786\"],[0.5555555555555556,\"#d8576b\"],[0.6666666666666666,\"#ed7953\"],[0.7777777777777778,\"#fb9f3a\"],[0.8888888888888888,\"#fdca26\"],[1.0,\"#f0f921\"]]}],\"surface\":[{\"type\":\"surface\",\"colorbar\":{\"outlinewidth\":0,\"ticks\":\"\"},\"colorscale\":[[0.0,\"#0d0887\"],[0.1111111111111111,\"#46039f\"],[0.2222222222222222,\"#7201a8\"],[0.3333333333333333,\"#9c179e\"],[0.4444444444444444,\"#bd3786\"],[0.5555555555555556,\"#d8576b\"],[0.6666666666666666,\"#ed7953\"],[0.7777777777777778,\"#fb9f3a\"],[0.8888888888888888,\"#fdca26\"],[1.0,\"#f0f921\"]]}],\"mesh3d\":[{\"type\":\"mesh3d\",\"colorbar\":{\"outlinewidth\":0,\"ticks\":\"\"}}],\"scatter\":[{\"fillpattern\":{\"fillmode\":\"overlay\",\"size\":10,\"solidity\":0.2},\"type\":\"scatter\"}],\"parcoords\":[{\"type\":\"parcoords\",\"line\":{\"colorbar\":{\"outlinewidth\":0,\"ticks\":\"\"}}}],\"scatterpolargl\":[{\"type\":\"scatterpolargl\",\"marker\":{\"colorbar\":{\"outlinewidth\":0,\"ticks\":\"\"}}}],\"bar\":[{\"error_x\":{\"color\":\"#2a3f5f\"},\"error_y\":{\"color\":\"#2a3f5f\"},\"marker\":{\"line\":{\"color\":\"#E5ECF6\",\"width\":0.5},\"pattern\":{\"fillmode\":\"overlay\",\"size\":10,\"solidity\":0.2}},\"type\":\"bar\"}],\"scattergeo\":[{\"type\":\"scattergeo\",\"marker\":{\"colorbar\":{\"outlinewidth\":0,\"ticks\":\"\"}}}],\"scatterpolar\":[{\"type\":\"scatterpolar\",\"marker\":{\"colorbar\":{\"outlinewidth\":0,\"ticks\":\"\"}}}],\"histogram\":[{\"marker\":{\"pattern\":{\"fillmode\":\"overlay\",\"size\":10,\"solidity\":0.2}},\"type\":\"histogram\"}],\"scattergl\":[{\"type\":\"scattergl\",\"marker\":{\"colorbar\":{\"outlinewidth\":0,\"ticks\":\"\"}}}],\"scatter3d\":[{\"type\":\"scatter3d\",\"line\":{\"colorbar\":{\"outlinewidth\":0,\"ticks\":\"\"}},\"marker\":{\"colorbar\":{\"outlinewidth\":0,\"ticks\":\"\"}}}],\"scattermapbox\":[{\"type\":\"scattermapbox\",\"marker\":{\"colorbar\":{\"outlinewidth\":0,\"ticks\":\"\"}}}],\"scatterternary\":[{\"type\":\"scatterternary\",\"marker\":{\"colorbar\":{\"outlinewidth\":0,\"ticks\":\"\"}}}],\"scattercarpet\":[{\"type\":\"scattercarpet\",\"marker\":{\"colorbar\":{\"outlinewidth\":0,\"ticks\":\"\"}}}],\"carpet\":[{\"aaxis\":{\"endlinecolor\":\"#2a3f5f\",\"gridcolor\":\"white\",\"linecolor\":\"white\",\"minorgridcolor\":\"white\",\"startlinecolor\":\"#2a3f5f\"},\"baxis\":{\"endlinecolor\":\"#2a3f5f\",\"gridcolor\":\"white\",\"linecolor\":\"white\",\"minorgridcolor\":\"white\",\"startlinecolor\":\"#2a3f5f\"},\"type\":\"carpet\"}],\"table\":[{\"cells\":{\"fill\":{\"color\":\"#EBF0F8\"},\"line\":{\"color\":\"white\"}},\"header\":{\"fill\":{\"color\":\"#C8D4E3\"},\"line\":{\"color\":\"white\"}},\"type\":\"table\"}],\"barpolar\":[{\"marker\":{\"line\":{\"color\":\"#E5ECF6\",\"width\":0.5},\"pattern\":{\"fillmode\":\"overlay\",\"size\":10,\"solidity\":0.2}},\"type\":\"barpolar\"}],\"pie\":[{\"automargin\":true,\"type\":\"pie\"}]},\"layout\":{\"autotypenumbers\":\"strict\",\"colorway\":[\"#636efa\",\"#EF553B\",\"#00cc96\",\"#ab63fa\",\"#FFA15A\",\"#19d3f3\",\"#FF6692\",\"#B6E880\",\"#FF97FF\",\"#FECB52\"],\"font\":{\"color\":\"#2a3f5f\"},\"hovermode\":\"closest\",\"hoverlabel\":{\"align\":\"left\"},\"paper_bgcolor\":\"white\",\"plot_bgcolor\":\"#E5ECF6\",\"polar\":{\"bgcolor\":\"#E5ECF6\",\"angularaxis\":{\"gridcolor\":\"white\",\"linecolor\":\"white\",\"ticks\":\"\"},\"radialaxis\":{\"gridcolor\":\"white\",\"linecolor\":\"white\",\"ticks\":\"\"}},\"ternary\":{\"bgcolor\":\"#E5ECF6\",\"aaxis\":{\"gridcolor\":\"white\",\"linecolor\":\"white\",\"ticks\":\"\"},\"baxis\":{\"gridcolor\":\"white\",\"linecolor\":\"white\",\"ticks\":\"\"},\"caxis\":{\"gridcolor\":\"white\",\"linecolor\":\"white\",\"ticks\":\"\"}},\"coloraxis\":{\"colorbar\":{\"outlinewidth\":0,\"ticks\":\"\"}},\"colorscale\":{\"sequential\":[[0.0,\"#0d0887\"],[0.1111111111111111,\"#46039f\"],[0.2222222222222222,\"#7201a8\"],[0.3333333333333333,\"#9c179e\"],[0.4444444444444444,\"#bd3786\"],[0.5555555555555556,\"#d8576b\"],[0.6666666666666666,\"#ed7953\"],[0.7777777777777778,\"#fb9f3a\"],[0.8888888888888888,\"#fdca26\"],[1.0,\"#f0f921\"]],\"sequentialminus\":[[0.0,\"#0d0887\"],[0.1111111111111111,\"#46039f\"],[0.2222222222222222,\"#7201a8\"],[0.3333333333333333,\"#9c179e\"],[0.4444444444444444,\"#bd3786\"],[0.5555555555555556,\"#d8576b\"],[0.6666666666666666,\"#ed7953\"],[0.7777777777777778,\"#fb9f3a\"],[0.8888888888888888,\"#fdca26\"],[1.0,\"#f0f921\"]],\"diverging\":[[0,\"#8e0152\"],[0.1,\"#c51b7d\"],[0.2,\"#de77ae\"],[0.3,\"#f1b6da\"],[0.4,\"#fde0ef\"],[0.5,\"#f7f7f7\"],[0.6,\"#e6f5d0\"],[0.7,\"#b8e186\"],[0.8,\"#7fbc41\"],[0.9,\"#4d9221\"],[1,\"#276419\"]]},\"xaxis\":{\"gridcolor\":\"white\",\"linecolor\":\"white\",\"ticks\":\"\",\"title\":{\"standoff\":15},\"zerolinecolor\":\"white\",\"automargin\":true,\"zerolinewidth\":2},\"yaxis\":{\"gridcolor\":\"white\",\"linecolor\":\"white\",\"ticks\":\"\",\"title\":{\"standoff\":15},\"zerolinecolor\":\"white\",\"automargin\":true,\"zerolinewidth\":2},\"scene\":{\"xaxis\":{\"backgroundcolor\":\"#E5ECF6\",\"gridcolor\":\"white\",\"linecolor\":\"white\",\"showbackground\":true,\"ticks\":\"\",\"zerolinecolor\":\"white\",\"gridwidth\":2},\"yaxis\":{\"backgroundcolor\":\"#E5ECF6\",\"gridcolor\":\"white\",\"linecolor\":\"white\",\"showbackground\":true,\"ticks\":\"\",\"zerolinecolor\":\"white\",\"gridwidth\":2},\"zaxis\":{\"backgroundcolor\":\"#E5ECF6\",\"gridcolor\":\"white\",\"linecolor\":\"white\",\"showbackground\":true,\"ticks\":\"\",\"zerolinecolor\":\"white\",\"gridwidth\":2}},\"shapedefaults\":{\"line\":{\"color\":\"#2a3f5f\"}},\"annotationdefaults\":{\"arrowcolor\":\"#2a3f5f\",\"arrowhead\":0,\"arrowwidth\":1},\"geo\":{\"bgcolor\":\"white\",\"landcolor\":\"#E5ECF6\",\"subunitcolor\":\"white\",\"showland\":true,\"showlakes\":true,\"lakecolor\":\"white\"},\"title\":{\"x\":0.05},\"mapbox\":{\"style\":\"light\"}}},\"xaxis\":{\"anchor\":\"y\",\"domain\":[0.0,1.0],\"title\":{\"text\":\"Happiness score\"}},\"yaxis\":{\"anchor\":\"x\",\"domain\":[0.0,1.0],\"title\":{\"text\":\"Healthy life expectancy\"}},\"legend\":{\"tracegroupgap\":0},\"title\":{\"text\":\"Corelation between Generosity and Healthy life expectancy \"}},                        {\"responsive\": true}                    ).then(function(){\n",
       "                            \n",
       "var gd = document.getElementById('36ff21f1-ea57-4eab-80ed-0752272fd138');\n",
       "var x = new MutationObserver(function (mutations, observer) {{\n",
       "        var display = window.getComputedStyle(gd).display;\n",
       "        if (!display || display === 'none') {{\n",
       "            console.log([gd, 'removed!']);\n",
       "            Plotly.purge(gd);\n",
       "            observer.disconnect();\n",
       "        }}\n",
       "}});\n",
       "\n",
       "// Listen for the removal of the full notebook cells\n",
       "var notebookContainer = gd.closest('#notebook-container');\n",
       "if (notebookContainer) {{\n",
       "    x.observe(notebookContainer, {childList: true});\n",
       "}}\n",
       "\n",
       "// Listen for the clearing of the current output cell\n",
       "var outputEl = gd.closest('.output');\n",
       "if (outputEl) {{\n",
       "    x.observe(outputEl, {childList: true});\n",
       "}}\n",
       "\n",
       "                        })                };                });            </script>        </div>"
      ]
     },
     "metadata": {},
     "output_type": "display_data"
    }
   ],
   "source": [
    "## lets take a another corelation \n",
    "#df.head()\n",
    "fig = px.scatter(df, x=df[\"Happiness score\"], y=df[\"Healthy life expectancy\"],trendline=\"ols\"\n",
    "                 ,title='Corelation between Generosity and Healthy life expectancy ')\n",
    "fig.show()"
   ]
  },
  {
   "cell_type": "code",
   "execution_count": 31,
   "id": "0970499e",
   "metadata": {},
   "outputs": [
    {
     "data": {
      "application/vnd.plotly.v1+json": {
       "config": {
        "plotlyServerURL": "https://plot.ly"
       },
       "data": [
        {
         "hovertemplate": "Happiness score=%{x}<br>Generosity=%{y}<extra></extra>",
         "legendgroup": "",
         "marker": {
          "color": "#636efa",
          "symbol": "circle"
         },
         "mode": "markers",
         "name": "",
         "orientation": "v",
         "showlegend": false,
         "type": "scatter",
         "x": [
          7821,
          7636,
          7557,
          7512,
          7415,
          7404,
          7384,
          7365,
          7364,
          7200,
          7163,
          7162,
          7041,
          7034,
          7025,
          6977,
          6943,
          6920,
          6805,
          6687,
          6647,
          6630,
          6582,
          6576,
          6523,
          6512,
          6480,
          6477,
          6476,
          6474,
          6467,
          6455,
          6447,
          6446,
          6391,
          6341,
          6309,
          6293,
          6262,
          6234,
          6221,
          6180,
          6178,
          6172,
          6165,
          6128,
          6125,
          6123,
          6120,
          6106,
          6086,
          6071,
          6063,
          6039,
          6022,
          6016,
          5967,
          5948,
          5935,
          5904,
          5891,
          5857,
          5850,
          5828,
          5821,
          5781,
          5768,
          5761,
          5737,
          5711,
          5600,
          5585,
          5578,
          5559,
          5547,
          5533,
          5485,
          5474,
          5467,
          5459,
          5425,
          5399,
          5377,
          5377,
          5371,
          5330,
          5240,
          5235,
          5199,
          5199,
          5194,
          5173,
          5164,
          5155,
          5140,
          5122,
          5122,
          5084,
          5075,
          5060,
          5048,
          5048,
          5046,
          5003,
          4973,
          4958,
          4941,
          4925,
          4891,
          4888,
          4872,
          4744,
          4670,
          4640,
          4623,
          4609,
          4603,
          4552,
          4543,
          4516,
          4516,
          4483,
          4479,
          4459,
          4396,
          4394,
          4362,
          4339,
          4288,
          4251,
          4241,
          4197,
          4153,
          4152,
          4112,
          3777,
          3760,
          3750,
          3702,
          3574,
          3512,
          3471,
          3268,
          2995,
          2955,
          2404
         ],
         "xaxis": "x",
         "y": [
          0.109,
          0.188,
          0.27,
          0.147,
          0.271,
          0.12,
          0.218,
          0.217,
          0.155,
          0.245,
          0.193,
          0.258,
          0.19,
          0.163,
          0.217,
          0.22,
          0.289,
          0.158,
          0.049,
          0.07,
          0.199,
          0.118,
          0.089,
          0.204,
          0.078,
          0.075,
          0.163,
          0.039,
          0.101,
          0.103,
          0.085,
          0.309,
          0.174,
          0.053,
          0.118,
          0.123,
          0.049,
          0.131,
          0.112,
          0.134,
          0.123,
          0.075,
          0.219,
          0.124,
          0.168,
          0.092,
          0.109,
          0.124,
          0.089,
          0.087,
          0.078,
          0.131,
          0.283,
          0.007,
          0.202,
          0.016,
          0.081,
          0.015,
          0.111,
          0.107,
          0.321,
          0.102,
          0.08,
          0.208,
          0.04,
          0.087,
          0.244,
          0.247,
          0.084,
          0.213,
          0.112,
          0.099,
          0.171,
          0.09,
          0.135,
          0.08,
          0.143,
          0.314,
          0.13,
          0.117,
          0.147,
          0.054,
          0.118,
          0.237,
          0.123,
          0.106,
          0.468,
          0.149,
          0.215,
          0.138,
          0.089,
          0.023,
          0.388,
          0.125,
          0.197,
          0.106,
          0.178,
          0.188,
          0.13,
          0.02,
          0.185,
          0.152,
          0.143,
          0.165,
          0,
          0.032,
          0.147,
          0.225,
          0.214,
          0.241,
          0.23,
          0.087,
          0.186,
          0.166,
          0.127,
          0.195,
          0.222,
          0.175,
          0.322,
          0.029,
          0.181,
          0.073,
          0.128,
          0.067,
          0.038,
          0.452,
          0.15,
          0.143,
          0.041,
          0.182,
          0.205,
          0.09,
          0.088,
          0.058,
          0.174,
          0.198,
          0.203,
          0.14,
          0.248,
          0.202,
          0.076,
          0.012,
          0.187,
          0.106,
          0.082,
          0.089
         ],
         "yaxis": "y"
        },
        {
         "hovertemplate": "<b>OLS trendline</b><br>Generosity = 4.85929e-06 * Happiness score + 0.12039<br>R<sup>2</sup>=0.004068<br><br>Happiness score=%{x}<br>Generosity=%{y} <b>(trend)</b><extra></extra>",
         "legendgroup": "",
         "marker": {
          "color": "#636efa",
          "symbol": "circle"
         },
         "mode": "lines",
         "name": "",
         "showlegend": false,
         "type": "scatter",
         "x": [
          2404,
          2955,
          2995,
          3268,
          3471,
          3512,
          3574,
          3702,
          3750,
          3760,
          3777,
          4112,
          4152,
          4153,
          4197,
          4241,
          4251,
          4288,
          4339,
          4362,
          4394,
          4396,
          4459,
          4479,
          4483,
          4516,
          4516,
          4543,
          4552,
          4603,
          4609,
          4623,
          4640,
          4670,
          4744,
          4872,
          4888,
          4891,
          4925,
          4941,
          4958,
          4973,
          5003,
          5046,
          5048,
          5048,
          5060,
          5075,
          5084,
          5122,
          5122,
          5140,
          5155,
          5164,
          5173,
          5194,
          5199,
          5199,
          5235,
          5240,
          5330,
          5371,
          5377,
          5377,
          5399,
          5425,
          5459,
          5467,
          5474,
          5485,
          5533,
          5547,
          5559,
          5578,
          5585,
          5600,
          5711,
          5737,
          5761,
          5768,
          5781,
          5821,
          5828,
          5850,
          5857,
          5891,
          5904,
          5935,
          5948,
          5967,
          6016,
          6022,
          6039,
          6063,
          6071,
          6086,
          6106,
          6120,
          6123,
          6125,
          6128,
          6165,
          6172,
          6178,
          6180,
          6221,
          6234,
          6262,
          6293,
          6309,
          6341,
          6391,
          6446,
          6447,
          6455,
          6467,
          6474,
          6476,
          6477,
          6480,
          6512,
          6523,
          6576,
          6582,
          6630,
          6647,
          6687,
          6805,
          6920,
          6943,
          6977,
          7025,
          7034,
          7041,
          7162,
          7163,
          7200,
          7364,
          7365,
          7384,
          7404,
          7415,
          7512,
          7557,
          7636,
          7821
         ],
         "xaxis": "x",
         "y": [
          0.1320720233919193,
          0.13474949025245203,
          0.13494386171238182,
          0.13627044692640258,
          0.1372568820855462,
          0.13745611283197423,
          0.1377573885948654,
          0.1383793772666407,
          0.13861262301855642,
          0.13866121588353889,
          0.13874382375400904,
          0.14037168473092096,
          0.14056605619085072,
          0.14057091547734898,
          0.14078472408327172,
          0.1409985326891945,
          0.14104712555417695,
          0.141226919154612,
          0.14147474276602245,
          0.1415865063554821,
          0.14174200352342592,
          0.1417517220964224,
          0.1420578571458118,
          0.14215504287577668,
          0.14217448002176966,
          0.14233483647621173,
          0.14233483647621173,
          0.14246603721166434,
          0.14250977079014854,
          0.142757594401559,
          0.14278675012054848,
          0.1428547801315239,
          0.14293738800199407,
          0.1430831665969414,
          0.1434427537978115,
          0.14406474246958678,
          0.1441424910535587,
          0.14415706891305344,
          0.14432228465399374,
          0.14440003323796566,
          0.1444826411084358,
          0.1445555304059095,
          0.14470130900085681,
          0.14491025832028132,
          0.14491997689327782,
          0.14491997689327782,
          0.14497828833125675,
          0.14505117762873043,
          0.14509491120721463,
          0.1452795640941479,
          0.1452795640941479,
          0.14536703125111633,
          0.14543992054858998,
          0.14548365412707417,
          0.1455273877055584,
          0.14562943272202153,
          0.14565372915451275,
          0.14565372915451275,
          0.14582866346844955,
          0.14585295990094077,
          0.14629029568578278,
          0.1464895264322108,
          0.14651868215120026,
          0.14651868215120026,
          0.14662558645416165,
          0.146751927903116,
          0.1469171436440563,
          0.14695601793604227,
          0.14699003294152999,
          0.14704348509301068,
          0.1472767308449264,
          0.14734476085590184,
          0.14740307229388078,
          0.1474953987373474,
          0.14752941374283512,
          0.1476023030403088,
          0.14814168384161394,
          0.1482680252905683,
          0.14838464816652616,
          0.14841866317201388,
          0.14848183389649106,
          0.14867620535642084,
          0.14871022036190853,
          0.14881712466486993,
          0.14885113967035762,
          0.14901635541129796,
          0.14907952613577513,
          0.1492301640172207,
          0.14929333474169787,
          0.14938566118516453,
          0.1496237662235785,
          0.149652921942568,
          0.14973552981303814,
          0.14985215268899602,
          0.14989102698098197,
          0.14996391627845562,
          0.15006110200842052,
          0.15012913201939593,
          0.15014370987889067,
          0.15015342845188717,
          0.15016800631138189,
          0.15034779991181696,
          0.15038181491730465,
          0.15041097063629413,
          0.1504206892092906,
          0.15061991995571863,
          0.1506830906801958,
          0.15081915070214666,
          0.15096978858359225,
          0.15104753716756417,
          0.15120303433550797,
          0.15144599866042022,
          0.15171325941782365,
          0.1517181187043219,
          0.15175699299630785,
          0.15181530443428679,
          0.1518493194397745,
          0.15185903801277098,
          0.15186389729926925,
          0.15187847515876396,
          0.1520339723267078,
          0.1520874244781885,
          0.15234496666259545,
          0.1523741223815849,
          0.15260736813350065,
          0.1526899760039708,
          0.1528843474639006,
          0.15345774327069345,
          0.15401656121799157,
          0.15412832480745117,
          0.1542935405483915,
          0.15452678630030722,
          0.15457051987879145,
          0.15460453488427914,
          0.15519250855056674,
          0.15519736783706498,
          0.15537716143750002,
          0.15617408442321212,
          0.15617894370971036,
          0.15627127015317702,
          0.1563684558831419,
          0.15642190803462258,
          0.1568932588249523,
          0.1571119267173733,
          0.15749581035073462,
          0.15839477835290988
         ],
         "yaxis": "y"
        }
       ],
       "layout": {
        "legend": {
         "tracegroupgap": 0
        },
        "template": {
         "data": {
          "bar": [
           {
            "error_x": {
             "color": "#2a3f5f"
            },
            "error_y": {
             "color": "#2a3f5f"
            },
            "marker": {
             "line": {
              "color": "#E5ECF6",
              "width": 0.5
             },
             "pattern": {
              "fillmode": "overlay",
              "size": 10,
              "solidity": 0.2
             }
            },
            "type": "bar"
           }
          ],
          "barpolar": [
           {
            "marker": {
             "line": {
              "color": "#E5ECF6",
              "width": 0.5
             },
             "pattern": {
              "fillmode": "overlay",
              "size": 10,
              "solidity": 0.2
             }
            },
            "type": "barpolar"
           }
          ],
          "carpet": [
           {
            "aaxis": {
             "endlinecolor": "#2a3f5f",
             "gridcolor": "white",
             "linecolor": "white",
             "minorgridcolor": "white",
             "startlinecolor": "#2a3f5f"
            },
            "baxis": {
             "endlinecolor": "#2a3f5f",
             "gridcolor": "white",
             "linecolor": "white",
             "minorgridcolor": "white",
             "startlinecolor": "#2a3f5f"
            },
            "type": "carpet"
           }
          ],
          "choropleth": [
           {
            "colorbar": {
             "outlinewidth": 0,
             "ticks": ""
            },
            "type": "choropleth"
           }
          ],
          "contour": [
           {
            "colorbar": {
             "outlinewidth": 0,
             "ticks": ""
            },
            "colorscale": [
             [
              0,
              "#0d0887"
             ],
             [
              0.1111111111111111,
              "#46039f"
             ],
             [
              0.2222222222222222,
              "#7201a8"
             ],
             [
              0.3333333333333333,
              "#9c179e"
             ],
             [
              0.4444444444444444,
              "#bd3786"
             ],
             [
              0.5555555555555556,
              "#d8576b"
             ],
             [
              0.6666666666666666,
              "#ed7953"
             ],
             [
              0.7777777777777778,
              "#fb9f3a"
             ],
             [
              0.8888888888888888,
              "#fdca26"
             ],
             [
              1,
              "#f0f921"
             ]
            ],
            "type": "contour"
           }
          ],
          "contourcarpet": [
           {
            "colorbar": {
             "outlinewidth": 0,
             "ticks": ""
            },
            "type": "contourcarpet"
           }
          ],
          "heatmap": [
           {
            "colorbar": {
             "outlinewidth": 0,
             "ticks": ""
            },
            "colorscale": [
             [
              0,
              "#0d0887"
             ],
             [
              0.1111111111111111,
              "#46039f"
             ],
             [
              0.2222222222222222,
              "#7201a8"
             ],
             [
              0.3333333333333333,
              "#9c179e"
             ],
             [
              0.4444444444444444,
              "#bd3786"
             ],
             [
              0.5555555555555556,
              "#d8576b"
             ],
             [
              0.6666666666666666,
              "#ed7953"
             ],
             [
              0.7777777777777778,
              "#fb9f3a"
             ],
             [
              0.8888888888888888,
              "#fdca26"
             ],
             [
              1,
              "#f0f921"
             ]
            ],
            "type": "heatmap"
           }
          ],
          "heatmapgl": [
           {
            "colorbar": {
             "outlinewidth": 0,
             "ticks": ""
            },
            "colorscale": [
             [
              0,
              "#0d0887"
             ],
             [
              0.1111111111111111,
              "#46039f"
             ],
             [
              0.2222222222222222,
              "#7201a8"
             ],
             [
              0.3333333333333333,
              "#9c179e"
             ],
             [
              0.4444444444444444,
              "#bd3786"
             ],
             [
              0.5555555555555556,
              "#d8576b"
             ],
             [
              0.6666666666666666,
              "#ed7953"
             ],
             [
              0.7777777777777778,
              "#fb9f3a"
             ],
             [
              0.8888888888888888,
              "#fdca26"
             ],
             [
              1,
              "#f0f921"
             ]
            ],
            "type": "heatmapgl"
           }
          ],
          "histogram": [
           {
            "marker": {
             "pattern": {
              "fillmode": "overlay",
              "size": 10,
              "solidity": 0.2
             }
            },
            "type": "histogram"
           }
          ],
          "histogram2d": [
           {
            "colorbar": {
             "outlinewidth": 0,
             "ticks": ""
            },
            "colorscale": [
             [
              0,
              "#0d0887"
             ],
             [
              0.1111111111111111,
              "#46039f"
             ],
             [
              0.2222222222222222,
              "#7201a8"
             ],
             [
              0.3333333333333333,
              "#9c179e"
             ],
             [
              0.4444444444444444,
              "#bd3786"
             ],
             [
              0.5555555555555556,
              "#d8576b"
             ],
             [
              0.6666666666666666,
              "#ed7953"
             ],
             [
              0.7777777777777778,
              "#fb9f3a"
             ],
             [
              0.8888888888888888,
              "#fdca26"
             ],
             [
              1,
              "#f0f921"
             ]
            ],
            "type": "histogram2d"
           }
          ],
          "histogram2dcontour": [
           {
            "colorbar": {
             "outlinewidth": 0,
             "ticks": ""
            },
            "colorscale": [
             [
              0,
              "#0d0887"
             ],
             [
              0.1111111111111111,
              "#46039f"
             ],
             [
              0.2222222222222222,
              "#7201a8"
             ],
             [
              0.3333333333333333,
              "#9c179e"
             ],
             [
              0.4444444444444444,
              "#bd3786"
             ],
             [
              0.5555555555555556,
              "#d8576b"
             ],
             [
              0.6666666666666666,
              "#ed7953"
             ],
             [
              0.7777777777777778,
              "#fb9f3a"
             ],
             [
              0.8888888888888888,
              "#fdca26"
             ],
             [
              1,
              "#f0f921"
             ]
            ],
            "type": "histogram2dcontour"
           }
          ],
          "mesh3d": [
           {
            "colorbar": {
             "outlinewidth": 0,
             "ticks": ""
            },
            "type": "mesh3d"
           }
          ],
          "parcoords": [
           {
            "line": {
             "colorbar": {
              "outlinewidth": 0,
              "ticks": ""
             }
            },
            "type": "parcoords"
           }
          ],
          "pie": [
           {
            "automargin": true,
            "type": "pie"
           }
          ],
          "scatter": [
           {
            "fillpattern": {
             "fillmode": "overlay",
             "size": 10,
             "solidity": 0.2
            },
            "type": "scatter"
           }
          ],
          "scatter3d": [
           {
            "line": {
             "colorbar": {
              "outlinewidth": 0,
              "ticks": ""
             }
            },
            "marker": {
             "colorbar": {
              "outlinewidth": 0,
              "ticks": ""
             }
            },
            "type": "scatter3d"
           }
          ],
          "scattercarpet": [
           {
            "marker": {
             "colorbar": {
              "outlinewidth": 0,
              "ticks": ""
             }
            },
            "type": "scattercarpet"
           }
          ],
          "scattergeo": [
           {
            "marker": {
             "colorbar": {
              "outlinewidth": 0,
              "ticks": ""
             }
            },
            "type": "scattergeo"
           }
          ],
          "scattergl": [
           {
            "marker": {
             "colorbar": {
              "outlinewidth": 0,
              "ticks": ""
             }
            },
            "type": "scattergl"
           }
          ],
          "scattermapbox": [
           {
            "marker": {
             "colorbar": {
              "outlinewidth": 0,
              "ticks": ""
             }
            },
            "type": "scattermapbox"
           }
          ],
          "scatterpolar": [
           {
            "marker": {
             "colorbar": {
              "outlinewidth": 0,
              "ticks": ""
             }
            },
            "type": "scatterpolar"
           }
          ],
          "scatterpolargl": [
           {
            "marker": {
             "colorbar": {
              "outlinewidth": 0,
              "ticks": ""
             }
            },
            "type": "scatterpolargl"
           }
          ],
          "scatterternary": [
           {
            "marker": {
             "colorbar": {
              "outlinewidth": 0,
              "ticks": ""
             }
            },
            "type": "scatterternary"
           }
          ],
          "surface": [
           {
            "colorbar": {
             "outlinewidth": 0,
             "ticks": ""
            },
            "colorscale": [
             [
              0,
              "#0d0887"
             ],
             [
              0.1111111111111111,
              "#46039f"
             ],
             [
              0.2222222222222222,
              "#7201a8"
             ],
             [
              0.3333333333333333,
              "#9c179e"
             ],
             [
              0.4444444444444444,
              "#bd3786"
             ],
             [
              0.5555555555555556,
              "#d8576b"
             ],
             [
              0.6666666666666666,
              "#ed7953"
             ],
             [
              0.7777777777777778,
              "#fb9f3a"
             ],
             [
              0.8888888888888888,
              "#fdca26"
             ],
             [
              1,
              "#f0f921"
             ]
            ],
            "type": "surface"
           }
          ],
          "table": [
           {
            "cells": {
             "fill": {
              "color": "#EBF0F8"
             },
             "line": {
              "color": "white"
             }
            },
            "header": {
             "fill": {
              "color": "#C8D4E3"
             },
             "line": {
              "color": "white"
             }
            },
            "type": "table"
           }
          ]
         },
         "layout": {
          "annotationdefaults": {
           "arrowcolor": "#2a3f5f",
           "arrowhead": 0,
           "arrowwidth": 1
          },
          "autotypenumbers": "strict",
          "coloraxis": {
           "colorbar": {
            "outlinewidth": 0,
            "ticks": ""
           }
          },
          "colorscale": {
           "diverging": [
            [
             0,
             "#8e0152"
            ],
            [
             0.1,
             "#c51b7d"
            ],
            [
             0.2,
             "#de77ae"
            ],
            [
             0.3,
             "#f1b6da"
            ],
            [
             0.4,
             "#fde0ef"
            ],
            [
             0.5,
             "#f7f7f7"
            ],
            [
             0.6,
             "#e6f5d0"
            ],
            [
             0.7,
             "#b8e186"
            ],
            [
             0.8,
             "#7fbc41"
            ],
            [
             0.9,
             "#4d9221"
            ],
            [
             1,
             "#276419"
            ]
           ],
           "sequential": [
            [
             0,
             "#0d0887"
            ],
            [
             0.1111111111111111,
             "#46039f"
            ],
            [
             0.2222222222222222,
             "#7201a8"
            ],
            [
             0.3333333333333333,
             "#9c179e"
            ],
            [
             0.4444444444444444,
             "#bd3786"
            ],
            [
             0.5555555555555556,
             "#d8576b"
            ],
            [
             0.6666666666666666,
             "#ed7953"
            ],
            [
             0.7777777777777778,
             "#fb9f3a"
            ],
            [
             0.8888888888888888,
             "#fdca26"
            ],
            [
             1,
             "#f0f921"
            ]
           ],
           "sequentialminus": [
            [
             0,
             "#0d0887"
            ],
            [
             0.1111111111111111,
             "#46039f"
            ],
            [
             0.2222222222222222,
             "#7201a8"
            ],
            [
             0.3333333333333333,
             "#9c179e"
            ],
            [
             0.4444444444444444,
             "#bd3786"
            ],
            [
             0.5555555555555556,
             "#d8576b"
            ],
            [
             0.6666666666666666,
             "#ed7953"
            ],
            [
             0.7777777777777778,
             "#fb9f3a"
            ],
            [
             0.8888888888888888,
             "#fdca26"
            ],
            [
             1,
             "#f0f921"
            ]
           ]
          },
          "colorway": [
           "#636efa",
           "#EF553B",
           "#00cc96",
           "#ab63fa",
           "#FFA15A",
           "#19d3f3",
           "#FF6692",
           "#B6E880",
           "#FF97FF",
           "#FECB52"
          ],
          "font": {
           "color": "#2a3f5f"
          },
          "geo": {
           "bgcolor": "white",
           "lakecolor": "white",
           "landcolor": "#E5ECF6",
           "showlakes": true,
           "showland": true,
           "subunitcolor": "white"
          },
          "hoverlabel": {
           "align": "left"
          },
          "hovermode": "closest",
          "mapbox": {
           "style": "light"
          },
          "paper_bgcolor": "white",
          "plot_bgcolor": "#E5ECF6",
          "polar": {
           "angularaxis": {
            "gridcolor": "white",
            "linecolor": "white",
            "ticks": ""
           },
           "bgcolor": "#E5ECF6",
           "radialaxis": {
            "gridcolor": "white",
            "linecolor": "white",
            "ticks": ""
           }
          },
          "scene": {
           "xaxis": {
            "backgroundcolor": "#E5ECF6",
            "gridcolor": "white",
            "gridwidth": 2,
            "linecolor": "white",
            "showbackground": true,
            "ticks": "",
            "zerolinecolor": "white"
           },
           "yaxis": {
            "backgroundcolor": "#E5ECF6",
            "gridcolor": "white",
            "gridwidth": 2,
            "linecolor": "white",
            "showbackground": true,
            "ticks": "",
            "zerolinecolor": "white"
           },
           "zaxis": {
            "backgroundcolor": "#E5ECF6",
            "gridcolor": "white",
            "gridwidth": 2,
            "linecolor": "white",
            "showbackground": true,
            "ticks": "",
            "zerolinecolor": "white"
           }
          },
          "shapedefaults": {
           "line": {
            "color": "#2a3f5f"
           }
          },
          "ternary": {
           "aaxis": {
            "gridcolor": "white",
            "linecolor": "white",
            "ticks": ""
           },
           "baxis": {
            "gridcolor": "white",
            "linecolor": "white",
            "ticks": ""
           },
           "bgcolor": "#E5ECF6",
           "caxis": {
            "gridcolor": "white",
            "linecolor": "white",
            "ticks": ""
           }
          },
          "title": {
           "x": 0.05
          },
          "xaxis": {
           "automargin": true,
           "gridcolor": "white",
           "linecolor": "white",
           "ticks": "",
           "title": {
            "standoff": 15
           },
           "zerolinecolor": "white",
           "zerolinewidth": 2
          },
          "yaxis": {
           "automargin": true,
           "gridcolor": "white",
           "linecolor": "white",
           "ticks": "",
           "title": {
            "standoff": 15
           },
           "zerolinecolor": "white",
           "zerolinewidth": 2
          }
         }
        },
        "title": {
         "text": "Corelation between Happiness score and Generosity "
        },
        "xaxis": {
         "anchor": "y",
         "domain": [
          0,
          1
         ],
         "title": {
          "text": "Happiness score"
         }
        },
        "yaxis": {
         "anchor": "x",
         "domain": [
          0,
          1
         ],
         "title": {
          "text": "Generosity"
         }
        }
       }
      },
      "text/html": [
       "<div>                            <div id=\"d3408819-e5b1-4a50-9645-9a3f22fff432\" class=\"plotly-graph-div\" style=\"height:525px; width:100%;\"></div>            <script type=\"text/javascript\">                require([\"plotly\"], function(Plotly) {                    window.PLOTLYENV=window.PLOTLYENV || {};                                    if (document.getElementById(\"d3408819-e5b1-4a50-9645-9a3f22fff432\")) {                    Plotly.newPlot(                        \"d3408819-e5b1-4a50-9645-9a3f22fff432\",                        [{\"hovertemplate\":\"Happiness score=%{x}<br>Generosity=%{y}<extra></extra>\",\"legendgroup\":\"\",\"marker\":{\"color\":\"#636efa\",\"symbol\":\"circle\"},\"mode\":\"markers\",\"name\":\"\",\"orientation\":\"v\",\"showlegend\":false,\"x\":[7821,7636,7557,7512,7415,7404,7384,7365,7364,7200,7163,7162,7041,7034,7025,6977,6943,6920,6805,6687,6647,6630,6582,6576,6523,6512,6480,6477,6476,6474,6467,6455,6447,6446,6391,6341,6309,6293,6262,6234,6221,6180,6178,6172,6165,6128,6125,6123,6120,6106,6086,6071,6063,6039,6022,6016,5967,5948,5935,5904,5891,5857,5850,5828,5821,5781,5768,5761,5737,5711,5600,5585,5578,5559,5547,5533,5485,5474,5467,5459,5425,5399,5377,5377,5371,5330,5240,5235,5199,5199,5194,5173,5164,5155,5140,5122,5122,5084,5075,5060,5048,5048,5046,5003,4973,4958,4941,4925,4891,4888,4872,4744,4670,4640,4623,4609,4603,4552,4543,4516,4516,4483,4479,4459,4396,4394,4362,4339,4288,4251,4241,4197,4153,4152,4112,3777,3760,3750,3702,3574,3512,3471,3268,2995,2955,2404],\"xaxis\":\"x\",\"y\":[0.109,0.188,0.27,0.147,0.271,0.12,0.218,0.217,0.155,0.245,0.193,0.258,0.19,0.163,0.217,0.22,0.289,0.158,0.049,0.07,0.199,0.118,0.089,0.204,0.078,0.075,0.163,0.039,0.101,0.103,0.085,0.309,0.174,0.053,0.118,0.123,0.049,0.131,0.112,0.134,0.123,0.075,0.219,0.124,0.168,0.092,0.109,0.124,0.089,0.087,0.078,0.131,0.283,0.007,0.202,0.016,0.081,0.015,0.111,0.107,0.321,0.102,0.08,0.208,0.04,0.087,0.244,0.247,0.084,0.213,0.112,0.099,0.171,0.09,0.135,0.08,0.143,0.314,0.13,0.117,0.147,0.054,0.118,0.237,0.123,0.106,0.468,0.149,0.215,0.138,0.089,0.023,0.388,0.125,0.197,0.106,0.178,0.188,0.13,0.02,0.185,0.152,0.143,0.165,0.0,0.032,0.147,0.225,0.214,0.241,0.23,0.087,0.186,0.166,0.127,0.195,0.222,0.175,0.322,0.029,0.181,0.073,0.128,0.067,0.038,0.452,0.15,0.143,0.041,0.182,0.205,0.09,0.088,0.058,0.174,0.198,0.203,0.14,0.248,0.202,0.076,0.012,0.187,0.106,0.082,0.089],\"yaxis\":\"y\",\"type\":\"scatter\"},{\"hovertemplate\":\"<b>OLS trendline</b><br>Generosity = 4.85929e-06 * Happiness score + 0.12039<br>R<sup>2</sup>=0.004068<br><br>Happiness score=%{x}<br>Generosity=%{y} <b>(trend)</b><extra></extra>\",\"legendgroup\":\"\",\"marker\":{\"color\":\"#636efa\",\"symbol\":\"circle\"},\"mode\":\"lines\",\"name\":\"\",\"showlegend\":false,\"x\":[2404,2955,2995,3268,3471,3512,3574,3702,3750,3760,3777,4112,4152,4153,4197,4241,4251,4288,4339,4362,4394,4396,4459,4479,4483,4516,4516,4543,4552,4603,4609,4623,4640,4670,4744,4872,4888,4891,4925,4941,4958,4973,5003,5046,5048,5048,5060,5075,5084,5122,5122,5140,5155,5164,5173,5194,5199,5199,5235,5240,5330,5371,5377,5377,5399,5425,5459,5467,5474,5485,5533,5547,5559,5578,5585,5600,5711,5737,5761,5768,5781,5821,5828,5850,5857,5891,5904,5935,5948,5967,6016,6022,6039,6063,6071,6086,6106,6120,6123,6125,6128,6165,6172,6178,6180,6221,6234,6262,6293,6309,6341,6391,6446,6447,6455,6467,6474,6476,6477,6480,6512,6523,6576,6582,6630,6647,6687,6805,6920,6943,6977,7025,7034,7041,7162,7163,7200,7364,7365,7384,7404,7415,7512,7557,7636,7821],\"xaxis\":\"x\",\"y\":[0.1320720233919193,0.13474949025245203,0.13494386171238182,0.13627044692640258,0.1372568820855462,0.13745611283197423,0.1377573885948654,0.1383793772666407,0.13861262301855642,0.13866121588353889,0.13874382375400904,0.14037168473092096,0.14056605619085072,0.14057091547734898,0.14078472408327172,0.1409985326891945,0.14104712555417695,0.141226919154612,0.14147474276602245,0.1415865063554821,0.14174200352342592,0.1417517220964224,0.1420578571458118,0.14215504287577668,0.14217448002176966,0.14233483647621173,0.14233483647621173,0.14246603721166434,0.14250977079014854,0.142757594401559,0.14278675012054848,0.1428547801315239,0.14293738800199407,0.1430831665969414,0.1434427537978115,0.14406474246958678,0.1441424910535587,0.14415706891305344,0.14432228465399374,0.14440003323796566,0.1444826411084358,0.1445555304059095,0.14470130900085681,0.14491025832028132,0.14491997689327782,0.14491997689327782,0.14497828833125675,0.14505117762873043,0.14509491120721463,0.1452795640941479,0.1452795640941479,0.14536703125111633,0.14543992054858998,0.14548365412707417,0.1455273877055584,0.14562943272202153,0.14565372915451275,0.14565372915451275,0.14582866346844955,0.14585295990094077,0.14629029568578278,0.1464895264322108,0.14651868215120026,0.14651868215120026,0.14662558645416165,0.146751927903116,0.1469171436440563,0.14695601793604227,0.14699003294152999,0.14704348509301068,0.1472767308449264,0.14734476085590184,0.14740307229388078,0.1474953987373474,0.14752941374283512,0.1476023030403088,0.14814168384161394,0.1482680252905683,0.14838464816652616,0.14841866317201388,0.14848183389649106,0.14867620535642084,0.14871022036190853,0.14881712466486993,0.14885113967035762,0.14901635541129796,0.14907952613577513,0.1492301640172207,0.14929333474169787,0.14938566118516453,0.1496237662235785,0.149652921942568,0.14973552981303814,0.14985215268899602,0.14989102698098197,0.14996391627845562,0.15006110200842052,0.15012913201939593,0.15014370987889067,0.15015342845188717,0.15016800631138189,0.15034779991181696,0.15038181491730465,0.15041097063629413,0.1504206892092906,0.15061991995571863,0.1506830906801958,0.15081915070214666,0.15096978858359225,0.15104753716756417,0.15120303433550797,0.15144599866042022,0.15171325941782365,0.1517181187043219,0.15175699299630785,0.15181530443428679,0.1518493194397745,0.15185903801277098,0.15186389729926925,0.15187847515876396,0.1520339723267078,0.1520874244781885,0.15234496666259545,0.1523741223815849,0.15260736813350065,0.1526899760039708,0.1528843474639006,0.15345774327069345,0.15401656121799157,0.15412832480745117,0.1542935405483915,0.15452678630030722,0.15457051987879145,0.15460453488427914,0.15519250855056674,0.15519736783706498,0.15537716143750002,0.15617408442321212,0.15617894370971036,0.15627127015317702,0.1563684558831419,0.15642190803462258,0.1568932588249523,0.1571119267173733,0.15749581035073462,0.15839477835290988],\"yaxis\":\"y\",\"type\":\"scatter\"}],                        {\"template\":{\"data\":{\"histogram2dcontour\":[{\"type\":\"histogram2dcontour\",\"colorbar\":{\"outlinewidth\":0,\"ticks\":\"\"},\"colorscale\":[[0.0,\"#0d0887\"],[0.1111111111111111,\"#46039f\"],[0.2222222222222222,\"#7201a8\"],[0.3333333333333333,\"#9c179e\"],[0.4444444444444444,\"#bd3786\"],[0.5555555555555556,\"#d8576b\"],[0.6666666666666666,\"#ed7953\"],[0.7777777777777778,\"#fb9f3a\"],[0.8888888888888888,\"#fdca26\"],[1.0,\"#f0f921\"]]}],\"choropleth\":[{\"type\":\"choropleth\",\"colorbar\":{\"outlinewidth\":0,\"ticks\":\"\"}}],\"histogram2d\":[{\"type\":\"histogram2d\",\"colorbar\":{\"outlinewidth\":0,\"ticks\":\"\"},\"colorscale\":[[0.0,\"#0d0887\"],[0.1111111111111111,\"#46039f\"],[0.2222222222222222,\"#7201a8\"],[0.3333333333333333,\"#9c179e\"],[0.4444444444444444,\"#bd3786\"],[0.5555555555555556,\"#d8576b\"],[0.6666666666666666,\"#ed7953\"],[0.7777777777777778,\"#fb9f3a\"],[0.8888888888888888,\"#fdca26\"],[1.0,\"#f0f921\"]]}],\"heatmap\":[{\"type\":\"heatmap\",\"colorbar\":{\"outlinewidth\":0,\"ticks\":\"\"},\"colorscale\":[[0.0,\"#0d0887\"],[0.1111111111111111,\"#46039f\"],[0.2222222222222222,\"#7201a8\"],[0.3333333333333333,\"#9c179e\"],[0.4444444444444444,\"#bd3786\"],[0.5555555555555556,\"#d8576b\"],[0.6666666666666666,\"#ed7953\"],[0.7777777777777778,\"#fb9f3a\"],[0.8888888888888888,\"#fdca26\"],[1.0,\"#f0f921\"]]}],\"heatmapgl\":[{\"type\":\"heatmapgl\",\"colorbar\":{\"outlinewidth\":0,\"ticks\":\"\"},\"colorscale\":[[0.0,\"#0d0887\"],[0.1111111111111111,\"#46039f\"],[0.2222222222222222,\"#7201a8\"],[0.3333333333333333,\"#9c179e\"],[0.4444444444444444,\"#bd3786\"],[0.5555555555555556,\"#d8576b\"],[0.6666666666666666,\"#ed7953\"],[0.7777777777777778,\"#fb9f3a\"],[0.8888888888888888,\"#fdca26\"],[1.0,\"#f0f921\"]]}],\"contourcarpet\":[{\"type\":\"contourcarpet\",\"colorbar\":{\"outlinewidth\":0,\"ticks\":\"\"}}],\"contour\":[{\"type\":\"contour\",\"colorbar\":{\"outlinewidth\":0,\"ticks\":\"\"},\"colorscale\":[[0.0,\"#0d0887\"],[0.1111111111111111,\"#46039f\"],[0.2222222222222222,\"#7201a8\"],[0.3333333333333333,\"#9c179e\"],[0.4444444444444444,\"#bd3786\"],[0.5555555555555556,\"#d8576b\"],[0.6666666666666666,\"#ed7953\"],[0.7777777777777778,\"#fb9f3a\"],[0.8888888888888888,\"#fdca26\"],[1.0,\"#f0f921\"]]}],\"surface\":[{\"type\":\"surface\",\"colorbar\":{\"outlinewidth\":0,\"ticks\":\"\"},\"colorscale\":[[0.0,\"#0d0887\"],[0.1111111111111111,\"#46039f\"],[0.2222222222222222,\"#7201a8\"],[0.3333333333333333,\"#9c179e\"],[0.4444444444444444,\"#bd3786\"],[0.5555555555555556,\"#d8576b\"],[0.6666666666666666,\"#ed7953\"],[0.7777777777777778,\"#fb9f3a\"],[0.8888888888888888,\"#fdca26\"],[1.0,\"#f0f921\"]]}],\"mesh3d\":[{\"type\":\"mesh3d\",\"colorbar\":{\"outlinewidth\":0,\"ticks\":\"\"}}],\"scatter\":[{\"fillpattern\":{\"fillmode\":\"overlay\",\"size\":10,\"solidity\":0.2},\"type\":\"scatter\"}],\"parcoords\":[{\"type\":\"parcoords\",\"line\":{\"colorbar\":{\"outlinewidth\":0,\"ticks\":\"\"}}}],\"scatterpolargl\":[{\"type\":\"scatterpolargl\",\"marker\":{\"colorbar\":{\"outlinewidth\":0,\"ticks\":\"\"}}}],\"bar\":[{\"error_x\":{\"color\":\"#2a3f5f\"},\"error_y\":{\"color\":\"#2a3f5f\"},\"marker\":{\"line\":{\"color\":\"#E5ECF6\",\"width\":0.5},\"pattern\":{\"fillmode\":\"overlay\",\"size\":10,\"solidity\":0.2}},\"type\":\"bar\"}],\"scattergeo\":[{\"type\":\"scattergeo\",\"marker\":{\"colorbar\":{\"outlinewidth\":0,\"ticks\":\"\"}}}],\"scatterpolar\":[{\"type\":\"scatterpolar\",\"marker\":{\"colorbar\":{\"outlinewidth\":0,\"ticks\":\"\"}}}],\"histogram\":[{\"marker\":{\"pattern\":{\"fillmode\":\"overlay\",\"size\":10,\"solidity\":0.2}},\"type\":\"histogram\"}],\"scattergl\":[{\"type\":\"scattergl\",\"marker\":{\"colorbar\":{\"outlinewidth\":0,\"ticks\":\"\"}}}],\"scatter3d\":[{\"type\":\"scatter3d\",\"line\":{\"colorbar\":{\"outlinewidth\":0,\"ticks\":\"\"}},\"marker\":{\"colorbar\":{\"outlinewidth\":0,\"ticks\":\"\"}}}],\"scattermapbox\":[{\"type\":\"scattermapbox\",\"marker\":{\"colorbar\":{\"outlinewidth\":0,\"ticks\":\"\"}}}],\"scatterternary\":[{\"type\":\"scatterternary\",\"marker\":{\"colorbar\":{\"outlinewidth\":0,\"ticks\":\"\"}}}],\"scattercarpet\":[{\"type\":\"scattercarpet\",\"marker\":{\"colorbar\":{\"outlinewidth\":0,\"ticks\":\"\"}}}],\"carpet\":[{\"aaxis\":{\"endlinecolor\":\"#2a3f5f\",\"gridcolor\":\"white\",\"linecolor\":\"white\",\"minorgridcolor\":\"white\",\"startlinecolor\":\"#2a3f5f\"},\"baxis\":{\"endlinecolor\":\"#2a3f5f\",\"gridcolor\":\"white\",\"linecolor\":\"white\",\"minorgridcolor\":\"white\",\"startlinecolor\":\"#2a3f5f\"},\"type\":\"carpet\"}],\"table\":[{\"cells\":{\"fill\":{\"color\":\"#EBF0F8\"},\"line\":{\"color\":\"white\"}},\"header\":{\"fill\":{\"color\":\"#C8D4E3\"},\"line\":{\"color\":\"white\"}},\"type\":\"table\"}],\"barpolar\":[{\"marker\":{\"line\":{\"color\":\"#E5ECF6\",\"width\":0.5},\"pattern\":{\"fillmode\":\"overlay\",\"size\":10,\"solidity\":0.2}},\"type\":\"barpolar\"}],\"pie\":[{\"automargin\":true,\"type\":\"pie\"}]},\"layout\":{\"autotypenumbers\":\"strict\",\"colorway\":[\"#636efa\",\"#EF553B\",\"#00cc96\",\"#ab63fa\",\"#FFA15A\",\"#19d3f3\",\"#FF6692\",\"#B6E880\",\"#FF97FF\",\"#FECB52\"],\"font\":{\"color\":\"#2a3f5f\"},\"hovermode\":\"closest\",\"hoverlabel\":{\"align\":\"left\"},\"paper_bgcolor\":\"white\",\"plot_bgcolor\":\"#E5ECF6\",\"polar\":{\"bgcolor\":\"#E5ECF6\",\"angularaxis\":{\"gridcolor\":\"white\",\"linecolor\":\"white\",\"ticks\":\"\"},\"radialaxis\":{\"gridcolor\":\"white\",\"linecolor\":\"white\",\"ticks\":\"\"}},\"ternary\":{\"bgcolor\":\"#E5ECF6\",\"aaxis\":{\"gridcolor\":\"white\",\"linecolor\":\"white\",\"ticks\":\"\"},\"baxis\":{\"gridcolor\":\"white\",\"linecolor\":\"white\",\"ticks\":\"\"},\"caxis\":{\"gridcolor\":\"white\",\"linecolor\":\"white\",\"ticks\":\"\"}},\"coloraxis\":{\"colorbar\":{\"outlinewidth\":0,\"ticks\":\"\"}},\"colorscale\":{\"sequential\":[[0.0,\"#0d0887\"],[0.1111111111111111,\"#46039f\"],[0.2222222222222222,\"#7201a8\"],[0.3333333333333333,\"#9c179e\"],[0.4444444444444444,\"#bd3786\"],[0.5555555555555556,\"#d8576b\"],[0.6666666666666666,\"#ed7953\"],[0.7777777777777778,\"#fb9f3a\"],[0.8888888888888888,\"#fdca26\"],[1.0,\"#f0f921\"]],\"sequentialminus\":[[0.0,\"#0d0887\"],[0.1111111111111111,\"#46039f\"],[0.2222222222222222,\"#7201a8\"],[0.3333333333333333,\"#9c179e\"],[0.4444444444444444,\"#bd3786\"],[0.5555555555555556,\"#d8576b\"],[0.6666666666666666,\"#ed7953\"],[0.7777777777777778,\"#fb9f3a\"],[0.8888888888888888,\"#fdca26\"],[1.0,\"#f0f921\"]],\"diverging\":[[0,\"#8e0152\"],[0.1,\"#c51b7d\"],[0.2,\"#de77ae\"],[0.3,\"#f1b6da\"],[0.4,\"#fde0ef\"],[0.5,\"#f7f7f7\"],[0.6,\"#e6f5d0\"],[0.7,\"#b8e186\"],[0.8,\"#7fbc41\"],[0.9,\"#4d9221\"],[1,\"#276419\"]]},\"xaxis\":{\"gridcolor\":\"white\",\"linecolor\":\"white\",\"ticks\":\"\",\"title\":{\"standoff\":15},\"zerolinecolor\":\"white\",\"automargin\":true,\"zerolinewidth\":2},\"yaxis\":{\"gridcolor\":\"white\",\"linecolor\":\"white\",\"ticks\":\"\",\"title\":{\"standoff\":15},\"zerolinecolor\":\"white\",\"automargin\":true,\"zerolinewidth\":2},\"scene\":{\"xaxis\":{\"backgroundcolor\":\"#E5ECF6\",\"gridcolor\":\"white\",\"linecolor\":\"white\",\"showbackground\":true,\"ticks\":\"\",\"zerolinecolor\":\"white\",\"gridwidth\":2},\"yaxis\":{\"backgroundcolor\":\"#E5ECF6\",\"gridcolor\":\"white\",\"linecolor\":\"white\",\"showbackground\":true,\"ticks\":\"\",\"zerolinecolor\":\"white\",\"gridwidth\":2},\"zaxis\":{\"backgroundcolor\":\"#E5ECF6\",\"gridcolor\":\"white\",\"linecolor\":\"white\",\"showbackground\":true,\"ticks\":\"\",\"zerolinecolor\":\"white\",\"gridwidth\":2}},\"shapedefaults\":{\"line\":{\"color\":\"#2a3f5f\"}},\"annotationdefaults\":{\"arrowcolor\":\"#2a3f5f\",\"arrowhead\":0,\"arrowwidth\":1},\"geo\":{\"bgcolor\":\"white\",\"landcolor\":\"#E5ECF6\",\"subunitcolor\":\"white\",\"showland\":true,\"showlakes\":true,\"lakecolor\":\"white\"},\"title\":{\"x\":0.05},\"mapbox\":{\"style\":\"light\"}}},\"xaxis\":{\"anchor\":\"y\",\"domain\":[0.0,1.0],\"title\":{\"text\":\"Happiness score\"}},\"yaxis\":{\"anchor\":\"x\",\"domain\":[0.0,1.0],\"title\":{\"text\":\"Generosity\"}},\"legend\":{\"tracegroupgap\":0},\"title\":{\"text\":\"Corelation between Happiness score and Generosity \"}},                        {\"responsive\": true}                    ).then(function(){\n",
       "                            \n",
       "var gd = document.getElementById('d3408819-e5b1-4a50-9645-9a3f22fff432');\n",
       "var x = new MutationObserver(function (mutations, observer) {{\n",
       "        var display = window.getComputedStyle(gd).display;\n",
       "        if (!display || display === 'none') {{\n",
       "            console.log([gd, 'removed!']);\n",
       "            Plotly.purge(gd);\n",
       "            observer.disconnect();\n",
       "        }}\n",
       "}});\n",
       "\n",
       "// Listen for the removal of the full notebook cells\n",
       "var notebookContainer = gd.closest('#notebook-container');\n",
       "if (notebookContainer) {{\n",
       "    x.observe(notebookContainer, {childList: true});\n",
       "}}\n",
       "\n",
       "// Listen for the clearing of the current output cell\n",
       "var outputEl = gd.closest('.output');\n",
       "if (outputEl) {{\n",
       "    x.observe(outputEl, {childList: true});\n",
       "}}\n",
       "\n",
       "                        })                };                });            </script>        </div>"
      ]
     },
     "metadata": {},
     "output_type": "display_data"
    }
   ],
   "source": [
    "## lets take a positive corelation \n",
    "#df.head()\n",
    "fig = px.scatter(df, x=df[\"Happiness score\"], y=df[\"Generosity\"],trendline=\"ols\"\n",
    "                 ,title='Corelation between Happiness score and Generosity ')\n",
    "fig.show()"
   ]
  },
  {
   "cell_type": "code",
   "execution_count": 32,
   "id": "2c357d20",
   "metadata": {},
   "outputs": [
    {
     "data": {
      "application/vnd.plotly.v1+json": {
       "config": {
        "plotlyServerURL": "https://plot.ly"
       },
       "data": [
        {
         "hovertemplate": "Happiness score=%{x}<br>Social support=%{y}<extra></extra>",
         "legendgroup": "",
         "marker": {
          "color": "#636efa",
          "symbol": "circle"
         },
         "mode": "markers",
         "name": "",
         "orientation": "v",
         "showlegend": false,
         "type": "scatter",
         "x": [
          7821,
          7636,
          7557,
          7512,
          7415,
          7404,
          7384,
          7365,
          7364,
          7200,
          7163,
          7162,
          7041,
          7034,
          7025,
          6977,
          6943,
          6920,
          6805,
          6687,
          6647,
          6630,
          6582,
          6576,
          6523,
          6512,
          6480,
          6477,
          6476,
          6474,
          6467,
          6455,
          6447,
          6446,
          6391,
          6341,
          6309,
          6293,
          6262,
          6234,
          6221,
          6180,
          6178,
          6172,
          6165,
          6128,
          6125,
          6123,
          6120,
          6106,
          6086,
          6071,
          6063,
          6039,
          6022,
          6016,
          5967,
          5948,
          5935,
          5904,
          5891,
          5857,
          5850,
          5828,
          5821,
          5781,
          5768,
          5761,
          5737,
          5711,
          5600,
          5585,
          5578,
          5559,
          5547,
          5533,
          5485,
          5474,
          5467,
          5459,
          5425,
          5399,
          5377,
          5377,
          5371,
          5330,
          5240,
          5235,
          5199,
          5199,
          5194,
          5173,
          5164,
          5155,
          5140,
          5122,
          5122,
          5084,
          5075,
          5060,
          5048,
          5048,
          5046,
          5003,
          4973,
          4958,
          4941,
          4925,
          4891,
          4888,
          4872,
          4744,
          4670,
          4640,
          4623,
          4609,
          4603,
          4552,
          4543,
          4516,
          4516,
          4483,
          4479,
          4459,
          4396,
          4394,
          4362,
          4339,
          4288,
          4251,
          4241,
          4197,
          4153,
          4152,
          4112,
          3777,
          3760,
          3750,
          3702,
          3574,
          3512,
          3471,
          3268,
          2995,
          2955,
          2404
         ],
         "xaxis": "x",
         "y": [
          1258,
          1243,
          1320,
          1226,
          1206,
          1155,
          1204,
          1239,
          1221,
          1235,
          1165,
          1203,
          1166,
          1088,
          1188,
          1182,
          1143,
          1260,
          1106,
          1219,
          1029,
          1249,
          1054,
          980,
          1092,
          1095,
          1127,
          1006,
          1211,
          1180,
          1052,
          949,
          1169,
          1204,
          1232,
          1232,
          1107,
          1044,
          831,
          1220,
          909,
          1221,
          1086,
          1080,
          1029,
          886,
          1183,
          1174,
          768,
          983,
          1233,
          1116,
          1092,
          1089,
          885,
          1078,
          1102,
          980,
          886,
          912,
          1096,
          1008,
          1045,
          1109,
          1157,
          929,
          1068,
          1197,
          1003,
          938,
          880,
          958,
          1130,
          865,
          1023,
          879,
          932,
          1319,
          888,
          1095,
          954,
          820,
          1005,
          784,
          1163,
          943,
          883,
          442,
          863,
          646,
          1088,
          1093,
          621,
          614,
          654,
          970,
          670,
          1081,
          405,
          268,
          660,
          672,
          530,
          560,
          612,
          738,
          682,
          968,
          566,
          741,
          595,
          865,
          565,
          732,
          64,
          476,
          875,
          732,
          605,
          596,
          413,
          957,
          483,
          877,
          786,
          829,
          934,
          645,
          732,
          506,
          809,
          1043,
          865,
          724,
          322,
          376,
          577,
          279,
          597,
          416,
          848,
          815,
          133,
          690,
          498,
          0
         ],
         "yaxis": "y"
        },
        {
         "hovertemplate": "<b>OLS trendline</b><br>Social support = 0.200492 * Happiness score + -207.585<br>R<sup>2</sup>=0.605111<br><br>Happiness score=%{x}<br>Social support=%{y} <b>(trend)</b><extra></extra>",
         "legendgroup": "",
         "marker": {
          "color": "#636efa",
          "symbol": "circle"
         },
         "mode": "lines",
         "name": "",
         "showlegend": false,
         "type": "scatter",
         "x": [
          2404,
          2955,
          2995,
          3268,
          3471,
          3512,
          3574,
          3702,
          3750,
          3760,
          3777,
          4112,
          4152,
          4153,
          4197,
          4241,
          4251,
          4288,
          4339,
          4362,
          4394,
          4396,
          4459,
          4479,
          4483,
          4516,
          4516,
          4543,
          4552,
          4603,
          4609,
          4623,
          4640,
          4670,
          4744,
          4872,
          4888,
          4891,
          4925,
          4941,
          4958,
          4973,
          5003,
          5046,
          5048,
          5048,
          5060,
          5075,
          5084,
          5122,
          5122,
          5140,
          5155,
          5164,
          5173,
          5194,
          5199,
          5199,
          5235,
          5240,
          5330,
          5371,
          5377,
          5377,
          5399,
          5425,
          5459,
          5467,
          5474,
          5485,
          5533,
          5547,
          5559,
          5578,
          5585,
          5600,
          5711,
          5737,
          5761,
          5768,
          5781,
          5821,
          5828,
          5850,
          5857,
          5891,
          5904,
          5935,
          5948,
          5967,
          6016,
          6022,
          6039,
          6063,
          6071,
          6086,
          6106,
          6120,
          6123,
          6125,
          6128,
          6165,
          6172,
          6178,
          6180,
          6221,
          6234,
          6262,
          6293,
          6309,
          6341,
          6391,
          6446,
          6447,
          6455,
          6467,
          6474,
          6476,
          6477,
          6480,
          6512,
          6523,
          6576,
          6582,
          6630,
          6647,
          6687,
          6805,
          6920,
          6943,
          6977,
          7025,
          7034,
          7041,
          7162,
          7163,
          7200,
          7364,
          7365,
          7384,
          7404,
          7415,
          7512,
          7557,
          7636,
          7821
         ],
         "xaxis": "x",
         "y": [
          274.3980774071913,
          384.8692178194693,
          392.8889013339723,
          447.6232413204548,
          488.3231351565572,
          496.54331075892264,
          508.97382020640225,
          534.6368074528116,
          544.2604276702151,
          546.2653485488408,
          549.6737140425046,
          616.8385634764667,
          624.8582469909696,
          625.0587390788322,
          633.8803909447854,
          642.7020428107387,
          644.7069636893644,
          652.1251709402796,
          662.3502674212708,
          666.96158544211,
          673.3773322537124,
          673.7783164294376,
          686.4093179647797,
          690.4191597220312,
          691.2211280734814,
          697.8373669729464,
          697.8373669729464,
          703.2506533452358,
          705.055082135999,
          715.2801786169903,
          716.4831311441657,
          719.2900203742417,
          722.6983858679055,
          728.7131485037827,
          743.5495630056131,
          769.2125502520225,
          772.4204236578237,
          773.0218999214114,
          779.8386309087389,
          783.04650431454,
          786.4548698082039,
          789.4622511261424,
          795.4770137620196,
          804.0981735401102,
          804.4991577158354,
          804.4991577158354,
          806.9050627701863,
          809.9124440881249,
          811.716872878888,
          819.3355722176658,
          819.3355722176658,
          822.9444297991921,
          825.9518111171307,
          827.7562399078939,
          829.560668698657,
          833.771002543771,
          834.773462983084,
          834.773462983084,
          841.9911781461366,
          842.9936385854495,
          861.037926493081,
          869.2581020954466,
          870.4610546226221,
          870.4610546226221,
          874.8718805555988,
          880.0846748400255,
          886.901405827353,
          888.5053425302536,
          889.9087871452917,
          892.11420011178,
          901.7378203291836,
          904.5447095592596,
          906.9506146136104,
          910.7599642829992,
          912.1634088980373,
          915.1707902159759,
          937.4254119687215,
          942.6382062531485,
          947.4500163618503,
          948.8534609768882,
          951.4598581191018,
          959.4795416336045,
          960.8829862486426,
          965.2938121816193,
          966.6972567966574,
          973.5139877839848,
          976.1203849261982,
          982.3356396499379,
          984.9420367921515,
          988.7513864615404,
          998.5754987668064,
          999.7784512939819,
          1003.1868167876456,
          1007.9986268963474,
          1009.6025635992479,
          1012.6099449171867,
          1016.6197866744379,
          1019.4266759045141,
          1020.0281521681019,
          1020.4291363438268,
          1021.0306126074146,
          1028.4488198583297,
          1029.8522644733678,
          1031.0552170005433,
          1031.4562011762685,
          1039.6763767786338,
          1042.2827739208474,
          1047.8965523809993,
          1054.1118071047392,
          1057.3196805105404,
          1063.7354273221426,
          1073.7600317152715,
          1084.787096547713,
          1084.9875886355755,
          1086.591525338476,
          1088.997430392827,
          1090.400875007865,
          1090.80185918359,
          1091.0023512714527,
          1091.6038275350404,
          1098.0195743466427,
          1100.2249873131311,
          1110.8510679698475,
          1112.054020497023,
          1121.6776407144264,
          1125.08600620809,
          1133.105689722593,
          1156.7637560903768,
          1179.8203461945727,
          1184.431664215412,
          1191.2483952027394,
          1200.8720154201428,
          1202.676444210906,
          1204.079888825944,
          1228.3394314573154,
          1228.539923545178,
          1235.9581307960932,
          1268.8388332055551,
          1269.0393252934177,
          1272.8486749628066,
          1276.858516720058,
          1279.0639296865465,
          1298.5116622092162,
          1307.5338061630318,
          1323.3726811041752,
          1360.4637173587512
         ],
         "yaxis": "y"
        }
       ],
       "layout": {
        "legend": {
         "tracegroupgap": 0
        },
        "template": {
         "data": {
          "bar": [
           {
            "error_x": {
             "color": "#2a3f5f"
            },
            "error_y": {
             "color": "#2a3f5f"
            },
            "marker": {
             "line": {
              "color": "#E5ECF6",
              "width": 0.5
             },
             "pattern": {
              "fillmode": "overlay",
              "size": 10,
              "solidity": 0.2
             }
            },
            "type": "bar"
           }
          ],
          "barpolar": [
           {
            "marker": {
             "line": {
              "color": "#E5ECF6",
              "width": 0.5
             },
             "pattern": {
              "fillmode": "overlay",
              "size": 10,
              "solidity": 0.2
             }
            },
            "type": "barpolar"
           }
          ],
          "carpet": [
           {
            "aaxis": {
             "endlinecolor": "#2a3f5f",
             "gridcolor": "white",
             "linecolor": "white",
             "minorgridcolor": "white",
             "startlinecolor": "#2a3f5f"
            },
            "baxis": {
             "endlinecolor": "#2a3f5f",
             "gridcolor": "white",
             "linecolor": "white",
             "minorgridcolor": "white",
             "startlinecolor": "#2a3f5f"
            },
            "type": "carpet"
           }
          ],
          "choropleth": [
           {
            "colorbar": {
             "outlinewidth": 0,
             "ticks": ""
            },
            "type": "choropleth"
           }
          ],
          "contour": [
           {
            "colorbar": {
             "outlinewidth": 0,
             "ticks": ""
            },
            "colorscale": [
             [
              0,
              "#0d0887"
             ],
             [
              0.1111111111111111,
              "#46039f"
             ],
             [
              0.2222222222222222,
              "#7201a8"
             ],
             [
              0.3333333333333333,
              "#9c179e"
             ],
             [
              0.4444444444444444,
              "#bd3786"
             ],
             [
              0.5555555555555556,
              "#d8576b"
             ],
             [
              0.6666666666666666,
              "#ed7953"
             ],
             [
              0.7777777777777778,
              "#fb9f3a"
             ],
             [
              0.8888888888888888,
              "#fdca26"
             ],
             [
              1,
              "#f0f921"
             ]
            ],
            "type": "contour"
           }
          ],
          "contourcarpet": [
           {
            "colorbar": {
             "outlinewidth": 0,
             "ticks": ""
            },
            "type": "contourcarpet"
           }
          ],
          "heatmap": [
           {
            "colorbar": {
             "outlinewidth": 0,
             "ticks": ""
            },
            "colorscale": [
             [
              0,
              "#0d0887"
             ],
             [
              0.1111111111111111,
              "#46039f"
             ],
             [
              0.2222222222222222,
              "#7201a8"
             ],
             [
              0.3333333333333333,
              "#9c179e"
             ],
             [
              0.4444444444444444,
              "#bd3786"
             ],
             [
              0.5555555555555556,
              "#d8576b"
             ],
             [
              0.6666666666666666,
              "#ed7953"
             ],
             [
              0.7777777777777778,
              "#fb9f3a"
             ],
             [
              0.8888888888888888,
              "#fdca26"
             ],
             [
              1,
              "#f0f921"
             ]
            ],
            "type": "heatmap"
           }
          ],
          "heatmapgl": [
           {
            "colorbar": {
             "outlinewidth": 0,
             "ticks": ""
            },
            "colorscale": [
             [
              0,
              "#0d0887"
             ],
             [
              0.1111111111111111,
              "#46039f"
             ],
             [
              0.2222222222222222,
              "#7201a8"
             ],
             [
              0.3333333333333333,
              "#9c179e"
             ],
             [
              0.4444444444444444,
              "#bd3786"
             ],
             [
              0.5555555555555556,
              "#d8576b"
             ],
             [
              0.6666666666666666,
              "#ed7953"
             ],
             [
              0.7777777777777778,
              "#fb9f3a"
             ],
             [
              0.8888888888888888,
              "#fdca26"
             ],
             [
              1,
              "#f0f921"
             ]
            ],
            "type": "heatmapgl"
           }
          ],
          "histogram": [
           {
            "marker": {
             "pattern": {
              "fillmode": "overlay",
              "size": 10,
              "solidity": 0.2
             }
            },
            "type": "histogram"
           }
          ],
          "histogram2d": [
           {
            "colorbar": {
             "outlinewidth": 0,
             "ticks": ""
            },
            "colorscale": [
             [
              0,
              "#0d0887"
             ],
             [
              0.1111111111111111,
              "#46039f"
             ],
             [
              0.2222222222222222,
              "#7201a8"
             ],
             [
              0.3333333333333333,
              "#9c179e"
             ],
             [
              0.4444444444444444,
              "#bd3786"
             ],
             [
              0.5555555555555556,
              "#d8576b"
             ],
             [
              0.6666666666666666,
              "#ed7953"
             ],
             [
              0.7777777777777778,
              "#fb9f3a"
             ],
             [
              0.8888888888888888,
              "#fdca26"
             ],
             [
              1,
              "#f0f921"
             ]
            ],
            "type": "histogram2d"
           }
          ],
          "histogram2dcontour": [
           {
            "colorbar": {
             "outlinewidth": 0,
             "ticks": ""
            },
            "colorscale": [
             [
              0,
              "#0d0887"
             ],
             [
              0.1111111111111111,
              "#46039f"
             ],
             [
              0.2222222222222222,
              "#7201a8"
             ],
             [
              0.3333333333333333,
              "#9c179e"
             ],
             [
              0.4444444444444444,
              "#bd3786"
             ],
             [
              0.5555555555555556,
              "#d8576b"
             ],
             [
              0.6666666666666666,
              "#ed7953"
             ],
             [
              0.7777777777777778,
              "#fb9f3a"
             ],
             [
              0.8888888888888888,
              "#fdca26"
             ],
             [
              1,
              "#f0f921"
             ]
            ],
            "type": "histogram2dcontour"
           }
          ],
          "mesh3d": [
           {
            "colorbar": {
             "outlinewidth": 0,
             "ticks": ""
            },
            "type": "mesh3d"
           }
          ],
          "parcoords": [
           {
            "line": {
             "colorbar": {
              "outlinewidth": 0,
              "ticks": ""
             }
            },
            "type": "parcoords"
           }
          ],
          "pie": [
           {
            "automargin": true,
            "type": "pie"
           }
          ],
          "scatter": [
           {
            "fillpattern": {
             "fillmode": "overlay",
             "size": 10,
             "solidity": 0.2
            },
            "type": "scatter"
           }
          ],
          "scatter3d": [
           {
            "line": {
             "colorbar": {
              "outlinewidth": 0,
              "ticks": ""
             }
            },
            "marker": {
             "colorbar": {
              "outlinewidth": 0,
              "ticks": ""
             }
            },
            "type": "scatter3d"
           }
          ],
          "scattercarpet": [
           {
            "marker": {
             "colorbar": {
              "outlinewidth": 0,
              "ticks": ""
             }
            },
            "type": "scattercarpet"
           }
          ],
          "scattergeo": [
           {
            "marker": {
             "colorbar": {
              "outlinewidth": 0,
              "ticks": ""
             }
            },
            "type": "scattergeo"
           }
          ],
          "scattergl": [
           {
            "marker": {
             "colorbar": {
              "outlinewidth": 0,
              "ticks": ""
             }
            },
            "type": "scattergl"
           }
          ],
          "scattermapbox": [
           {
            "marker": {
             "colorbar": {
              "outlinewidth": 0,
              "ticks": ""
             }
            },
            "type": "scattermapbox"
           }
          ],
          "scatterpolar": [
           {
            "marker": {
             "colorbar": {
              "outlinewidth": 0,
              "ticks": ""
             }
            },
            "type": "scatterpolar"
           }
          ],
          "scatterpolargl": [
           {
            "marker": {
             "colorbar": {
              "outlinewidth": 0,
              "ticks": ""
             }
            },
            "type": "scatterpolargl"
           }
          ],
          "scatterternary": [
           {
            "marker": {
             "colorbar": {
              "outlinewidth": 0,
              "ticks": ""
             }
            },
            "type": "scatterternary"
           }
          ],
          "surface": [
           {
            "colorbar": {
             "outlinewidth": 0,
             "ticks": ""
            },
            "colorscale": [
             [
              0,
              "#0d0887"
             ],
             [
              0.1111111111111111,
              "#46039f"
             ],
             [
              0.2222222222222222,
              "#7201a8"
             ],
             [
              0.3333333333333333,
              "#9c179e"
             ],
             [
              0.4444444444444444,
              "#bd3786"
             ],
             [
              0.5555555555555556,
              "#d8576b"
             ],
             [
              0.6666666666666666,
              "#ed7953"
             ],
             [
              0.7777777777777778,
              "#fb9f3a"
             ],
             [
              0.8888888888888888,
              "#fdca26"
             ],
             [
              1,
              "#f0f921"
             ]
            ],
            "type": "surface"
           }
          ],
          "table": [
           {
            "cells": {
             "fill": {
              "color": "#EBF0F8"
             },
             "line": {
              "color": "white"
             }
            },
            "header": {
             "fill": {
              "color": "#C8D4E3"
             },
             "line": {
              "color": "white"
             }
            },
            "type": "table"
           }
          ]
         },
         "layout": {
          "annotationdefaults": {
           "arrowcolor": "#2a3f5f",
           "arrowhead": 0,
           "arrowwidth": 1
          },
          "autotypenumbers": "strict",
          "coloraxis": {
           "colorbar": {
            "outlinewidth": 0,
            "ticks": ""
           }
          },
          "colorscale": {
           "diverging": [
            [
             0,
             "#8e0152"
            ],
            [
             0.1,
             "#c51b7d"
            ],
            [
             0.2,
             "#de77ae"
            ],
            [
             0.3,
             "#f1b6da"
            ],
            [
             0.4,
             "#fde0ef"
            ],
            [
             0.5,
             "#f7f7f7"
            ],
            [
             0.6,
             "#e6f5d0"
            ],
            [
             0.7,
             "#b8e186"
            ],
            [
             0.8,
             "#7fbc41"
            ],
            [
             0.9,
             "#4d9221"
            ],
            [
             1,
             "#276419"
            ]
           ],
           "sequential": [
            [
             0,
             "#0d0887"
            ],
            [
             0.1111111111111111,
             "#46039f"
            ],
            [
             0.2222222222222222,
             "#7201a8"
            ],
            [
             0.3333333333333333,
             "#9c179e"
            ],
            [
             0.4444444444444444,
             "#bd3786"
            ],
            [
             0.5555555555555556,
             "#d8576b"
            ],
            [
             0.6666666666666666,
             "#ed7953"
            ],
            [
             0.7777777777777778,
             "#fb9f3a"
            ],
            [
             0.8888888888888888,
             "#fdca26"
            ],
            [
             1,
             "#f0f921"
            ]
           ],
           "sequentialminus": [
            [
             0,
             "#0d0887"
            ],
            [
             0.1111111111111111,
             "#46039f"
            ],
            [
             0.2222222222222222,
             "#7201a8"
            ],
            [
             0.3333333333333333,
             "#9c179e"
            ],
            [
             0.4444444444444444,
             "#bd3786"
            ],
            [
             0.5555555555555556,
             "#d8576b"
            ],
            [
             0.6666666666666666,
             "#ed7953"
            ],
            [
             0.7777777777777778,
             "#fb9f3a"
            ],
            [
             0.8888888888888888,
             "#fdca26"
            ],
            [
             1,
             "#f0f921"
            ]
           ]
          },
          "colorway": [
           "#636efa",
           "#EF553B",
           "#00cc96",
           "#ab63fa",
           "#FFA15A",
           "#19d3f3",
           "#FF6692",
           "#B6E880",
           "#FF97FF",
           "#FECB52"
          ],
          "font": {
           "color": "#2a3f5f"
          },
          "geo": {
           "bgcolor": "white",
           "lakecolor": "white",
           "landcolor": "#E5ECF6",
           "showlakes": true,
           "showland": true,
           "subunitcolor": "white"
          },
          "hoverlabel": {
           "align": "left"
          },
          "hovermode": "closest",
          "mapbox": {
           "style": "light"
          },
          "paper_bgcolor": "white",
          "plot_bgcolor": "#E5ECF6",
          "polar": {
           "angularaxis": {
            "gridcolor": "white",
            "linecolor": "white",
            "ticks": ""
           },
           "bgcolor": "#E5ECF6",
           "radialaxis": {
            "gridcolor": "white",
            "linecolor": "white",
            "ticks": ""
           }
          },
          "scene": {
           "xaxis": {
            "backgroundcolor": "#E5ECF6",
            "gridcolor": "white",
            "gridwidth": 2,
            "linecolor": "white",
            "showbackground": true,
            "ticks": "",
            "zerolinecolor": "white"
           },
           "yaxis": {
            "backgroundcolor": "#E5ECF6",
            "gridcolor": "white",
            "gridwidth": 2,
            "linecolor": "white",
            "showbackground": true,
            "ticks": "",
            "zerolinecolor": "white"
           },
           "zaxis": {
            "backgroundcolor": "#E5ECF6",
            "gridcolor": "white",
            "gridwidth": 2,
            "linecolor": "white",
            "showbackground": true,
            "ticks": "",
            "zerolinecolor": "white"
           }
          },
          "shapedefaults": {
           "line": {
            "color": "#2a3f5f"
           }
          },
          "ternary": {
           "aaxis": {
            "gridcolor": "white",
            "linecolor": "white",
            "ticks": ""
           },
           "baxis": {
            "gridcolor": "white",
            "linecolor": "white",
            "ticks": ""
           },
           "bgcolor": "#E5ECF6",
           "caxis": {
            "gridcolor": "white",
            "linecolor": "white",
            "ticks": ""
           }
          },
          "title": {
           "x": 0.05
          },
          "xaxis": {
           "automargin": true,
           "gridcolor": "white",
           "linecolor": "white",
           "ticks": "",
           "title": {
            "standoff": 15
           },
           "zerolinecolor": "white",
           "zerolinewidth": 2
          },
          "yaxis": {
           "automargin": true,
           "gridcolor": "white",
           "linecolor": "white",
           "ticks": "",
           "title": {
            "standoff": 15
           },
           "zerolinecolor": "white",
           "zerolinewidth": 2
          }
         }
        },
        "title": {
         "text": "Corelation between Happiness score and Social support "
        },
        "xaxis": {
         "anchor": "y",
         "domain": [
          0,
          1
         ],
         "title": {
          "text": "Happiness score"
         }
        },
        "yaxis": {
         "anchor": "x",
         "domain": [
          0,
          1
         ],
         "title": {
          "text": "Social support"
         }
        }
       }
      },
      "text/html": [
       "<div>                            <div id=\"2da5789e-6463-4160-ba88-290f31f3bcf3\" class=\"plotly-graph-div\" style=\"height:525px; width:100%;\"></div>            <script type=\"text/javascript\">                require([\"plotly\"], function(Plotly) {                    window.PLOTLYENV=window.PLOTLYENV || {};                                    if (document.getElementById(\"2da5789e-6463-4160-ba88-290f31f3bcf3\")) {                    Plotly.newPlot(                        \"2da5789e-6463-4160-ba88-290f31f3bcf3\",                        [{\"hovertemplate\":\"Happiness score=%{x}<br>Social support=%{y}<extra></extra>\",\"legendgroup\":\"\",\"marker\":{\"color\":\"#636efa\",\"symbol\":\"circle\"},\"mode\":\"markers\",\"name\":\"\",\"orientation\":\"v\",\"showlegend\":false,\"x\":[7821,7636,7557,7512,7415,7404,7384,7365,7364,7200,7163,7162,7041,7034,7025,6977,6943,6920,6805,6687,6647,6630,6582,6576,6523,6512,6480,6477,6476,6474,6467,6455,6447,6446,6391,6341,6309,6293,6262,6234,6221,6180,6178,6172,6165,6128,6125,6123,6120,6106,6086,6071,6063,6039,6022,6016,5967,5948,5935,5904,5891,5857,5850,5828,5821,5781,5768,5761,5737,5711,5600,5585,5578,5559,5547,5533,5485,5474,5467,5459,5425,5399,5377,5377,5371,5330,5240,5235,5199,5199,5194,5173,5164,5155,5140,5122,5122,5084,5075,5060,5048,5048,5046,5003,4973,4958,4941,4925,4891,4888,4872,4744,4670,4640,4623,4609,4603,4552,4543,4516,4516,4483,4479,4459,4396,4394,4362,4339,4288,4251,4241,4197,4153,4152,4112,3777,3760,3750,3702,3574,3512,3471,3268,2995,2955,2404],\"xaxis\":\"x\",\"y\":[1258,1243,1320,1226,1206,1155,1204,1239,1221,1235,1165,1203,1166,1088,1188,1182,1143,1260,1106,1219,1029,1249,1054,980,1092,1095,1127,1006,1211,1180,1052,949,1169,1204,1232,1232,1107,1044,831,1220,909,1221,1086,1080,1029,886,1183,1174,768,983,1233,1116,1092,1089,885,1078,1102,980,886,912,1096,1008,1045,1109,1157,929,1068,1197,1003,938,880,958,1130,865,1023,879,932,1319,888,1095,954,820,1005,784,1163,943,883,442,863,646,1088,1093,621,614,654,970,670,1081,405,268,660,672,530,560,612,738,682,968,566,741,595,865,565,732,64,476,875,732,605,596,413,957,483,877,786,829,934,645,732,506,809,1043,865,724,322,376,577,279,597,416,848,815,133,690,498,0],\"yaxis\":\"y\",\"type\":\"scatter\"},{\"hovertemplate\":\"<b>OLS trendline</b><br>Social support = 0.200492 * Happiness score + -207.585<br>R<sup>2</sup>=0.605111<br><br>Happiness score=%{x}<br>Social support=%{y} <b>(trend)</b><extra></extra>\",\"legendgroup\":\"\",\"marker\":{\"color\":\"#636efa\",\"symbol\":\"circle\"},\"mode\":\"lines\",\"name\":\"\",\"showlegend\":false,\"x\":[2404,2955,2995,3268,3471,3512,3574,3702,3750,3760,3777,4112,4152,4153,4197,4241,4251,4288,4339,4362,4394,4396,4459,4479,4483,4516,4516,4543,4552,4603,4609,4623,4640,4670,4744,4872,4888,4891,4925,4941,4958,4973,5003,5046,5048,5048,5060,5075,5084,5122,5122,5140,5155,5164,5173,5194,5199,5199,5235,5240,5330,5371,5377,5377,5399,5425,5459,5467,5474,5485,5533,5547,5559,5578,5585,5600,5711,5737,5761,5768,5781,5821,5828,5850,5857,5891,5904,5935,5948,5967,6016,6022,6039,6063,6071,6086,6106,6120,6123,6125,6128,6165,6172,6178,6180,6221,6234,6262,6293,6309,6341,6391,6446,6447,6455,6467,6474,6476,6477,6480,6512,6523,6576,6582,6630,6647,6687,6805,6920,6943,6977,7025,7034,7041,7162,7163,7200,7364,7365,7384,7404,7415,7512,7557,7636,7821],\"xaxis\":\"x\",\"y\":[274.3980774071913,384.8692178194693,392.8889013339723,447.6232413204548,488.3231351565572,496.54331075892264,508.97382020640225,534.6368074528116,544.2604276702151,546.2653485488408,549.6737140425046,616.8385634764667,624.8582469909696,625.0587390788322,633.8803909447854,642.7020428107387,644.7069636893644,652.1251709402796,662.3502674212708,666.96158544211,673.3773322537124,673.7783164294376,686.4093179647797,690.4191597220312,691.2211280734814,697.8373669729464,697.8373669729464,703.2506533452358,705.055082135999,715.2801786169903,716.4831311441657,719.2900203742417,722.6983858679055,728.7131485037827,743.5495630056131,769.2125502520225,772.4204236578237,773.0218999214114,779.8386309087389,783.04650431454,786.4548698082039,789.4622511261424,795.4770137620196,804.0981735401102,804.4991577158354,804.4991577158354,806.9050627701863,809.9124440881249,811.716872878888,819.3355722176658,819.3355722176658,822.9444297991921,825.9518111171307,827.7562399078939,829.560668698657,833.771002543771,834.773462983084,834.773462983084,841.9911781461366,842.9936385854495,861.037926493081,869.2581020954466,870.4610546226221,870.4610546226221,874.8718805555988,880.0846748400255,886.901405827353,888.5053425302536,889.9087871452917,892.11420011178,901.7378203291836,904.5447095592596,906.9506146136104,910.7599642829992,912.1634088980373,915.1707902159759,937.4254119687215,942.6382062531485,947.4500163618503,948.8534609768882,951.4598581191018,959.4795416336045,960.8829862486426,965.2938121816193,966.6972567966574,973.5139877839848,976.1203849261982,982.3356396499379,984.9420367921515,988.7513864615404,998.5754987668064,999.7784512939819,1003.1868167876456,1007.9986268963474,1009.6025635992479,1012.6099449171867,1016.6197866744379,1019.4266759045141,1020.0281521681019,1020.4291363438268,1021.0306126074146,1028.4488198583297,1029.8522644733678,1031.0552170005433,1031.4562011762685,1039.6763767786338,1042.2827739208474,1047.8965523809993,1054.1118071047392,1057.3196805105404,1063.7354273221426,1073.7600317152715,1084.787096547713,1084.9875886355755,1086.591525338476,1088.997430392827,1090.400875007865,1090.80185918359,1091.0023512714527,1091.6038275350404,1098.0195743466427,1100.2249873131311,1110.8510679698475,1112.054020497023,1121.6776407144264,1125.08600620809,1133.105689722593,1156.7637560903768,1179.8203461945727,1184.431664215412,1191.2483952027394,1200.8720154201428,1202.676444210906,1204.079888825944,1228.3394314573154,1228.539923545178,1235.9581307960932,1268.8388332055551,1269.0393252934177,1272.8486749628066,1276.858516720058,1279.0639296865465,1298.5116622092162,1307.5338061630318,1323.3726811041752,1360.4637173587512],\"yaxis\":\"y\",\"type\":\"scatter\"}],                        {\"template\":{\"data\":{\"histogram2dcontour\":[{\"type\":\"histogram2dcontour\",\"colorbar\":{\"outlinewidth\":0,\"ticks\":\"\"},\"colorscale\":[[0.0,\"#0d0887\"],[0.1111111111111111,\"#46039f\"],[0.2222222222222222,\"#7201a8\"],[0.3333333333333333,\"#9c179e\"],[0.4444444444444444,\"#bd3786\"],[0.5555555555555556,\"#d8576b\"],[0.6666666666666666,\"#ed7953\"],[0.7777777777777778,\"#fb9f3a\"],[0.8888888888888888,\"#fdca26\"],[1.0,\"#f0f921\"]]}],\"choropleth\":[{\"type\":\"choropleth\",\"colorbar\":{\"outlinewidth\":0,\"ticks\":\"\"}}],\"histogram2d\":[{\"type\":\"histogram2d\",\"colorbar\":{\"outlinewidth\":0,\"ticks\":\"\"},\"colorscale\":[[0.0,\"#0d0887\"],[0.1111111111111111,\"#46039f\"],[0.2222222222222222,\"#7201a8\"],[0.3333333333333333,\"#9c179e\"],[0.4444444444444444,\"#bd3786\"],[0.5555555555555556,\"#d8576b\"],[0.6666666666666666,\"#ed7953\"],[0.7777777777777778,\"#fb9f3a\"],[0.8888888888888888,\"#fdca26\"],[1.0,\"#f0f921\"]]}],\"heatmap\":[{\"type\":\"heatmap\",\"colorbar\":{\"outlinewidth\":0,\"ticks\":\"\"},\"colorscale\":[[0.0,\"#0d0887\"],[0.1111111111111111,\"#46039f\"],[0.2222222222222222,\"#7201a8\"],[0.3333333333333333,\"#9c179e\"],[0.4444444444444444,\"#bd3786\"],[0.5555555555555556,\"#d8576b\"],[0.6666666666666666,\"#ed7953\"],[0.7777777777777778,\"#fb9f3a\"],[0.8888888888888888,\"#fdca26\"],[1.0,\"#f0f921\"]]}],\"heatmapgl\":[{\"type\":\"heatmapgl\",\"colorbar\":{\"outlinewidth\":0,\"ticks\":\"\"},\"colorscale\":[[0.0,\"#0d0887\"],[0.1111111111111111,\"#46039f\"],[0.2222222222222222,\"#7201a8\"],[0.3333333333333333,\"#9c179e\"],[0.4444444444444444,\"#bd3786\"],[0.5555555555555556,\"#d8576b\"],[0.6666666666666666,\"#ed7953\"],[0.7777777777777778,\"#fb9f3a\"],[0.8888888888888888,\"#fdca26\"],[1.0,\"#f0f921\"]]}],\"contourcarpet\":[{\"type\":\"contourcarpet\",\"colorbar\":{\"outlinewidth\":0,\"ticks\":\"\"}}],\"contour\":[{\"type\":\"contour\",\"colorbar\":{\"outlinewidth\":0,\"ticks\":\"\"},\"colorscale\":[[0.0,\"#0d0887\"],[0.1111111111111111,\"#46039f\"],[0.2222222222222222,\"#7201a8\"],[0.3333333333333333,\"#9c179e\"],[0.4444444444444444,\"#bd3786\"],[0.5555555555555556,\"#d8576b\"],[0.6666666666666666,\"#ed7953\"],[0.7777777777777778,\"#fb9f3a\"],[0.8888888888888888,\"#fdca26\"],[1.0,\"#f0f921\"]]}],\"surface\":[{\"type\":\"surface\",\"colorbar\":{\"outlinewidth\":0,\"ticks\":\"\"},\"colorscale\":[[0.0,\"#0d0887\"],[0.1111111111111111,\"#46039f\"],[0.2222222222222222,\"#7201a8\"],[0.3333333333333333,\"#9c179e\"],[0.4444444444444444,\"#bd3786\"],[0.5555555555555556,\"#d8576b\"],[0.6666666666666666,\"#ed7953\"],[0.7777777777777778,\"#fb9f3a\"],[0.8888888888888888,\"#fdca26\"],[1.0,\"#f0f921\"]]}],\"mesh3d\":[{\"type\":\"mesh3d\",\"colorbar\":{\"outlinewidth\":0,\"ticks\":\"\"}}],\"scatter\":[{\"fillpattern\":{\"fillmode\":\"overlay\",\"size\":10,\"solidity\":0.2},\"type\":\"scatter\"}],\"parcoords\":[{\"type\":\"parcoords\",\"line\":{\"colorbar\":{\"outlinewidth\":0,\"ticks\":\"\"}}}],\"scatterpolargl\":[{\"type\":\"scatterpolargl\",\"marker\":{\"colorbar\":{\"outlinewidth\":0,\"ticks\":\"\"}}}],\"bar\":[{\"error_x\":{\"color\":\"#2a3f5f\"},\"error_y\":{\"color\":\"#2a3f5f\"},\"marker\":{\"line\":{\"color\":\"#E5ECF6\",\"width\":0.5},\"pattern\":{\"fillmode\":\"overlay\",\"size\":10,\"solidity\":0.2}},\"type\":\"bar\"}],\"scattergeo\":[{\"type\":\"scattergeo\",\"marker\":{\"colorbar\":{\"outlinewidth\":0,\"ticks\":\"\"}}}],\"scatterpolar\":[{\"type\":\"scatterpolar\",\"marker\":{\"colorbar\":{\"outlinewidth\":0,\"ticks\":\"\"}}}],\"histogram\":[{\"marker\":{\"pattern\":{\"fillmode\":\"overlay\",\"size\":10,\"solidity\":0.2}},\"type\":\"histogram\"}],\"scattergl\":[{\"type\":\"scattergl\",\"marker\":{\"colorbar\":{\"outlinewidth\":0,\"ticks\":\"\"}}}],\"scatter3d\":[{\"type\":\"scatter3d\",\"line\":{\"colorbar\":{\"outlinewidth\":0,\"ticks\":\"\"}},\"marker\":{\"colorbar\":{\"outlinewidth\":0,\"ticks\":\"\"}}}],\"scattermapbox\":[{\"type\":\"scattermapbox\",\"marker\":{\"colorbar\":{\"outlinewidth\":0,\"ticks\":\"\"}}}],\"scatterternary\":[{\"type\":\"scatterternary\",\"marker\":{\"colorbar\":{\"outlinewidth\":0,\"ticks\":\"\"}}}],\"scattercarpet\":[{\"type\":\"scattercarpet\",\"marker\":{\"colorbar\":{\"outlinewidth\":0,\"ticks\":\"\"}}}],\"carpet\":[{\"aaxis\":{\"endlinecolor\":\"#2a3f5f\",\"gridcolor\":\"white\",\"linecolor\":\"white\",\"minorgridcolor\":\"white\",\"startlinecolor\":\"#2a3f5f\"},\"baxis\":{\"endlinecolor\":\"#2a3f5f\",\"gridcolor\":\"white\",\"linecolor\":\"white\",\"minorgridcolor\":\"white\",\"startlinecolor\":\"#2a3f5f\"},\"type\":\"carpet\"}],\"table\":[{\"cells\":{\"fill\":{\"color\":\"#EBF0F8\"},\"line\":{\"color\":\"white\"}},\"header\":{\"fill\":{\"color\":\"#C8D4E3\"},\"line\":{\"color\":\"white\"}},\"type\":\"table\"}],\"barpolar\":[{\"marker\":{\"line\":{\"color\":\"#E5ECF6\",\"width\":0.5},\"pattern\":{\"fillmode\":\"overlay\",\"size\":10,\"solidity\":0.2}},\"type\":\"barpolar\"}],\"pie\":[{\"automargin\":true,\"type\":\"pie\"}]},\"layout\":{\"autotypenumbers\":\"strict\",\"colorway\":[\"#636efa\",\"#EF553B\",\"#00cc96\",\"#ab63fa\",\"#FFA15A\",\"#19d3f3\",\"#FF6692\",\"#B6E880\",\"#FF97FF\",\"#FECB52\"],\"font\":{\"color\":\"#2a3f5f\"},\"hovermode\":\"closest\",\"hoverlabel\":{\"align\":\"left\"},\"paper_bgcolor\":\"white\",\"plot_bgcolor\":\"#E5ECF6\",\"polar\":{\"bgcolor\":\"#E5ECF6\",\"angularaxis\":{\"gridcolor\":\"white\",\"linecolor\":\"white\",\"ticks\":\"\"},\"radialaxis\":{\"gridcolor\":\"white\",\"linecolor\":\"white\",\"ticks\":\"\"}},\"ternary\":{\"bgcolor\":\"#E5ECF6\",\"aaxis\":{\"gridcolor\":\"white\",\"linecolor\":\"white\",\"ticks\":\"\"},\"baxis\":{\"gridcolor\":\"white\",\"linecolor\":\"white\",\"ticks\":\"\"},\"caxis\":{\"gridcolor\":\"white\",\"linecolor\":\"white\",\"ticks\":\"\"}},\"coloraxis\":{\"colorbar\":{\"outlinewidth\":0,\"ticks\":\"\"}},\"colorscale\":{\"sequential\":[[0.0,\"#0d0887\"],[0.1111111111111111,\"#46039f\"],[0.2222222222222222,\"#7201a8\"],[0.3333333333333333,\"#9c179e\"],[0.4444444444444444,\"#bd3786\"],[0.5555555555555556,\"#d8576b\"],[0.6666666666666666,\"#ed7953\"],[0.7777777777777778,\"#fb9f3a\"],[0.8888888888888888,\"#fdca26\"],[1.0,\"#f0f921\"]],\"sequentialminus\":[[0.0,\"#0d0887\"],[0.1111111111111111,\"#46039f\"],[0.2222222222222222,\"#7201a8\"],[0.3333333333333333,\"#9c179e\"],[0.4444444444444444,\"#bd3786\"],[0.5555555555555556,\"#d8576b\"],[0.6666666666666666,\"#ed7953\"],[0.7777777777777778,\"#fb9f3a\"],[0.8888888888888888,\"#fdca26\"],[1.0,\"#f0f921\"]],\"diverging\":[[0,\"#8e0152\"],[0.1,\"#c51b7d\"],[0.2,\"#de77ae\"],[0.3,\"#f1b6da\"],[0.4,\"#fde0ef\"],[0.5,\"#f7f7f7\"],[0.6,\"#e6f5d0\"],[0.7,\"#b8e186\"],[0.8,\"#7fbc41\"],[0.9,\"#4d9221\"],[1,\"#276419\"]]},\"xaxis\":{\"gridcolor\":\"white\",\"linecolor\":\"white\",\"ticks\":\"\",\"title\":{\"standoff\":15},\"zerolinecolor\":\"white\",\"automargin\":true,\"zerolinewidth\":2},\"yaxis\":{\"gridcolor\":\"white\",\"linecolor\":\"white\",\"ticks\":\"\",\"title\":{\"standoff\":15},\"zerolinecolor\":\"white\",\"automargin\":true,\"zerolinewidth\":2},\"scene\":{\"xaxis\":{\"backgroundcolor\":\"#E5ECF6\",\"gridcolor\":\"white\",\"linecolor\":\"white\",\"showbackground\":true,\"ticks\":\"\",\"zerolinecolor\":\"white\",\"gridwidth\":2},\"yaxis\":{\"backgroundcolor\":\"#E5ECF6\",\"gridcolor\":\"white\",\"linecolor\":\"white\",\"showbackground\":true,\"ticks\":\"\",\"zerolinecolor\":\"white\",\"gridwidth\":2},\"zaxis\":{\"backgroundcolor\":\"#E5ECF6\",\"gridcolor\":\"white\",\"linecolor\":\"white\",\"showbackground\":true,\"ticks\":\"\",\"zerolinecolor\":\"white\",\"gridwidth\":2}},\"shapedefaults\":{\"line\":{\"color\":\"#2a3f5f\"}},\"annotationdefaults\":{\"arrowcolor\":\"#2a3f5f\",\"arrowhead\":0,\"arrowwidth\":1},\"geo\":{\"bgcolor\":\"white\",\"landcolor\":\"#E5ECF6\",\"subunitcolor\":\"white\",\"showland\":true,\"showlakes\":true,\"lakecolor\":\"white\"},\"title\":{\"x\":0.05},\"mapbox\":{\"style\":\"light\"}}},\"xaxis\":{\"anchor\":\"y\",\"domain\":[0.0,1.0],\"title\":{\"text\":\"Happiness score\"}},\"yaxis\":{\"anchor\":\"x\",\"domain\":[0.0,1.0],\"title\":{\"text\":\"Social support\"}},\"legend\":{\"tracegroupgap\":0},\"title\":{\"text\":\"Corelation between Happiness score and Social support \"}},                        {\"responsive\": true}                    ).then(function(){\n",
       "                            \n",
       "var gd = document.getElementById('2da5789e-6463-4160-ba88-290f31f3bcf3');\n",
       "var x = new MutationObserver(function (mutations, observer) {{\n",
       "        var display = window.getComputedStyle(gd).display;\n",
       "        if (!display || display === 'none') {{\n",
       "            console.log([gd, 'removed!']);\n",
       "            Plotly.purge(gd);\n",
       "            observer.disconnect();\n",
       "        }}\n",
       "}});\n",
       "\n",
       "// Listen for the removal of the full notebook cells\n",
       "var notebookContainer = gd.closest('#notebook-container');\n",
       "if (notebookContainer) {{\n",
       "    x.observe(notebookContainer, {childList: true});\n",
       "}}\n",
       "\n",
       "// Listen for the clearing of the current output cell\n",
       "var outputEl = gd.closest('.output');\n",
       "if (outputEl) {{\n",
       "    x.observe(outputEl, {childList: true});\n",
       "}}\n",
       "\n",
       "                        })                };                });            </script>        </div>"
      ]
     },
     "metadata": {},
     "output_type": "display_data"
    }
   ],
   "source": [
    "## lets take a another corelation \n",
    "#df.head()\n",
    "fig = px.scatter(df, x=df[\"Happiness score\"], y=df[\"Social support\"],trendline=\"ols\"\n",
    "                 ,title='Corelation between Happiness score and Social support ')\n",
    "fig.show()"
   ]
  },
  {
   "cell_type": "code",
   "execution_count": 33,
   "id": "7064e0ff",
   "metadata": {},
   "outputs": [
    {
     "data": {
      "application/vnd.plotly.v1+json": {
       "config": {
        "plotlyServerURL": "https://plot.ly"
       },
       "data": [
        {
         "hovertemplate": "Happiness score=%{x}<br>corruption=%{y}<extra></extra>",
         "legendgroup": "",
         "marker": {
          "color": "#636efa",
          "symbol": "circle"
         },
         "mode": "markers",
         "name": "",
         "orientation": "v",
         "showlegend": false,
         "type": "scatter",
         "x": [
          7821,
          7636,
          7557,
          7512,
          7415,
          7404,
          7384,
          7365,
          7364,
          7200,
          7163,
          7162,
          7041,
          7034,
          7025,
          6977,
          6943,
          6920,
          6805,
          6687,
          6647,
          6630,
          6582,
          6576,
          6523,
          6512,
          6480,
          6477,
          6476,
          6474,
          6467,
          6455,
          6447,
          6446,
          6391,
          6341,
          6309,
          6293,
          6262,
          6234,
          6221,
          6180,
          6178,
          6172,
          6165,
          6128,
          6125,
          6123,
          6120,
          6106,
          6086,
          6071,
          6063,
          6039,
          6022,
          6016,
          5967,
          5948,
          5935,
          5904,
          5891,
          5857,
          5850,
          5828,
          5821,
          5781,
          5768,
          5761,
          5737,
          5711,
          5600,
          5585,
          5578,
          5559,
          5547,
          5533,
          5485,
          5474,
          5467,
          5459,
          5425,
          5399,
          5377,
          5377,
          5371,
          5330,
          5240,
          5235,
          5199,
          5199,
          5194,
          5173,
          5164,
          5155,
          5140,
          5122,
          5122,
          5084,
          5075,
          5060,
          5048,
          5048,
          5046,
          5003,
          4973,
          4958,
          4941,
          4925,
          4891,
          4888,
          4872,
          4744,
          4670,
          4640,
          4623,
          4609,
          4603,
          4552,
          4543,
          4516,
          4516,
          4483,
          4479,
          4459,
          4396,
          4394,
          4362,
          4339,
          4288,
          4251,
          4241,
          4197,
          4153,
          4152,
          4112,
          3777,
          3760,
          3750,
          3702,
          3574,
          3512,
          3471,
          3268,
          2995,
          2955,
          2404
         ],
         "xaxis": "x",
         "y": [
          0.534,
          0.532,
          0.191,
          0.461,
          0.419,
          0.388,
          0.512,
          0.474,
          0.143,
          0.483,
          0.329,
          0.341,
          0.408,
          0.358,
          0.368,
          0.177,
          0.329,
          0.048,
          0.204,
          0.266,
          0.155,
          0.115,
          0.102,
          0.25,
          0.18,
          0.168,
          0.587,
          0.006,
          0.149,
          0.265,
          0.059,
          0.035,
          0.166,
          0.077,
          0.025,
          0.333,
          0.051,
          0.134,
          0.115,
          0.157,
          0.062,
          0.09,
          0.088,
          0.069,
          0.212,
          0.115,
          0,
          0.14,
          0.212,
          0.147,
          0.064,
          0.107,
          0.24,
          0.218,
          0.076,
          0.039,
          0.085,
          0.108,
          0.176,
          0.142,
          0.026,
          0.028,
          0.053,
          0.025,
          0.282,
          0.077,
          0.006,
          0.059,
          0.179,
          0.126,
          0.064,
          0.142,
          0.059,
          0.037,
          0.077,
          0.083,
          0.105,
          0.032,
          0.213,
          0.08,
          0.383,
          0.21,
          0.304,
          0.13,
          0.021,
          0.179,
          0.047,
          0.124,
          0.031,
          0.028,
          0.046,
          0.341,
          0.103,
          0.187,
          0.184,
          0.15,
          0.08,
          0.017,
          0.146,
          0.102,
          0.2,
          0.074,
          0.081,
          0.145,
          0.208,
          0.099,
          0.046,
          0.082,
          0.116,
          0.146,
          0.056,
          0.115,
          0.126,
          0.068,
          0.23,
          0.125,
          0.066,
          0.038,
          0.082,
          0.029,
          0.112,
          0.079,
          0.042,
          0.071,
          0.154,
          0.194,
          0.079,
          0.154,
          0.254,
          0.077,
          0.136,
          0.098,
          0.138,
          0.2,
          0.132,
          0.123,
          0.083,
          0.157,
          0.27,
          0.055,
          0.018,
          0.102,
          0.544,
          0.105,
          0.034,
          0.005
         ],
         "yaxis": "y"
        },
        {
         "hovertemplate": "<b>OLS trendline</b><br>corruption = 4.88328e-05 * Happiness score + -0.116416<br>R<sup>2</sup>=0.173236<br><br>Happiness score=%{x}<br>corruption=%{y} <b>(trend)</b><extra></extra>",
         "legendgroup": "",
         "marker": {
          "color": "#636efa",
          "symbol": "circle"
         },
         "mode": "lines",
         "name": "",
         "showlegend": false,
         "type": "scatter",
         "x": [
          2404,
          2955,
          2995,
          3268,
          3471,
          3512,
          3574,
          3702,
          3750,
          3760,
          3777,
          4112,
          4152,
          4153,
          4197,
          4241,
          4251,
          4288,
          4339,
          4362,
          4394,
          4396,
          4459,
          4479,
          4483,
          4516,
          4516,
          4543,
          4552,
          4603,
          4609,
          4623,
          4640,
          4670,
          4744,
          4872,
          4888,
          4891,
          4925,
          4941,
          4958,
          4973,
          5003,
          5046,
          5048,
          5048,
          5060,
          5075,
          5084,
          5122,
          5122,
          5140,
          5155,
          5164,
          5173,
          5194,
          5199,
          5199,
          5235,
          5240,
          5330,
          5371,
          5377,
          5377,
          5399,
          5425,
          5459,
          5467,
          5474,
          5485,
          5533,
          5547,
          5559,
          5578,
          5585,
          5600,
          5711,
          5737,
          5761,
          5768,
          5781,
          5821,
          5828,
          5850,
          5857,
          5891,
          5904,
          5935,
          5948,
          5967,
          6016,
          6022,
          6039,
          6063,
          6071,
          6086,
          6106,
          6120,
          6123,
          6125,
          6128,
          6165,
          6172,
          6178,
          6180,
          6221,
          6234,
          6262,
          6293,
          6309,
          6341,
          6391,
          6446,
          6447,
          6455,
          6467,
          6474,
          6476,
          6477,
          6480,
          6512,
          6523,
          6576,
          6582,
          6630,
          6647,
          6687,
          6805,
          6920,
          6943,
          6977,
          7025,
          7034,
          7041,
          7162,
          7163,
          7200,
          7364,
          7365,
          7384,
          7404,
          7415,
          7512,
          7557,
          7636,
          7821
         ],
         "xaxis": "x",
         "y": [
          0.0009783810049729808,
          0.02788522898550949,
          0.029838539183733553,
          0.04316988128661278,
          0.05308293054259994,
          0.055085073495779596,
          0.058112704303026896,
          0.06436329693734391,
          0.06670726917521277,
          0.0671955967247688,
          0.06802575355901402,
          0.08438472646914058,
          0.08633803666736464,
          0.08638686942232024,
          0.08853551064036672,
          0.09068415185841319,
          0.09117247940796921,
          0.09297929134132646,
          0.09546976184406214,
          0.09659291520804097,
          0.09815556336662024,
          0.09825322887653143,
          0.10132969243873435,
          0.10230634753784637,
          0.10250167855766878,
          0.10411315947120364,
          0.10411315947120364,
          0.10543164385500489,
          0.10587113864960529,
          0.10836160915234097,
          0.10865460568207458,
          0.10933826425145302,
          0.11016842108569824,
          0.11163340373436628,
          0.1152470276010808,
          0.12149762023539781,
          0.12227894431468744,
          0.12242544257955426,
          0.12408575624804472,
          0.12486708032733435,
          0.12569723716157957,
          0.12642972848591358,
          0.12789471113458165,
          0.1299945195976725,
          0.13009218510758372,
          0.13009218510758372,
          0.13067817816705093,
          0.13141066949138494,
          0.13185016428598537,
          0.1337058089742982,
          0.1337058089742982,
          0.13458479856349906,
          0.13531728988783306,
          0.1357567846824335,
          0.13619627947703392,
          0.13722176733110156,
          0.13746593110587954,
          0.13746593110587954,
          0.1392239102842812,
          0.13946807405905923,
          0.14386302200506337,
          0.14586516495824306,
          0.14615816148797664,
          0.14615816148797664,
          0.14723248209699988,
          0.1485021337258455,
          0.15016244739433596,
          0.1505531094339808,
          0.15089493871867002,
          0.15143209902318164,
          0.1537760712610505,
          0.1544597298304289,
          0.15504572288989613,
          0.15597354523405257,
          0.1563153745187418,
          0.1570478658430758,
          0.1624683016431476,
          0.16373795327199323,
          0.16490993939092766,
          0.1652517686756169,
          0.1658865944900397,
          0.1678399046882638,
          0.16818173397295297,
          0.1692560545819762,
          0.16959788386666544,
          0.1712581975351559,
          0.1718930233495787,
          0.17340683875320237,
          0.17404166456762518,
          0.17496948691178163,
          0.1773622919046061,
          0.17765528843433973,
          0.17848544526858492,
          0.17965743138751936,
          0.18004809342716419,
          0.1807805847514982,
          0.18175723985061024,
          0.18244089841998865,
          0.1825873966848555,
          0.18268506219476668,
          0.18283156045963347,
          0.18463837239299072,
          0.18498020167767995,
          0.1852731982074136,
          0.18537086371732478,
          0.1873730066705044,
          0.18800783248492728,
          0.1893751496236841,
          0.19088896502730776,
          0.19167028910659736,
          0.19323293726517662,
          0.19567457501295674,
          0.19836037653551478,
          0.19840920929047043,
          0.1987998713301152,
          0.19938586438958242,
          0.19972769367427165,
          0.19982535918418284,
          0.19987419193913844,
          0.20002069020400523,
          0.2015833383625845,
          0.2021204986670961,
          0.204708634679743,
          0.20500163120947665,
          0.2073456034473455,
          0.2081757602815907,
          0.2101290704798148,
          0.21589133556457576,
          0.22150710238447,
          0.22263025574844883,
          0.22429056941693928,
          0.22663454165480815,
          0.22707403644940857,
          0.22741586573409775,
          0.23332462908372556,
          0.23337346183868116,
          0.23518027377203846,
          0.2431888455847571,
          0.2432376783397127,
          0.24416550068386914,
          0.24514215578298118,
          0.2456793160874928,
          0.25041609331818615,
          0.2526135672911882,
          0.2564713549326807,
          0.2655054145994671
         ],
         "yaxis": "y"
        }
       ],
       "layout": {
        "legend": {
         "tracegroupgap": 0
        },
        "template": {
         "data": {
          "bar": [
           {
            "error_x": {
             "color": "#2a3f5f"
            },
            "error_y": {
             "color": "#2a3f5f"
            },
            "marker": {
             "line": {
              "color": "#E5ECF6",
              "width": 0.5
             },
             "pattern": {
              "fillmode": "overlay",
              "size": 10,
              "solidity": 0.2
             }
            },
            "type": "bar"
           }
          ],
          "barpolar": [
           {
            "marker": {
             "line": {
              "color": "#E5ECF6",
              "width": 0.5
             },
             "pattern": {
              "fillmode": "overlay",
              "size": 10,
              "solidity": 0.2
             }
            },
            "type": "barpolar"
           }
          ],
          "carpet": [
           {
            "aaxis": {
             "endlinecolor": "#2a3f5f",
             "gridcolor": "white",
             "linecolor": "white",
             "minorgridcolor": "white",
             "startlinecolor": "#2a3f5f"
            },
            "baxis": {
             "endlinecolor": "#2a3f5f",
             "gridcolor": "white",
             "linecolor": "white",
             "minorgridcolor": "white",
             "startlinecolor": "#2a3f5f"
            },
            "type": "carpet"
           }
          ],
          "choropleth": [
           {
            "colorbar": {
             "outlinewidth": 0,
             "ticks": ""
            },
            "type": "choropleth"
           }
          ],
          "contour": [
           {
            "colorbar": {
             "outlinewidth": 0,
             "ticks": ""
            },
            "colorscale": [
             [
              0,
              "#0d0887"
             ],
             [
              0.1111111111111111,
              "#46039f"
             ],
             [
              0.2222222222222222,
              "#7201a8"
             ],
             [
              0.3333333333333333,
              "#9c179e"
             ],
             [
              0.4444444444444444,
              "#bd3786"
             ],
             [
              0.5555555555555556,
              "#d8576b"
             ],
             [
              0.6666666666666666,
              "#ed7953"
             ],
             [
              0.7777777777777778,
              "#fb9f3a"
             ],
             [
              0.8888888888888888,
              "#fdca26"
             ],
             [
              1,
              "#f0f921"
             ]
            ],
            "type": "contour"
           }
          ],
          "contourcarpet": [
           {
            "colorbar": {
             "outlinewidth": 0,
             "ticks": ""
            },
            "type": "contourcarpet"
           }
          ],
          "heatmap": [
           {
            "colorbar": {
             "outlinewidth": 0,
             "ticks": ""
            },
            "colorscale": [
             [
              0,
              "#0d0887"
             ],
             [
              0.1111111111111111,
              "#46039f"
             ],
             [
              0.2222222222222222,
              "#7201a8"
             ],
             [
              0.3333333333333333,
              "#9c179e"
             ],
             [
              0.4444444444444444,
              "#bd3786"
             ],
             [
              0.5555555555555556,
              "#d8576b"
             ],
             [
              0.6666666666666666,
              "#ed7953"
             ],
             [
              0.7777777777777778,
              "#fb9f3a"
             ],
             [
              0.8888888888888888,
              "#fdca26"
             ],
             [
              1,
              "#f0f921"
             ]
            ],
            "type": "heatmap"
           }
          ],
          "heatmapgl": [
           {
            "colorbar": {
             "outlinewidth": 0,
             "ticks": ""
            },
            "colorscale": [
             [
              0,
              "#0d0887"
             ],
             [
              0.1111111111111111,
              "#46039f"
             ],
             [
              0.2222222222222222,
              "#7201a8"
             ],
             [
              0.3333333333333333,
              "#9c179e"
             ],
             [
              0.4444444444444444,
              "#bd3786"
             ],
             [
              0.5555555555555556,
              "#d8576b"
             ],
             [
              0.6666666666666666,
              "#ed7953"
             ],
             [
              0.7777777777777778,
              "#fb9f3a"
             ],
             [
              0.8888888888888888,
              "#fdca26"
             ],
             [
              1,
              "#f0f921"
             ]
            ],
            "type": "heatmapgl"
           }
          ],
          "histogram": [
           {
            "marker": {
             "pattern": {
              "fillmode": "overlay",
              "size": 10,
              "solidity": 0.2
             }
            },
            "type": "histogram"
           }
          ],
          "histogram2d": [
           {
            "colorbar": {
             "outlinewidth": 0,
             "ticks": ""
            },
            "colorscale": [
             [
              0,
              "#0d0887"
             ],
             [
              0.1111111111111111,
              "#46039f"
             ],
             [
              0.2222222222222222,
              "#7201a8"
             ],
             [
              0.3333333333333333,
              "#9c179e"
             ],
             [
              0.4444444444444444,
              "#bd3786"
             ],
             [
              0.5555555555555556,
              "#d8576b"
             ],
             [
              0.6666666666666666,
              "#ed7953"
             ],
             [
              0.7777777777777778,
              "#fb9f3a"
             ],
             [
              0.8888888888888888,
              "#fdca26"
             ],
             [
              1,
              "#f0f921"
             ]
            ],
            "type": "histogram2d"
           }
          ],
          "histogram2dcontour": [
           {
            "colorbar": {
             "outlinewidth": 0,
             "ticks": ""
            },
            "colorscale": [
             [
              0,
              "#0d0887"
             ],
             [
              0.1111111111111111,
              "#46039f"
             ],
             [
              0.2222222222222222,
              "#7201a8"
             ],
             [
              0.3333333333333333,
              "#9c179e"
             ],
             [
              0.4444444444444444,
              "#bd3786"
             ],
             [
              0.5555555555555556,
              "#d8576b"
             ],
             [
              0.6666666666666666,
              "#ed7953"
             ],
             [
              0.7777777777777778,
              "#fb9f3a"
             ],
             [
              0.8888888888888888,
              "#fdca26"
             ],
             [
              1,
              "#f0f921"
             ]
            ],
            "type": "histogram2dcontour"
           }
          ],
          "mesh3d": [
           {
            "colorbar": {
             "outlinewidth": 0,
             "ticks": ""
            },
            "type": "mesh3d"
           }
          ],
          "parcoords": [
           {
            "line": {
             "colorbar": {
              "outlinewidth": 0,
              "ticks": ""
             }
            },
            "type": "parcoords"
           }
          ],
          "pie": [
           {
            "automargin": true,
            "type": "pie"
           }
          ],
          "scatter": [
           {
            "fillpattern": {
             "fillmode": "overlay",
             "size": 10,
             "solidity": 0.2
            },
            "type": "scatter"
           }
          ],
          "scatter3d": [
           {
            "line": {
             "colorbar": {
              "outlinewidth": 0,
              "ticks": ""
             }
            },
            "marker": {
             "colorbar": {
              "outlinewidth": 0,
              "ticks": ""
             }
            },
            "type": "scatter3d"
           }
          ],
          "scattercarpet": [
           {
            "marker": {
             "colorbar": {
              "outlinewidth": 0,
              "ticks": ""
             }
            },
            "type": "scattercarpet"
           }
          ],
          "scattergeo": [
           {
            "marker": {
             "colorbar": {
              "outlinewidth": 0,
              "ticks": ""
             }
            },
            "type": "scattergeo"
           }
          ],
          "scattergl": [
           {
            "marker": {
             "colorbar": {
              "outlinewidth": 0,
              "ticks": ""
             }
            },
            "type": "scattergl"
           }
          ],
          "scattermapbox": [
           {
            "marker": {
             "colorbar": {
              "outlinewidth": 0,
              "ticks": ""
             }
            },
            "type": "scattermapbox"
           }
          ],
          "scatterpolar": [
           {
            "marker": {
             "colorbar": {
              "outlinewidth": 0,
              "ticks": ""
             }
            },
            "type": "scatterpolar"
           }
          ],
          "scatterpolargl": [
           {
            "marker": {
             "colorbar": {
              "outlinewidth": 0,
              "ticks": ""
             }
            },
            "type": "scatterpolargl"
           }
          ],
          "scatterternary": [
           {
            "marker": {
             "colorbar": {
              "outlinewidth": 0,
              "ticks": ""
             }
            },
            "type": "scatterternary"
           }
          ],
          "surface": [
           {
            "colorbar": {
             "outlinewidth": 0,
             "ticks": ""
            },
            "colorscale": [
             [
              0,
              "#0d0887"
             ],
             [
              0.1111111111111111,
              "#46039f"
             ],
             [
              0.2222222222222222,
              "#7201a8"
             ],
             [
              0.3333333333333333,
              "#9c179e"
             ],
             [
              0.4444444444444444,
              "#bd3786"
             ],
             [
              0.5555555555555556,
              "#d8576b"
             ],
             [
              0.6666666666666666,
              "#ed7953"
             ],
             [
              0.7777777777777778,
              "#fb9f3a"
             ],
             [
              0.8888888888888888,
              "#fdca26"
             ],
             [
              1,
              "#f0f921"
             ]
            ],
            "type": "surface"
           }
          ],
          "table": [
           {
            "cells": {
             "fill": {
              "color": "#EBF0F8"
             },
             "line": {
              "color": "white"
             }
            },
            "header": {
             "fill": {
              "color": "#C8D4E3"
             },
             "line": {
              "color": "white"
             }
            },
            "type": "table"
           }
          ]
         },
         "layout": {
          "annotationdefaults": {
           "arrowcolor": "#2a3f5f",
           "arrowhead": 0,
           "arrowwidth": 1
          },
          "autotypenumbers": "strict",
          "coloraxis": {
           "colorbar": {
            "outlinewidth": 0,
            "ticks": ""
           }
          },
          "colorscale": {
           "diverging": [
            [
             0,
             "#8e0152"
            ],
            [
             0.1,
             "#c51b7d"
            ],
            [
             0.2,
             "#de77ae"
            ],
            [
             0.3,
             "#f1b6da"
            ],
            [
             0.4,
             "#fde0ef"
            ],
            [
             0.5,
             "#f7f7f7"
            ],
            [
             0.6,
             "#e6f5d0"
            ],
            [
             0.7,
             "#b8e186"
            ],
            [
             0.8,
             "#7fbc41"
            ],
            [
             0.9,
             "#4d9221"
            ],
            [
             1,
             "#276419"
            ]
           ],
           "sequential": [
            [
             0,
             "#0d0887"
            ],
            [
             0.1111111111111111,
             "#46039f"
            ],
            [
             0.2222222222222222,
             "#7201a8"
            ],
            [
             0.3333333333333333,
             "#9c179e"
            ],
            [
             0.4444444444444444,
             "#bd3786"
            ],
            [
             0.5555555555555556,
             "#d8576b"
            ],
            [
             0.6666666666666666,
             "#ed7953"
            ],
            [
             0.7777777777777778,
             "#fb9f3a"
            ],
            [
             0.8888888888888888,
             "#fdca26"
            ],
            [
             1,
             "#f0f921"
            ]
           ],
           "sequentialminus": [
            [
             0,
             "#0d0887"
            ],
            [
             0.1111111111111111,
             "#46039f"
            ],
            [
             0.2222222222222222,
             "#7201a8"
            ],
            [
             0.3333333333333333,
             "#9c179e"
            ],
            [
             0.4444444444444444,
             "#bd3786"
            ],
            [
             0.5555555555555556,
             "#d8576b"
            ],
            [
             0.6666666666666666,
             "#ed7953"
            ],
            [
             0.7777777777777778,
             "#fb9f3a"
            ],
            [
             0.8888888888888888,
             "#fdca26"
            ],
            [
             1,
             "#f0f921"
            ]
           ]
          },
          "colorway": [
           "#636efa",
           "#EF553B",
           "#00cc96",
           "#ab63fa",
           "#FFA15A",
           "#19d3f3",
           "#FF6692",
           "#B6E880",
           "#FF97FF",
           "#FECB52"
          ],
          "font": {
           "color": "#2a3f5f"
          },
          "geo": {
           "bgcolor": "white",
           "lakecolor": "white",
           "landcolor": "#E5ECF6",
           "showlakes": true,
           "showland": true,
           "subunitcolor": "white"
          },
          "hoverlabel": {
           "align": "left"
          },
          "hovermode": "closest",
          "mapbox": {
           "style": "light"
          },
          "paper_bgcolor": "white",
          "plot_bgcolor": "#E5ECF6",
          "polar": {
           "angularaxis": {
            "gridcolor": "white",
            "linecolor": "white",
            "ticks": ""
           },
           "bgcolor": "#E5ECF6",
           "radialaxis": {
            "gridcolor": "white",
            "linecolor": "white",
            "ticks": ""
           }
          },
          "scene": {
           "xaxis": {
            "backgroundcolor": "#E5ECF6",
            "gridcolor": "white",
            "gridwidth": 2,
            "linecolor": "white",
            "showbackground": true,
            "ticks": "",
            "zerolinecolor": "white"
           },
           "yaxis": {
            "backgroundcolor": "#E5ECF6",
            "gridcolor": "white",
            "gridwidth": 2,
            "linecolor": "white",
            "showbackground": true,
            "ticks": "",
            "zerolinecolor": "white"
           },
           "zaxis": {
            "backgroundcolor": "#E5ECF6",
            "gridcolor": "white",
            "gridwidth": 2,
            "linecolor": "white",
            "showbackground": true,
            "ticks": "",
            "zerolinecolor": "white"
           }
          },
          "shapedefaults": {
           "line": {
            "color": "#2a3f5f"
           }
          },
          "ternary": {
           "aaxis": {
            "gridcolor": "white",
            "linecolor": "white",
            "ticks": ""
           },
           "baxis": {
            "gridcolor": "white",
            "linecolor": "white",
            "ticks": ""
           },
           "bgcolor": "#E5ECF6",
           "caxis": {
            "gridcolor": "white",
            "linecolor": "white",
            "ticks": ""
           }
          },
          "title": {
           "x": 0.05
          },
          "xaxis": {
           "automargin": true,
           "gridcolor": "white",
           "linecolor": "white",
           "ticks": "",
           "title": {
            "standoff": 15
           },
           "zerolinecolor": "white",
           "zerolinewidth": 2
          },
          "yaxis": {
           "automargin": true,
           "gridcolor": "white",
           "linecolor": "white",
           "ticks": "",
           "title": {
            "standoff": 15
           },
           "zerolinecolor": "white",
           "zerolinewidth": 2
          }
         }
        },
        "title": {
         "text": "Corelation between Happiness score and corruption"
        },
        "xaxis": {
         "anchor": "y",
         "domain": [
          0,
          1
         ],
         "title": {
          "text": "Happiness score"
         }
        },
        "yaxis": {
         "anchor": "x",
         "domain": [
          0,
          1
         ],
         "title": {
          "text": "corruption"
         }
        }
       }
      },
      "text/html": [
       "<div>                            <div id=\"30acd7a8-f494-4dc6-ab85-a9a9988a1f8c\" class=\"plotly-graph-div\" style=\"height:525px; width:100%;\"></div>            <script type=\"text/javascript\">                require([\"plotly\"], function(Plotly) {                    window.PLOTLYENV=window.PLOTLYENV || {};                                    if (document.getElementById(\"30acd7a8-f494-4dc6-ab85-a9a9988a1f8c\")) {                    Plotly.newPlot(                        \"30acd7a8-f494-4dc6-ab85-a9a9988a1f8c\",                        [{\"hovertemplate\":\"Happiness score=%{x}<br>corruption=%{y}<extra></extra>\",\"legendgroup\":\"\",\"marker\":{\"color\":\"#636efa\",\"symbol\":\"circle\"},\"mode\":\"markers\",\"name\":\"\",\"orientation\":\"v\",\"showlegend\":false,\"x\":[7821,7636,7557,7512,7415,7404,7384,7365,7364,7200,7163,7162,7041,7034,7025,6977,6943,6920,6805,6687,6647,6630,6582,6576,6523,6512,6480,6477,6476,6474,6467,6455,6447,6446,6391,6341,6309,6293,6262,6234,6221,6180,6178,6172,6165,6128,6125,6123,6120,6106,6086,6071,6063,6039,6022,6016,5967,5948,5935,5904,5891,5857,5850,5828,5821,5781,5768,5761,5737,5711,5600,5585,5578,5559,5547,5533,5485,5474,5467,5459,5425,5399,5377,5377,5371,5330,5240,5235,5199,5199,5194,5173,5164,5155,5140,5122,5122,5084,5075,5060,5048,5048,5046,5003,4973,4958,4941,4925,4891,4888,4872,4744,4670,4640,4623,4609,4603,4552,4543,4516,4516,4483,4479,4459,4396,4394,4362,4339,4288,4251,4241,4197,4153,4152,4112,3777,3760,3750,3702,3574,3512,3471,3268,2995,2955,2404],\"xaxis\":\"x\",\"y\":[0.534,0.532,0.191,0.461,0.419,0.388,0.512,0.474,0.143,0.483,0.329,0.341,0.408,0.358,0.368,0.177,0.329,0.048,0.204,0.266,0.155,0.115,0.102,0.25,0.18,0.168,0.587,0.006,0.149,0.265,0.059,0.035,0.166,0.077,0.025,0.333,0.051,0.134,0.115,0.157,0.062,0.09,0.088,0.069,0.212,0.115,0.0,0.14,0.212,0.147,0.064,0.107,0.24,0.218,0.076,0.039,0.085,0.108,0.176,0.142,0.026,0.028,0.053,0.025,0.282,0.077,0.006,0.059,0.179,0.126,0.064,0.142,0.059,0.037,0.077,0.083,0.105,0.032,0.213,0.08,0.383,0.21,0.304,0.13,0.021,0.179,0.047,0.124,0.031,0.028,0.046,0.341,0.103,0.187,0.184,0.15,0.08,0.017,0.146,0.102,0.2,0.074,0.081,0.145,0.208,0.099,0.046,0.082,0.116,0.146,0.056,0.115,0.126,0.068,0.23,0.125,0.066,0.038,0.082,0.029,0.112,0.079,0.042,0.071,0.154,0.194,0.079,0.154,0.254,0.077,0.136,0.098,0.138,0.2,0.132,0.123,0.083,0.157,0.27,0.055,0.018,0.102,0.544,0.105,0.034,0.005],\"yaxis\":\"y\",\"type\":\"scatter\"},{\"hovertemplate\":\"<b>OLS trendline</b><br>corruption = 4.88328e-05 * Happiness score + -0.116416<br>R<sup>2</sup>=0.173236<br><br>Happiness score=%{x}<br>corruption=%{y} <b>(trend)</b><extra></extra>\",\"legendgroup\":\"\",\"marker\":{\"color\":\"#636efa\",\"symbol\":\"circle\"},\"mode\":\"lines\",\"name\":\"\",\"showlegend\":false,\"x\":[2404,2955,2995,3268,3471,3512,3574,3702,3750,3760,3777,4112,4152,4153,4197,4241,4251,4288,4339,4362,4394,4396,4459,4479,4483,4516,4516,4543,4552,4603,4609,4623,4640,4670,4744,4872,4888,4891,4925,4941,4958,4973,5003,5046,5048,5048,5060,5075,5084,5122,5122,5140,5155,5164,5173,5194,5199,5199,5235,5240,5330,5371,5377,5377,5399,5425,5459,5467,5474,5485,5533,5547,5559,5578,5585,5600,5711,5737,5761,5768,5781,5821,5828,5850,5857,5891,5904,5935,5948,5967,6016,6022,6039,6063,6071,6086,6106,6120,6123,6125,6128,6165,6172,6178,6180,6221,6234,6262,6293,6309,6341,6391,6446,6447,6455,6467,6474,6476,6477,6480,6512,6523,6576,6582,6630,6647,6687,6805,6920,6943,6977,7025,7034,7041,7162,7163,7200,7364,7365,7384,7404,7415,7512,7557,7636,7821],\"xaxis\":\"x\",\"y\":[0.0009783810049729808,0.02788522898550949,0.029838539183733553,0.04316988128661278,0.05308293054259994,0.055085073495779596,0.058112704303026896,0.06436329693734391,0.06670726917521277,0.0671955967247688,0.06802575355901402,0.08438472646914058,0.08633803666736464,0.08638686942232024,0.08853551064036672,0.09068415185841319,0.09117247940796921,0.09297929134132646,0.09546976184406214,0.09659291520804097,0.09815556336662024,0.09825322887653143,0.10132969243873435,0.10230634753784637,0.10250167855766878,0.10411315947120364,0.10411315947120364,0.10543164385500489,0.10587113864960529,0.10836160915234097,0.10865460568207458,0.10933826425145302,0.11016842108569824,0.11163340373436628,0.1152470276010808,0.12149762023539781,0.12227894431468744,0.12242544257955426,0.12408575624804472,0.12486708032733435,0.12569723716157957,0.12642972848591358,0.12789471113458165,0.1299945195976725,0.13009218510758372,0.13009218510758372,0.13067817816705093,0.13141066949138494,0.13185016428598537,0.1337058089742982,0.1337058089742982,0.13458479856349906,0.13531728988783306,0.1357567846824335,0.13619627947703392,0.13722176733110156,0.13746593110587954,0.13746593110587954,0.1392239102842812,0.13946807405905923,0.14386302200506337,0.14586516495824306,0.14615816148797664,0.14615816148797664,0.14723248209699988,0.1485021337258455,0.15016244739433596,0.1505531094339808,0.15089493871867002,0.15143209902318164,0.1537760712610505,0.1544597298304289,0.15504572288989613,0.15597354523405257,0.1563153745187418,0.1570478658430758,0.1624683016431476,0.16373795327199323,0.16490993939092766,0.1652517686756169,0.1658865944900397,0.1678399046882638,0.16818173397295297,0.1692560545819762,0.16959788386666544,0.1712581975351559,0.1718930233495787,0.17340683875320237,0.17404166456762518,0.17496948691178163,0.1773622919046061,0.17765528843433973,0.17848544526858492,0.17965743138751936,0.18004809342716419,0.1807805847514982,0.18175723985061024,0.18244089841998865,0.1825873966848555,0.18268506219476668,0.18283156045963347,0.18463837239299072,0.18498020167767995,0.1852731982074136,0.18537086371732478,0.1873730066705044,0.18800783248492728,0.1893751496236841,0.19088896502730776,0.19167028910659736,0.19323293726517662,0.19567457501295674,0.19836037653551478,0.19840920929047043,0.1987998713301152,0.19938586438958242,0.19972769367427165,0.19982535918418284,0.19987419193913844,0.20002069020400523,0.2015833383625845,0.2021204986670961,0.204708634679743,0.20500163120947665,0.2073456034473455,0.2081757602815907,0.2101290704798148,0.21589133556457576,0.22150710238447,0.22263025574844883,0.22429056941693928,0.22663454165480815,0.22707403644940857,0.22741586573409775,0.23332462908372556,0.23337346183868116,0.23518027377203846,0.2431888455847571,0.2432376783397127,0.24416550068386914,0.24514215578298118,0.2456793160874928,0.25041609331818615,0.2526135672911882,0.2564713549326807,0.2655054145994671],\"yaxis\":\"y\",\"type\":\"scatter\"}],                        {\"template\":{\"data\":{\"histogram2dcontour\":[{\"type\":\"histogram2dcontour\",\"colorbar\":{\"outlinewidth\":0,\"ticks\":\"\"},\"colorscale\":[[0.0,\"#0d0887\"],[0.1111111111111111,\"#46039f\"],[0.2222222222222222,\"#7201a8\"],[0.3333333333333333,\"#9c179e\"],[0.4444444444444444,\"#bd3786\"],[0.5555555555555556,\"#d8576b\"],[0.6666666666666666,\"#ed7953\"],[0.7777777777777778,\"#fb9f3a\"],[0.8888888888888888,\"#fdca26\"],[1.0,\"#f0f921\"]]}],\"choropleth\":[{\"type\":\"choropleth\",\"colorbar\":{\"outlinewidth\":0,\"ticks\":\"\"}}],\"histogram2d\":[{\"type\":\"histogram2d\",\"colorbar\":{\"outlinewidth\":0,\"ticks\":\"\"},\"colorscale\":[[0.0,\"#0d0887\"],[0.1111111111111111,\"#46039f\"],[0.2222222222222222,\"#7201a8\"],[0.3333333333333333,\"#9c179e\"],[0.4444444444444444,\"#bd3786\"],[0.5555555555555556,\"#d8576b\"],[0.6666666666666666,\"#ed7953\"],[0.7777777777777778,\"#fb9f3a\"],[0.8888888888888888,\"#fdca26\"],[1.0,\"#f0f921\"]]}],\"heatmap\":[{\"type\":\"heatmap\",\"colorbar\":{\"outlinewidth\":0,\"ticks\":\"\"},\"colorscale\":[[0.0,\"#0d0887\"],[0.1111111111111111,\"#46039f\"],[0.2222222222222222,\"#7201a8\"],[0.3333333333333333,\"#9c179e\"],[0.4444444444444444,\"#bd3786\"],[0.5555555555555556,\"#d8576b\"],[0.6666666666666666,\"#ed7953\"],[0.7777777777777778,\"#fb9f3a\"],[0.8888888888888888,\"#fdca26\"],[1.0,\"#f0f921\"]]}],\"heatmapgl\":[{\"type\":\"heatmapgl\",\"colorbar\":{\"outlinewidth\":0,\"ticks\":\"\"},\"colorscale\":[[0.0,\"#0d0887\"],[0.1111111111111111,\"#46039f\"],[0.2222222222222222,\"#7201a8\"],[0.3333333333333333,\"#9c179e\"],[0.4444444444444444,\"#bd3786\"],[0.5555555555555556,\"#d8576b\"],[0.6666666666666666,\"#ed7953\"],[0.7777777777777778,\"#fb9f3a\"],[0.8888888888888888,\"#fdca26\"],[1.0,\"#f0f921\"]]}],\"contourcarpet\":[{\"type\":\"contourcarpet\",\"colorbar\":{\"outlinewidth\":0,\"ticks\":\"\"}}],\"contour\":[{\"type\":\"contour\",\"colorbar\":{\"outlinewidth\":0,\"ticks\":\"\"},\"colorscale\":[[0.0,\"#0d0887\"],[0.1111111111111111,\"#46039f\"],[0.2222222222222222,\"#7201a8\"],[0.3333333333333333,\"#9c179e\"],[0.4444444444444444,\"#bd3786\"],[0.5555555555555556,\"#d8576b\"],[0.6666666666666666,\"#ed7953\"],[0.7777777777777778,\"#fb9f3a\"],[0.8888888888888888,\"#fdca26\"],[1.0,\"#f0f921\"]]}],\"surface\":[{\"type\":\"surface\",\"colorbar\":{\"outlinewidth\":0,\"ticks\":\"\"},\"colorscale\":[[0.0,\"#0d0887\"],[0.1111111111111111,\"#46039f\"],[0.2222222222222222,\"#7201a8\"],[0.3333333333333333,\"#9c179e\"],[0.4444444444444444,\"#bd3786\"],[0.5555555555555556,\"#d8576b\"],[0.6666666666666666,\"#ed7953\"],[0.7777777777777778,\"#fb9f3a\"],[0.8888888888888888,\"#fdca26\"],[1.0,\"#f0f921\"]]}],\"mesh3d\":[{\"type\":\"mesh3d\",\"colorbar\":{\"outlinewidth\":0,\"ticks\":\"\"}}],\"scatter\":[{\"fillpattern\":{\"fillmode\":\"overlay\",\"size\":10,\"solidity\":0.2},\"type\":\"scatter\"}],\"parcoords\":[{\"type\":\"parcoords\",\"line\":{\"colorbar\":{\"outlinewidth\":0,\"ticks\":\"\"}}}],\"scatterpolargl\":[{\"type\":\"scatterpolargl\",\"marker\":{\"colorbar\":{\"outlinewidth\":0,\"ticks\":\"\"}}}],\"bar\":[{\"error_x\":{\"color\":\"#2a3f5f\"},\"error_y\":{\"color\":\"#2a3f5f\"},\"marker\":{\"line\":{\"color\":\"#E5ECF6\",\"width\":0.5},\"pattern\":{\"fillmode\":\"overlay\",\"size\":10,\"solidity\":0.2}},\"type\":\"bar\"}],\"scattergeo\":[{\"type\":\"scattergeo\",\"marker\":{\"colorbar\":{\"outlinewidth\":0,\"ticks\":\"\"}}}],\"scatterpolar\":[{\"type\":\"scatterpolar\",\"marker\":{\"colorbar\":{\"outlinewidth\":0,\"ticks\":\"\"}}}],\"histogram\":[{\"marker\":{\"pattern\":{\"fillmode\":\"overlay\",\"size\":10,\"solidity\":0.2}},\"type\":\"histogram\"}],\"scattergl\":[{\"type\":\"scattergl\",\"marker\":{\"colorbar\":{\"outlinewidth\":0,\"ticks\":\"\"}}}],\"scatter3d\":[{\"type\":\"scatter3d\",\"line\":{\"colorbar\":{\"outlinewidth\":0,\"ticks\":\"\"}},\"marker\":{\"colorbar\":{\"outlinewidth\":0,\"ticks\":\"\"}}}],\"scattermapbox\":[{\"type\":\"scattermapbox\",\"marker\":{\"colorbar\":{\"outlinewidth\":0,\"ticks\":\"\"}}}],\"scatterternary\":[{\"type\":\"scatterternary\",\"marker\":{\"colorbar\":{\"outlinewidth\":0,\"ticks\":\"\"}}}],\"scattercarpet\":[{\"type\":\"scattercarpet\",\"marker\":{\"colorbar\":{\"outlinewidth\":0,\"ticks\":\"\"}}}],\"carpet\":[{\"aaxis\":{\"endlinecolor\":\"#2a3f5f\",\"gridcolor\":\"white\",\"linecolor\":\"white\",\"minorgridcolor\":\"white\",\"startlinecolor\":\"#2a3f5f\"},\"baxis\":{\"endlinecolor\":\"#2a3f5f\",\"gridcolor\":\"white\",\"linecolor\":\"white\",\"minorgridcolor\":\"white\",\"startlinecolor\":\"#2a3f5f\"},\"type\":\"carpet\"}],\"table\":[{\"cells\":{\"fill\":{\"color\":\"#EBF0F8\"},\"line\":{\"color\":\"white\"}},\"header\":{\"fill\":{\"color\":\"#C8D4E3\"},\"line\":{\"color\":\"white\"}},\"type\":\"table\"}],\"barpolar\":[{\"marker\":{\"line\":{\"color\":\"#E5ECF6\",\"width\":0.5},\"pattern\":{\"fillmode\":\"overlay\",\"size\":10,\"solidity\":0.2}},\"type\":\"barpolar\"}],\"pie\":[{\"automargin\":true,\"type\":\"pie\"}]},\"layout\":{\"autotypenumbers\":\"strict\",\"colorway\":[\"#636efa\",\"#EF553B\",\"#00cc96\",\"#ab63fa\",\"#FFA15A\",\"#19d3f3\",\"#FF6692\",\"#B6E880\",\"#FF97FF\",\"#FECB52\"],\"font\":{\"color\":\"#2a3f5f\"},\"hovermode\":\"closest\",\"hoverlabel\":{\"align\":\"left\"},\"paper_bgcolor\":\"white\",\"plot_bgcolor\":\"#E5ECF6\",\"polar\":{\"bgcolor\":\"#E5ECF6\",\"angularaxis\":{\"gridcolor\":\"white\",\"linecolor\":\"white\",\"ticks\":\"\"},\"radialaxis\":{\"gridcolor\":\"white\",\"linecolor\":\"white\",\"ticks\":\"\"}},\"ternary\":{\"bgcolor\":\"#E5ECF6\",\"aaxis\":{\"gridcolor\":\"white\",\"linecolor\":\"white\",\"ticks\":\"\"},\"baxis\":{\"gridcolor\":\"white\",\"linecolor\":\"white\",\"ticks\":\"\"},\"caxis\":{\"gridcolor\":\"white\",\"linecolor\":\"white\",\"ticks\":\"\"}},\"coloraxis\":{\"colorbar\":{\"outlinewidth\":0,\"ticks\":\"\"}},\"colorscale\":{\"sequential\":[[0.0,\"#0d0887\"],[0.1111111111111111,\"#46039f\"],[0.2222222222222222,\"#7201a8\"],[0.3333333333333333,\"#9c179e\"],[0.4444444444444444,\"#bd3786\"],[0.5555555555555556,\"#d8576b\"],[0.6666666666666666,\"#ed7953\"],[0.7777777777777778,\"#fb9f3a\"],[0.8888888888888888,\"#fdca26\"],[1.0,\"#f0f921\"]],\"sequentialminus\":[[0.0,\"#0d0887\"],[0.1111111111111111,\"#46039f\"],[0.2222222222222222,\"#7201a8\"],[0.3333333333333333,\"#9c179e\"],[0.4444444444444444,\"#bd3786\"],[0.5555555555555556,\"#d8576b\"],[0.6666666666666666,\"#ed7953\"],[0.7777777777777778,\"#fb9f3a\"],[0.8888888888888888,\"#fdca26\"],[1.0,\"#f0f921\"]],\"diverging\":[[0,\"#8e0152\"],[0.1,\"#c51b7d\"],[0.2,\"#de77ae\"],[0.3,\"#f1b6da\"],[0.4,\"#fde0ef\"],[0.5,\"#f7f7f7\"],[0.6,\"#e6f5d0\"],[0.7,\"#b8e186\"],[0.8,\"#7fbc41\"],[0.9,\"#4d9221\"],[1,\"#276419\"]]},\"xaxis\":{\"gridcolor\":\"white\",\"linecolor\":\"white\",\"ticks\":\"\",\"title\":{\"standoff\":15},\"zerolinecolor\":\"white\",\"automargin\":true,\"zerolinewidth\":2},\"yaxis\":{\"gridcolor\":\"white\",\"linecolor\":\"white\",\"ticks\":\"\",\"title\":{\"standoff\":15},\"zerolinecolor\":\"white\",\"automargin\":true,\"zerolinewidth\":2},\"scene\":{\"xaxis\":{\"backgroundcolor\":\"#E5ECF6\",\"gridcolor\":\"white\",\"linecolor\":\"white\",\"showbackground\":true,\"ticks\":\"\",\"zerolinecolor\":\"white\",\"gridwidth\":2},\"yaxis\":{\"backgroundcolor\":\"#E5ECF6\",\"gridcolor\":\"white\",\"linecolor\":\"white\",\"showbackground\":true,\"ticks\":\"\",\"zerolinecolor\":\"white\",\"gridwidth\":2},\"zaxis\":{\"backgroundcolor\":\"#E5ECF6\",\"gridcolor\":\"white\",\"linecolor\":\"white\",\"showbackground\":true,\"ticks\":\"\",\"zerolinecolor\":\"white\",\"gridwidth\":2}},\"shapedefaults\":{\"line\":{\"color\":\"#2a3f5f\"}},\"annotationdefaults\":{\"arrowcolor\":\"#2a3f5f\",\"arrowhead\":0,\"arrowwidth\":1},\"geo\":{\"bgcolor\":\"white\",\"landcolor\":\"#E5ECF6\",\"subunitcolor\":\"white\",\"showland\":true,\"showlakes\":true,\"lakecolor\":\"white\"},\"title\":{\"x\":0.05},\"mapbox\":{\"style\":\"light\"}}},\"xaxis\":{\"anchor\":\"y\",\"domain\":[0.0,1.0],\"title\":{\"text\":\"Happiness score\"}},\"yaxis\":{\"anchor\":\"x\",\"domain\":[0.0,1.0],\"title\":{\"text\":\"corruption\"}},\"legend\":{\"tracegroupgap\":0},\"title\":{\"text\":\"Corelation between Happiness score and corruption\"}},                        {\"responsive\": true}                    ).then(function(){\n",
       "                            \n",
       "var gd = document.getElementById('30acd7a8-f494-4dc6-ab85-a9a9988a1f8c');\n",
       "var x = new MutationObserver(function (mutations, observer) {{\n",
       "        var display = window.getComputedStyle(gd).display;\n",
       "        if (!display || display === 'none') {{\n",
       "            console.log([gd, 'removed!']);\n",
       "            Plotly.purge(gd);\n",
       "            observer.disconnect();\n",
       "        }}\n",
       "}});\n",
       "\n",
       "// Listen for the removal of the full notebook cells\n",
       "var notebookContainer = gd.closest('#notebook-container');\n",
       "if (notebookContainer) {{\n",
       "    x.observe(notebookContainer, {childList: true});\n",
       "}}\n",
       "\n",
       "// Listen for the clearing of the current output cell\n",
       "var outputEl = gd.closest('.output');\n",
       "if (outputEl) {{\n",
       "    x.observe(outputEl, {childList: true});\n",
       "}}\n",
       "\n",
       "                        })                };                });            </script>        </div>"
      ]
     },
     "metadata": {},
     "output_type": "display_data"
    }
   ],
   "source": [
    "## lets take a another corelation \n",
    "#df.head()\n",
    "fig = px.scatter(df, x=df[\"Happiness score\"], y=df[\"corruption\"],trendline=\"ols\"\n",
    "                 ,title='Corelation between Happiness score and corruption')\n",
    "fig.show()"
   ]
  },
  {
   "cell_type": "code",
   "execution_count": 34,
   "id": "d0291885",
   "metadata": {},
   "outputs": [
    {
     "data": {
      "application/vnd.plotly.v1+json": {
       "config": {
        "plotlyServerURL": "https://plot.ly"
       },
       "data": [
        {
         "hovertemplate": "Happiness score=%{x}<br>Freedom=%{y}<extra></extra>",
         "legendgroup": "",
         "marker": {
          "color": "#636efa",
          "symbol": "circle"
         },
         "mode": "markers",
         "name": "",
         "orientation": "v",
         "showlegend": false,
         "type": "scatter",
         "x": [
          7821,
          7636,
          7557,
          7512,
          7415,
          7404,
          7384,
          7365,
          7364,
          7200,
          7163,
          7162,
          7041,
          7034,
          7025,
          6977,
          6943,
          6920,
          6805,
          6687,
          6647,
          6630,
          6582,
          6576,
          6523,
          6512,
          6480,
          6477,
          6476,
          6474,
          6467,
          6455,
          6447,
          6446,
          6391,
          6341,
          6309,
          6293,
          6262,
          6234,
          6221,
          6180,
          6178,
          6172,
          6165,
          6128,
          6125,
          6123,
          6120,
          6106,
          6086,
          6071,
          6063,
          6039,
          6022,
          6016,
          5967,
          5948,
          5935,
          5904,
          5891,
          5857,
          5850,
          5828,
          5821,
          5781,
          5768,
          5761,
          5737,
          5711,
          5600,
          5585,
          5578,
          5559,
          5547,
          5533,
          5485,
          5474,
          5467,
          5459,
          5425,
          5399,
          5377,
          5377,
          5371,
          5330,
          5240,
          5235,
          5199,
          5199,
          5194,
          5173,
          5164,
          5155,
          5140,
          5122,
          5122,
          5084,
          5075,
          5060,
          5048,
          5048,
          5046,
          5003,
          4973,
          4958,
          4941,
          4925,
          4891,
          4888,
          4872,
          4744,
          4670,
          4640,
          4623,
          4609,
          4603,
          4552,
          4543,
          4516,
          4516,
          4483,
          4479,
          4459,
          4396,
          4394,
          4362,
          4339,
          4288,
          4251,
          4241,
          4197,
          4153,
          4152,
          4112,
          3777,
          3760,
          3750,
          3702,
          3574,
          3512,
          3471,
          3268,
          2995,
          2955,
          2404
         ],
         "xaxis": "x",
         "y": [
          0.736,
          0.719,
          0.718,
          0.677,
          0.651,
          0.7,
          0.724,
          0.728,
          0.568,
          0.68,
          0.623,
          0.676,
          0.627,
          0.585,
          0.659,
          0.574,
          0.597,
          0.66,
          0.492,
          0.567,
          0.693,
          0.685,
          0.661,
          0.702,
          0.651,
          0.542,
          0.672,
          0.605,
          0.505,
          0.665,
          0.412,
          0.599,
          0.679,
          0.496,
          0.479,
          0.689,
          0.592,
          0.546,
          0.662,
          0.584,
          0.448,
          0.502,
          0.546,
          0.46,
          0.617,
          0.621,
          0.535,
          0.523,
          0.666,
          0.617,
          0.485,
          0.589,
          0.716,
          0.537,
          0.582,
          0.655,
          0.555,
          0.249,
          0.414,
          0.678,
          0.617,
          0.561,
          0.567,
          0.693,
          0.342,
          0.545,
          0.448,
          0.398,
          0.606,
          0.654,
          0.627,
          0.656,
          0.629,
          0.545,
          0.46,
          0.565,
          0.707,
          0.649,
          0.523,
          0.401,
          0.4,
          0.558,
          0.572,
          0.519,
          0.563,
          0.477,
          0.62,
          0.451,
          0.488,
          0.511,
          0.442,
          0.601,
          0.367,
          0.622,
          0.679,
          0.146,
          0.405,
          0.473,
          0.431,
          0.492,
          0.593,
          0.397,
          0.494,
          0.571,
          0.508,
          0.343,
          0.328,
          0.283,
          0.334,
          0.281,
          0.5,
          0.209,
          0.382,
          0.74,
          0.479,
          0.185,
          0.402,
          0.444,
          0.44,
          0.316,
          0.448,
          0.336,
          0.35,
          0.384,
          0.259,
          0.513,
          0.529,
          0.202,
          0.469,
          0.18,
          0.472,
          0.33,
          0.304,
          0.476,
          0.292,
          0.647,
          0.525,
          0.477,
          0.578,
          0.387,
          0.419,
          0.571,
          0.621,
          0.329,
          0.103,
          0
         ],
         "yaxis": "y"
        },
        {
         "hovertemplate": "<b>OLS trendline</b><br>Freedom = 8.38536e-05 * Happiness score + 0.0515385<br>R<sup>2</sup>=0.390402<br><br>Happiness score=%{x}<br>Freedom=%{y} <b>(trend)</b><extra></extra>",
         "legendgroup": "",
         "marker": {
          "color": "#636efa",
          "symbol": "circle"
         },
         "mode": "lines",
         "name": "",
         "showlegend": false,
         "type": "scatter",
         "x": [
          2404,
          2955,
          2995,
          3268,
          3471,
          3512,
          3574,
          3702,
          3750,
          3760,
          3777,
          4112,
          4152,
          4153,
          4197,
          4241,
          4251,
          4288,
          4339,
          4362,
          4394,
          4396,
          4459,
          4479,
          4483,
          4516,
          4516,
          4543,
          4552,
          4603,
          4609,
          4623,
          4640,
          4670,
          4744,
          4872,
          4888,
          4891,
          4925,
          4941,
          4958,
          4973,
          5003,
          5046,
          5048,
          5048,
          5060,
          5075,
          5084,
          5122,
          5122,
          5140,
          5155,
          5164,
          5173,
          5194,
          5199,
          5199,
          5235,
          5240,
          5330,
          5371,
          5377,
          5377,
          5399,
          5425,
          5459,
          5467,
          5474,
          5485,
          5533,
          5547,
          5559,
          5578,
          5585,
          5600,
          5711,
          5737,
          5761,
          5768,
          5781,
          5821,
          5828,
          5850,
          5857,
          5891,
          5904,
          5935,
          5948,
          5967,
          6016,
          6022,
          6039,
          6063,
          6071,
          6086,
          6106,
          6120,
          6123,
          6125,
          6128,
          6165,
          6172,
          6178,
          6180,
          6221,
          6234,
          6262,
          6293,
          6309,
          6341,
          6391,
          6446,
          6447,
          6455,
          6467,
          6474,
          6476,
          6477,
          6480,
          6512,
          6523,
          6576,
          6582,
          6630,
          6647,
          6687,
          6805,
          6920,
          6943,
          6977,
          7025,
          7034,
          7041,
          7162,
          7163,
          7200,
          7364,
          7365,
          7384,
          7404,
          7415,
          7512,
          7557,
          7636,
          7821
         ],
         "xaxis": "x",
         "y": [
          0.2531226672071487,
          0.29932602341923575,
          0.30268016906076656,
          0.32557221306421447,
          0.34259450219498344,
          0.3460325014775525,
          0.35123142722192524,
          0.36196469327482383,
          0.3659896680446608,
          0.3668282044550436,
          0.3682537163526942,
          0.39634468610051476,
          0.3996988317420457,
          0.3997826853830839,
          0.4034722455887678,
          0.4071618057944517,
          0.4080003422048344,
          0.41110292692325046,
          0.4153794626162022,
          0.4173080963600825,
          0.4199914128733071,
          0.4201591201553836,
          0.4254418995407947,
          0.42711897236156016,
          0.42745438692571314,
          0.4302215570799761,
          0.4302215570799761,
          0.4324856053880094,
          0.4332402881573538,
          0.43751682385030566,
          0.43801994569653524,
          0.439193896671071,
          0.4406194085687216,
          0.44313501779986975,
          0.44934018723670177,
          0.4600734532896005,
          0.46141511154621273,
          0.4616666724693276,
          0.4645176962646288,
          0.46585935452124105,
          0.46728486641889166,
          0.4685426710344658,
          0.4710582802656139,
          0.47466398683025945,
          0.47483169411233606,
          0.47483169411233606,
          0.47583793780479533,
          0.47709574242036934,
          0.47785042518971377,
          0.4810368635491681,
          0.4810368635491681,
          0.48254622908785694,
          0.48380403370343095,
          0.4845587164727754,
          0.4853133992421199,
          0.4870743257039235,
          0.48749359390911484,
          0.48749359390911484,
          0.49051232498649266,
          0.490931593191684,
          0.4984784208851283,
          0.5019164201676974,
          0.502419542013927,
          0.502419542013927,
          0.504264322116769,
          0.506444516783764,
          0.5092955405790652,
          0.5099663697073714,
          0.5105533451946392,
          0.5114757352460603,
          0.5155007100158973,
          0.516674660990433,
          0.5176809046828923,
          0.5192741238626194,
          0.5198610993498873,
          0.5211189039654613,
          0.5304266581207094,
          0.5326068527877045,
          0.5346193401726229,
          0.5352063156598909,
          0.5362964129933884,
          0.5396505586349192,
          0.5402375341221871,
          0.5420823142250291,
          0.5426692897122969,
          0.5455203135075981,
          0.5466104108410956,
          0.549209873713282,
          0.5502999710467795,
          0.5518931902265066,
          0.5560020186373819,
          0.5565051404836115,
          0.5579306523812622,
          0.5599431397661806,
          0.5606139688944868,
          0.5618717735100608,
          0.5635488463308262,
          0.564722797305362,
          0.5649743582284769,
          0.5651420655105533,
          0.5653936264336682,
          0.5684962111520843,
          0.5690831866393521,
          0.5695863084855818,
          0.5697540157676583,
          0.5731920150502273,
          0.5742821123837248,
          0.5766300143327965,
          0.5792294772049829,
          0.5805711354615952,
          0.5832544519748198,
          0.5874471340267333,
          0.5920590842838382,
          0.5921429379248765,
          0.5928137670531827,
          0.593820010745642,
          0.5944069862329098,
          0.5945746935149864,
          0.5946585471560246,
          0.5949101080791395,
          0.5975934245923641,
          0.5985158146437851,
          0.6029600576188134,
          0.603463179465043,
          0.60748815423488,
          0.6089136661325306,
          0.6122678117740614,
          0.6221625414165773,
          0.6318057101359785,
          0.6337343438798587,
          0.6365853676751599,
          0.6406103424449969,
          0.6413650252143414,
          0.6419520007016092,
          0.65209829126724,
          0.6521821449082782,
          0.6552847296266943,
          0.6690367267569706,
          0.6691205803980089,
          0.670713799577736,
          0.6723908723985014,
          0.6733132624499224,
          0.6814470656306346,
          0.6852204794773569,
          0.6918449171193802,
          0.7073578407114602
         ],
         "yaxis": "y"
        }
       ],
       "layout": {
        "legend": {
         "tracegroupgap": 0
        },
        "template": {
         "data": {
          "bar": [
           {
            "error_x": {
             "color": "#2a3f5f"
            },
            "error_y": {
             "color": "#2a3f5f"
            },
            "marker": {
             "line": {
              "color": "#E5ECF6",
              "width": 0.5
             },
             "pattern": {
              "fillmode": "overlay",
              "size": 10,
              "solidity": 0.2
             }
            },
            "type": "bar"
           }
          ],
          "barpolar": [
           {
            "marker": {
             "line": {
              "color": "#E5ECF6",
              "width": 0.5
             },
             "pattern": {
              "fillmode": "overlay",
              "size": 10,
              "solidity": 0.2
             }
            },
            "type": "barpolar"
           }
          ],
          "carpet": [
           {
            "aaxis": {
             "endlinecolor": "#2a3f5f",
             "gridcolor": "white",
             "linecolor": "white",
             "minorgridcolor": "white",
             "startlinecolor": "#2a3f5f"
            },
            "baxis": {
             "endlinecolor": "#2a3f5f",
             "gridcolor": "white",
             "linecolor": "white",
             "minorgridcolor": "white",
             "startlinecolor": "#2a3f5f"
            },
            "type": "carpet"
           }
          ],
          "choropleth": [
           {
            "colorbar": {
             "outlinewidth": 0,
             "ticks": ""
            },
            "type": "choropleth"
           }
          ],
          "contour": [
           {
            "colorbar": {
             "outlinewidth": 0,
             "ticks": ""
            },
            "colorscale": [
             [
              0,
              "#0d0887"
             ],
             [
              0.1111111111111111,
              "#46039f"
             ],
             [
              0.2222222222222222,
              "#7201a8"
             ],
             [
              0.3333333333333333,
              "#9c179e"
             ],
             [
              0.4444444444444444,
              "#bd3786"
             ],
             [
              0.5555555555555556,
              "#d8576b"
             ],
             [
              0.6666666666666666,
              "#ed7953"
             ],
             [
              0.7777777777777778,
              "#fb9f3a"
             ],
             [
              0.8888888888888888,
              "#fdca26"
             ],
             [
              1,
              "#f0f921"
             ]
            ],
            "type": "contour"
           }
          ],
          "contourcarpet": [
           {
            "colorbar": {
             "outlinewidth": 0,
             "ticks": ""
            },
            "type": "contourcarpet"
           }
          ],
          "heatmap": [
           {
            "colorbar": {
             "outlinewidth": 0,
             "ticks": ""
            },
            "colorscale": [
             [
              0,
              "#0d0887"
             ],
             [
              0.1111111111111111,
              "#46039f"
             ],
             [
              0.2222222222222222,
              "#7201a8"
             ],
             [
              0.3333333333333333,
              "#9c179e"
             ],
             [
              0.4444444444444444,
              "#bd3786"
             ],
             [
              0.5555555555555556,
              "#d8576b"
             ],
             [
              0.6666666666666666,
              "#ed7953"
             ],
             [
              0.7777777777777778,
              "#fb9f3a"
             ],
             [
              0.8888888888888888,
              "#fdca26"
             ],
             [
              1,
              "#f0f921"
             ]
            ],
            "type": "heatmap"
           }
          ],
          "heatmapgl": [
           {
            "colorbar": {
             "outlinewidth": 0,
             "ticks": ""
            },
            "colorscale": [
             [
              0,
              "#0d0887"
             ],
             [
              0.1111111111111111,
              "#46039f"
             ],
             [
              0.2222222222222222,
              "#7201a8"
             ],
             [
              0.3333333333333333,
              "#9c179e"
             ],
             [
              0.4444444444444444,
              "#bd3786"
             ],
             [
              0.5555555555555556,
              "#d8576b"
             ],
             [
              0.6666666666666666,
              "#ed7953"
             ],
             [
              0.7777777777777778,
              "#fb9f3a"
             ],
             [
              0.8888888888888888,
              "#fdca26"
             ],
             [
              1,
              "#f0f921"
             ]
            ],
            "type": "heatmapgl"
           }
          ],
          "histogram": [
           {
            "marker": {
             "pattern": {
              "fillmode": "overlay",
              "size": 10,
              "solidity": 0.2
             }
            },
            "type": "histogram"
           }
          ],
          "histogram2d": [
           {
            "colorbar": {
             "outlinewidth": 0,
             "ticks": ""
            },
            "colorscale": [
             [
              0,
              "#0d0887"
             ],
             [
              0.1111111111111111,
              "#46039f"
             ],
             [
              0.2222222222222222,
              "#7201a8"
             ],
             [
              0.3333333333333333,
              "#9c179e"
             ],
             [
              0.4444444444444444,
              "#bd3786"
             ],
             [
              0.5555555555555556,
              "#d8576b"
             ],
             [
              0.6666666666666666,
              "#ed7953"
             ],
             [
              0.7777777777777778,
              "#fb9f3a"
             ],
             [
              0.8888888888888888,
              "#fdca26"
             ],
             [
              1,
              "#f0f921"
             ]
            ],
            "type": "histogram2d"
           }
          ],
          "histogram2dcontour": [
           {
            "colorbar": {
             "outlinewidth": 0,
             "ticks": ""
            },
            "colorscale": [
             [
              0,
              "#0d0887"
             ],
             [
              0.1111111111111111,
              "#46039f"
             ],
             [
              0.2222222222222222,
              "#7201a8"
             ],
             [
              0.3333333333333333,
              "#9c179e"
             ],
             [
              0.4444444444444444,
              "#bd3786"
             ],
             [
              0.5555555555555556,
              "#d8576b"
             ],
             [
              0.6666666666666666,
              "#ed7953"
             ],
             [
              0.7777777777777778,
              "#fb9f3a"
             ],
             [
              0.8888888888888888,
              "#fdca26"
             ],
             [
              1,
              "#f0f921"
             ]
            ],
            "type": "histogram2dcontour"
           }
          ],
          "mesh3d": [
           {
            "colorbar": {
             "outlinewidth": 0,
             "ticks": ""
            },
            "type": "mesh3d"
           }
          ],
          "parcoords": [
           {
            "line": {
             "colorbar": {
              "outlinewidth": 0,
              "ticks": ""
             }
            },
            "type": "parcoords"
           }
          ],
          "pie": [
           {
            "automargin": true,
            "type": "pie"
           }
          ],
          "scatter": [
           {
            "fillpattern": {
             "fillmode": "overlay",
             "size": 10,
             "solidity": 0.2
            },
            "type": "scatter"
           }
          ],
          "scatter3d": [
           {
            "line": {
             "colorbar": {
              "outlinewidth": 0,
              "ticks": ""
             }
            },
            "marker": {
             "colorbar": {
              "outlinewidth": 0,
              "ticks": ""
             }
            },
            "type": "scatter3d"
           }
          ],
          "scattercarpet": [
           {
            "marker": {
             "colorbar": {
              "outlinewidth": 0,
              "ticks": ""
             }
            },
            "type": "scattercarpet"
           }
          ],
          "scattergeo": [
           {
            "marker": {
             "colorbar": {
              "outlinewidth": 0,
              "ticks": ""
             }
            },
            "type": "scattergeo"
           }
          ],
          "scattergl": [
           {
            "marker": {
             "colorbar": {
              "outlinewidth": 0,
              "ticks": ""
             }
            },
            "type": "scattergl"
           }
          ],
          "scattermapbox": [
           {
            "marker": {
             "colorbar": {
              "outlinewidth": 0,
              "ticks": ""
             }
            },
            "type": "scattermapbox"
           }
          ],
          "scatterpolar": [
           {
            "marker": {
             "colorbar": {
              "outlinewidth": 0,
              "ticks": ""
             }
            },
            "type": "scatterpolar"
           }
          ],
          "scatterpolargl": [
           {
            "marker": {
             "colorbar": {
              "outlinewidth": 0,
              "ticks": ""
             }
            },
            "type": "scatterpolargl"
           }
          ],
          "scatterternary": [
           {
            "marker": {
             "colorbar": {
              "outlinewidth": 0,
              "ticks": ""
             }
            },
            "type": "scatterternary"
           }
          ],
          "surface": [
           {
            "colorbar": {
             "outlinewidth": 0,
             "ticks": ""
            },
            "colorscale": [
             [
              0,
              "#0d0887"
             ],
             [
              0.1111111111111111,
              "#46039f"
             ],
             [
              0.2222222222222222,
              "#7201a8"
             ],
             [
              0.3333333333333333,
              "#9c179e"
             ],
             [
              0.4444444444444444,
              "#bd3786"
             ],
             [
              0.5555555555555556,
              "#d8576b"
             ],
             [
              0.6666666666666666,
              "#ed7953"
             ],
             [
              0.7777777777777778,
              "#fb9f3a"
             ],
             [
              0.8888888888888888,
              "#fdca26"
             ],
             [
              1,
              "#f0f921"
             ]
            ],
            "type": "surface"
           }
          ],
          "table": [
           {
            "cells": {
             "fill": {
              "color": "#EBF0F8"
             },
             "line": {
              "color": "white"
             }
            },
            "header": {
             "fill": {
              "color": "#C8D4E3"
             },
             "line": {
              "color": "white"
             }
            },
            "type": "table"
           }
          ]
         },
         "layout": {
          "annotationdefaults": {
           "arrowcolor": "#2a3f5f",
           "arrowhead": 0,
           "arrowwidth": 1
          },
          "autotypenumbers": "strict",
          "coloraxis": {
           "colorbar": {
            "outlinewidth": 0,
            "ticks": ""
           }
          },
          "colorscale": {
           "diverging": [
            [
             0,
             "#8e0152"
            ],
            [
             0.1,
             "#c51b7d"
            ],
            [
             0.2,
             "#de77ae"
            ],
            [
             0.3,
             "#f1b6da"
            ],
            [
             0.4,
             "#fde0ef"
            ],
            [
             0.5,
             "#f7f7f7"
            ],
            [
             0.6,
             "#e6f5d0"
            ],
            [
             0.7,
             "#b8e186"
            ],
            [
             0.8,
             "#7fbc41"
            ],
            [
             0.9,
             "#4d9221"
            ],
            [
             1,
             "#276419"
            ]
           ],
           "sequential": [
            [
             0,
             "#0d0887"
            ],
            [
             0.1111111111111111,
             "#46039f"
            ],
            [
             0.2222222222222222,
             "#7201a8"
            ],
            [
             0.3333333333333333,
             "#9c179e"
            ],
            [
             0.4444444444444444,
             "#bd3786"
            ],
            [
             0.5555555555555556,
             "#d8576b"
            ],
            [
             0.6666666666666666,
             "#ed7953"
            ],
            [
             0.7777777777777778,
             "#fb9f3a"
            ],
            [
             0.8888888888888888,
             "#fdca26"
            ],
            [
             1,
             "#f0f921"
            ]
           ],
           "sequentialminus": [
            [
             0,
             "#0d0887"
            ],
            [
             0.1111111111111111,
             "#46039f"
            ],
            [
             0.2222222222222222,
             "#7201a8"
            ],
            [
             0.3333333333333333,
             "#9c179e"
            ],
            [
             0.4444444444444444,
             "#bd3786"
            ],
            [
             0.5555555555555556,
             "#d8576b"
            ],
            [
             0.6666666666666666,
             "#ed7953"
            ],
            [
             0.7777777777777778,
             "#fb9f3a"
            ],
            [
             0.8888888888888888,
             "#fdca26"
            ],
            [
             1,
             "#f0f921"
            ]
           ]
          },
          "colorway": [
           "#636efa",
           "#EF553B",
           "#00cc96",
           "#ab63fa",
           "#FFA15A",
           "#19d3f3",
           "#FF6692",
           "#B6E880",
           "#FF97FF",
           "#FECB52"
          ],
          "font": {
           "color": "#2a3f5f"
          },
          "geo": {
           "bgcolor": "white",
           "lakecolor": "white",
           "landcolor": "#E5ECF6",
           "showlakes": true,
           "showland": true,
           "subunitcolor": "white"
          },
          "hoverlabel": {
           "align": "left"
          },
          "hovermode": "closest",
          "mapbox": {
           "style": "light"
          },
          "paper_bgcolor": "white",
          "plot_bgcolor": "#E5ECF6",
          "polar": {
           "angularaxis": {
            "gridcolor": "white",
            "linecolor": "white",
            "ticks": ""
           },
           "bgcolor": "#E5ECF6",
           "radialaxis": {
            "gridcolor": "white",
            "linecolor": "white",
            "ticks": ""
           }
          },
          "scene": {
           "xaxis": {
            "backgroundcolor": "#E5ECF6",
            "gridcolor": "white",
            "gridwidth": 2,
            "linecolor": "white",
            "showbackground": true,
            "ticks": "",
            "zerolinecolor": "white"
           },
           "yaxis": {
            "backgroundcolor": "#E5ECF6",
            "gridcolor": "white",
            "gridwidth": 2,
            "linecolor": "white",
            "showbackground": true,
            "ticks": "",
            "zerolinecolor": "white"
           },
           "zaxis": {
            "backgroundcolor": "#E5ECF6",
            "gridcolor": "white",
            "gridwidth": 2,
            "linecolor": "white",
            "showbackground": true,
            "ticks": "",
            "zerolinecolor": "white"
           }
          },
          "shapedefaults": {
           "line": {
            "color": "#2a3f5f"
           }
          },
          "ternary": {
           "aaxis": {
            "gridcolor": "white",
            "linecolor": "white",
            "ticks": ""
           },
           "baxis": {
            "gridcolor": "white",
            "linecolor": "white",
            "ticks": ""
           },
           "bgcolor": "#E5ECF6",
           "caxis": {
            "gridcolor": "white",
            "linecolor": "white",
            "ticks": ""
           }
          },
          "title": {
           "x": 0.05
          },
          "xaxis": {
           "automargin": true,
           "gridcolor": "white",
           "linecolor": "white",
           "ticks": "",
           "title": {
            "standoff": 15
           },
           "zerolinecolor": "white",
           "zerolinewidth": 2
          },
          "yaxis": {
           "automargin": true,
           "gridcolor": "white",
           "linecolor": "white",
           "ticks": "",
           "title": {
            "standoff": 15
           },
           "zerolinecolor": "white",
           "zerolinewidth": 2
          }
         }
        },
        "title": {
         "text": "Corelation between Happiness score and Freedom "
        },
        "xaxis": {
         "anchor": "y",
         "domain": [
          0,
          1
         ],
         "title": {
          "text": "Happiness score"
         }
        },
        "yaxis": {
         "anchor": "x",
         "domain": [
          0,
          1
         ],
         "title": {
          "text": "Freedom"
         }
        }
       }
      },
      "text/html": [
       "<div>                            <div id=\"3a02f780-5aac-4449-90c2-10e4afd48b7a\" class=\"plotly-graph-div\" style=\"height:525px; width:100%;\"></div>            <script type=\"text/javascript\">                require([\"plotly\"], function(Plotly) {                    window.PLOTLYENV=window.PLOTLYENV || {};                                    if (document.getElementById(\"3a02f780-5aac-4449-90c2-10e4afd48b7a\")) {                    Plotly.newPlot(                        \"3a02f780-5aac-4449-90c2-10e4afd48b7a\",                        [{\"hovertemplate\":\"Happiness score=%{x}<br>Freedom=%{y}<extra></extra>\",\"legendgroup\":\"\",\"marker\":{\"color\":\"#636efa\",\"symbol\":\"circle\"},\"mode\":\"markers\",\"name\":\"\",\"orientation\":\"v\",\"showlegend\":false,\"x\":[7821,7636,7557,7512,7415,7404,7384,7365,7364,7200,7163,7162,7041,7034,7025,6977,6943,6920,6805,6687,6647,6630,6582,6576,6523,6512,6480,6477,6476,6474,6467,6455,6447,6446,6391,6341,6309,6293,6262,6234,6221,6180,6178,6172,6165,6128,6125,6123,6120,6106,6086,6071,6063,6039,6022,6016,5967,5948,5935,5904,5891,5857,5850,5828,5821,5781,5768,5761,5737,5711,5600,5585,5578,5559,5547,5533,5485,5474,5467,5459,5425,5399,5377,5377,5371,5330,5240,5235,5199,5199,5194,5173,5164,5155,5140,5122,5122,5084,5075,5060,5048,5048,5046,5003,4973,4958,4941,4925,4891,4888,4872,4744,4670,4640,4623,4609,4603,4552,4543,4516,4516,4483,4479,4459,4396,4394,4362,4339,4288,4251,4241,4197,4153,4152,4112,3777,3760,3750,3702,3574,3512,3471,3268,2995,2955,2404],\"xaxis\":\"x\",\"y\":[0.736,0.719,0.718,0.677,0.651,0.7,0.724,0.728,0.568,0.68,0.623,0.676,0.627,0.585,0.659,0.574,0.597,0.66,0.492,0.567,0.693,0.685,0.661,0.702,0.651,0.542,0.672,0.605,0.505,0.665,0.412,0.599,0.679,0.496,0.479,0.689,0.592,0.546,0.662,0.584,0.448,0.502,0.546,0.46,0.617,0.621,0.535,0.523,0.666,0.617,0.485,0.589,0.716,0.537,0.582,0.655,0.555,0.249,0.414,0.678,0.617,0.561,0.567,0.693,0.342,0.545,0.448,0.398,0.606,0.654,0.627,0.656,0.629,0.545,0.46,0.565,0.707,0.649,0.523,0.401,0.4,0.558,0.572,0.519,0.563,0.477,0.62,0.451,0.488,0.511,0.442,0.601,0.367,0.622,0.679,0.146,0.405,0.473,0.431,0.492,0.593,0.397,0.494,0.571,0.508,0.343,0.328,0.283,0.334,0.281,0.5,0.209,0.382,0.74,0.479,0.185,0.402,0.444,0.44,0.316,0.448,0.336,0.35,0.384,0.259,0.513,0.529,0.202,0.469,0.18,0.472,0.33,0.304,0.476,0.292,0.647,0.525,0.477,0.578,0.387,0.419,0.571,0.621,0.329,0.103,0.0],\"yaxis\":\"y\",\"type\":\"scatter\"},{\"hovertemplate\":\"<b>OLS trendline</b><br>Freedom = 8.38536e-05 * Happiness score + 0.0515385<br>R<sup>2</sup>=0.390402<br><br>Happiness score=%{x}<br>Freedom=%{y} <b>(trend)</b><extra></extra>\",\"legendgroup\":\"\",\"marker\":{\"color\":\"#636efa\",\"symbol\":\"circle\"},\"mode\":\"lines\",\"name\":\"\",\"showlegend\":false,\"x\":[2404,2955,2995,3268,3471,3512,3574,3702,3750,3760,3777,4112,4152,4153,4197,4241,4251,4288,4339,4362,4394,4396,4459,4479,4483,4516,4516,4543,4552,4603,4609,4623,4640,4670,4744,4872,4888,4891,4925,4941,4958,4973,5003,5046,5048,5048,5060,5075,5084,5122,5122,5140,5155,5164,5173,5194,5199,5199,5235,5240,5330,5371,5377,5377,5399,5425,5459,5467,5474,5485,5533,5547,5559,5578,5585,5600,5711,5737,5761,5768,5781,5821,5828,5850,5857,5891,5904,5935,5948,5967,6016,6022,6039,6063,6071,6086,6106,6120,6123,6125,6128,6165,6172,6178,6180,6221,6234,6262,6293,6309,6341,6391,6446,6447,6455,6467,6474,6476,6477,6480,6512,6523,6576,6582,6630,6647,6687,6805,6920,6943,6977,7025,7034,7041,7162,7163,7200,7364,7365,7384,7404,7415,7512,7557,7636,7821],\"xaxis\":\"x\",\"y\":[0.2531226672071487,0.29932602341923575,0.30268016906076656,0.32557221306421447,0.34259450219498344,0.3460325014775525,0.35123142722192524,0.36196469327482383,0.3659896680446608,0.3668282044550436,0.3682537163526942,0.39634468610051476,0.3996988317420457,0.3997826853830839,0.4034722455887678,0.4071618057944517,0.4080003422048344,0.41110292692325046,0.4153794626162022,0.4173080963600825,0.4199914128733071,0.4201591201553836,0.4254418995407947,0.42711897236156016,0.42745438692571314,0.4302215570799761,0.4302215570799761,0.4324856053880094,0.4332402881573538,0.43751682385030566,0.43801994569653524,0.439193896671071,0.4406194085687216,0.44313501779986975,0.44934018723670177,0.4600734532896005,0.46141511154621273,0.4616666724693276,0.4645176962646288,0.46585935452124105,0.46728486641889166,0.4685426710344658,0.4710582802656139,0.47466398683025945,0.47483169411233606,0.47483169411233606,0.47583793780479533,0.47709574242036934,0.47785042518971377,0.4810368635491681,0.4810368635491681,0.48254622908785694,0.48380403370343095,0.4845587164727754,0.4853133992421199,0.4870743257039235,0.48749359390911484,0.48749359390911484,0.49051232498649266,0.490931593191684,0.4984784208851283,0.5019164201676974,0.502419542013927,0.502419542013927,0.504264322116769,0.506444516783764,0.5092955405790652,0.5099663697073714,0.5105533451946392,0.5114757352460603,0.5155007100158973,0.516674660990433,0.5176809046828923,0.5192741238626194,0.5198610993498873,0.5211189039654613,0.5304266581207094,0.5326068527877045,0.5346193401726229,0.5352063156598909,0.5362964129933884,0.5396505586349192,0.5402375341221871,0.5420823142250291,0.5426692897122969,0.5455203135075981,0.5466104108410956,0.549209873713282,0.5502999710467795,0.5518931902265066,0.5560020186373819,0.5565051404836115,0.5579306523812622,0.5599431397661806,0.5606139688944868,0.5618717735100608,0.5635488463308262,0.564722797305362,0.5649743582284769,0.5651420655105533,0.5653936264336682,0.5684962111520843,0.5690831866393521,0.5695863084855818,0.5697540157676583,0.5731920150502273,0.5742821123837248,0.5766300143327965,0.5792294772049829,0.5805711354615952,0.5832544519748198,0.5874471340267333,0.5920590842838382,0.5921429379248765,0.5928137670531827,0.593820010745642,0.5944069862329098,0.5945746935149864,0.5946585471560246,0.5949101080791395,0.5975934245923641,0.5985158146437851,0.6029600576188134,0.603463179465043,0.60748815423488,0.6089136661325306,0.6122678117740614,0.6221625414165773,0.6318057101359785,0.6337343438798587,0.6365853676751599,0.6406103424449969,0.6413650252143414,0.6419520007016092,0.65209829126724,0.6521821449082782,0.6552847296266943,0.6690367267569706,0.6691205803980089,0.670713799577736,0.6723908723985014,0.6733132624499224,0.6814470656306346,0.6852204794773569,0.6918449171193802,0.7073578407114602],\"yaxis\":\"y\",\"type\":\"scatter\"}],                        {\"template\":{\"data\":{\"histogram2dcontour\":[{\"type\":\"histogram2dcontour\",\"colorbar\":{\"outlinewidth\":0,\"ticks\":\"\"},\"colorscale\":[[0.0,\"#0d0887\"],[0.1111111111111111,\"#46039f\"],[0.2222222222222222,\"#7201a8\"],[0.3333333333333333,\"#9c179e\"],[0.4444444444444444,\"#bd3786\"],[0.5555555555555556,\"#d8576b\"],[0.6666666666666666,\"#ed7953\"],[0.7777777777777778,\"#fb9f3a\"],[0.8888888888888888,\"#fdca26\"],[1.0,\"#f0f921\"]]}],\"choropleth\":[{\"type\":\"choropleth\",\"colorbar\":{\"outlinewidth\":0,\"ticks\":\"\"}}],\"histogram2d\":[{\"type\":\"histogram2d\",\"colorbar\":{\"outlinewidth\":0,\"ticks\":\"\"},\"colorscale\":[[0.0,\"#0d0887\"],[0.1111111111111111,\"#46039f\"],[0.2222222222222222,\"#7201a8\"],[0.3333333333333333,\"#9c179e\"],[0.4444444444444444,\"#bd3786\"],[0.5555555555555556,\"#d8576b\"],[0.6666666666666666,\"#ed7953\"],[0.7777777777777778,\"#fb9f3a\"],[0.8888888888888888,\"#fdca26\"],[1.0,\"#f0f921\"]]}],\"heatmap\":[{\"type\":\"heatmap\",\"colorbar\":{\"outlinewidth\":0,\"ticks\":\"\"},\"colorscale\":[[0.0,\"#0d0887\"],[0.1111111111111111,\"#46039f\"],[0.2222222222222222,\"#7201a8\"],[0.3333333333333333,\"#9c179e\"],[0.4444444444444444,\"#bd3786\"],[0.5555555555555556,\"#d8576b\"],[0.6666666666666666,\"#ed7953\"],[0.7777777777777778,\"#fb9f3a\"],[0.8888888888888888,\"#fdca26\"],[1.0,\"#f0f921\"]]}],\"heatmapgl\":[{\"type\":\"heatmapgl\",\"colorbar\":{\"outlinewidth\":0,\"ticks\":\"\"},\"colorscale\":[[0.0,\"#0d0887\"],[0.1111111111111111,\"#46039f\"],[0.2222222222222222,\"#7201a8\"],[0.3333333333333333,\"#9c179e\"],[0.4444444444444444,\"#bd3786\"],[0.5555555555555556,\"#d8576b\"],[0.6666666666666666,\"#ed7953\"],[0.7777777777777778,\"#fb9f3a\"],[0.8888888888888888,\"#fdca26\"],[1.0,\"#f0f921\"]]}],\"contourcarpet\":[{\"type\":\"contourcarpet\",\"colorbar\":{\"outlinewidth\":0,\"ticks\":\"\"}}],\"contour\":[{\"type\":\"contour\",\"colorbar\":{\"outlinewidth\":0,\"ticks\":\"\"},\"colorscale\":[[0.0,\"#0d0887\"],[0.1111111111111111,\"#46039f\"],[0.2222222222222222,\"#7201a8\"],[0.3333333333333333,\"#9c179e\"],[0.4444444444444444,\"#bd3786\"],[0.5555555555555556,\"#d8576b\"],[0.6666666666666666,\"#ed7953\"],[0.7777777777777778,\"#fb9f3a\"],[0.8888888888888888,\"#fdca26\"],[1.0,\"#f0f921\"]]}],\"surface\":[{\"type\":\"surface\",\"colorbar\":{\"outlinewidth\":0,\"ticks\":\"\"},\"colorscale\":[[0.0,\"#0d0887\"],[0.1111111111111111,\"#46039f\"],[0.2222222222222222,\"#7201a8\"],[0.3333333333333333,\"#9c179e\"],[0.4444444444444444,\"#bd3786\"],[0.5555555555555556,\"#d8576b\"],[0.6666666666666666,\"#ed7953\"],[0.7777777777777778,\"#fb9f3a\"],[0.8888888888888888,\"#fdca26\"],[1.0,\"#f0f921\"]]}],\"mesh3d\":[{\"type\":\"mesh3d\",\"colorbar\":{\"outlinewidth\":0,\"ticks\":\"\"}}],\"scatter\":[{\"fillpattern\":{\"fillmode\":\"overlay\",\"size\":10,\"solidity\":0.2},\"type\":\"scatter\"}],\"parcoords\":[{\"type\":\"parcoords\",\"line\":{\"colorbar\":{\"outlinewidth\":0,\"ticks\":\"\"}}}],\"scatterpolargl\":[{\"type\":\"scatterpolargl\",\"marker\":{\"colorbar\":{\"outlinewidth\":0,\"ticks\":\"\"}}}],\"bar\":[{\"error_x\":{\"color\":\"#2a3f5f\"},\"error_y\":{\"color\":\"#2a3f5f\"},\"marker\":{\"line\":{\"color\":\"#E5ECF6\",\"width\":0.5},\"pattern\":{\"fillmode\":\"overlay\",\"size\":10,\"solidity\":0.2}},\"type\":\"bar\"}],\"scattergeo\":[{\"type\":\"scattergeo\",\"marker\":{\"colorbar\":{\"outlinewidth\":0,\"ticks\":\"\"}}}],\"scatterpolar\":[{\"type\":\"scatterpolar\",\"marker\":{\"colorbar\":{\"outlinewidth\":0,\"ticks\":\"\"}}}],\"histogram\":[{\"marker\":{\"pattern\":{\"fillmode\":\"overlay\",\"size\":10,\"solidity\":0.2}},\"type\":\"histogram\"}],\"scattergl\":[{\"type\":\"scattergl\",\"marker\":{\"colorbar\":{\"outlinewidth\":0,\"ticks\":\"\"}}}],\"scatter3d\":[{\"type\":\"scatter3d\",\"line\":{\"colorbar\":{\"outlinewidth\":0,\"ticks\":\"\"}},\"marker\":{\"colorbar\":{\"outlinewidth\":0,\"ticks\":\"\"}}}],\"scattermapbox\":[{\"type\":\"scattermapbox\",\"marker\":{\"colorbar\":{\"outlinewidth\":0,\"ticks\":\"\"}}}],\"scatterternary\":[{\"type\":\"scatterternary\",\"marker\":{\"colorbar\":{\"outlinewidth\":0,\"ticks\":\"\"}}}],\"scattercarpet\":[{\"type\":\"scattercarpet\",\"marker\":{\"colorbar\":{\"outlinewidth\":0,\"ticks\":\"\"}}}],\"carpet\":[{\"aaxis\":{\"endlinecolor\":\"#2a3f5f\",\"gridcolor\":\"white\",\"linecolor\":\"white\",\"minorgridcolor\":\"white\",\"startlinecolor\":\"#2a3f5f\"},\"baxis\":{\"endlinecolor\":\"#2a3f5f\",\"gridcolor\":\"white\",\"linecolor\":\"white\",\"minorgridcolor\":\"white\",\"startlinecolor\":\"#2a3f5f\"},\"type\":\"carpet\"}],\"table\":[{\"cells\":{\"fill\":{\"color\":\"#EBF0F8\"},\"line\":{\"color\":\"white\"}},\"header\":{\"fill\":{\"color\":\"#C8D4E3\"},\"line\":{\"color\":\"white\"}},\"type\":\"table\"}],\"barpolar\":[{\"marker\":{\"line\":{\"color\":\"#E5ECF6\",\"width\":0.5},\"pattern\":{\"fillmode\":\"overlay\",\"size\":10,\"solidity\":0.2}},\"type\":\"barpolar\"}],\"pie\":[{\"automargin\":true,\"type\":\"pie\"}]},\"layout\":{\"autotypenumbers\":\"strict\",\"colorway\":[\"#636efa\",\"#EF553B\",\"#00cc96\",\"#ab63fa\",\"#FFA15A\",\"#19d3f3\",\"#FF6692\",\"#B6E880\",\"#FF97FF\",\"#FECB52\"],\"font\":{\"color\":\"#2a3f5f\"},\"hovermode\":\"closest\",\"hoverlabel\":{\"align\":\"left\"},\"paper_bgcolor\":\"white\",\"plot_bgcolor\":\"#E5ECF6\",\"polar\":{\"bgcolor\":\"#E5ECF6\",\"angularaxis\":{\"gridcolor\":\"white\",\"linecolor\":\"white\",\"ticks\":\"\"},\"radialaxis\":{\"gridcolor\":\"white\",\"linecolor\":\"white\",\"ticks\":\"\"}},\"ternary\":{\"bgcolor\":\"#E5ECF6\",\"aaxis\":{\"gridcolor\":\"white\",\"linecolor\":\"white\",\"ticks\":\"\"},\"baxis\":{\"gridcolor\":\"white\",\"linecolor\":\"white\",\"ticks\":\"\"},\"caxis\":{\"gridcolor\":\"white\",\"linecolor\":\"white\",\"ticks\":\"\"}},\"coloraxis\":{\"colorbar\":{\"outlinewidth\":0,\"ticks\":\"\"}},\"colorscale\":{\"sequential\":[[0.0,\"#0d0887\"],[0.1111111111111111,\"#46039f\"],[0.2222222222222222,\"#7201a8\"],[0.3333333333333333,\"#9c179e\"],[0.4444444444444444,\"#bd3786\"],[0.5555555555555556,\"#d8576b\"],[0.6666666666666666,\"#ed7953\"],[0.7777777777777778,\"#fb9f3a\"],[0.8888888888888888,\"#fdca26\"],[1.0,\"#f0f921\"]],\"sequentialminus\":[[0.0,\"#0d0887\"],[0.1111111111111111,\"#46039f\"],[0.2222222222222222,\"#7201a8\"],[0.3333333333333333,\"#9c179e\"],[0.4444444444444444,\"#bd3786\"],[0.5555555555555556,\"#d8576b\"],[0.6666666666666666,\"#ed7953\"],[0.7777777777777778,\"#fb9f3a\"],[0.8888888888888888,\"#fdca26\"],[1.0,\"#f0f921\"]],\"diverging\":[[0,\"#8e0152\"],[0.1,\"#c51b7d\"],[0.2,\"#de77ae\"],[0.3,\"#f1b6da\"],[0.4,\"#fde0ef\"],[0.5,\"#f7f7f7\"],[0.6,\"#e6f5d0\"],[0.7,\"#b8e186\"],[0.8,\"#7fbc41\"],[0.9,\"#4d9221\"],[1,\"#276419\"]]},\"xaxis\":{\"gridcolor\":\"white\",\"linecolor\":\"white\",\"ticks\":\"\",\"title\":{\"standoff\":15},\"zerolinecolor\":\"white\",\"automargin\":true,\"zerolinewidth\":2},\"yaxis\":{\"gridcolor\":\"white\",\"linecolor\":\"white\",\"ticks\":\"\",\"title\":{\"standoff\":15},\"zerolinecolor\":\"white\",\"automargin\":true,\"zerolinewidth\":2},\"scene\":{\"xaxis\":{\"backgroundcolor\":\"#E5ECF6\",\"gridcolor\":\"white\",\"linecolor\":\"white\",\"showbackground\":true,\"ticks\":\"\",\"zerolinecolor\":\"white\",\"gridwidth\":2},\"yaxis\":{\"backgroundcolor\":\"#E5ECF6\",\"gridcolor\":\"white\",\"linecolor\":\"white\",\"showbackground\":true,\"ticks\":\"\",\"zerolinecolor\":\"white\",\"gridwidth\":2},\"zaxis\":{\"backgroundcolor\":\"#E5ECF6\",\"gridcolor\":\"white\",\"linecolor\":\"white\",\"showbackground\":true,\"ticks\":\"\",\"zerolinecolor\":\"white\",\"gridwidth\":2}},\"shapedefaults\":{\"line\":{\"color\":\"#2a3f5f\"}},\"annotationdefaults\":{\"arrowcolor\":\"#2a3f5f\",\"arrowhead\":0,\"arrowwidth\":1},\"geo\":{\"bgcolor\":\"white\",\"landcolor\":\"#E5ECF6\",\"subunitcolor\":\"white\",\"showland\":true,\"showlakes\":true,\"lakecolor\":\"white\"},\"title\":{\"x\":0.05},\"mapbox\":{\"style\":\"light\"}}},\"xaxis\":{\"anchor\":\"y\",\"domain\":[0.0,1.0],\"title\":{\"text\":\"Happiness score\"}},\"yaxis\":{\"anchor\":\"x\",\"domain\":[0.0,1.0],\"title\":{\"text\":\"Freedom\"}},\"legend\":{\"tracegroupgap\":0},\"title\":{\"text\":\"Corelation between Happiness score and Freedom \"}},                        {\"responsive\": true}                    ).then(function(){\n",
       "                            \n",
       "var gd = document.getElementById('3a02f780-5aac-4449-90c2-10e4afd48b7a');\n",
       "var x = new MutationObserver(function (mutations, observer) {{\n",
       "        var display = window.getComputedStyle(gd).display;\n",
       "        if (!display || display === 'none') {{\n",
       "            console.log([gd, 'removed!']);\n",
       "            Plotly.purge(gd);\n",
       "            observer.disconnect();\n",
       "        }}\n",
       "}});\n",
       "\n",
       "// Listen for the removal of the full notebook cells\n",
       "var notebookContainer = gd.closest('#notebook-container');\n",
       "if (notebookContainer) {{\n",
       "    x.observe(notebookContainer, {childList: true});\n",
       "}}\n",
       "\n",
       "// Listen for the clearing of the current output cell\n",
       "var outputEl = gd.closest('.output');\n",
       "if (outputEl) {{\n",
       "    x.observe(outputEl, {childList: true});\n",
       "}}\n",
       "\n",
       "                        })                };                });            </script>        </div>"
      ]
     },
     "metadata": {},
     "output_type": "display_data"
    }
   ],
   "source": [
    "## lets take a another corelation \n",
    "#df.head()\n",
    "fig = px.scatter(df, x=df[\"Happiness score\"], y=df[\"Freedom\"],trendline=\"ols\"\n",
    "                 ,title='Corelation between Happiness score and Freedom ')\n",
    "fig.show()"
   ]
  },
  {
   "cell_type": "markdown",
   "id": "ae05e2e9",
   "metadata": {},
   "source": [
    "you can test the above code in Google Collab :"
   ]
  },
  {
   "cell_type": "markdown",
   "id": "c5c03010",
   "metadata": {},
   "source": [
    "Click here\n",
    "\n",
    "[![Open In Colab](https://colab.research.google.com/assets/colab-badge.svg)](https://colab.research.google.com/github/RezarLO/RezarLO-World-Hppines-report-2022/blob/main/WORLD_HAPPINESS_2022.ipynb)\n"
   ]
  },
  {
   "cell_type": "markdown",
   "id": "6fc5630e",
   "metadata": {},
   "source": []
  }
 ],
 "metadata": {
  "kernelspec": {
   "display_name": "Python 3 (ipykernel)",
   "language": "python",
   "name": "python3"
  },
  "language_info": {
   "codemirror_mode": {
    "name": "ipython",
    "version": 3
   },
   "file_extension": ".py",
   "mimetype": "text/x-python",
   "name": "python",
   "nbconvert_exporter": "python",
   "pygments_lexer": "ipython3",
   "version": "3.8.10"
  }
 },
 "nbformat": 4,
 "nbformat_minor": 5
}
